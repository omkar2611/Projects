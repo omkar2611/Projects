{
 "cells": [
  {
   "cell_type": "markdown",
   "id": "8e3f4c14",
   "metadata": {},
   "source": [
    "#### Importing Libraries"
   ]
  },
  {
   "cell_type": "code",
   "execution_count": 24,
   "id": "d34b2771",
   "metadata": {},
   "outputs": [],
   "source": [
    "import numpy as np\n",
    "import pandas as pd\n",
    "import matplotlib.pyplot as plt\n",
    "import seaborn as sns\n",
    "import plotly.express as px"
   ]
  },
  {
   "cell_type": "markdown",
   "id": "4e6f0893",
   "metadata": {},
   "source": [
    "#### Getting Data"
   ]
  },
  {
   "cell_type": "code",
   "execution_count": 25,
   "id": "dc63b935",
   "metadata": {},
   "outputs": [
    {
     "data": {
      "text/html": [
       "<div>\n",
       "<style scoped>\n",
       "    .dataframe tbody tr th:only-of-type {\n",
       "        vertical-align: middle;\n",
       "    }\n",
       "\n",
       "    .dataframe tbody tr th {\n",
       "        vertical-align: top;\n",
       "    }\n",
       "\n",
       "    .dataframe thead th {\n",
       "        text-align: right;\n",
       "    }\n",
       "</style>\n",
       "<table border=\"1\" class=\"dataframe\">\n",
       "  <thead>\n",
       "    <tr style=\"text-align: right;\">\n",
       "      <th></th>\n",
       "      <th>set_num</th>\n",
       "      <th>name</th>\n",
       "      <th>year</th>\n",
       "      <th>theme_id</th>\n",
       "      <th>num_parts</th>\n",
       "    </tr>\n",
       "  </thead>\n",
       "  <tbody>\n",
       "    <tr>\n",
       "      <th>0</th>\n",
       "      <td>001-1</td>\n",
       "      <td>Gears</td>\n",
       "      <td>1965</td>\n",
       "      <td>1</td>\n",
       "      <td>43</td>\n",
       "    </tr>\n",
       "    <tr>\n",
       "      <th>1</th>\n",
       "      <td>0011-2</td>\n",
       "      <td>Town Mini-Figures</td>\n",
       "      <td>1979</td>\n",
       "      <td>67</td>\n",
       "      <td>12</td>\n",
       "    </tr>\n",
       "    <tr>\n",
       "      <th>2</th>\n",
       "      <td>0011-3</td>\n",
       "      <td>Castle 2 for 1 Bonus Offer</td>\n",
       "      <td>1987</td>\n",
       "      <td>199</td>\n",
       "      <td>0</td>\n",
       "    </tr>\n",
       "    <tr>\n",
       "      <th>3</th>\n",
       "      <td>0012-1</td>\n",
       "      <td>Space Mini-Figures</td>\n",
       "      <td>1979</td>\n",
       "      <td>143</td>\n",
       "      <td>12</td>\n",
       "    </tr>\n",
       "    <tr>\n",
       "      <th>4</th>\n",
       "      <td>0013-1</td>\n",
       "      <td>Space Mini-Figures</td>\n",
       "      <td>1979</td>\n",
       "      <td>143</td>\n",
       "      <td>12</td>\n",
       "    </tr>\n",
       "    <tr>\n",
       "      <th>...</th>\n",
       "      <td>...</td>\n",
       "      <td>...</td>\n",
       "      <td>...</td>\n",
       "      <td>...</td>\n",
       "      <td>...</td>\n",
       "    </tr>\n",
       "    <tr>\n",
       "      <th>19529</th>\n",
       "      <td>XWING-1</td>\n",
       "      <td>Mini X-Wing Fighter</td>\n",
       "      <td>2019</td>\n",
       "      <td>158</td>\n",
       "      <td>60</td>\n",
       "    </tr>\n",
       "    <tr>\n",
       "      <th>19530</th>\n",
       "      <td>XWING-2</td>\n",
       "      <td>X-Wing Trench Run</td>\n",
       "      <td>2019</td>\n",
       "      <td>158</td>\n",
       "      <td>52</td>\n",
       "    </tr>\n",
       "    <tr>\n",
       "      <th>19531</th>\n",
       "      <td>YODACHRON-1</td>\n",
       "      <td>Yoda Chronicles Promotional Set</td>\n",
       "      <td>2013</td>\n",
       "      <td>158</td>\n",
       "      <td>413</td>\n",
       "    </tr>\n",
       "    <tr>\n",
       "      <th>19532</th>\n",
       "      <td>YTERRIER-1</td>\n",
       "      <td>Yorkshire Terrier</td>\n",
       "      <td>2018</td>\n",
       "      <td>598</td>\n",
       "      <td>0</td>\n",
       "    </tr>\n",
       "    <tr>\n",
       "      <th>19533</th>\n",
       "      <td>ZX8000-1</td>\n",
       "      <td>ZX 8000 LEGO Sneaker</td>\n",
       "      <td>2020</td>\n",
       "      <td>501</td>\n",
       "      <td>0</td>\n",
       "    </tr>\n",
       "  </tbody>\n",
       "</table>\n",
       "<p>19534 rows × 5 columns</p>\n",
       "</div>"
      ],
      "text/plain": [
       "           set_num                             name  year  theme_id  num_parts\n",
       "0            001-1                            Gears  1965         1         43\n",
       "1           0011-2                Town Mini-Figures  1979        67         12\n",
       "2           0011-3       Castle 2 for 1 Bonus Offer  1987       199          0\n",
       "3           0012-1               Space Mini-Figures  1979       143         12\n",
       "4           0013-1               Space Mini-Figures  1979       143         12\n",
       "...            ...                              ...   ...       ...        ...\n",
       "19529      XWING-1              Mini X-Wing Fighter  2019       158         60\n",
       "19530      XWING-2                X-Wing Trench Run  2019       158         52\n",
       "19531  YODACHRON-1  Yoda Chronicles Promotional Set  2013       158        413\n",
       "19532   YTERRIER-1                Yorkshire Terrier  2018       598          0\n",
       "19533     ZX8000-1             ZX 8000 LEGO Sneaker  2020       501          0\n",
       "\n",
       "[19534 rows x 5 columns]"
      ]
     },
     "execution_count": 25,
     "metadata": {},
     "output_type": "execute_result"
    }
   ],
   "source": [
    "sets = pd.read_csv('datasets/sets.csv')\n",
    "sets"
   ]
  },
  {
   "cell_type": "code",
   "execution_count": 26,
   "id": "257219d3",
   "metadata": {},
   "outputs": [
    {
     "data": {
      "text/html": [
       "<div>\n",
       "<style scoped>\n",
       "    .dataframe tbody tr th:only-of-type {\n",
       "        vertical-align: middle;\n",
       "    }\n",
       "\n",
       "    .dataframe tbody tr th {\n",
       "        vertical-align: top;\n",
       "    }\n",
       "\n",
       "    .dataframe thead th {\n",
       "        text-align: right;\n",
       "    }\n",
       "</style>\n",
       "<table border=\"1\" class=\"dataframe\">\n",
       "  <thead>\n",
       "    <tr style=\"text-align: right;\">\n",
       "      <th></th>\n",
       "      <th>id</th>\n",
       "      <th>name</th>\n",
       "      <th>parent_id</th>\n",
       "    </tr>\n",
       "  </thead>\n",
       "  <tbody>\n",
       "    <tr>\n",
       "      <th>0</th>\n",
       "      <td>1</td>\n",
       "      <td>Technic</td>\n",
       "      <td>NaN</td>\n",
       "    </tr>\n",
       "    <tr>\n",
       "      <th>1</th>\n",
       "      <td>3</td>\n",
       "      <td>Competition</td>\n",
       "      <td>1.0</td>\n",
       "    </tr>\n",
       "    <tr>\n",
       "      <th>2</th>\n",
       "      <td>4</td>\n",
       "      <td>Expert Builder</td>\n",
       "      <td>1.0</td>\n",
       "    </tr>\n",
       "    <tr>\n",
       "      <th>3</th>\n",
       "      <td>16</td>\n",
       "      <td>RoboRiders</td>\n",
       "      <td>1.0</td>\n",
       "    </tr>\n",
       "    <tr>\n",
       "      <th>4</th>\n",
       "      <td>17</td>\n",
       "      <td>Speed Slammers</td>\n",
       "      <td>1.0</td>\n",
       "    </tr>\n",
       "    <tr>\n",
       "      <th>...</th>\n",
       "      <td>...</td>\n",
       "      <td>...</td>\n",
       "      <td>...</td>\n",
       "    </tr>\n",
       "    <tr>\n",
       "      <th>443</th>\n",
       "      <td>719</td>\n",
       "      <td>BrickLink Designer Program</td>\n",
       "      <td>NaN</td>\n",
       "    </tr>\n",
       "    <tr>\n",
       "      <th>444</th>\n",
       "      <td>720</td>\n",
       "      <td>The Muppets</td>\n",
       "      <td>535.0</td>\n",
       "    </tr>\n",
       "    <tr>\n",
       "      <th>445</th>\n",
       "      <td>721</td>\n",
       "      <td>Icons</td>\n",
       "      <td>NaN</td>\n",
       "    </tr>\n",
       "    <tr>\n",
       "      <th>446</th>\n",
       "      <td>722</td>\n",
       "      <td>Jurassic World</td>\n",
       "      <td>504.0</td>\n",
       "    </tr>\n",
       "    <tr>\n",
       "      <th>447</th>\n",
       "      <td>724</td>\n",
       "      <td>Avatar</td>\n",
       "      <td>NaN</td>\n",
       "    </tr>\n",
       "  </tbody>\n",
       "</table>\n",
       "<p>448 rows × 3 columns</p>\n",
       "</div>"
      ],
      "text/plain": [
       "      id                        name  parent_id\n",
       "0      1                     Technic        NaN\n",
       "1      3                 Competition        1.0\n",
       "2      4              Expert Builder        1.0\n",
       "3     16                  RoboRiders        1.0\n",
       "4     17              Speed Slammers        1.0\n",
       "..   ...                         ...        ...\n",
       "443  719  BrickLink Designer Program        NaN\n",
       "444  720                 The Muppets      535.0\n",
       "445  721                       Icons        NaN\n",
       "446  722              Jurassic World      504.0\n",
       "447  724                      Avatar        NaN\n",
       "\n",
       "[448 rows x 3 columns]"
      ]
     },
     "execution_count": 26,
     "metadata": {},
     "output_type": "execute_result"
    }
   ],
   "source": [
    "themes = pd.read_csv('datasets/themes.csv')\n",
    "themes"
   ]
  },
  {
   "cell_type": "markdown",
   "id": "520c87f1",
   "metadata": {},
   "source": [
    "#### Display Top 10 Rows of the sets dataset"
   ]
  },
  {
   "cell_type": "code",
   "execution_count": 27,
   "id": "4e2912fd",
   "metadata": {},
   "outputs": [
    {
     "data": {
      "text/html": [
       "<div>\n",
       "<style scoped>\n",
       "    .dataframe tbody tr th:only-of-type {\n",
       "        vertical-align: middle;\n",
       "    }\n",
       "\n",
       "    .dataframe tbody tr th {\n",
       "        vertical-align: top;\n",
       "    }\n",
       "\n",
       "    .dataframe thead th {\n",
       "        text-align: right;\n",
       "    }\n",
       "</style>\n",
       "<table border=\"1\" class=\"dataframe\">\n",
       "  <thead>\n",
       "    <tr style=\"text-align: right;\">\n",
       "      <th></th>\n",
       "      <th>set_num</th>\n",
       "      <th>name</th>\n",
       "      <th>year</th>\n",
       "      <th>theme_id</th>\n",
       "      <th>num_parts</th>\n",
       "    </tr>\n",
       "  </thead>\n",
       "  <tbody>\n",
       "    <tr>\n",
       "      <th>0</th>\n",
       "      <td>001-1</td>\n",
       "      <td>Gears</td>\n",
       "      <td>1965</td>\n",
       "      <td>1</td>\n",
       "      <td>43</td>\n",
       "    </tr>\n",
       "    <tr>\n",
       "      <th>1</th>\n",
       "      <td>0011-2</td>\n",
       "      <td>Town Mini-Figures</td>\n",
       "      <td>1979</td>\n",
       "      <td>67</td>\n",
       "      <td>12</td>\n",
       "    </tr>\n",
       "    <tr>\n",
       "      <th>2</th>\n",
       "      <td>0011-3</td>\n",
       "      <td>Castle 2 for 1 Bonus Offer</td>\n",
       "      <td>1987</td>\n",
       "      <td>199</td>\n",
       "      <td>0</td>\n",
       "    </tr>\n",
       "    <tr>\n",
       "      <th>3</th>\n",
       "      <td>0012-1</td>\n",
       "      <td>Space Mini-Figures</td>\n",
       "      <td>1979</td>\n",
       "      <td>143</td>\n",
       "      <td>12</td>\n",
       "    </tr>\n",
       "    <tr>\n",
       "      <th>4</th>\n",
       "      <td>0013-1</td>\n",
       "      <td>Space Mini-Figures</td>\n",
       "      <td>1979</td>\n",
       "      <td>143</td>\n",
       "      <td>12</td>\n",
       "    </tr>\n",
       "    <tr>\n",
       "      <th>5</th>\n",
       "      <td>0014-1</td>\n",
       "      <td>Space Mini-Figures</td>\n",
       "      <td>1979</td>\n",
       "      <td>143</td>\n",
       "      <td>12</td>\n",
       "    </tr>\n",
       "    <tr>\n",
       "      <th>6</th>\n",
       "      <td>0015-1</td>\n",
       "      <td>Space Mini-Figures</td>\n",
       "      <td>1979</td>\n",
       "      <td>143</td>\n",
       "      <td>18</td>\n",
       "    </tr>\n",
       "    <tr>\n",
       "      <th>7</th>\n",
       "      <td>0016-1</td>\n",
       "      <td>Castle Mini Figures</td>\n",
       "      <td>1979</td>\n",
       "      <td>186</td>\n",
       "      <td>15</td>\n",
       "    </tr>\n",
       "    <tr>\n",
       "      <th>8</th>\n",
       "      <td>002-1</td>\n",
       "      <td>4.5V Samsonite Gears Motor Set</td>\n",
       "      <td>1965</td>\n",
       "      <td>1</td>\n",
       "      <td>3</td>\n",
       "    </tr>\n",
       "    <tr>\n",
       "      <th>9</th>\n",
       "      <td>002253963-1</td>\n",
       "      <td>Legend of Chima: Corbeaux et Gorilles</td>\n",
       "      <td>2013</td>\n",
       "      <td>497</td>\n",
       "      <td>4</td>\n",
       "    </tr>\n",
       "  </tbody>\n",
       "</table>\n",
       "</div>"
      ],
      "text/plain": [
       "       set_num                                   name  year  theme_id  \\\n",
       "0        001-1                                  Gears  1965         1   \n",
       "1       0011-2                      Town Mini-Figures  1979        67   \n",
       "2       0011-3             Castle 2 for 1 Bonus Offer  1987       199   \n",
       "3       0012-1                     Space Mini-Figures  1979       143   \n",
       "4       0013-1                     Space Mini-Figures  1979       143   \n",
       "5       0014-1                     Space Mini-Figures  1979       143   \n",
       "6       0015-1                     Space Mini-Figures  1979       143   \n",
       "7       0016-1                    Castle Mini Figures  1979       186   \n",
       "8        002-1         4.5V Samsonite Gears Motor Set  1965         1   \n",
       "9  002253963-1  Legend of Chima: Corbeaux et Gorilles  2013       497   \n",
       "\n",
       "   num_parts  \n",
       "0         43  \n",
       "1         12  \n",
       "2          0  \n",
       "3         12  \n",
       "4         12  \n",
       "5         12  \n",
       "6         18  \n",
       "7         15  \n",
       "8          3  \n",
       "9          4  "
      ]
     },
     "execution_count": 27,
     "metadata": {},
     "output_type": "execute_result"
    }
   ],
   "source": [
    "sets.head(10)"
   ]
  },
  {
   "cell_type": "markdown",
   "id": "1a5ef0fd",
   "metadata": {},
   "source": [
    "#### Display Last 10 Rows of the themes dataset"
   ]
  },
  {
   "cell_type": "code",
   "execution_count": 28,
   "id": "a564c9b2",
   "metadata": {},
   "outputs": [
    {
     "data": {
      "text/html": [
       "<div>\n",
       "<style scoped>\n",
       "    .dataframe tbody tr th:only-of-type {\n",
       "        vertical-align: middle;\n",
       "    }\n",
       "\n",
       "    .dataframe tbody tr th {\n",
       "        vertical-align: top;\n",
       "    }\n",
       "\n",
       "    .dataframe thead th {\n",
       "        text-align: right;\n",
       "    }\n",
       "</style>\n",
       "<table border=\"1\" class=\"dataframe\">\n",
       "  <thead>\n",
       "    <tr style=\"text-align: right;\">\n",
       "      <th></th>\n",
       "      <th>id</th>\n",
       "      <th>name</th>\n",
       "      <th>parent_id</th>\n",
       "    </tr>\n",
       "  </thead>\n",
       "  <tbody>\n",
       "    <tr>\n",
       "      <th>438</th>\n",
       "      <td>714</td>\n",
       "      <td>Looney Tunes</td>\n",
       "      <td>535.0</td>\n",
       "    </tr>\n",
       "    <tr>\n",
       "      <th>439</th>\n",
       "      <td>715</td>\n",
       "      <td>Marvel</td>\n",
       "      <td>535.0</td>\n",
       "    </tr>\n",
       "    <tr>\n",
       "      <th>440</th>\n",
       "      <td>716</td>\n",
       "      <td>Modulex</td>\n",
       "      <td>NaN</td>\n",
       "    </tr>\n",
       "    <tr>\n",
       "      <th>441</th>\n",
       "      <td>717</td>\n",
       "      <td>Speed Racer</td>\n",
       "      <td>NaN</td>\n",
       "    </tr>\n",
       "    <tr>\n",
       "      <th>442</th>\n",
       "      <td>718</td>\n",
       "      <td>Series 22 Minifigures</td>\n",
       "      <td>535.0</td>\n",
       "    </tr>\n",
       "    <tr>\n",
       "      <th>443</th>\n",
       "      <td>719</td>\n",
       "      <td>BrickLink Designer Program</td>\n",
       "      <td>NaN</td>\n",
       "    </tr>\n",
       "    <tr>\n",
       "      <th>444</th>\n",
       "      <td>720</td>\n",
       "      <td>The Muppets</td>\n",
       "      <td>535.0</td>\n",
       "    </tr>\n",
       "    <tr>\n",
       "      <th>445</th>\n",
       "      <td>721</td>\n",
       "      <td>Icons</td>\n",
       "      <td>NaN</td>\n",
       "    </tr>\n",
       "    <tr>\n",
       "      <th>446</th>\n",
       "      <td>722</td>\n",
       "      <td>Jurassic World</td>\n",
       "      <td>504.0</td>\n",
       "    </tr>\n",
       "    <tr>\n",
       "      <th>447</th>\n",
       "      <td>724</td>\n",
       "      <td>Avatar</td>\n",
       "      <td>NaN</td>\n",
       "    </tr>\n",
       "  </tbody>\n",
       "</table>\n",
       "</div>"
      ],
      "text/plain": [
       "      id                        name  parent_id\n",
       "438  714                Looney Tunes      535.0\n",
       "439  715                      Marvel      535.0\n",
       "440  716                     Modulex        NaN\n",
       "441  717                 Speed Racer        NaN\n",
       "442  718       Series 22 Minifigures      535.0\n",
       "443  719  BrickLink Designer Program        NaN\n",
       "444  720                 The Muppets      535.0\n",
       "445  721                       Icons        NaN\n",
       "446  722              Jurassic World      504.0\n",
       "447  724                      Avatar        NaN"
      ]
     },
     "execution_count": 28,
     "metadata": {},
     "output_type": "execute_result"
    }
   ],
   "source": [
    "themes.tail(10)"
   ]
  },
  {
   "cell_type": "markdown",
   "id": "f14d25e8",
   "metadata": {},
   "source": [
    "#### Check Datatype of Each Column of sets dataset"
   ]
  },
  {
   "cell_type": "code",
   "execution_count": 29,
   "id": "21d965bd",
   "metadata": {},
   "outputs": [
    {
     "data": {
      "text/plain": [
       "set_num      object\n",
       "name         object\n",
       "year          int64\n",
       "theme_id      int64\n",
       "num_parts     int64\n",
       "dtype: object"
      ]
     },
     "execution_count": 29,
     "metadata": {},
     "output_type": "execute_result"
    }
   ],
   "source": [
    "sets.dtypes"
   ]
  },
  {
   "cell_type": "markdown",
   "id": "6ace6b53",
   "metadata": {},
   "source": [
    "#### Check NULL Values in dataset"
   ]
  },
  {
   "cell_type": "code",
   "execution_count": 30,
   "id": "add70ec1",
   "metadata": {},
   "outputs": [
    {
     "data": {
      "text/plain": [
       "set_num      0\n",
       "name         0\n",
       "year         0\n",
       "theme_id     0\n",
       "num_parts    0\n",
       "dtype: int64"
      ]
     },
     "execution_count": 30,
     "metadata": {},
     "output_type": "execute_result"
    }
   ],
   "source": [
    "sets.isnull().sum()"
   ]
  },
  {
   "cell_type": "code",
   "execution_count": 31,
   "id": "b70f8693",
   "metadata": {},
   "outputs": [
    {
     "data": {
      "text/plain": [
       "id             0\n",
       "name           0\n",
       "parent_id    140\n",
       "dtype: int64"
      ]
     },
     "execution_count": 31,
     "metadata": {},
     "output_type": "execute_result"
    }
   ],
   "source": [
    "themes.isnull().sum()"
   ]
  },
  {
   "cell_type": "markdown",
   "id": "543d313c",
   "metadata": {},
   "source": [
    "#### Checking the number of rows and columns in the dataset"
   ]
  },
  {
   "cell_type": "code",
   "execution_count": 32,
   "id": "800a1700",
   "metadata": {},
   "outputs": [
    {
     "data": {
      "text/plain": [
       "(19534, 5)"
      ]
     },
     "execution_count": 32,
     "metadata": {},
     "output_type": "execute_result"
    }
   ],
   "source": [
    "sets.shape"
   ]
  },
  {
   "cell_type": "code",
   "execution_count": 33,
   "id": "5009206c",
   "metadata": {},
   "outputs": [
    {
     "data": {
      "text/plain": [
       "(448, 3)"
      ]
     },
     "execution_count": 33,
     "metadata": {},
     "output_type": "execute_result"
    }
   ],
   "source": [
    "themes.shape"
   ]
  },
  {
   "cell_type": "markdown",
   "id": "b4ed6676",
   "metadata": {},
   "source": [
    " #### Checking all information of dataset\n"
   ]
  },
  {
   "cell_type": "code",
   "execution_count": 34,
   "id": "34b00eba",
   "metadata": {},
   "outputs": [
    {
     "name": "stdout",
     "output_type": "stream",
     "text": [
      "<class 'pandas.core.frame.DataFrame'>\n",
      "RangeIndex: 19534 entries, 0 to 19533\n",
      "Data columns (total 5 columns):\n",
      " #   Column     Non-Null Count  Dtype \n",
      "---  ------     --------------  ----- \n",
      " 0   set_num    19534 non-null  object\n",
      " 1   name       19534 non-null  object\n",
      " 2   year       19534 non-null  int64 \n",
      " 3   theme_id   19534 non-null  int64 \n",
      " 4   num_parts  19534 non-null  int64 \n",
      "dtypes: int64(3), object(2)\n",
      "memory usage: 763.2+ KB\n"
     ]
    }
   ],
   "source": [
    "sets.info()"
   ]
  },
  {
   "cell_type": "markdown",
   "id": "90b6747e",
   "metadata": {},
   "source": [
    "### MERGE DATA\n",
    "#### Joining the two datasets"
   ]
  },
  {
   "cell_type": "code",
   "execution_count": 35,
   "id": "f4ff6bde",
   "metadata": {},
   "outputs": [
    {
     "data": {
      "text/html": [
       "<div>\n",
       "<style scoped>\n",
       "    .dataframe tbody tr th:only-of-type {\n",
       "        vertical-align: middle;\n",
       "    }\n",
       "\n",
       "    .dataframe tbody tr th {\n",
       "        vertical-align: top;\n",
       "    }\n",
       "\n",
       "    .dataframe thead th {\n",
       "        text-align: right;\n",
       "    }\n",
       "</style>\n",
       "<table border=\"1\" class=\"dataframe\">\n",
       "  <thead>\n",
       "    <tr style=\"text-align: right;\">\n",
       "      <th></th>\n",
       "      <th>set_num</th>\n",
       "      <th>name_sets</th>\n",
       "      <th>year</th>\n",
       "      <th>theme_id</th>\n",
       "      <th>num_parts</th>\n",
       "      <th>id</th>\n",
       "      <th>name_themes</th>\n",
       "      <th>parent_id</th>\n",
       "    </tr>\n",
       "  </thead>\n",
       "  <tbody>\n",
       "    <tr>\n",
       "      <th>0</th>\n",
       "      <td>001-1</td>\n",
       "      <td>Gears</td>\n",
       "      <td>1965</td>\n",
       "      <td>1</td>\n",
       "      <td>43</td>\n",
       "      <td>1</td>\n",
       "      <td>Technic</td>\n",
       "      <td>NaN</td>\n",
       "    </tr>\n",
       "    <tr>\n",
       "      <th>1</th>\n",
       "      <td>0011-2</td>\n",
       "      <td>Town Mini-Figures</td>\n",
       "      <td>1979</td>\n",
       "      <td>67</td>\n",
       "      <td>12</td>\n",
       "      <td>67</td>\n",
       "      <td>Classic Town</td>\n",
       "      <td>50.0</td>\n",
       "    </tr>\n",
       "    <tr>\n",
       "      <th>2</th>\n",
       "      <td>0011-3</td>\n",
       "      <td>Castle 2 for 1 Bonus Offer</td>\n",
       "      <td>1987</td>\n",
       "      <td>199</td>\n",
       "      <td>0</td>\n",
       "      <td>199</td>\n",
       "      <td>Lion Knights</td>\n",
       "      <td>186.0</td>\n",
       "    </tr>\n",
       "    <tr>\n",
       "      <th>3</th>\n",
       "      <td>0012-1</td>\n",
       "      <td>Space Mini-Figures</td>\n",
       "      <td>1979</td>\n",
       "      <td>143</td>\n",
       "      <td>12</td>\n",
       "      <td>143</td>\n",
       "      <td>Supplemental</td>\n",
       "      <td>126.0</td>\n",
       "    </tr>\n",
       "    <tr>\n",
       "      <th>4</th>\n",
       "      <td>0013-1</td>\n",
       "      <td>Space Mini-Figures</td>\n",
       "      <td>1979</td>\n",
       "      <td>143</td>\n",
       "      <td>12</td>\n",
       "      <td>143</td>\n",
       "      <td>Supplemental</td>\n",
       "      <td>126.0</td>\n",
       "    </tr>\n",
       "  </tbody>\n",
       "</table>\n",
       "</div>"
      ],
      "text/plain": [
       "  set_num                   name_sets  year  theme_id  num_parts   id  \\\n",
       "0   001-1                       Gears  1965         1         43    1   \n",
       "1  0011-2           Town Mini-Figures  1979        67         12   67   \n",
       "2  0011-3  Castle 2 for 1 Bonus Offer  1987       199          0  199   \n",
       "3  0012-1          Space Mini-Figures  1979       143         12  143   \n",
       "4  0013-1          Space Mini-Figures  1979       143         12  143   \n",
       "\n",
       "    name_themes  parent_id  \n",
       "0       Technic        NaN  \n",
       "1  Classic Town       50.0  \n",
       "2  Lion Knights      186.0  \n",
       "3  Supplemental      126.0  \n",
       "4  Supplemental      126.0  "
      ]
     },
     "execution_count": 35,
     "metadata": {},
     "output_type": "execute_result"
    }
   ],
   "source": [
    "sets_themes = pd.merge(sets,themes,how='left',left_on='theme_id',right_on='id',suffixes = ('_sets','_themes'))\n",
    "sets_themes.head()"
   ]
  },
  {
   "cell_type": "markdown",
   "id": "1c09df89",
   "metadata": {},
   "source": [
    "### Questions"
   ]
  },
  {
   "cell_type": "markdown",
   "id": "5a125c25",
   "metadata": {},
   "source": [
    "#### 1. What is the total number of parts per theme?"
   ]
  },
  {
   "cell_type": "code",
   "execution_count": 36,
   "id": "17563646",
   "metadata": {
    "scrolled": false
   },
   "outputs": [
    {
     "data": {
      "text/html": [
       "<div>\n",
       "<style scoped>\n",
       "    .dataframe tbody tr th:only-of-type {\n",
       "        vertical-align: middle;\n",
       "    }\n",
       "\n",
       "    .dataframe tbody tr th {\n",
       "        vertical-align: top;\n",
       "    }\n",
       "\n",
       "    .dataframe thead th {\n",
       "        text-align: right;\n",
       "    }\n",
       "</style>\n",
       "<table border=\"1\" class=\"dataframe\">\n",
       "  <thead>\n",
       "    <tr style=\"text-align: right;\">\n",
       "      <th></th>\n",
       "      <th>name_themes</th>\n",
       "      <th>num_parts</th>\n",
       "    </tr>\n",
       "  </thead>\n",
       "  <tbody>\n",
       "    <tr>\n",
       "      <th>305</th>\n",
       "      <td>Technic</td>\n",
       "      <td>231977</td>\n",
       "    </tr>\n",
       "    <tr>\n",
       "      <th>294</th>\n",
       "      <td>Star Wars</td>\n",
       "      <td>224466</td>\n",
       "    </tr>\n",
       "    <tr>\n",
       "      <th>211</th>\n",
       "      <td>Ninjago</td>\n",
       "      <td>101774</td>\n",
       "    </tr>\n",
       "    <tr>\n",
       "      <th>65</th>\n",
       "      <td>Creator</td>\n",
       "      <td>101590</td>\n",
       "    </tr>\n",
       "    <tr>\n",
       "      <th>118</th>\n",
       "      <td>Friends</td>\n",
       "      <td>100532</td>\n",
       "    </tr>\n",
       "    <tr>\n",
       "      <th>334</th>\n",
       "      <td>Ultimate Collector Series</td>\n",
       "      <td>92432</td>\n",
       "    </tr>\n",
       "    <tr>\n",
       "      <th>67</th>\n",
       "      <td>Creator Expert</td>\n",
       "      <td>78137</td>\n",
       "    </tr>\n",
       "    <tr>\n",
       "      <th>66</th>\n",
       "      <td>Creator 3-in-1</td>\n",
       "      <td>68069</td>\n",
       "    </tr>\n",
       "    <tr>\n",
       "      <th>147</th>\n",
       "      <td>Icons</td>\n",
       "      <td>62781</td>\n",
       "    </tr>\n",
       "    <tr>\n",
       "      <th>135</th>\n",
       "      <td>Harry Potter</td>\n",
       "      <td>62537</td>\n",
       "    </tr>\n",
       "  </tbody>\n",
       "</table>\n",
       "</div>"
      ],
      "text/plain": [
       "                   name_themes  num_parts\n",
       "305                    Technic     231977\n",
       "294                  Star Wars     224466\n",
       "211                    Ninjago     101774\n",
       "65                     Creator     101590\n",
       "118                    Friends     100532\n",
       "334  Ultimate Collector Series      92432\n",
       "67              Creator Expert      78137\n",
       "66              Creator 3-in-1      68069\n",
       "147                      Icons      62781\n",
       "135               Harry Potter      62537"
      ]
     },
     "execution_count": 36,
     "metadata": {},
     "output_type": "execute_result"
    }
   ],
   "source": [
    "no_parts_per_theme = sets_themes.groupby('name_themes').sum().reset_index()\n",
    "no_parts_per_theme = no_parts_per_theme[['name_themes','num_parts']].sort_values('num_parts', ascending=False)\n",
    "no_parts_per_theme.head(10)"
   ]
  },
  {
   "cell_type": "code",
   "execution_count": 37,
   "id": "45066a49",
   "metadata": {},
   "outputs": [
    {
     "data": {
      "application/vnd.plotly.v1+json": {
       "config": {
        "plotlyServerURL": "https://plot.ly"
       },
       "data": [
        {
         "alignmentgroup": "True",
         "hovertemplate": "num_parts=%{marker.color}<br>name_themes=%{y}<extra></extra>",
         "legendgroup": "",
         "marker": {
          "color": [
           231977,
           224466,
           101774,
           101590,
           100532,
           92432,
           78137,
           68069,
           62781,
           62537
          ],
          "coloraxis": "coloraxis",
          "pattern": {
           "shape": ""
          }
         },
         "name": "",
         "offsetgroup": "",
         "orientation": "h",
         "showlegend": false,
         "text": [
          231977,
          224466,
          101774,
          101590,
          100532,
          92432,
          78137,
          68069,
          62781,
          62537
         ],
         "textposition": "auto",
         "type": "bar",
         "x": [
          231977,
          224466,
          101774,
          101590,
          100532,
          92432,
          78137,
          68069,
          62781,
          62537
         ],
         "xaxis": "x",
         "y": [
          "Technic",
          "Star Wars",
          "Ninjago",
          "Creator",
          "Friends",
          "Ultimate Collector Series",
          "Creator Expert",
          "Creator 3-in-1",
          "Icons",
          "Harry Potter"
         ],
         "yaxis": "y"
        }
       ],
       "layout": {
        "barmode": "relative",
        "coloraxis": {
         "colorbar": {
          "title": {
           "text": "num_parts"
          }
         },
         "colorscale": [
          [
           0,
           "#fde725"
          ],
          [
           0.1111111111111111,
           "#b5de2b"
          ],
          [
           0.2222222222222222,
           "#6ece58"
          ],
          [
           0.3333333333333333,
           "#35b779"
          ],
          [
           0.4444444444444444,
           "#1f9e89"
          ],
          [
           0.5555555555555556,
           "#26828e"
          ],
          [
           0.6666666666666666,
           "#31688e"
          ],
          [
           0.7777777777777778,
           "#3e4989"
          ],
          [
           0.8888888888888888,
           "#482878"
          ],
          [
           1,
           "#440154"
          ]
         ],
         "showscale": false
        },
        "height": 500,
        "legend": {
         "tracegroupgap": 0
        },
        "template": {
         "data": {
          "bar": [
           {
            "error_x": {
             "color": "#2a3f5f"
            },
            "error_y": {
             "color": "#2a3f5f"
            },
            "marker": {
             "line": {
              "color": "#E5ECF6",
              "width": 0.5
             },
             "pattern": {
              "fillmode": "overlay",
              "size": 10,
              "solidity": 0.2
             }
            },
            "type": "bar"
           }
          ],
          "barpolar": [
           {
            "marker": {
             "line": {
              "color": "#E5ECF6",
              "width": 0.5
             },
             "pattern": {
              "fillmode": "overlay",
              "size": 10,
              "solidity": 0.2
             }
            },
            "type": "barpolar"
           }
          ],
          "carpet": [
           {
            "aaxis": {
             "endlinecolor": "#2a3f5f",
             "gridcolor": "white",
             "linecolor": "white",
             "minorgridcolor": "white",
             "startlinecolor": "#2a3f5f"
            },
            "baxis": {
             "endlinecolor": "#2a3f5f",
             "gridcolor": "white",
             "linecolor": "white",
             "minorgridcolor": "white",
             "startlinecolor": "#2a3f5f"
            },
            "type": "carpet"
           }
          ],
          "choropleth": [
           {
            "colorbar": {
             "outlinewidth": 0,
             "ticks": ""
            },
            "type": "choropleth"
           }
          ],
          "contour": [
           {
            "colorbar": {
             "outlinewidth": 0,
             "ticks": ""
            },
            "colorscale": [
             [
              0,
              "#0d0887"
             ],
             [
              0.1111111111111111,
              "#46039f"
             ],
             [
              0.2222222222222222,
              "#7201a8"
             ],
             [
              0.3333333333333333,
              "#9c179e"
             ],
             [
              0.4444444444444444,
              "#bd3786"
             ],
             [
              0.5555555555555556,
              "#d8576b"
             ],
             [
              0.6666666666666666,
              "#ed7953"
             ],
             [
              0.7777777777777778,
              "#fb9f3a"
             ],
             [
              0.8888888888888888,
              "#fdca26"
             ],
             [
              1,
              "#f0f921"
             ]
            ],
            "type": "contour"
           }
          ],
          "contourcarpet": [
           {
            "colorbar": {
             "outlinewidth": 0,
             "ticks": ""
            },
            "type": "contourcarpet"
           }
          ],
          "heatmap": [
           {
            "colorbar": {
             "outlinewidth": 0,
             "ticks": ""
            },
            "colorscale": [
             [
              0,
              "#0d0887"
             ],
             [
              0.1111111111111111,
              "#46039f"
             ],
             [
              0.2222222222222222,
              "#7201a8"
             ],
             [
              0.3333333333333333,
              "#9c179e"
             ],
             [
              0.4444444444444444,
              "#bd3786"
             ],
             [
              0.5555555555555556,
              "#d8576b"
             ],
             [
              0.6666666666666666,
              "#ed7953"
             ],
             [
              0.7777777777777778,
              "#fb9f3a"
             ],
             [
              0.8888888888888888,
              "#fdca26"
             ],
             [
              1,
              "#f0f921"
             ]
            ],
            "type": "heatmap"
           }
          ],
          "heatmapgl": [
           {
            "colorbar": {
             "outlinewidth": 0,
             "ticks": ""
            },
            "colorscale": [
             [
              0,
              "#0d0887"
             ],
             [
              0.1111111111111111,
              "#46039f"
             ],
             [
              0.2222222222222222,
              "#7201a8"
             ],
             [
              0.3333333333333333,
              "#9c179e"
             ],
             [
              0.4444444444444444,
              "#bd3786"
             ],
             [
              0.5555555555555556,
              "#d8576b"
             ],
             [
              0.6666666666666666,
              "#ed7953"
             ],
             [
              0.7777777777777778,
              "#fb9f3a"
             ],
             [
              0.8888888888888888,
              "#fdca26"
             ],
             [
              1,
              "#f0f921"
             ]
            ],
            "type": "heatmapgl"
           }
          ],
          "histogram": [
           {
            "marker": {
             "pattern": {
              "fillmode": "overlay",
              "size": 10,
              "solidity": 0.2
             }
            },
            "type": "histogram"
           }
          ],
          "histogram2d": [
           {
            "colorbar": {
             "outlinewidth": 0,
             "ticks": ""
            },
            "colorscale": [
             [
              0,
              "#0d0887"
             ],
             [
              0.1111111111111111,
              "#46039f"
             ],
             [
              0.2222222222222222,
              "#7201a8"
             ],
             [
              0.3333333333333333,
              "#9c179e"
             ],
             [
              0.4444444444444444,
              "#bd3786"
             ],
             [
              0.5555555555555556,
              "#d8576b"
             ],
             [
              0.6666666666666666,
              "#ed7953"
             ],
             [
              0.7777777777777778,
              "#fb9f3a"
             ],
             [
              0.8888888888888888,
              "#fdca26"
             ],
             [
              1,
              "#f0f921"
             ]
            ],
            "type": "histogram2d"
           }
          ],
          "histogram2dcontour": [
           {
            "colorbar": {
             "outlinewidth": 0,
             "ticks": ""
            },
            "colorscale": [
             [
              0,
              "#0d0887"
             ],
             [
              0.1111111111111111,
              "#46039f"
             ],
             [
              0.2222222222222222,
              "#7201a8"
             ],
             [
              0.3333333333333333,
              "#9c179e"
             ],
             [
              0.4444444444444444,
              "#bd3786"
             ],
             [
              0.5555555555555556,
              "#d8576b"
             ],
             [
              0.6666666666666666,
              "#ed7953"
             ],
             [
              0.7777777777777778,
              "#fb9f3a"
             ],
             [
              0.8888888888888888,
              "#fdca26"
             ],
             [
              1,
              "#f0f921"
             ]
            ],
            "type": "histogram2dcontour"
           }
          ],
          "mesh3d": [
           {
            "colorbar": {
             "outlinewidth": 0,
             "ticks": ""
            },
            "type": "mesh3d"
           }
          ],
          "parcoords": [
           {
            "line": {
             "colorbar": {
              "outlinewidth": 0,
              "ticks": ""
             }
            },
            "type": "parcoords"
           }
          ],
          "pie": [
           {
            "automargin": true,
            "type": "pie"
           }
          ],
          "scatter": [
           {
            "fillpattern": {
             "fillmode": "overlay",
             "size": 10,
             "solidity": 0.2
            },
            "type": "scatter"
           }
          ],
          "scatter3d": [
           {
            "line": {
             "colorbar": {
              "outlinewidth": 0,
              "ticks": ""
             }
            },
            "marker": {
             "colorbar": {
              "outlinewidth": 0,
              "ticks": ""
             }
            },
            "type": "scatter3d"
           }
          ],
          "scattercarpet": [
           {
            "marker": {
             "colorbar": {
              "outlinewidth": 0,
              "ticks": ""
             }
            },
            "type": "scattercarpet"
           }
          ],
          "scattergeo": [
           {
            "marker": {
             "colorbar": {
              "outlinewidth": 0,
              "ticks": ""
             }
            },
            "type": "scattergeo"
           }
          ],
          "scattergl": [
           {
            "marker": {
             "colorbar": {
              "outlinewidth": 0,
              "ticks": ""
             }
            },
            "type": "scattergl"
           }
          ],
          "scattermapbox": [
           {
            "marker": {
             "colorbar": {
              "outlinewidth": 0,
              "ticks": ""
             }
            },
            "type": "scattermapbox"
           }
          ],
          "scatterpolar": [
           {
            "marker": {
             "colorbar": {
              "outlinewidth": 0,
              "ticks": ""
             }
            },
            "type": "scatterpolar"
           }
          ],
          "scatterpolargl": [
           {
            "marker": {
             "colorbar": {
              "outlinewidth": 0,
              "ticks": ""
             }
            },
            "type": "scatterpolargl"
           }
          ],
          "scatterternary": [
           {
            "marker": {
             "colorbar": {
              "outlinewidth": 0,
              "ticks": ""
             }
            },
            "type": "scatterternary"
           }
          ],
          "surface": [
           {
            "colorbar": {
             "outlinewidth": 0,
             "ticks": ""
            },
            "colorscale": [
             [
              0,
              "#0d0887"
             ],
             [
              0.1111111111111111,
              "#46039f"
             ],
             [
              0.2222222222222222,
              "#7201a8"
             ],
             [
              0.3333333333333333,
              "#9c179e"
             ],
             [
              0.4444444444444444,
              "#bd3786"
             ],
             [
              0.5555555555555556,
              "#d8576b"
             ],
             [
              0.6666666666666666,
              "#ed7953"
             ],
             [
              0.7777777777777778,
              "#fb9f3a"
             ],
             [
              0.8888888888888888,
              "#fdca26"
             ],
             [
              1,
              "#f0f921"
             ]
            ],
            "type": "surface"
           }
          ],
          "table": [
           {
            "cells": {
             "fill": {
              "color": "#EBF0F8"
             },
             "line": {
              "color": "white"
             }
            },
            "header": {
             "fill": {
              "color": "#C8D4E3"
             },
             "line": {
              "color": "white"
             }
            },
            "type": "table"
           }
          ]
         },
         "layout": {
          "annotationdefaults": {
           "arrowcolor": "#2a3f5f",
           "arrowhead": 0,
           "arrowwidth": 1
          },
          "autotypenumbers": "strict",
          "coloraxis": {
           "colorbar": {
            "outlinewidth": 0,
            "ticks": ""
           }
          },
          "colorscale": {
           "diverging": [
            [
             0,
             "#8e0152"
            ],
            [
             0.1,
             "#c51b7d"
            ],
            [
             0.2,
             "#de77ae"
            ],
            [
             0.3,
             "#f1b6da"
            ],
            [
             0.4,
             "#fde0ef"
            ],
            [
             0.5,
             "#f7f7f7"
            ],
            [
             0.6,
             "#e6f5d0"
            ],
            [
             0.7,
             "#b8e186"
            ],
            [
             0.8,
             "#7fbc41"
            ],
            [
             0.9,
             "#4d9221"
            ],
            [
             1,
             "#276419"
            ]
           ],
           "sequential": [
            [
             0,
             "#0d0887"
            ],
            [
             0.1111111111111111,
             "#46039f"
            ],
            [
             0.2222222222222222,
             "#7201a8"
            ],
            [
             0.3333333333333333,
             "#9c179e"
            ],
            [
             0.4444444444444444,
             "#bd3786"
            ],
            [
             0.5555555555555556,
             "#d8576b"
            ],
            [
             0.6666666666666666,
             "#ed7953"
            ],
            [
             0.7777777777777778,
             "#fb9f3a"
            ],
            [
             0.8888888888888888,
             "#fdca26"
            ],
            [
             1,
             "#f0f921"
            ]
           ],
           "sequentialminus": [
            [
             0,
             "#0d0887"
            ],
            [
             0.1111111111111111,
             "#46039f"
            ],
            [
             0.2222222222222222,
             "#7201a8"
            ],
            [
             0.3333333333333333,
             "#9c179e"
            ],
            [
             0.4444444444444444,
             "#bd3786"
            ],
            [
             0.5555555555555556,
             "#d8576b"
            ],
            [
             0.6666666666666666,
             "#ed7953"
            ],
            [
             0.7777777777777778,
             "#fb9f3a"
            ],
            [
             0.8888888888888888,
             "#fdca26"
            ],
            [
             1,
             "#f0f921"
            ]
           ]
          },
          "colorway": [
           "#636efa",
           "#EF553B",
           "#00cc96",
           "#ab63fa",
           "#FFA15A",
           "#19d3f3",
           "#FF6692",
           "#B6E880",
           "#FF97FF",
           "#FECB52"
          ],
          "font": {
           "color": "#2a3f5f"
          },
          "geo": {
           "bgcolor": "white",
           "lakecolor": "white",
           "landcolor": "#E5ECF6",
           "showlakes": true,
           "showland": true,
           "subunitcolor": "white"
          },
          "hoverlabel": {
           "align": "left"
          },
          "hovermode": "closest",
          "mapbox": {
           "style": "light"
          },
          "paper_bgcolor": "white",
          "plot_bgcolor": "#E5ECF6",
          "polar": {
           "angularaxis": {
            "gridcolor": "white",
            "linecolor": "white",
            "ticks": ""
           },
           "bgcolor": "#E5ECF6",
           "radialaxis": {
            "gridcolor": "white",
            "linecolor": "white",
            "ticks": ""
           }
          },
          "scene": {
           "xaxis": {
            "backgroundcolor": "#E5ECF6",
            "gridcolor": "white",
            "gridwidth": 2,
            "linecolor": "white",
            "showbackground": true,
            "ticks": "",
            "zerolinecolor": "white"
           },
           "yaxis": {
            "backgroundcolor": "#E5ECF6",
            "gridcolor": "white",
            "gridwidth": 2,
            "linecolor": "white",
            "showbackground": true,
            "ticks": "",
            "zerolinecolor": "white"
           },
           "zaxis": {
            "backgroundcolor": "#E5ECF6",
            "gridcolor": "white",
            "gridwidth": 2,
            "linecolor": "white",
            "showbackground": true,
            "ticks": "",
            "zerolinecolor": "white"
           }
          },
          "shapedefaults": {
           "line": {
            "color": "#2a3f5f"
           }
          },
          "ternary": {
           "aaxis": {
            "gridcolor": "white",
            "linecolor": "white",
            "ticks": ""
           },
           "baxis": {
            "gridcolor": "white",
            "linecolor": "white",
            "ticks": ""
           },
           "bgcolor": "#E5ECF6",
           "caxis": {
            "gridcolor": "white",
            "linecolor": "white",
            "ticks": ""
           }
          },
          "title": {
           "x": 0.05
          },
          "xaxis": {
           "automargin": true,
           "gridcolor": "white",
           "linecolor": "white",
           "ticks": "",
           "title": {
            "standoff": 15
           },
           "zerolinecolor": "white",
           "zerolinewidth": 2
          },
          "yaxis": {
           "automargin": true,
           "gridcolor": "white",
           "linecolor": "white",
           "ticks": "",
           "title": {
            "standoff": 15
           },
           "zerolinecolor": "white",
           "zerolinewidth": 2
          }
         }
        },
        "title": {
         "text": " Top 10 Total Number of Parts per Theme"
        },
        "width": 800,
        "xaxis": {
         "anchor": "y",
         "domain": [
          0,
          1
         ],
         "title": {
          "text": "num_parts"
         }
        },
        "yaxis": {
         "anchor": "x",
         "categoryorder": "total ascending",
         "domain": [
          0,
          1
         ],
         "title": {
          "text": "name_themes"
         }
        }
       }
      },
      "text/html": [
       "<div>                            <div id=\"62934393-ac2f-4a88-a98b-016ef01b20f0\" class=\"plotly-graph-div\" style=\"height:500px; width:800px;\"></div>            <script type=\"text/javascript\">                require([\"plotly\"], function(Plotly) {                    window.PLOTLYENV=window.PLOTLYENV || {};                                    if (document.getElementById(\"62934393-ac2f-4a88-a98b-016ef01b20f0\")) {                    Plotly.newPlot(                        \"62934393-ac2f-4a88-a98b-016ef01b20f0\",                        [{\"alignmentgroup\":\"True\",\"hovertemplate\":\"num_parts=%{marker.color}<br>name_themes=%{y}<extra></extra>\",\"legendgroup\":\"\",\"marker\":{\"color\":[231977,224466,101774,101590,100532,92432,78137,68069,62781,62537],\"coloraxis\":\"coloraxis\",\"pattern\":{\"shape\":\"\"}},\"name\":\"\",\"offsetgroup\":\"\",\"orientation\":\"h\",\"showlegend\":false,\"text\":[231977.0,224466.0,101774.0,101590.0,100532.0,92432.0,78137.0,68069.0,62781.0,62537.0],\"textposition\":\"auto\",\"x\":[231977,224466,101774,101590,100532,92432,78137,68069,62781,62537],\"xaxis\":\"x\",\"y\":[\"Technic\",\"Star Wars\",\"Ninjago\",\"Creator\",\"Friends\",\"Ultimate Collector Series\",\"Creator Expert\",\"Creator 3-in-1\",\"Icons\",\"Harry Potter\"],\"yaxis\":\"y\",\"type\":\"bar\"}],                        {\"template\":{\"data\":{\"histogram2dcontour\":[{\"type\":\"histogram2dcontour\",\"colorbar\":{\"outlinewidth\":0,\"ticks\":\"\"},\"colorscale\":[[0.0,\"#0d0887\"],[0.1111111111111111,\"#46039f\"],[0.2222222222222222,\"#7201a8\"],[0.3333333333333333,\"#9c179e\"],[0.4444444444444444,\"#bd3786\"],[0.5555555555555556,\"#d8576b\"],[0.6666666666666666,\"#ed7953\"],[0.7777777777777778,\"#fb9f3a\"],[0.8888888888888888,\"#fdca26\"],[1.0,\"#f0f921\"]]}],\"choropleth\":[{\"type\":\"choropleth\",\"colorbar\":{\"outlinewidth\":0,\"ticks\":\"\"}}],\"histogram2d\":[{\"type\":\"histogram2d\",\"colorbar\":{\"outlinewidth\":0,\"ticks\":\"\"},\"colorscale\":[[0.0,\"#0d0887\"],[0.1111111111111111,\"#46039f\"],[0.2222222222222222,\"#7201a8\"],[0.3333333333333333,\"#9c179e\"],[0.4444444444444444,\"#bd3786\"],[0.5555555555555556,\"#d8576b\"],[0.6666666666666666,\"#ed7953\"],[0.7777777777777778,\"#fb9f3a\"],[0.8888888888888888,\"#fdca26\"],[1.0,\"#f0f921\"]]}],\"heatmap\":[{\"type\":\"heatmap\",\"colorbar\":{\"outlinewidth\":0,\"ticks\":\"\"},\"colorscale\":[[0.0,\"#0d0887\"],[0.1111111111111111,\"#46039f\"],[0.2222222222222222,\"#7201a8\"],[0.3333333333333333,\"#9c179e\"],[0.4444444444444444,\"#bd3786\"],[0.5555555555555556,\"#d8576b\"],[0.6666666666666666,\"#ed7953\"],[0.7777777777777778,\"#fb9f3a\"],[0.8888888888888888,\"#fdca26\"],[1.0,\"#f0f921\"]]}],\"heatmapgl\":[{\"type\":\"heatmapgl\",\"colorbar\":{\"outlinewidth\":0,\"ticks\":\"\"},\"colorscale\":[[0.0,\"#0d0887\"],[0.1111111111111111,\"#46039f\"],[0.2222222222222222,\"#7201a8\"],[0.3333333333333333,\"#9c179e\"],[0.4444444444444444,\"#bd3786\"],[0.5555555555555556,\"#d8576b\"],[0.6666666666666666,\"#ed7953\"],[0.7777777777777778,\"#fb9f3a\"],[0.8888888888888888,\"#fdca26\"],[1.0,\"#f0f921\"]]}],\"contourcarpet\":[{\"type\":\"contourcarpet\",\"colorbar\":{\"outlinewidth\":0,\"ticks\":\"\"}}],\"contour\":[{\"type\":\"contour\",\"colorbar\":{\"outlinewidth\":0,\"ticks\":\"\"},\"colorscale\":[[0.0,\"#0d0887\"],[0.1111111111111111,\"#46039f\"],[0.2222222222222222,\"#7201a8\"],[0.3333333333333333,\"#9c179e\"],[0.4444444444444444,\"#bd3786\"],[0.5555555555555556,\"#d8576b\"],[0.6666666666666666,\"#ed7953\"],[0.7777777777777778,\"#fb9f3a\"],[0.8888888888888888,\"#fdca26\"],[1.0,\"#f0f921\"]]}],\"surface\":[{\"type\":\"surface\",\"colorbar\":{\"outlinewidth\":0,\"ticks\":\"\"},\"colorscale\":[[0.0,\"#0d0887\"],[0.1111111111111111,\"#46039f\"],[0.2222222222222222,\"#7201a8\"],[0.3333333333333333,\"#9c179e\"],[0.4444444444444444,\"#bd3786\"],[0.5555555555555556,\"#d8576b\"],[0.6666666666666666,\"#ed7953\"],[0.7777777777777778,\"#fb9f3a\"],[0.8888888888888888,\"#fdca26\"],[1.0,\"#f0f921\"]]}],\"mesh3d\":[{\"type\":\"mesh3d\",\"colorbar\":{\"outlinewidth\":0,\"ticks\":\"\"}}],\"scatter\":[{\"fillpattern\":{\"fillmode\":\"overlay\",\"size\":10,\"solidity\":0.2},\"type\":\"scatter\"}],\"parcoords\":[{\"type\":\"parcoords\",\"line\":{\"colorbar\":{\"outlinewidth\":0,\"ticks\":\"\"}}}],\"scatterpolargl\":[{\"type\":\"scatterpolargl\",\"marker\":{\"colorbar\":{\"outlinewidth\":0,\"ticks\":\"\"}}}],\"bar\":[{\"error_x\":{\"color\":\"#2a3f5f\"},\"error_y\":{\"color\":\"#2a3f5f\"},\"marker\":{\"line\":{\"color\":\"#E5ECF6\",\"width\":0.5},\"pattern\":{\"fillmode\":\"overlay\",\"size\":10,\"solidity\":0.2}},\"type\":\"bar\"}],\"scattergeo\":[{\"type\":\"scattergeo\",\"marker\":{\"colorbar\":{\"outlinewidth\":0,\"ticks\":\"\"}}}],\"scatterpolar\":[{\"type\":\"scatterpolar\",\"marker\":{\"colorbar\":{\"outlinewidth\":0,\"ticks\":\"\"}}}],\"histogram\":[{\"marker\":{\"pattern\":{\"fillmode\":\"overlay\",\"size\":10,\"solidity\":0.2}},\"type\":\"histogram\"}],\"scattergl\":[{\"type\":\"scattergl\",\"marker\":{\"colorbar\":{\"outlinewidth\":0,\"ticks\":\"\"}}}],\"scatter3d\":[{\"type\":\"scatter3d\",\"line\":{\"colorbar\":{\"outlinewidth\":0,\"ticks\":\"\"}},\"marker\":{\"colorbar\":{\"outlinewidth\":0,\"ticks\":\"\"}}}],\"scattermapbox\":[{\"type\":\"scattermapbox\",\"marker\":{\"colorbar\":{\"outlinewidth\":0,\"ticks\":\"\"}}}],\"scatterternary\":[{\"type\":\"scatterternary\",\"marker\":{\"colorbar\":{\"outlinewidth\":0,\"ticks\":\"\"}}}],\"scattercarpet\":[{\"type\":\"scattercarpet\",\"marker\":{\"colorbar\":{\"outlinewidth\":0,\"ticks\":\"\"}}}],\"carpet\":[{\"aaxis\":{\"endlinecolor\":\"#2a3f5f\",\"gridcolor\":\"white\",\"linecolor\":\"white\",\"minorgridcolor\":\"white\",\"startlinecolor\":\"#2a3f5f\"},\"baxis\":{\"endlinecolor\":\"#2a3f5f\",\"gridcolor\":\"white\",\"linecolor\":\"white\",\"minorgridcolor\":\"white\",\"startlinecolor\":\"#2a3f5f\"},\"type\":\"carpet\"}],\"table\":[{\"cells\":{\"fill\":{\"color\":\"#EBF0F8\"},\"line\":{\"color\":\"white\"}},\"header\":{\"fill\":{\"color\":\"#C8D4E3\"},\"line\":{\"color\":\"white\"}},\"type\":\"table\"}],\"barpolar\":[{\"marker\":{\"line\":{\"color\":\"#E5ECF6\",\"width\":0.5},\"pattern\":{\"fillmode\":\"overlay\",\"size\":10,\"solidity\":0.2}},\"type\":\"barpolar\"}],\"pie\":[{\"automargin\":true,\"type\":\"pie\"}]},\"layout\":{\"autotypenumbers\":\"strict\",\"colorway\":[\"#636efa\",\"#EF553B\",\"#00cc96\",\"#ab63fa\",\"#FFA15A\",\"#19d3f3\",\"#FF6692\",\"#B6E880\",\"#FF97FF\",\"#FECB52\"],\"font\":{\"color\":\"#2a3f5f\"},\"hovermode\":\"closest\",\"hoverlabel\":{\"align\":\"left\"},\"paper_bgcolor\":\"white\",\"plot_bgcolor\":\"#E5ECF6\",\"polar\":{\"bgcolor\":\"#E5ECF6\",\"angularaxis\":{\"gridcolor\":\"white\",\"linecolor\":\"white\",\"ticks\":\"\"},\"radialaxis\":{\"gridcolor\":\"white\",\"linecolor\":\"white\",\"ticks\":\"\"}},\"ternary\":{\"bgcolor\":\"#E5ECF6\",\"aaxis\":{\"gridcolor\":\"white\",\"linecolor\":\"white\",\"ticks\":\"\"},\"baxis\":{\"gridcolor\":\"white\",\"linecolor\":\"white\",\"ticks\":\"\"},\"caxis\":{\"gridcolor\":\"white\",\"linecolor\":\"white\",\"ticks\":\"\"}},\"coloraxis\":{\"colorbar\":{\"outlinewidth\":0,\"ticks\":\"\"}},\"colorscale\":{\"sequential\":[[0.0,\"#0d0887\"],[0.1111111111111111,\"#46039f\"],[0.2222222222222222,\"#7201a8\"],[0.3333333333333333,\"#9c179e\"],[0.4444444444444444,\"#bd3786\"],[0.5555555555555556,\"#d8576b\"],[0.6666666666666666,\"#ed7953\"],[0.7777777777777778,\"#fb9f3a\"],[0.8888888888888888,\"#fdca26\"],[1.0,\"#f0f921\"]],\"sequentialminus\":[[0.0,\"#0d0887\"],[0.1111111111111111,\"#46039f\"],[0.2222222222222222,\"#7201a8\"],[0.3333333333333333,\"#9c179e\"],[0.4444444444444444,\"#bd3786\"],[0.5555555555555556,\"#d8576b\"],[0.6666666666666666,\"#ed7953\"],[0.7777777777777778,\"#fb9f3a\"],[0.8888888888888888,\"#fdca26\"],[1.0,\"#f0f921\"]],\"diverging\":[[0,\"#8e0152\"],[0.1,\"#c51b7d\"],[0.2,\"#de77ae\"],[0.3,\"#f1b6da\"],[0.4,\"#fde0ef\"],[0.5,\"#f7f7f7\"],[0.6,\"#e6f5d0\"],[0.7,\"#b8e186\"],[0.8,\"#7fbc41\"],[0.9,\"#4d9221\"],[1,\"#276419\"]]},\"xaxis\":{\"gridcolor\":\"white\",\"linecolor\":\"white\",\"ticks\":\"\",\"title\":{\"standoff\":15},\"zerolinecolor\":\"white\",\"automargin\":true,\"zerolinewidth\":2},\"yaxis\":{\"gridcolor\":\"white\",\"linecolor\":\"white\",\"ticks\":\"\",\"title\":{\"standoff\":15},\"zerolinecolor\":\"white\",\"automargin\":true,\"zerolinewidth\":2},\"scene\":{\"xaxis\":{\"backgroundcolor\":\"#E5ECF6\",\"gridcolor\":\"white\",\"linecolor\":\"white\",\"showbackground\":true,\"ticks\":\"\",\"zerolinecolor\":\"white\",\"gridwidth\":2},\"yaxis\":{\"backgroundcolor\":\"#E5ECF6\",\"gridcolor\":\"white\",\"linecolor\":\"white\",\"showbackground\":true,\"ticks\":\"\",\"zerolinecolor\":\"white\",\"gridwidth\":2},\"zaxis\":{\"backgroundcolor\":\"#E5ECF6\",\"gridcolor\":\"white\",\"linecolor\":\"white\",\"showbackground\":true,\"ticks\":\"\",\"zerolinecolor\":\"white\",\"gridwidth\":2}},\"shapedefaults\":{\"line\":{\"color\":\"#2a3f5f\"}},\"annotationdefaults\":{\"arrowcolor\":\"#2a3f5f\",\"arrowhead\":0,\"arrowwidth\":1},\"geo\":{\"bgcolor\":\"white\",\"landcolor\":\"#E5ECF6\",\"subunitcolor\":\"white\",\"showland\":true,\"showlakes\":true,\"lakecolor\":\"white\"},\"title\":{\"x\":0.05},\"mapbox\":{\"style\":\"light\"}}},\"xaxis\":{\"anchor\":\"y\",\"domain\":[0.0,1.0],\"title\":{\"text\":\"num_parts\"}},\"yaxis\":{\"anchor\":\"x\",\"domain\":[0.0,1.0],\"title\":{\"text\":\"name_themes\"},\"categoryorder\":\"total ascending\"},\"coloraxis\":{\"colorbar\":{\"title\":{\"text\":\"num_parts\"}},\"colorscale\":[[0.0,\"#fde725\"],[0.1111111111111111,\"#b5de2b\"],[0.2222222222222222,\"#6ece58\"],[0.3333333333333333,\"#35b779\"],[0.4444444444444444,\"#1f9e89\"],[0.5555555555555556,\"#26828e\"],[0.6666666666666666,\"#31688e\"],[0.7777777777777778,\"#3e4989\"],[0.8888888888888888,\"#482878\"],[1.0,\"#440154\"]],\"showscale\":false},\"legend\":{\"tracegroupgap\":0},\"title\":{\"text\":\" Top 10 Total Number of Parts per Theme\"},\"barmode\":\"relative\",\"height\":500,\"width\":800},                        {\"responsive\": true}                    ).then(function(){\n",
       "                            \n",
       "var gd = document.getElementById('62934393-ac2f-4a88-a98b-016ef01b20f0');\n",
       "var x = new MutationObserver(function (mutations, observer) {{\n",
       "        var display = window.getComputedStyle(gd).display;\n",
       "        if (!display || display === 'none') {{\n",
       "            console.log([gd, 'removed!']);\n",
       "            Plotly.purge(gd);\n",
       "            observer.disconnect();\n",
       "        }}\n",
       "}});\n",
       "\n",
       "// Listen for the removal of the full notebook cells\n",
       "var notebookContainer = gd.closest('#notebook-container');\n",
       "if (notebookContainer) {{\n",
       "    x.observe(notebookContainer, {childList: true});\n",
       "}}\n",
       "\n",
       "// Listen for the clearing of the current output cell\n",
       "var outputEl = gd.closest('.output');\n",
       "if (outputEl) {{\n",
       "    x.observe(outputEl, {childList: true});\n",
       "}}\n",
       "\n",
       "                        })                };                });            </script>        </div>"
      ]
     },
     "metadata": {},
     "output_type": "display_data"
    }
   ],
   "source": [
    "fig = px.bar(no_parts_per_theme.head(10), x='num_parts', y='name_themes', title=\" Top 10 Total Number of Parts per Theme\", text=\"num_parts\" , width=800, height=500, color = 'num_parts', color_continuous_scale=px.colors.sequential.Viridis_r)\n",
    "fig.update_coloraxes(showscale=False)\n",
    "fig.update_layout(yaxis={'categoryorder':'total ascending'})\n",
    "fig.show()"
   ]
  },
  {
   "cell_type": "markdown",
   "id": "3c2895b0",
   "metadata": {},
   "source": [
    "#### 2. What is the total number of parts per year?"
   ]
  },
  {
   "cell_type": "code",
   "execution_count": 38,
   "id": "83f77be8",
   "metadata": {},
   "outputs": [
    {
     "data": {
      "text/html": [
       "<div>\n",
       "<style scoped>\n",
       "    .dataframe tbody tr th:only-of-type {\n",
       "        vertical-align: middle;\n",
       "    }\n",
       "\n",
       "    .dataframe tbody tr th {\n",
       "        vertical-align: top;\n",
       "    }\n",
       "\n",
       "    .dataframe thead th {\n",
       "        text-align: right;\n",
       "    }\n",
       "</style>\n",
       "<table border=\"1\" class=\"dataframe\">\n",
       "  <thead>\n",
       "    <tr style=\"text-align: right;\">\n",
       "      <th></th>\n",
       "      <th>year</th>\n",
       "      <th>num_parts</th>\n",
       "    </tr>\n",
       "  </thead>\n",
       "  <tbody>\n",
       "    <tr>\n",
       "      <th>71</th>\n",
       "      <td>2022</td>\n",
       "      <td>174125</td>\n",
       "    </tr>\n",
       "    <tr>\n",
       "      <th>70</th>\n",
       "      <td>2021</td>\n",
       "      <td>264835</td>\n",
       "    </tr>\n",
       "    <tr>\n",
       "      <th>69</th>\n",
       "      <td>2020</td>\n",
       "      <td>211981</td>\n",
       "    </tr>\n",
       "    <tr>\n",
       "      <th>68</th>\n",
       "      <td>2019</td>\n",
       "      <td>191812</td>\n",
       "    </tr>\n",
       "    <tr>\n",
       "      <th>67</th>\n",
       "      <td>2018</td>\n",
       "      <td>171589</td>\n",
       "    </tr>\n",
       "    <tr>\n",
       "      <th>66</th>\n",
       "      <td>2017</td>\n",
       "      <td>178360</td>\n",
       "    </tr>\n",
       "    <tr>\n",
       "      <th>65</th>\n",
       "      <td>2016</td>\n",
       "      <td>159135</td>\n",
       "    </tr>\n",
       "    <tr>\n",
       "      <th>64</th>\n",
       "      <td>2015</td>\n",
       "      <td>148887</td>\n",
       "    </tr>\n",
       "    <tr>\n",
       "      <th>63</th>\n",
       "      <td>2014</td>\n",
       "      <td>130956</td>\n",
       "    </tr>\n",
       "    <tr>\n",
       "      <th>62</th>\n",
       "      <td>2013</td>\n",
       "      <td>110135</td>\n",
       "    </tr>\n",
       "  </tbody>\n",
       "</table>\n",
       "</div>"
      ],
      "text/plain": [
       "    year  num_parts\n",
       "71  2022     174125\n",
       "70  2021     264835\n",
       "69  2020     211981\n",
       "68  2019     191812\n",
       "67  2018     171589\n",
       "66  2017     178360\n",
       "65  2016     159135\n",
       "64  2015     148887\n",
       "63  2014     130956\n",
       "62  2013     110135"
      ]
     },
     "execution_count": 38,
     "metadata": {},
     "output_type": "execute_result"
    }
   ],
   "source": [
    "no_parts_per_year = sets_themes.groupby('year').sum().reset_index()\n",
    "no_parts_per_year = no_parts_per_year[['year','num_parts']].sort_values('year', ascending=False)\n",
    "no_parts_per_year.head(10)"
   ]
  },
  {
   "cell_type": "code",
   "execution_count": 39,
   "id": "c9084a8a",
   "metadata": {},
   "outputs": [
    {
     "data": {
      "application/vnd.plotly.v1+json": {
       "config": {
        "plotlyServerURL": "https://plot.ly"
       },
       "data": [
        {
         "alignmentgroup": "True",
         "hovertemplate": "year=%{x}<br>num_parts=%{marker.color}<extra></extra>",
         "legendgroup": "",
         "marker": {
          "color": [
           174125,
           264835,
           211981,
           191812,
           171589,
           178360,
           159135,
           148887,
           130956,
           110135
          ],
          "coloraxis": "coloraxis",
          "pattern": {
           "shape": ""
          }
         },
         "name": "",
         "offsetgroup": "",
         "orientation": "v",
         "showlegend": false,
         "text": [
          174125,
          264835,
          211981,
          191812,
          171589,
          178360,
          159135,
          148887,
          130956,
          110135
         ],
         "textposition": "auto",
         "type": "bar",
         "x": [
          2022,
          2021,
          2020,
          2019,
          2018,
          2017,
          2016,
          2015,
          2014,
          2013
         ],
         "xaxis": "x",
         "y": [
          174125,
          264835,
          211981,
          191812,
          171589,
          178360,
          159135,
          148887,
          130956,
          110135
         ],
         "yaxis": "y"
        }
       ],
       "layout": {
        "barmode": "relative",
        "coloraxis": {
         "colorbar": {
          "title": {
           "text": "num_parts"
          }
         },
         "colorscale": [
          [
           0,
           "#fde725"
          ],
          [
           0.1111111111111111,
           "#b5de2b"
          ],
          [
           0.2222222222222222,
           "#6ece58"
          ],
          [
           0.3333333333333333,
           "#35b779"
          ],
          [
           0.4444444444444444,
           "#1f9e89"
          ],
          [
           0.5555555555555556,
           "#26828e"
          ],
          [
           0.6666666666666666,
           "#31688e"
          ],
          [
           0.7777777777777778,
           "#3e4989"
          ],
          [
           0.8888888888888888,
           "#482878"
          ],
          [
           1,
           "#440154"
          ]
         ],
         "showscale": false
        },
        "height": 800,
        "legend": {
         "tracegroupgap": 0
        },
        "template": {
         "data": {
          "bar": [
           {
            "error_x": {
             "color": "#2a3f5f"
            },
            "error_y": {
             "color": "#2a3f5f"
            },
            "marker": {
             "line": {
              "color": "#E5ECF6",
              "width": 0.5
             },
             "pattern": {
              "fillmode": "overlay",
              "size": 10,
              "solidity": 0.2
             }
            },
            "type": "bar"
           }
          ],
          "barpolar": [
           {
            "marker": {
             "line": {
              "color": "#E5ECF6",
              "width": 0.5
             },
             "pattern": {
              "fillmode": "overlay",
              "size": 10,
              "solidity": 0.2
             }
            },
            "type": "barpolar"
           }
          ],
          "carpet": [
           {
            "aaxis": {
             "endlinecolor": "#2a3f5f",
             "gridcolor": "white",
             "linecolor": "white",
             "minorgridcolor": "white",
             "startlinecolor": "#2a3f5f"
            },
            "baxis": {
             "endlinecolor": "#2a3f5f",
             "gridcolor": "white",
             "linecolor": "white",
             "minorgridcolor": "white",
             "startlinecolor": "#2a3f5f"
            },
            "type": "carpet"
           }
          ],
          "choropleth": [
           {
            "colorbar": {
             "outlinewidth": 0,
             "ticks": ""
            },
            "type": "choropleth"
           }
          ],
          "contour": [
           {
            "colorbar": {
             "outlinewidth": 0,
             "ticks": ""
            },
            "colorscale": [
             [
              0,
              "#0d0887"
             ],
             [
              0.1111111111111111,
              "#46039f"
             ],
             [
              0.2222222222222222,
              "#7201a8"
             ],
             [
              0.3333333333333333,
              "#9c179e"
             ],
             [
              0.4444444444444444,
              "#bd3786"
             ],
             [
              0.5555555555555556,
              "#d8576b"
             ],
             [
              0.6666666666666666,
              "#ed7953"
             ],
             [
              0.7777777777777778,
              "#fb9f3a"
             ],
             [
              0.8888888888888888,
              "#fdca26"
             ],
             [
              1,
              "#f0f921"
             ]
            ],
            "type": "contour"
           }
          ],
          "contourcarpet": [
           {
            "colorbar": {
             "outlinewidth": 0,
             "ticks": ""
            },
            "type": "contourcarpet"
           }
          ],
          "heatmap": [
           {
            "colorbar": {
             "outlinewidth": 0,
             "ticks": ""
            },
            "colorscale": [
             [
              0,
              "#0d0887"
             ],
             [
              0.1111111111111111,
              "#46039f"
             ],
             [
              0.2222222222222222,
              "#7201a8"
             ],
             [
              0.3333333333333333,
              "#9c179e"
             ],
             [
              0.4444444444444444,
              "#bd3786"
             ],
             [
              0.5555555555555556,
              "#d8576b"
             ],
             [
              0.6666666666666666,
              "#ed7953"
             ],
             [
              0.7777777777777778,
              "#fb9f3a"
             ],
             [
              0.8888888888888888,
              "#fdca26"
             ],
             [
              1,
              "#f0f921"
             ]
            ],
            "type": "heatmap"
           }
          ],
          "heatmapgl": [
           {
            "colorbar": {
             "outlinewidth": 0,
             "ticks": ""
            },
            "colorscale": [
             [
              0,
              "#0d0887"
             ],
             [
              0.1111111111111111,
              "#46039f"
             ],
             [
              0.2222222222222222,
              "#7201a8"
             ],
             [
              0.3333333333333333,
              "#9c179e"
             ],
             [
              0.4444444444444444,
              "#bd3786"
             ],
             [
              0.5555555555555556,
              "#d8576b"
             ],
             [
              0.6666666666666666,
              "#ed7953"
             ],
             [
              0.7777777777777778,
              "#fb9f3a"
             ],
             [
              0.8888888888888888,
              "#fdca26"
             ],
             [
              1,
              "#f0f921"
             ]
            ],
            "type": "heatmapgl"
           }
          ],
          "histogram": [
           {
            "marker": {
             "pattern": {
              "fillmode": "overlay",
              "size": 10,
              "solidity": 0.2
             }
            },
            "type": "histogram"
           }
          ],
          "histogram2d": [
           {
            "colorbar": {
             "outlinewidth": 0,
             "ticks": ""
            },
            "colorscale": [
             [
              0,
              "#0d0887"
             ],
             [
              0.1111111111111111,
              "#46039f"
             ],
             [
              0.2222222222222222,
              "#7201a8"
             ],
             [
              0.3333333333333333,
              "#9c179e"
             ],
             [
              0.4444444444444444,
              "#bd3786"
             ],
             [
              0.5555555555555556,
              "#d8576b"
             ],
             [
              0.6666666666666666,
              "#ed7953"
             ],
             [
              0.7777777777777778,
              "#fb9f3a"
             ],
             [
              0.8888888888888888,
              "#fdca26"
             ],
             [
              1,
              "#f0f921"
             ]
            ],
            "type": "histogram2d"
           }
          ],
          "histogram2dcontour": [
           {
            "colorbar": {
             "outlinewidth": 0,
             "ticks": ""
            },
            "colorscale": [
             [
              0,
              "#0d0887"
             ],
             [
              0.1111111111111111,
              "#46039f"
             ],
             [
              0.2222222222222222,
              "#7201a8"
             ],
             [
              0.3333333333333333,
              "#9c179e"
             ],
             [
              0.4444444444444444,
              "#bd3786"
             ],
             [
              0.5555555555555556,
              "#d8576b"
             ],
             [
              0.6666666666666666,
              "#ed7953"
             ],
             [
              0.7777777777777778,
              "#fb9f3a"
             ],
             [
              0.8888888888888888,
              "#fdca26"
             ],
             [
              1,
              "#f0f921"
             ]
            ],
            "type": "histogram2dcontour"
           }
          ],
          "mesh3d": [
           {
            "colorbar": {
             "outlinewidth": 0,
             "ticks": ""
            },
            "type": "mesh3d"
           }
          ],
          "parcoords": [
           {
            "line": {
             "colorbar": {
              "outlinewidth": 0,
              "ticks": ""
             }
            },
            "type": "parcoords"
           }
          ],
          "pie": [
           {
            "automargin": true,
            "type": "pie"
           }
          ],
          "scatter": [
           {
            "fillpattern": {
             "fillmode": "overlay",
             "size": 10,
             "solidity": 0.2
            },
            "type": "scatter"
           }
          ],
          "scatter3d": [
           {
            "line": {
             "colorbar": {
              "outlinewidth": 0,
              "ticks": ""
             }
            },
            "marker": {
             "colorbar": {
              "outlinewidth": 0,
              "ticks": ""
             }
            },
            "type": "scatter3d"
           }
          ],
          "scattercarpet": [
           {
            "marker": {
             "colorbar": {
              "outlinewidth": 0,
              "ticks": ""
             }
            },
            "type": "scattercarpet"
           }
          ],
          "scattergeo": [
           {
            "marker": {
             "colorbar": {
              "outlinewidth": 0,
              "ticks": ""
             }
            },
            "type": "scattergeo"
           }
          ],
          "scattergl": [
           {
            "marker": {
             "colorbar": {
              "outlinewidth": 0,
              "ticks": ""
             }
            },
            "type": "scattergl"
           }
          ],
          "scattermapbox": [
           {
            "marker": {
             "colorbar": {
              "outlinewidth": 0,
              "ticks": ""
             }
            },
            "type": "scattermapbox"
           }
          ],
          "scatterpolar": [
           {
            "marker": {
             "colorbar": {
              "outlinewidth": 0,
              "ticks": ""
             }
            },
            "type": "scatterpolar"
           }
          ],
          "scatterpolargl": [
           {
            "marker": {
             "colorbar": {
              "outlinewidth": 0,
              "ticks": ""
             }
            },
            "type": "scatterpolargl"
           }
          ],
          "scatterternary": [
           {
            "marker": {
             "colorbar": {
              "outlinewidth": 0,
              "ticks": ""
             }
            },
            "type": "scatterternary"
           }
          ],
          "surface": [
           {
            "colorbar": {
             "outlinewidth": 0,
             "ticks": ""
            },
            "colorscale": [
             [
              0,
              "#0d0887"
             ],
             [
              0.1111111111111111,
              "#46039f"
             ],
             [
              0.2222222222222222,
              "#7201a8"
             ],
             [
              0.3333333333333333,
              "#9c179e"
             ],
             [
              0.4444444444444444,
              "#bd3786"
             ],
             [
              0.5555555555555556,
              "#d8576b"
             ],
             [
              0.6666666666666666,
              "#ed7953"
             ],
             [
              0.7777777777777778,
              "#fb9f3a"
             ],
             [
              0.8888888888888888,
              "#fdca26"
             ],
             [
              1,
              "#f0f921"
             ]
            ],
            "type": "surface"
           }
          ],
          "table": [
           {
            "cells": {
             "fill": {
              "color": "#EBF0F8"
             },
             "line": {
              "color": "white"
             }
            },
            "header": {
             "fill": {
              "color": "#C8D4E3"
             },
             "line": {
              "color": "white"
             }
            },
            "type": "table"
           }
          ]
         },
         "layout": {
          "annotationdefaults": {
           "arrowcolor": "#2a3f5f",
           "arrowhead": 0,
           "arrowwidth": 1
          },
          "autotypenumbers": "strict",
          "coloraxis": {
           "colorbar": {
            "outlinewidth": 0,
            "ticks": ""
           }
          },
          "colorscale": {
           "diverging": [
            [
             0,
             "#8e0152"
            ],
            [
             0.1,
             "#c51b7d"
            ],
            [
             0.2,
             "#de77ae"
            ],
            [
             0.3,
             "#f1b6da"
            ],
            [
             0.4,
             "#fde0ef"
            ],
            [
             0.5,
             "#f7f7f7"
            ],
            [
             0.6,
             "#e6f5d0"
            ],
            [
             0.7,
             "#b8e186"
            ],
            [
             0.8,
             "#7fbc41"
            ],
            [
             0.9,
             "#4d9221"
            ],
            [
             1,
             "#276419"
            ]
           ],
           "sequential": [
            [
             0,
             "#0d0887"
            ],
            [
             0.1111111111111111,
             "#46039f"
            ],
            [
             0.2222222222222222,
             "#7201a8"
            ],
            [
             0.3333333333333333,
             "#9c179e"
            ],
            [
             0.4444444444444444,
             "#bd3786"
            ],
            [
             0.5555555555555556,
             "#d8576b"
            ],
            [
             0.6666666666666666,
             "#ed7953"
            ],
            [
             0.7777777777777778,
             "#fb9f3a"
            ],
            [
             0.8888888888888888,
             "#fdca26"
            ],
            [
             1,
             "#f0f921"
            ]
           ],
           "sequentialminus": [
            [
             0,
             "#0d0887"
            ],
            [
             0.1111111111111111,
             "#46039f"
            ],
            [
             0.2222222222222222,
             "#7201a8"
            ],
            [
             0.3333333333333333,
             "#9c179e"
            ],
            [
             0.4444444444444444,
             "#bd3786"
            ],
            [
             0.5555555555555556,
             "#d8576b"
            ],
            [
             0.6666666666666666,
             "#ed7953"
            ],
            [
             0.7777777777777778,
             "#fb9f3a"
            ],
            [
             0.8888888888888888,
             "#fdca26"
            ],
            [
             1,
             "#f0f921"
            ]
           ]
          },
          "colorway": [
           "#636efa",
           "#EF553B",
           "#00cc96",
           "#ab63fa",
           "#FFA15A",
           "#19d3f3",
           "#FF6692",
           "#B6E880",
           "#FF97FF",
           "#FECB52"
          ],
          "font": {
           "color": "#2a3f5f"
          },
          "geo": {
           "bgcolor": "white",
           "lakecolor": "white",
           "landcolor": "#E5ECF6",
           "showlakes": true,
           "showland": true,
           "subunitcolor": "white"
          },
          "hoverlabel": {
           "align": "left"
          },
          "hovermode": "closest",
          "mapbox": {
           "style": "light"
          },
          "paper_bgcolor": "white",
          "plot_bgcolor": "#E5ECF6",
          "polar": {
           "angularaxis": {
            "gridcolor": "white",
            "linecolor": "white",
            "ticks": ""
           },
           "bgcolor": "#E5ECF6",
           "radialaxis": {
            "gridcolor": "white",
            "linecolor": "white",
            "ticks": ""
           }
          },
          "scene": {
           "xaxis": {
            "backgroundcolor": "#E5ECF6",
            "gridcolor": "white",
            "gridwidth": 2,
            "linecolor": "white",
            "showbackground": true,
            "ticks": "",
            "zerolinecolor": "white"
           },
           "yaxis": {
            "backgroundcolor": "#E5ECF6",
            "gridcolor": "white",
            "gridwidth": 2,
            "linecolor": "white",
            "showbackground": true,
            "ticks": "",
            "zerolinecolor": "white"
           },
           "zaxis": {
            "backgroundcolor": "#E5ECF6",
            "gridcolor": "white",
            "gridwidth": 2,
            "linecolor": "white",
            "showbackground": true,
            "ticks": "",
            "zerolinecolor": "white"
           }
          },
          "shapedefaults": {
           "line": {
            "color": "#2a3f5f"
           }
          },
          "ternary": {
           "aaxis": {
            "gridcolor": "white",
            "linecolor": "white",
            "ticks": ""
           },
           "baxis": {
            "gridcolor": "white",
            "linecolor": "white",
            "ticks": ""
           },
           "bgcolor": "#E5ECF6",
           "caxis": {
            "gridcolor": "white",
            "linecolor": "white",
            "ticks": ""
           }
          },
          "title": {
           "x": 0.05
          },
          "xaxis": {
           "automargin": true,
           "gridcolor": "white",
           "linecolor": "white",
           "ticks": "",
           "title": {
            "standoff": 15
           },
           "zerolinecolor": "white",
           "zerolinewidth": 2
          },
          "yaxis": {
           "automargin": true,
           "gridcolor": "white",
           "linecolor": "white",
           "ticks": "",
           "title": {
            "standoff": 15
           },
           "zerolinecolor": "white",
           "zerolinewidth": 2
          }
         }
        },
        "title": {
         "text": "Total Number of Parts in Last Decade"
        },
        "width": 600,
        "xaxis": {
         "anchor": "y",
         "domain": [
          0,
          1
         ],
         "dtick": "year",
         "title": {
          "text": "year"
         }
        },
        "yaxis": {
         "anchor": "x",
         "domain": [
          0,
          1
         ],
         "title": {
          "text": "num_parts"
         }
        }
       }
      },
      "text/html": [
       "<div>                            <div id=\"2db184bc-5759-4402-a88f-68f395515b9a\" class=\"plotly-graph-div\" style=\"height:800px; width:600px;\"></div>            <script type=\"text/javascript\">                require([\"plotly\"], function(Plotly) {                    window.PLOTLYENV=window.PLOTLYENV || {};                                    if (document.getElementById(\"2db184bc-5759-4402-a88f-68f395515b9a\")) {                    Plotly.newPlot(                        \"2db184bc-5759-4402-a88f-68f395515b9a\",                        [{\"alignmentgroup\":\"True\",\"hovertemplate\":\"year=%{x}<br>num_parts=%{marker.color}<extra></extra>\",\"legendgroup\":\"\",\"marker\":{\"color\":[174125,264835,211981,191812,171589,178360,159135,148887,130956,110135],\"coloraxis\":\"coloraxis\",\"pattern\":{\"shape\":\"\"}},\"name\":\"\",\"offsetgroup\":\"\",\"orientation\":\"v\",\"showlegend\":false,\"text\":[174125.0,264835.0,211981.0,191812.0,171589.0,178360.0,159135.0,148887.0,130956.0,110135.0],\"textposition\":\"auto\",\"x\":[2022,2021,2020,2019,2018,2017,2016,2015,2014,2013],\"xaxis\":\"x\",\"y\":[174125,264835,211981,191812,171589,178360,159135,148887,130956,110135],\"yaxis\":\"y\",\"type\":\"bar\"}],                        {\"template\":{\"data\":{\"histogram2dcontour\":[{\"type\":\"histogram2dcontour\",\"colorbar\":{\"outlinewidth\":0,\"ticks\":\"\"},\"colorscale\":[[0.0,\"#0d0887\"],[0.1111111111111111,\"#46039f\"],[0.2222222222222222,\"#7201a8\"],[0.3333333333333333,\"#9c179e\"],[0.4444444444444444,\"#bd3786\"],[0.5555555555555556,\"#d8576b\"],[0.6666666666666666,\"#ed7953\"],[0.7777777777777778,\"#fb9f3a\"],[0.8888888888888888,\"#fdca26\"],[1.0,\"#f0f921\"]]}],\"choropleth\":[{\"type\":\"choropleth\",\"colorbar\":{\"outlinewidth\":0,\"ticks\":\"\"}}],\"histogram2d\":[{\"type\":\"histogram2d\",\"colorbar\":{\"outlinewidth\":0,\"ticks\":\"\"},\"colorscale\":[[0.0,\"#0d0887\"],[0.1111111111111111,\"#46039f\"],[0.2222222222222222,\"#7201a8\"],[0.3333333333333333,\"#9c179e\"],[0.4444444444444444,\"#bd3786\"],[0.5555555555555556,\"#d8576b\"],[0.6666666666666666,\"#ed7953\"],[0.7777777777777778,\"#fb9f3a\"],[0.8888888888888888,\"#fdca26\"],[1.0,\"#f0f921\"]]}],\"heatmap\":[{\"type\":\"heatmap\",\"colorbar\":{\"outlinewidth\":0,\"ticks\":\"\"},\"colorscale\":[[0.0,\"#0d0887\"],[0.1111111111111111,\"#46039f\"],[0.2222222222222222,\"#7201a8\"],[0.3333333333333333,\"#9c179e\"],[0.4444444444444444,\"#bd3786\"],[0.5555555555555556,\"#d8576b\"],[0.6666666666666666,\"#ed7953\"],[0.7777777777777778,\"#fb9f3a\"],[0.8888888888888888,\"#fdca26\"],[1.0,\"#f0f921\"]]}],\"heatmapgl\":[{\"type\":\"heatmapgl\",\"colorbar\":{\"outlinewidth\":0,\"ticks\":\"\"},\"colorscale\":[[0.0,\"#0d0887\"],[0.1111111111111111,\"#46039f\"],[0.2222222222222222,\"#7201a8\"],[0.3333333333333333,\"#9c179e\"],[0.4444444444444444,\"#bd3786\"],[0.5555555555555556,\"#d8576b\"],[0.6666666666666666,\"#ed7953\"],[0.7777777777777778,\"#fb9f3a\"],[0.8888888888888888,\"#fdca26\"],[1.0,\"#f0f921\"]]}],\"contourcarpet\":[{\"type\":\"contourcarpet\",\"colorbar\":{\"outlinewidth\":0,\"ticks\":\"\"}}],\"contour\":[{\"type\":\"contour\",\"colorbar\":{\"outlinewidth\":0,\"ticks\":\"\"},\"colorscale\":[[0.0,\"#0d0887\"],[0.1111111111111111,\"#46039f\"],[0.2222222222222222,\"#7201a8\"],[0.3333333333333333,\"#9c179e\"],[0.4444444444444444,\"#bd3786\"],[0.5555555555555556,\"#d8576b\"],[0.6666666666666666,\"#ed7953\"],[0.7777777777777778,\"#fb9f3a\"],[0.8888888888888888,\"#fdca26\"],[1.0,\"#f0f921\"]]}],\"surface\":[{\"type\":\"surface\",\"colorbar\":{\"outlinewidth\":0,\"ticks\":\"\"},\"colorscale\":[[0.0,\"#0d0887\"],[0.1111111111111111,\"#46039f\"],[0.2222222222222222,\"#7201a8\"],[0.3333333333333333,\"#9c179e\"],[0.4444444444444444,\"#bd3786\"],[0.5555555555555556,\"#d8576b\"],[0.6666666666666666,\"#ed7953\"],[0.7777777777777778,\"#fb9f3a\"],[0.8888888888888888,\"#fdca26\"],[1.0,\"#f0f921\"]]}],\"mesh3d\":[{\"type\":\"mesh3d\",\"colorbar\":{\"outlinewidth\":0,\"ticks\":\"\"}}],\"scatter\":[{\"fillpattern\":{\"fillmode\":\"overlay\",\"size\":10,\"solidity\":0.2},\"type\":\"scatter\"}],\"parcoords\":[{\"type\":\"parcoords\",\"line\":{\"colorbar\":{\"outlinewidth\":0,\"ticks\":\"\"}}}],\"scatterpolargl\":[{\"type\":\"scatterpolargl\",\"marker\":{\"colorbar\":{\"outlinewidth\":0,\"ticks\":\"\"}}}],\"bar\":[{\"error_x\":{\"color\":\"#2a3f5f\"},\"error_y\":{\"color\":\"#2a3f5f\"},\"marker\":{\"line\":{\"color\":\"#E5ECF6\",\"width\":0.5},\"pattern\":{\"fillmode\":\"overlay\",\"size\":10,\"solidity\":0.2}},\"type\":\"bar\"}],\"scattergeo\":[{\"type\":\"scattergeo\",\"marker\":{\"colorbar\":{\"outlinewidth\":0,\"ticks\":\"\"}}}],\"scatterpolar\":[{\"type\":\"scatterpolar\",\"marker\":{\"colorbar\":{\"outlinewidth\":0,\"ticks\":\"\"}}}],\"histogram\":[{\"marker\":{\"pattern\":{\"fillmode\":\"overlay\",\"size\":10,\"solidity\":0.2}},\"type\":\"histogram\"}],\"scattergl\":[{\"type\":\"scattergl\",\"marker\":{\"colorbar\":{\"outlinewidth\":0,\"ticks\":\"\"}}}],\"scatter3d\":[{\"type\":\"scatter3d\",\"line\":{\"colorbar\":{\"outlinewidth\":0,\"ticks\":\"\"}},\"marker\":{\"colorbar\":{\"outlinewidth\":0,\"ticks\":\"\"}}}],\"scattermapbox\":[{\"type\":\"scattermapbox\",\"marker\":{\"colorbar\":{\"outlinewidth\":0,\"ticks\":\"\"}}}],\"scatterternary\":[{\"type\":\"scatterternary\",\"marker\":{\"colorbar\":{\"outlinewidth\":0,\"ticks\":\"\"}}}],\"scattercarpet\":[{\"type\":\"scattercarpet\",\"marker\":{\"colorbar\":{\"outlinewidth\":0,\"ticks\":\"\"}}}],\"carpet\":[{\"aaxis\":{\"endlinecolor\":\"#2a3f5f\",\"gridcolor\":\"white\",\"linecolor\":\"white\",\"minorgridcolor\":\"white\",\"startlinecolor\":\"#2a3f5f\"},\"baxis\":{\"endlinecolor\":\"#2a3f5f\",\"gridcolor\":\"white\",\"linecolor\":\"white\",\"minorgridcolor\":\"white\",\"startlinecolor\":\"#2a3f5f\"},\"type\":\"carpet\"}],\"table\":[{\"cells\":{\"fill\":{\"color\":\"#EBF0F8\"},\"line\":{\"color\":\"white\"}},\"header\":{\"fill\":{\"color\":\"#C8D4E3\"},\"line\":{\"color\":\"white\"}},\"type\":\"table\"}],\"barpolar\":[{\"marker\":{\"line\":{\"color\":\"#E5ECF6\",\"width\":0.5},\"pattern\":{\"fillmode\":\"overlay\",\"size\":10,\"solidity\":0.2}},\"type\":\"barpolar\"}],\"pie\":[{\"automargin\":true,\"type\":\"pie\"}]},\"layout\":{\"autotypenumbers\":\"strict\",\"colorway\":[\"#636efa\",\"#EF553B\",\"#00cc96\",\"#ab63fa\",\"#FFA15A\",\"#19d3f3\",\"#FF6692\",\"#B6E880\",\"#FF97FF\",\"#FECB52\"],\"font\":{\"color\":\"#2a3f5f\"},\"hovermode\":\"closest\",\"hoverlabel\":{\"align\":\"left\"},\"paper_bgcolor\":\"white\",\"plot_bgcolor\":\"#E5ECF6\",\"polar\":{\"bgcolor\":\"#E5ECF6\",\"angularaxis\":{\"gridcolor\":\"white\",\"linecolor\":\"white\",\"ticks\":\"\"},\"radialaxis\":{\"gridcolor\":\"white\",\"linecolor\":\"white\",\"ticks\":\"\"}},\"ternary\":{\"bgcolor\":\"#E5ECF6\",\"aaxis\":{\"gridcolor\":\"white\",\"linecolor\":\"white\",\"ticks\":\"\"},\"baxis\":{\"gridcolor\":\"white\",\"linecolor\":\"white\",\"ticks\":\"\"},\"caxis\":{\"gridcolor\":\"white\",\"linecolor\":\"white\",\"ticks\":\"\"}},\"coloraxis\":{\"colorbar\":{\"outlinewidth\":0,\"ticks\":\"\"}},\"colorscale\":{\"sequential\":[[0.0,\"#0d0887\"],[0.1111111111111111,\"#46039f\"],[0.2222222222222222,\"#7201a8\"],[0.3333333333333333,\"#9c179e\"],[0.4444444444444444,\"#bd3786\"],[0.5555555555555556,\"#d8576b\"],[0.6666666666666666,\"#ed7953\"],[0.7777777777777778,\"#fb9f3a\"],[0.8888888888888888,\"#fdca26\"],[1.0,\"#f0f921\"]],\"sequentialminus\":[[0.0,\"#0d0887\"],[0.1111111111111111,\"#46039f\"],[0.2222222222222222,\"#7201a8\"],[0.3333333333333333,\"#9c179e\"],[0.4444444444444444,\"#bd3786\"],[0.5555555555555556,\"#d8576b\"],[0.6666666666666666,\"#ed7953\"],[0.7777777777777778,\"#fb9f3a\"],[0.8888888888888888,\"#fdca26\"],[1.0,\"#f0f921\"]],\"diverging\":[[0,\"#8e0152\"],[0.1,\"#c51b7d\"],[0.2,\"#de77ae\"],[0.3,\"#f1b6da\"],[0.4,\"#fde0ef\"],[0.5,\"#f7f7f7\"],[0.6,\"#e6f5d0\"],[0.7,\"#b8e186\"],[0.8,\"#7fbc41\"],[0.9,\"#4d9221\"],[1,\"#276419\"]]},\"xaxis\":{\"gridcolor\":\"white\",\"linecolor\":\"white\",\"ticks\":\"\",\"title\":{\"standoff\":15},\"zerolinecolor\":\"white\",\"automargin\":true,\"zerolinewidth\":2},\"yaxis\":{\"gridcolor\":\"white\",\"linecolor\":\"white\",\"ticks\":\"\",\"title\":{\"standoff\":15},\"zerolinecolor\":\"white\",\"automargin\":true,\"zerolinewidth\":2},\"scene\":{\"xaxis\":{\"backgroundcolor\":\"#E5ECF6\",\"gridcolor\":\"white\",\"linecolor\":\"white\",\"showbackground\":true,\"ticks\":\"\",\"zerolinecolor\":\"white\",\"gridwidth\":2},\"yaxis\":{\"backgroundcolor\":\"#E5ECF6\",\"gridcolor\":\"white\",\"linecolor\":\"white\",\"showbackground\":true,\"ticks\":\"\",\"zerolinecolor\":\"white\",\"gridwidth\":2},\"zaxis\":{\"backgroundcolor\":\"#E5ECF6\",\"gridcolor\":\"white\",\"linecolor\":\"white\",\"showbackground\":true,\"ticks\":\"\",\"zerolinecolor\":\"white\",\"gridwidth\":2}},\"shapedefaults\":{\"line\":{\"color\":\"#2a3f5f\"}},\"annotationdefaults\":{\"arrowcolor\":\"#2a3f5f\",\"arrowhead\":0,\"arrowwidth\":1},\"geo\":{\"bgcolor\":\"white\",\"landcolor\":\"#E5ECF6\",\"subunitcolor\":\"white\",\"showland\":true,\"showlakes\":true,\"lakecolor\":\"white\"},\"title\":{\"x\":0.05},\"mapbox\":{\"style\":\"light\"}}},\"xaxis\":{\"anchor\":\"y\",\"domain\":[0.0,1.0],\"title\":{\"text\":\"year\"},\"dtick\":\"year\"},\"yaxis\":{\"anchor\":\"x\",\"domain\":[0.0,1.0],\"title\":{\"text\":\"num_parts\"}},\"coloraxis\":{\"colorbar\":{\"title\":{\"text\":\"num_parts\"}},\"colorscale\":[[0.0,\"#fde725\"],[0.1111111111111111,\"#b5de2b\"],[0.2222222222222222,\"#6ece58\"],[0.3333333333333333,\"#35b779\"],[0.4444444444444444,\"#1f9e89\"],[0.5555555555555556,\"#26828e\"],[0.6666666666666666,\"#31688e\"],[0.7777777777777778,\"#3e4989\"],[0.8888888888888888,\"#482878\"],[1.0,\"#440154\"]],\"showscale\":false},\"legend\":{\"tracegroupgap\":0},\"title\":{\"text\":\"Total Number of Parts in Last Decade\"},\"barmode\":\"relative\",\"height\":800,\"width\":600},                        {\"responsive\": true}                    ).then(function(){\n",
       "                            \n",
       "var gd = document.getElementById('2db184bc-5759-4402-a88f-68f395515b9a');\n",
       "var x = new MutationObserver(function (mutations, observer) {{\n",
       "        var display = window.getComputedStyle(gd).display;\n",
       "        if (!display || display === 'none') {{\n",
       "            console.log([gd, 'removed!']);\n",
       "            Plotly.purge(gd);\n",
       "            observer.disconnect();\n",
       "        }}\n",
       "}});\n",
       "\n",
       "// Listen for the removal of the full notebook cells\n",
       "var notebookContainer = gd.closest('#notebook-container');\n",
       "if (notebookContainer) {{\n",
       "    x.observe(notebookContainer, {childList: true});\n",
       "}}\n",
       "\n",
       "// Listen for the clearing of the current output cell\n",
       "var outputEl = gd.closest('.output');\n",
       "if (outputEl) {{\n",
       "    x.observe(outputEl, {childList: true});\n",
       "}}\n",
       "\n",
       "                        })                };                });            </script>        </div>"
      ]
     },
     "metadata": {},
     "output_type": "display_data"
    }
   ],
   "source": [
    "fig = px.bar(no_parts_per_year.head(10), x='year', y='num_parts', title=\"Total Number of Parts in Last Decade\", text=\"num_parts\" ,width=600, height=800, color = 'num_parts', color_continuous_scale=px.colors.sequential.Viridis_r)\n",
    "fig.update_coloraxes(showscale=False)\n",
    "fig.update_xaxes(dtick = \"year\")\n",
    "fig.show()"
   ]
  },
  {
   "cell_type": "markdown",
   "id": "a70b8acc",
   "metadata": {},
   "source": [
    "#### 3. How many sets where created in each decade?"
   ]
  },
  {
   "cell_type": "code",
   "execution_count": 40,
   "id": "c954fa11",
   "metadata": {},
   "outputs": [
    {
     "data": {
      "text/html": [
       "<div>\n",
       "<style scoped>\n",
       "    .dataframe tbody tr th:only-of-type {\n",
       "        vertical-align: middle;\n",
       "    }\n",
       "\n",
       "    .dataframe tbody tr th {\n",
       "        vertical-align: top;\n",
       "    }\n",
       "\n",
       "    .dataframe thead th {\n",
       "        text-align: right;\n",
       "    }\n",
       "</style>\n",
       "<table border=\"1\" class=\"dataframe\">\n",
       "  <thead>\n",
       "    <tr style=\"text-align: right;\">\n",
       "      <th></th>\n",
       "      <th>set_num</th>\n",
       "      <th>name_sets</th>\n",
       "      <th>year</th>\n",
       "      <th>theme_id</th>\n",
       "      <th>num_parts</th>\n",
       "      <th>id</th>\n",
       "      <th>name_themes</th>\n",
       "      <th>parent_id</th>\n",
       "      <th>decade</th>\n",
       "    </tr>\n",
       "  </thead>\n",
       "  <tbody>\n",
       "    <tr>\n",
       "      <th>0</th>\n",
       "      <td>001-1</td>\n",
       "      <td>Gears</td>\n",
       "      <td>1965</td>\n",
       "      <td>1</td>\n",
       "      <td>43</td>\n",
       "      <td>1</td>\n",
       "      <td>Technic</td>\n",
       "      <td>NaN</td>\n",
       "      <td>60's</td>\n",
       "    </tr>\n",
       "    <tr>\n",
       "      <th>1</th>\n",
       "      <td>0011-2</td>\n",
       "      <td>Town Mini-Figures</td>\n",
       "      <td>1979</td>\n",
       "      <td>67</td>\n",
       "      <td>12</td>\n",
       "      <td>67</td>\n",
       "      <td>Classic Town</td>\n",
       "      <td>50.0</td>\n",
       "      <td>70's</td>\n",
       "    </tr>\n",
       "    <tr>\n",
       "      <th>2</th>\n",
       "      <td>0011-3</td>\n",
       "      <td>Castle 2 for 1 Bonus Offer</td>\n",
       "      <td>1987</td>\n",
       "      <td>199</td>\n",
       "      <td>0</td>\n",
       "      <td>199</td>\n",
       "      <td>Lion Knights</td>\n",
       "      <td>186.0</td>\n",
       "      <td>80's</td>\n",
       "    </tr>\n",
       "    <tr>\n",
       "      <th>3</th>\n",
       "      <td>0012-1</td>\n",
       "      <td>Space Mini-Figures</td>\n",
       "      <td>1979</td>\n",
       "      <td>143</td>\n",
       "      <td>12</td>\n",
       "      <td>143</td>\n",
       "      <td>Supplemental</td>\n",
       "      <td>126.0</td>\n",
       "      <td>70's</td>\n",
       "    </tr>\n",
       "    <tr>\n",
       "      <th>4</th>\n",
       "      <td>0013-1</td>\n",
       "      <td>Space Mini-Figures</td>\n",
       "      <td>1979</td>\n",
       "      <td>143</td>\n",
       "      <td>12</td>\n",
       "      <td>143</td>\n",
       "      <td>Supplemental</td>\n",
       "      <td>126.0</td>\n",
       "      <td>70's</td>\n",
       "    </tr>\n",
       "  </tbody>\n",
       "</table>\n",
       "</div>"
      ],
      "text/plain": [
       "  set_num                   name_sets  year  theme_id  num_parts   id  \\\n",
       "0   001-1                       Gears  1965         1         43    1   \n",
       "1  0011-2           Town Mini-Figures  1979        67         12   67   \n",
       "2  0011-3  Castle 2 for 1 Bonus Offer  1987       199          0  199   \n",
       "3  0012-1          Space Mini-Figures  1979       143         12  143   \n",
       "4  0013-1          Space Mini-Figures  1979       143         12  143   \n",
       "\n",
       "    name_themes  parent_id decade  \n",
       "0       Technic        NaN   60's  \n",
       "1  Classic Town       50.0   70's  \n",
       "2  Lion Knights      186.0   80's  \n",
       "3  Supplemental      126.0   70's  \n",
       "4  Supplemental      126.0   70's  "
      ]
     },
     "execution_count": 40,
     "metadata": {},
     "output_type": "execute_result"
    }
   ],
   "source": [
    "# Add decade as a derived column to the set_themes\n",
    "sets_themes['decade'] = np.where(sets_themes['year'] > 2020 , \"22's\",\n",
    "                                 np.where(sets_themes['year'] > 2010 , \"21's\",\n",
    "                                 np.where(sets_themes['year'] > 2000, \"20's\",\n",
    "                                 np.where(sets_themes['year'] > 1990, \"90's\",\n",
    "                                 np.where(sets_themes['year'] > 1980, \"80's\",\n",
    "                                 np.where(sets_themes['year'] > 1970, \"70's\",\n",
    "                                 np.where(sets_themes['year'] > 1960, \"60's\",\n",
    "                                 np.where(sets_themes['year'] > 1950, \"50's\",\"40's\"\n",
    "                                 ))))))))\n",
    "sets_themes.head()"
   ]
  },
  {
   "cell_type": "code",
   "execution_count": 41,
   "id": "5b7b607a",
   "metadata": {
    "scrolled": true
   },
   "outputs": [
    {
     "data": {
      "text/html": [
       "<div>\n",
       "<style scoped>\n",
       "    .dataframe tbody tr th:only-of-type {\n",
       "        vertical-align: middle;\n",
       "    }\n",
       "\n",
       "    .dataframe tbody tr th {\n",
       "        vertical-align: top;\n",
       "    }\n",
       "\n",
       "    .dataframe thead th {\n",
       "        text-align: right;\n",
       "    }\n",
       "</style>\n",
       "<table border=\"1\" class=\"dataframe\">\n",
       "  <thead>\n",
       "    <tr style=\"text-align: right;\">\n",
       "      <th></th>\n",
       "      <th>decade</th>\n",
       "      <th>sets_created</th>\n",
       "    </tr>\n",
       "  </thead>\n",
       "  <tbody>\n",
       "    <tr>\n",
       "      <th>0</th>\n",
       "      <td>20's</td>\n",
       "      <td>4652</td>\n",
       "    </tr>\n",
       "    <tr>\n",
       "      <th>1</th>\n",
       "      <td>21's</td>\n",
       "      <td>8346</td>\n",
       "    </tr>\n",
       "    <tr>\n",
       "      <th>2</th>\n",
       "      <td>22's</td>\n",
       "      <td>1669</td>\n",
       "    </tr>\n",
       "    <tr>\n",
       "      <th>3</th>\n",
       "      <td>40's</td>\n",
       "      <td>11</td>\n",
       "    </tr>\n",
       "    <tr>\n",
       "      <th>4</th>\n",
       "      <td>50's</td>\n",
       "      <td>146</td>\n",
       "    </tr>\n",
       "    <tr>\n",
       "      <th>5</th>\n",
       "      <td>60's</td>\n",
       "      <td>408</td>\n",
       "    </tr>\n",
       "    <tr>\n",
       "      <th>6</th>\n",
       "      <td>70's</td>\n",
       "      <td>691</td>\n",
       "    </tr>\n",
       "    <tr>\n",
       "      <th>7</th>\n",
       "      <td>80's</td>\n",
       "      <td>1238</td>\n",
       "    </tr>\n",
       "    <tr>\n",
       "      <th>8</th>\n",
       "      <td>90's</td>\n",
       "      <td>2373</td>\n",
       "    </tr>\n",
       "  </tbody>\n",
       "</table>\n",
       "</div>"
      ],
      "text/plain": [
       "  decade  sets_created\n",
       "0   20's          4652\n",
       "1   21's          8346\n",
       "2   22's          1669\n",
       "3   40's            11\n",
       "4   50's           146\n",
       "5   60's           408\n",
       "6   70's           691\n",
       "7   80's          1238\n",
       "8   90's          2373"
      ]
     },
     "execution_count": 41,
     "metadata": {},
     "output_type": "execute_result"
    }
   ],
   "source": [
    "decade_sets = sets_themes['name_themes'].groupby(sets_themes['decade']).count().reset_index().rename(columns = {'name_themes':'sets_created'})\n",
    "decade_sets"
   ]
  },
  {
   "cell_type": "code",
   "execution_count": 42,
   "id": "237346cb",
   "metadata": {},
   "outputs": [
    {
     "data": {
      "application/vnd.plotly.v1+json": {
       "config": {
        "plotlyServerURL": "https://plot.ly"
       },
       "data": [
        {
         "branchvalues": "total",
         "customdata": [
          [
           "(?)",
           1969.250095213914
          ],
          [
           "(?)",
           1978.0458155161882
          ],
          [
           "(?)",
           1983.75152278933
          ],
          [
           "(?)",
           2003.5653400460048
          ],
          [
           "(?)",
           1967.711460018991
          ],
          [
           "(?)",
           1976.1752712192833
          ],
          [
           "(?)",
           1984.1433508531932
          ],
          [
           "(?)",
           2001.767571978086
          ],
          [
           "(?)",
           1994.3048438048438
          ],
          [
           "(?)",
           2001
          ],
          [
           "(?)",
           2000
          ],
          [
           "(?)",
           2016.5001239771882
          ],
          [
           "76196-1",
           2021
          ],
          [
           "(?)",
           1999.5001250312578
          ],
          [
           "9377-1",
           1998
          ],
          [
           "(?)",
           2008.384733233751
          ],
          [
           "(?)",
           2006.8131124979238
          ],
          [
           "(?)",
           2015.6913274007009
          ],
          [
           "(?)",
           1970
          ],
          [
           "(?)",
           1975.3705104977087
          ],
          [
           "(?)",
           1986.625495501164
          ],
          [
           "(?)",
           1994.0013373453694
          ],
          [
           "(?)",
           2011
          ],
          [
           "(?)",
           2001
          ],
          [
           "(?)",
           2016
          ],
          [
           "(?)",
           1995.5001252818843
          ],
          [
           "(?)",
           1997
          ],
          [
           "(?)",
           2007
          ],
          [
           "(?)",
           1996.5011269722013
          ],
          [
           "6104-1",
           1996
          ],
          [
           "(?)",
           2008.800278773397
          ],
          [
           "(?)",
           2014.8166082451842
          ],
          [
           "(?)",
           2021.6667765869745
          ],
          [
           "(?)",
           2015.8019644806031
          ],
          [
           "(?)",
           1999.6366612111292
          ],
          [
           "(?)",
           2010
          ],
          [
           "(?)",
           2011
          ],
          [
           "75574-1",
           2022
          ],
          [
           "(?)",
           2006
          ],
          [
           "(?)",
           2016.9695128612364
          ],
          [
           "(?)",
           2021.2667634156799
          ],
          [
           "(?)",
           1987.2427413438745
          ],
          [
           "(?)",
           1994.2354484088717
          ],
          [
           "(?)",
           1987.0701872106288
          ],
          [
           "(?)",
           1996.5096356754004
          ],
          [
           "(?)",
           2004.8957774452579
          ],
          [
           "(?)",
           2013.377041038058
          ],
          [
           "(?)",
           1956.7526510795963
          ],
          [
           "(?)",
           1967.424139346666
          ],
          [
           "(?)",
           1975.6430350914657
          ],
          [
           "(?)",
           1985.058137160129
          ],
          [
           "(?)",
           1996.3083637668258
          ],
          [
           "(?)",
           2003.0465569887729
          ],
          [
           "(?)",
           2006.8575597949887
          ],
          [
           "(?)",
           2016.0837315865306
          ],
          [
           "(?)",
           2021.2106085462074
          ],
          [
           "(?)",
           2003.980857230828
          ],
          [
           "(?)",
           1997.476701836068
          ],
          [
           "(?)",
           2010
          ],
          [
           "(?)",
           2004.6500053771174
          ],
          [
           "(?)",
           2015.4187715634123
          ],
          [
           "10039-1",
           2002
          ],
          [
           "(?)",
           1985.500797448166
          ],
          [
           "(?)",
           1989.5003769791406
          ],
          [
           "(?)",
           1993.0015052684396
          ],
          [
           "(?)",
           1987.8576356449873
          ],
          [
           "(?)",
           1991.5002690003946
          ],
          [
           "(?)",
           1975.4467067889082
          ],
          [
           "(?)",
           1984.5741433918802
          ],
          [
           "(?)",
           1993.5031351893654
          ],
          [
           "(?)",
           2003.9712988748129
          ],
          [
           "(?)",
           2008.5021160069705
          ],
          [
           "(?)",
           2016.3687913226881
          ],
          [
           "(?)",
           2021.2248052965995
          ],
          [
           "(?)",
           1957.0023846022825
          ],
          [
           "(?)",
           1964.3599505472528
          ],
          [
           "(?)",
           1976.337493675156
          ],
          [
           "(?)",
           1984.172784544309
          ],
          [
           "(?)",
           1999.0007503751876
          ],
          [
           "(?)",
           2020
          ],
          [
           "(?)",
           2021.5001236705416
          ],
          [
           "(?)",
           2019
          ],
          [
           "(?)",
           2021
          ],
          [
           "(?)",
           2018.12051810596
          ],
          [
           "(?)",
           2021.4334548092938
          ],
          [
           "(?)",
           2014.500124100273
          ],
          [
           "7796-1",
           2008
          ],
          [
           "(?)",
           2018
          ],
          [
           "(?)",
           1966.8027252389668
          ],
          [
           "(?)",
           1973.4466527785598
          ],
          [
           "(?)",
           1976.15726552493
          ],
          [
           "(?)",
           2002.5201499409834
          ],
          [
           "(?)",
           1999.8982090923007
          ],
          [
           "(?)",
           2007.800079689212
          ],
          [
           "(?)",
           2015.0019851116626
          ],
          [
           "(?)",
           2010
          ],
          [
           "(?)",
           2012.826816295517
          ],
          [
           "(?)",
           2005.5651780984138
          ],
          [
           "(?)",
           2013.3751164090147
          ],
          [
           "WEETABIX1-1",
           1970
          ],
          [
           "0016-1",
           1979
          ],
          [
           "(?)",
           1994.8913334075971
          ],
          [
           "(?)",
           2019.4446767537827
          ],
          [
           "(?)",
           2021
          ],
          [
           "(?)",
           2005.697067321214
          ],
          [
           "(?)",
           2015.6864583483125
          ],
          [
           "(?)",
           2021
          ],
          [
           "(?)",
           1977.5001264222503
          ],
          [
           "(?)",
           1988.0010060362174
          ],
          [
           "(?)",
           1995.620360020044
          ],
          [
           "(?)",
           2017
          ],
          [
           "(?)",
           2007.6263308635826
          ],
          [
           "(?)",
           2016.7793785725337
          ],
          [
           "(?)",
           2021.5223456471197
          ],
          [
           "6472-1",
           2001
          ],
          [
           "(?)",
           1999.476315225416
          ],
          [
           "(?)",
           2017.4300854458763
          ],
          [
           "(?)",
           2021.6471717877096
          ],
          [
           "700K-1",
           1960
          ],
          [
           "(?)",
           1963.0020376974019
          ],
          [
           "(?)",
           1998.638455970022
          ],
          [
           "(?)",
           1978.6667789757412
          ],
          [
           "(?)",
           1981.5003785011354
          ],
          [
           "(?)",
           1979.2084166649124
          ],
          [
           "(?)",
           1984.6631241133928
          ],
          [
           "(?)",
           1978.7574812472476
          ],
          [
           "(?)",
           1986.0937822555877
          ],
          [
           "(?)",
           1993.7766004040745
          ],
          [
           "(?)",
           2004.2121414902733
          ],
          [
           "(?)",
           2008.000083001328
          ],
          [
           "(?)",
           2015.0019851116626
          ],
          [
           "369-1",
           1976
          ],
          [
           "(?)",
           2009.0001422171656
          ],
          [
           "(?)",
           2015.4718815412048
          ],
          [
           "71034-0",
           2022
          ],
          [
           "8241-1",
           2001
          ],
          [
           "(?)",
           1998.4708895037381
          ],
          [
           "(?)",
           2012.9586429591604
          ],
          [
           "(?)",
           2007.3214634437957
          ],
          [
           "(?)",
           2015.4411883275964
          ],
          [
           "(?)",
           2021.6667765869745
          ],
          [
           "(?)",
           1970
          ],
          [
           "(?)",
           1973.1517877505512
          ],
          [
           "(?)",
           2002
          ],
          [
           "(?)",
           1995.4003207376968
          ],
          [
           "(?)",
           2006.2788810992638
          ],
          [
           "(?)",
           2014.2409497341093
          ],
          [
           "(?)",
           2021.379426816786
          ],
          [
           "03093-1",
           1999
          ],
          [
           "(?)",
           2008.205924412666
          ],
          [
           "(?)",
           2015.7535807034753
          ],
          [
           "(?)",
           2021.4286925795052
          ],
          [
           "(?)",
           2006.2896610652235
          ],
          [
           "(?)",
           2015.7076289872116
          ],
          [
           "(?)",
           1990
          ],
          [
           "(?)",
           1993.2538567665872
          ],
          [
           "(?)",
           2015.6271007751939
          ],
          [
           "(?)",
           2016.251084934904
          ],
          [
           "(?)",
           2016.8334021981655
          ],
          [
           "(?)",
           2020
          ],
          [
           "(?)",
           2016
          ],
          [
           "(?)",
           2020
          ],
          [
           "(?)",
           2021.3907427590846
          ],
          [
           "(?)",
           1996
          ],
          [
           "1024601-1",
           2001
          ],
          [
           "(?)",
           1998.1600672618808
          ],
          [
           "(?)",
           2003.778085837862
          ],
          [
           "(?)",
           2015.7061458546123
          ],
          [
           "(?)",
           2008
          ],
          [
           "(?)",
           2012
          ],
          [
           "(?)",
           1997.4618169214773
          ],
          [
           "(?)",
           2005.1667359321752
          ],
          [
           "(?)",
           2005.2858160575622
          ],
          [
           "(?)",
           2000
          ],
          [
           "(?)",
           2001
          ],
          [
           "(?)",
           2003
          ],
          [
           "(?)",
           2017.2868068833652
          ],
          [
           "(?)",
           2021.3158963676606
          ],
          [
           "(?)",
           2013.250093132994
          ],
          [
           "(?)",
           2017.213543976831
          ],
          [
           "(?)",
           2021.2381849879848
          ],
          [
           "(?)",
           2016
          ],
          [
           "(?)",
           2019
          ],
          [
           "(?)",
           2016.6174092157462
          ],
          [
           "(?)",
           2021
          ],
          [
           "(?)",
           2000
          ],
          [
           "(?)",
           1997.0833715835593
          ],
          [
           "(?)",
           2015.2500930405656
          ],
          [
           "(?)",
           2001
          ],
          [
           "(?)",
           2004
          ],
          [
           "(?)",
           2004.7928644561707
          ],
          [
           "(?)",
           2016.0910657256977
          ],
          [
           "(?)",
           2021.6177638757547
          ],
          [
           "(?)",
           1977.0044511886697
          ],
          [
           "(?)",
           1985.5018527179193
          ],
          [
           "(?)",
           1994.7695732948011
          ],
          [
           "(?)",
           2005.5485245455782
          ],
          [
           "(?)",
           2015.3773668494873
          ],
          [
           "(?)",
           1977.3351314902225
          ],
          [
           "(?)",
           1986.3415668716125
          ],
          [
           "(?)",
           1996.141619190245
          ],
          [
           "(?)",
           2013
          ],
          [
           "(?)",
           2001.7594356686361
          ],
          [
           "(?)",
           2005.7030961758987
          ],
          [
           "(?)",
           2015.838418079096
          ],
          [
           "(?)",
           2021.6667765869745
          ],
          [
           "(?)",
           1987.5031446540881
          ],
          [
           "(?)",
           1997.3404539385847
          ],
          [
           "(?)",
           2006.2835820895523
          ],
          [
           "(?)",
           2014.8677521880638
          ],
          [
           "(?)",
           2021.06669745349
          ],
          [
           "(?)",
           1985.5001259128683
          ],
          [
           "(?)",
           1996.8922212330292
          ],
          [
           "(?)",
           2016.2862642293703
          ],
          [
           "(?)",
           2006.8726291572575
          ],
          [
           "(?)",
           1978.4067194237787
          ],
          [
           "(?)",
           1981.5716963448922
          ],
          [
           "(?)",
           1996
          ],
          [
           "(?)",
           1998.4763152878384
          ],
          [
           "(?)",
           2005.5041136873597
          ],
          [
           "(?)",
           2017.5034755413938
          ],
          [
           "(?)",
           2021
          ],
          [
           "9782-1",
           2000
          ],
          [
           "(?)",
           1979.2500947328533
          ],
          [
           "(?)",
           1984.5201916008632
          ],
          [
           "(?)",
           2006.5724049551475
          ],
          [
           "(?)",
           2018
          ],
          [
           "(?)",
           2007.866923434491
          ],
          [
           "(?)",
           2009.3751166407465
          ],
          [
           "(?)",
           2018.6667767503302
          ],
          [
           "60287-1",
           2021
          ],
          [
           "(?)",
           2006.28125685348
          ],
          [
           "(?)",
           2012
          ],
          [
           "(?)",
           1977
          ],
          [
           "(?)",
           1984.1706005879882
          ],
          [
           "(?)",
           1994.432991906024
          ],
          [
           "(?)",
           2007.3455125710282
          ],
          [
           "(?)",
           2015.6636970106401
          ],
          [
           "(?)",
           2021.2858152519614
          ],
          [
           "(?)",
           1969.7500951897448
          ],
          [
           "(?)",
           1973.5569192658484
          ],
          [
           "(?)",
           1989.00057458881
          ],
          [
           "(?)",
           2019
          ],
          [
           "(?)",
           1996.2976996470027
          ],
          [
           "(?)",
           2016.3984476097112
          ],
          [
           "(?)",
           2021.4126198883207
          ],
          [
           "(?)",
           1997.3751173415108
          ],
          [
           "(?)",
           2018.1509550826252
          ],
          [
           "(?)",
           2021.5556776959438
          ],
          [
           "(?)",
           2014
          ],
          [
           "(?)",
           1988.2109275730622
          ],
          [
           "(?)",
           2013
          ],
          [
           "(?)",
           2002
          ],
          [
           "(?)",
           2009.4738082765846
          ],
          [
           "(?)",
           2011.6074034620506
          ],
          [
           "621-2",
           1970
          ],
          [
           "(?)",
           1973.202513683357
          ],
          [
           "(?)",
           2006.4100296610857
          ],
          [
           "(?)",
           2015.9809133042215
          ],
          [
           "(?)",
           2021.1818917824855
          ],
          [
           "710-2",
           1966
          ],
          [
           "(?)",
           1976.002024291498
          ],
          [
           "1955-2",
           1984
          ],
          [
           "(?)",
           1999.1676412791044
          ],
          [
           "(?)",
           1970
          ],
          [
           "(?)",
           1973.833741450646
          ],
          [
           "(?)",
           2016
          ],
          [
           "(?)",
           2003.1818924438394
          ],
          [
           "(?)",
           2015.0919426148155
          ],
          [
           "76217-1",
           2022
          ],
          [
           "(?)",
           1957.750095773209
          ],
          [
           "(?)",
           2005.863756142725
          ],
          [
           "(?)",
           2014.6711449371278
          ],
          [
           "(?)",
           2021
          ],
          [
           "(?)",
           1999.3337779259753
          ],
          [
           "(?)",
           2008.3341078838175
          ],
          [
           "(?)",
           2014.505300854519
          ],
          [
           "952107-1",
           2021
          ],
          [
           "(?)",
           1976.0003373819163
          ],
          [
           "(?)",
           2003.49484797726
          ],
          [
           "(?)",
           2017.449193148648
          ],
          [
           "(?)",
           2021.4001187295933
          ],
          [
           "(?)",
           2018
          ],
          [
           "(?)",
           2020
          ],
          [
           "(?)",
           2010
          ],
          [
           "(?)",
           2013.1005745699006
          ],
          [
           "(?)",
           2010
          ],
          [
           "(?)",
           2012.0275505406676
          ],
          [
           "(?)",
           2019.6251160487714
          ],
          [
           "10021-1",
           2003
          ],
          [
           "(?)",
           1975.8754349338901
          ],
          [
           "(?)",
           2003.4118856069058
          ],
          [
           "(?)",
           1975.1002155876397
          ],
          [
           "5235-2",
           1982
          ],
          [
           "(?)",
           2006.6005182896442
          ],
          [
           "(?)",
           2015.2036522429535
          ],
          [
           "(?)",
           1970
          ],
          [
           "(?)",
           1974.2874095513748
          ],
          [
           "(?)",
           1998
          ],
          [
           "(?)",
           1994.0014589222212
          ],
          [
           "(?)",
           2020
          ],
          [
           "(?)",
           2021.4001187295933
          ],
          [
           "6291-1",
           2001
          ],
          [
           "(?)",
           1996
          ],
          [
           "(?)",
           1989
          ],
          [
           "(?)",
           1992.5013801756588
          ],
          [
           "(?)",
           2008.3685369113446
          ],
          [
           "(?)",
           1998.3685374911113
          ],
          [
           "(?)",
           2003
          ],
          [
           "(?)",
           2015.1289001922958
          ],
          [
           "76194-1",
           2021
          ],
          [
           "(?)",
           2002.2308578892773
          ],
          [
           "6292-1",
           2001
          ],
          [
           "(?)",
           1994
          ],
          [
           "(?)",
           2001.53583855254
          ],
          [
           "(?)",
           2013.7145289443813
          ],
          [
           "(?)",
           1967.3337851575736
          ],
          [
           "(?)",
           2017
          ],
          [
           "(?)",
           1999
          ],
          [
           "(?)",
           2015.6575712004465
          ],
          [
           "(?)",
           2001
          ],
          [
           "(?)",
           2018.0469401085659
          ],
          [
           "(?)",
           2021.633448201949
          ],
          [
           "(?)",
           2018
          ],
          [
           "(?)",
           2016.1257362514725
          ],
          [
           "(?)",
           2007.084258436347
          ],
          [
           "(?)",
           2015.3745838377185
          ],
          [
           "(?)",
           2021.4311558046109
          ],
          [
           "(?)",
           1998.1594890030292
          ],
          [
           "(?)",
           2010
          ],
          [
           "(?)",
           2011.3334438183626
          ],
          [
           "(?)",
           2006
          ],
          [
           "(?)",
           2000
          ],
          [
           "(?)",
           2004.7125813152572
          ],
          [
           "(?)",
           2020
          ],
          [
           "(?)",
           2021.5001236705416
          ],
          [
           "(?)",
           2009.1474433107405
          ],
          [
           "(?)",
           2015.4212481024972
          ],
          [
           "(?)",
           2021.1429177268872
          ],
          [
           "LEGO-Classic-1",
           1965
          ],
          [
           "(?)",
           1996.3387877775922
          ],
          [
           "(?)",
           2008.2870963152652
          ],
          [
           "(?)",
           2015.6465620090482
          ],
          [
           "(?)",
           2021.3751159483024
          ],
          [
           "(?)",
           2016.6248743550225
          ],
          [
           "(?)",
           2021.3847324758353
          ],
          [
           "(?)",
           2019.2778771287865
          ],
          [
           "(?)",
           2021
          ],
          [
           "(?)",
           1995
          ],
          [
           "(?)",
           2006.3361023425819
          ],
          [
           "2000524-1",
           2015
          ],
          [
           "(?)",
           1972
          ],
          [
           "(?)",
           1990
          ],
          [
           "(?)",
           2013.969655822343
          ],
          [
           "102-3",
           1969
          ],
          [
           "(?)",
           2004.6701030927834
          ],
          [
           "(?)",
           2015.5690927132318
          ],
          [
           "(?)",
           2021.5001236705416
          ],
          [
           "(?)",
           2000
          ],
          [
           "(?)",
           2006.4598553282801
          ],
          [
           "(?)",
           2001
          ],
          [
           "78777-1",
           2000
          ],
          [
           "10000-1",
           2001
          ],
          [
           "5004419-1",
           2016
          ],
          [
           "(?)",
           1985.8901695294578
          ],
          [
           "(?)",
           1999.300105036763
          ],
          [
           "(?)",
           2003.4667908957806
          ],
          [
           "(?)",
           2021
          ],
          [
           "(?)",
           1990
          ],
          [
           "(?)",
           1991
          ],
          [
           "(?)",
           2019.0833711667835
          ],
          [
           "(?)",
           2007.5264399758803
          ],
          [
           "(?)",
           2021
          ],
          [
           "(?)",
           2015.7510852040184
          ],
          [
           "(?)",
           2011.9525928380394
          ],
          [
           "(?)",
           2016
          ],
          [
           "(?)",
           2005.0019950124688
          ],
          [
           "(?)",
           2015.1384972819344
          ],
          [
           "88016-1",
           2021
          ],
          [
           "(?)",
           2017.202352079806
          ],
          [
           "(?)",
           2021.6072608426819
          ],
          [
           "10230-1",
           2012
          ],
          [
           "(?)",
           2020
          ],
          [
           "(?)",
           2021
          ],
          [
           "(?)",
           1970
          ],
          [
           "(?)",
           1972.801500405515
          ],
          [
           "(?)",
           2004
          ],
          [
           "(?)",
           2002.058851182606
          ],
          [
           "(?)",
           2014.975538529687
          ],
          [
           "10151-1",
           2004
          ],
          [
           "(?)",
           1987.0015098137897
          ],
          [
           "(?)",
           1995.6395772594751
          ],
          [
           "(?)",
           2008.2006772233842
          ],
          [
           "(?)",
           2015.5040932771024
          ],
          [
           "(?)",
           2021.5001236705416
          ],
          [
           "(?)",
           1963
          ],
          [
           "(?)",
           2020
          ],
          [
           "(?)",
           2021.4783843076525
          ],
          [
           "(?)",
           2012
          ],
          [
           "(?)",
           2009.4075644192133
          ],
          [
           "(?)",
           2015.4959616088495
          ],
          [
           "(?)",
           2004.3351072675869
          ],
          [
           "40179-1",
           2016
          ],
          [
           "(?)",
           2017
          ],
          [
           "(?)",
           2007.4066025796376
          ],
          [
           "(?)",
           2012.2865966207582
          ],
          [
           "(?)",
           1996
          ],
          [
           "(?)",
           2016.6551197549609
          ],
          [
           "(?)",
           1998.774410122333
          ],
          [
           "(?)",
           2015.8961611262273
          ],
          [
           "(?)",
           2021.4126198883207
          ],
          [
           "(?)",
           2017.0344992648818
          ],
          [
           "(?)",
           2016.5032647326225
          ],
          [
           "(?)",
           2003
          ],
          [
           "(?)",
           2007.0625732708088
          ],
          [
           "(?)",
           2016.0677062343057
          ],
          [
           "(?)",
           2021.1667353838543
          ],
          [
           "(?)",
           1957.666780180487
          ],
          [
           "(?)",
           1965.334803256445
          ],
          [
           "(?)",
           1997
          ],
          [
           "(?)",
           2018.7693187014174
          ],
          [
           "(?)",
           1994.4463509749303
          ],
          [
           "(?)",
           2011
          ],
          [
           "(?)",
           2016.5016117034465
          ],
          [
           "(?)",
           2006.6274839593846
          ],
          [
           "(?)",
           2014.0004965243297
          ],
          [
           "(?)",
           1993.0005017561466
          ],
          [
           "(?)",
           2001
          ],
          [
           "(?)",
           1989
          ],
          [
           "(?)",
           1993.9136341510186
          ],
          [
           "(?)",
           2009.0909502262443
          ],
          [
           "(?)",
           2015
          ],
          [
           "(?)",
           2011.3539320913637
          ],
          [
           "(?)",
           2003.4326868225899
          ],
          [
           "10505-1",
           2013
          ],
          [
           "(?)",
           1979.5001262945189
          ],
          [
           "(?)",
           1985.8025984489877
          ],
          [
           "(?)",
           1994.0362916032832
          ],
          [
           "(?)",
           2005.9234191049584
          ],
          [
           "(?)",
           2007.501187214612
          ],
          [
           "(?)",
           2015.6200816700377
          ],
          [
           "(?)",
           2021.222307734594
          ],
          [
           "(?)",
           1974.8016001620417
          ],
          [
           "(?)",
           2008.5334572490706
          ],
          [
           "(?)",
           2012.0004970178927
          ],
          [
           "(?)",
           2009.1739845491334
          ],
          [
           "(?)",
           2019.200178288431
          ],
          [
           "(?)",
           2021
          ],
          [
           "(?)",
           2003.167235210916
          ],
          [
           "(?)",
           1966.7518749205542
          ],
          [
           "(?)",
           1998.4179558817398
          ],
          [
           "(?)",
           2010
          ],
          [
           "(?)",
           2005.8340673036976
          ],
          [
           "(?)",
           2009.1667357942763
          ],
          [
           "(?)",
           2017.1571030883467
          ],
          [
           "(?)",
           2021.2353831378598
          ],
          [
           "LIFECEREAL-1",
           1969
          ],
          [
           "(?)",
           1999.6003200640127
          ],
          [
           "(?)",
           2015
          ],
          [
           "(?)",
           2004.8186187820252
          ],
          [
           "(?)",
           2002.6685252996006
          ],
          [
           "(?)",
           1998.7370444491257
          ],
          [
           "(?)",
           2001
          ],
          [
           "(?)",
           2000
          ],
          [
           "(?)",
           2005.5612578748091
          ],
          [
           "(?)",
           2011.3077982177688
          ],
          [
           "5600-1",
           1998
          ],
          [
           "(?)",
           1986.2409196614801
          ],
          [
           "(?)",
           1998.1818926296633
          ],
          [
           "(?)",
           1997
          ],
          [
           "(?)",
           2001
          ],
          [
           "(?)",
           1999.9629807959407
          ],
          [
           "(?)",
           1999.5295363614969
          ],
          [
           "(?)",
           1995.667112076165
          ],
          [
           "(?)",
           1967.3381904439173
          ],
          [
           "DELMONTE1-1",
           1971
          ],
          [
           "(?)",
           2001
          ],
          [
           "(?)",
           1979.3334456045807
          ],
          [
           "(?)",
           1998.450474117441
          ],
          [
           "(?)",
           2015.1000446627959
          ],
          [
           "3724-1",
           2001
          ],
          [
           "(?)",
           2000
          ],
          [
           "(?)",
           2005.0063175394846
          ],
          [
           "(?)",
           2017.364034423408
          ],
          [
           "(?)",
           2021.6001187178472
          ],
          [
           "(?)",
           2010
          ],
          [
           "(?)",
           2013
          ],
          [
           "(?)",
           2013.0526563480444
          ],
          [
           "(?)",
           2014
          ],
          [
           "(?)",
           2015
          ],
          [
           "(?)",
           2015
          ],
          [
           "(?)",
           2016
          ],
          [
           "(?)",
           2016
          ],
          [
           "(?)",
           2017
          ],
          [
           "(?)",
           2018
          ],
          [
           "(?)",
           2019
          ],
          [
           "(?)",
           2010
          ],
          [
           "(?)",
           2020
          ],
          [
           "(?)",
           2021
          ],
          [
           "(?)",
           2022
          ],
          [
           "(?)",
           2011
          ],
          [
           "(?)",
           2011
          ],
          [
           "(?)",
           2011
          ],
          [
           "(?)",
           2012
          ],
          [
           "(?)",
           2012
          ],
          [
           "(?)",
           2012
          ],
          [
           "(?)",
           2013
          ],
          [
           "(?)",
           2002.559981419115
          ],
          [
           "(?)",
           2013.8503115922238
          ],
          [
           "(?)",
           1977.1502162203171
          ],
          [
           "(?)",
           1986.135699623614
          ],
          [
           "(?)",
           1995.5655856176722
          ],
          [
           "(?)",
           2017.6164169430783
          ],
          [
           "21057-1",
           2022
          ],
          [
           "(?)",
           2002.3777231978386
          ],
          [
           "(?)",
           1998.9307303906742
          ],
          [
           "(?)",
           2015.3334435990737
          ],
          [
           "45003-1",
           2013
          ],
          [
           "(?)",
           1999.0002501250626
          ],
          [
           "(?)",
           2002.3334443149658
          ],
          [
           "(?)",
           2014.500124100273
          ],
          [
           "(?)",
           1974.6674544226873
          ],
          [
           "9355-1",
           1990
          ],
          [
           "(?)",
           1995.5001252818843
          ],
          [
           "(?)",
           1989
          ],
          [
           "(?)",
           1993.3773750548692
          ],
          [
           "(?)",
           2009.294220973125
          ],
          [
           "(?)",
           1999
          ],
          [
           "(?)",
           2017.2969547436373
          ],
          [
           "(?)",
           2021.4616614026409
          ],
          [
           "(?)",
           2008
          ],
          [
           "(?)",
           2001
          ],
          [
           "(?)",
           2000
          ],
          [
           "(?)",
           2013.400119201351
          ],
          [
           "(?)",
           2003.4447895291441
          ],
          [
           "(?)",
           2016.9521999466062
          ],
          [
           "(?)",
           2021.3001038935338
          ],
          [
           "(?)",
           2017.4021017150787
          ],
          [
           "(?)",
           2021.5001236705416
          ],
          [
           "(?)",
           2007.4006177144565
          ],
          [
           "(?)",
           2011.500124285359
          ],
          [
           "(?)",
           2000
          ],
          [
           "(?)",
           2002
          ],
          [
           "(?)",
           1995.0012252854358
          ],
          [
           "(?)",
           2005.8196842065076
          ],
          [
           "(?)",
           2015.875388162492
          ],
          [
           "(?)",
           2021.456005063328
          ],
          [
           "(?)",
           1999.6411407175647
          ],
          [
           "(?)",
           1998
          ],
          [
           "(?)",
           2019
          ],
          [
           "(?)",
           2001.1200527704486
          ],
          [
           "(?)",
           2000
          ],
          [
           "(?)",
           2016.7125307911322
          ],
          [
           "(?)",
           2016.9247902364607
          ],
          [
           "(?)",
           2021.4616614026409
          ],
          [
           "(?)",
           2020
          ],
          [
           "(?)",
           2021.4027163856908
          ],
          [
           "(?)",
           2013.155668488021
          ],
          [
           "(?)",
           2007.525545232062
          ],
          [
           "(?)",
           2015.0032754342433
          ],
          [
           "(?)",
           1949.7500961661751
          ],
          [
           "(?)",
           1956.3835559792785
          ],
          [
           "(?)",
           1965.8786752857766
          ],
          [
           "(?)",
           1975.9904090244956
          ],
          [
           "(?)",
           1986.168966302641
          ],
          [
           "(?)",
           1995.5141746778481
          ],
          [
           "(?)",
           1949
          ],
          [
           "1300-1",
           1955
          ],
          [
           "(?)",
           1964.4402977951704
          ],
          [
           "(?)",
           2012
          ],
          [
           "(?)",
           2004.6669389485762
          ],
          [
           "(?)",
           2015.0296926160154
          ],
          [
           "(?)",
           2021.4445665915462
          ],
          [
           "(?)",
           1965
          ],
          [
           "(?)",
           1978.5008002695645
          ],
          [
           "(?)",
           1985.8039628854492
          ],
          [
           "(?)",
           1995.5148175013787
          ],
          [
           "(?)",
           2013.348068326603
          ],
          [
           "(?)",
           2006.5061051582356
          ],
          [
           "(?)",
           2014.5014478365185
          ],
          [
           "(?)",
           2012.9568447881118
          ],
          [
           "(?)",
           2017.2046261139967
          ],
          [
           "(?)",
           2017
          ],
          [
           "(?)",
           2018
          ],
          [
           "(?)",
           2014.0612530271865
          ],
          [
           "(?)",
           2018.984382618117
          ],
          [
           "(?)",
           2013
          ],
          [
           "(?)",
           2012.2942208190827
          ],
          [
           "(?)",
           2022
          ],
          [
           "(?)",
           2018
          ],
          [
           "(?)",
           2014
          ],
          [
           "(?)",
           2015
          ],
          [
           "(?)",
           2006.6121708795924
          ],
          [
           "(?)",
           1999.3334444814939
          ],
          [
           "(?)",
           1996.444568121104
          ],
          [
           "(?)",
           1993.9242698969947
          ],
          [
           "(?)",
           2005.283046446443
          ],
          [
           "(?)",
           2014.6022112104808
          ],
          [
           "(?)",
           2021
          ],
          [
           "(?)",
           1979.4548544135207
          ],
          [
           "(?)",
           1986.228999748266
          ],
          [
           "(?)",
           1995.8913940397858
          ],
          [
           "(?)",
           2002.3334443149658
          ],
          [
           "(?)",
           1997.8921836530396
          ],
          [
           "10184-1",
           2008
          ],
          [
           "(?)",
           1956.7151200992919
          ],
          [
           "(?)",
           1964.4058236611688
          ],
          [
           "(?)",
           2010
          ],
          [
           "(?)",
           2019
          ],
          [
           "(?)",
           2008.6964502164503
          ],
          [
           "(?)",
           2015.4106880329316
          ],
          [
           "(?)",
           2001.5003747189608
          ],
          [
           "(?)",
           1977.0801990814737
          ],
          [
           "(?)",
           1984.9047307169126
          ],
          [
           "(?)",
           1994.5440626325735
          ],
          [
           "(?)",
           2006.1698651380466
          ],
          [
           "(?)",
           2014.9197237272012
          ],
          [
           "(?)",
           2022
          ],
          [
           "(?)",
           1984.7799921625706
          ],
          [
           "(?)",
           1995.526265333246
          ],
          [
           "(?)",
           2020
          ],
          [
           "7784-1",
           2006
          ],
          [
           "(?)",
           2017.6700809515942
          ],
          [
           "76240-1",
           2021
          ],
          [
           "(?)",
           1997.2633076841994
          ],
          [
           "(?)",
           2005.3375284954407
          ],
          [
           "(?)",
           2015.203387587667
          ],
          [
           "(?)",
           2021.333443271768
          ],
          [
           "(?)",
           2000
          ],
          [
           "(?)",
           2014.6001191303485
          ],
          [
           "(?)",
           2018
          ],
          [
           "(?)",
           1994.7500939967415
          ],
          [
           "(?)",
           1986.2033027892458
          ],
          [
           "(?)",
           1994.6866935803055
          ],
          [
           "(?)",
           2010
          ],
          [
           "(?)",
           2021
          ],
          [
           "40004-1",
           2010
          ],
          [
           "(?)",
           2014.9050076926894
          ],
          [
           "(?)",
           2021.8000791374022
          ],
          [
           "(?)",
           2019
          ],
          [
           "(?)",
           1989.0003351768057
          ],
          [
           "(?)",
           1994.7194012747977
          ],
          [
           "4000030-1",
           2018
          ],
          [
           "(?)",
           1966.6694188861986
          ],
          [
           "(?)",
           1973.245005144586
          ],
          [
           "(?)",
           2005.3751168734027
          ],
          [
           "(?)",
           2010
          ],
          [
           "(?)",
           2011.9633488577583
          ],
          [
           "(?)",
           2009.4169535105545
          ],
          [
           "(?)",
           2015.0881178932832
          ],
          [
           "(?)",
           2002
          ],
          [
           "(?)",
           1976.0002530364372
          ],
          [
           "(?)",
           1997.1074411201917
          ],
          [
           "(?)",
           2002.500124843945
          ],
          [
           "(?)",
           2001
          ],
          [
           "(?)",
           2011
          ],
          [
           "(?)",
           1999.222308675596
          ],
          [
           "(?)",
           1992.3334448720093
          ],
          [
           "(?)",
           2003.6669993900073
          ],
          [
           "(?)",
           2010
          ],
          [
           "(?)",
           2012.6671083140113
          ],
          [
           "(?)",
           2004.5836624402411
          ],
          [
           "(?)",
           2018.765028118535
          ],
          [
           "(?)",
           2021
          ],
          [
           "(?)",
           1998.3685374911113
          ],
          [
           "(?)",
           2001
          ],
          [
           "(?)",
           1999
          ],
          [
           "(?)",
           2005.5339988621315
          ],
          [
           "(?)",
           2015.833361021767
          ],
          [
           "(?)",
           2021.3494234107336
          ],
          [
           "(?)",
           1949.5455817206807
          ],
          [
           "(?)",
           1956.6178264126638
          ],
          [
           "(?)",
           1966.2338006187813
          ],
          [
           "(?)",
           1976.2848602456045
          ],
          [
           "(?)",
           1985.9427839418724
          ],
          [
           "(?)",
           1996.6187098812634
          ]
         ],
         "domain": {
          "x": [
           0,
           1
          ],
          "y": [
           0,
           1
          ]
         },
         "hovertemplate": "labels=%{label}<br>year_sum=%{value}<br>parent=%{parent}<br>id=%{id}<br>set_num=%{customdata[0]}<br>year=%{color}<extra></extra>",
         "ids": [
          "60's/12V",
          "70's/12V",
          "80's/12V",
          "20's/4 Juniors",
          "60's/4.5V",
          "70's/4.5V",
          "80's/4.5V",
          "20's/9V",
          "90's/9V",
          "20's/Action Wheelers",
          "90's/Action Wheelers",
          "21's/Advent",
          "22's/Advent",
          "90's/Advent",
          "90's/Adventurers",
          "20's/Agents",
          "20's/Airport",
          "21's/Airport",
          "60's/Airport",
          "70's/Airport",
          "80's/Airport",
          "90's/Airport",
          "21's/Alien Conquest",
          "20's/Alpha Team",
          "21's/Angry Birds",
          "90's/Aquanauts",
          "90's/Aquaraiders I",
          "20's/Aquaraiders II",
          "90's/Aquasharks",
          "90's/Aquazone",
          "20's/Architecture",
          "21's/Architecture",
          "22's/Architecture",
          "21's/Arctic",
          "90's/Arctic",
          "20's/Atlantis",
          "21's/Atlantis",
          "22's/Avatar",
          "20's/Avatar: The Last Airbender",
          "21's/Avengers",
          "22's/Avengers",
          "80's/Basic",
          "90's/Basic",
          "80's/Basic Model",
          "90's/Basic Model",
          "20's/Basic Set",
          "21's/Basic Set",
          "50's/Basic Set",
          "60's/Basic Set",
          "70's/Basic Set",
          "80's/Basic Set",
          "90's/Basic Set",
          "20's/Basketball",
          "20's/Batman",
          "21's/Batman",
          "22's/Batman",
          "20's/Belville",
          "90's/Belville",
          "20's/Ben 10",
          "20's/Bionicle",
          "21's/Bionicle",
          "20's/Black Falcons",
          "80's/Black Falcons",
          "80's/Black Knights",
          "90's/Black Knights",
          "80's/Blacktron I",
          "90's/Blacktron II",
          "70's/Boat",
          "80's/Boat",
          "90's/Boat",
          "20's/Bob the Builder",
          "20's/Books",
          "21's/Books",
          "22's/Books",
          "50's/Books",
          "60's/Books",
          "70's/Books",
          "80's/Books",
          "90's/Books",
          "21's/Brick Sketches",
          "22's/Brick Sketches",
          "21's/BrickLink Designer Program",
          "22's/BrickLink Designer Program",
          "21's/Brickheadz",
          "22's/Brickheadz",
          "21's/Bricktober",
          "20's/Building",
          "21's/Building",
          "60's/Building",
          "70's/Building",
          "70's/Building Set with People",
          "20's/Bulk Bricks",
          "90's/Bulk Bricks",
          "20's/Cargo",
          "21's/Cargo",
          "20's/Cars",
          "21's/Cars",
          "20's/Castle",
          "21's/Castle",
          "60's/Castle",
          "70's/Castle",
          "90's/Castle",
          "21's/Chinese Traditional Festivals",
          "22's/Chinese Traditional Festivals",
          "20's/Christmas",
          "21's/Christmas",
          "22's/Christmas",
          "70's/Christmas",
          "80's/Christmas",
          "90's/Christmas",
          "21's/Cities of Wonders",
          "20's/City",
          "21's/City",
          "22's/City",
          "20's/City Center",
          "90's/City Center",
          "21's/Classic",
          "22's/Classic",
          "50's/Classic",
          "60's/Classic",
          "90's/Classic Basic",
          "70's/Classic Castle",
          "80's/Classic Castle",
          "70's/Classic Space",
          "80's/Classic Space",
          "70's/Classic Town",
          "80's/Classic Town",
          "90's/Classic Town",
          "20's/Clikits",
          "20's/Coast Guard",
          "21's/Coast Guard",
          "70's/Coast Guard",
          "20's/Collectible Minifigures",
          "21's/Collectible Minifigures",
          "22's/Collectible Minifigures",
          "20's/Competition",
          "90's/Competition",
          "21's/Constraction",
          "20's/Construction",
          "21's/Construction",
          "22's/Construction",
          "60's/Construction",
          "70's/Construction",
          "20's/Control Lab",
          "90's/Control Lab",
          "20's/Creator",
          "21's/Creator",
          "22's/Creator",
          "90's/Creator",
          "20's/Creator 3-in-1",
          "21's/Creator 3-in-1",
          "22's/Creator 3-in-1",
          "20's/Creator Expert",
          "21's/Creator Expert",
          "80's/Crusaders",
          "90's/Crusaders",
          "21's/DC Comics",
          "21's/DC Comics Super Heroes",
          "21's/DC Super Hero Girls",
          "21's/DC Super Heroes",
          "21's/DFB Minifigures",
          "21's/DOTS",
          "22's/DOTS",
          "90's/Dark Forest",
          "20's/Desert",
          "90's/Desert",
          "20's/Designer Sets",
          "21's/Dimensions",
          "20's/Dino",
          "21's/Dino",
          "90's/Dino",
          "20's/Dino 2010",
          "20's/Dino Attack",
          "90's/Dino Island",
          "20's/Dinosaurs",
          "20's/Discovery",
          "21's/Disney",
          "22's/Disney",
          "21's/Disney Planes",
          "21's/Disney Princess",
          "22's/Disney Princess",
          "21's/Disney Series 1",
          "21's/Disney Series 2",
          "21's/Disney's Mickey Mouse",
          "22's/Disney's Mickey Mouse",
          "90's/Disney's Mickey Mouse",
          "90's/Divers",
          "21's/Doc McStuffins",
          "20's/Dolls",
          "20's/Dora the Explorer",
          "20's/Duplo",
          "21's/Duplo",
          "22's/Duplo",
          "70's/Duplo",
          "80's/Duplo",
          "90's/Duplo",
          "20's/Duplo and Explore",
          "21's/Duplo and Explore",
          "70's/Duplo and Explore",
          "80's/Duplo and Explore",
          "90's/Duplo and Explore",
          "21's/EV3",
          "20's/Early Creator",
          "20's/Easter",
          "21's/Easter",
          "22's/Easter",
          "80's/Easter",
          "90's/Easter",
          "20's/Educational and Dacta",
          "21's/Educational and Dacta",
          "22's/Educational and Dacta",
          "80's/Educational and Dacta",
          "90's/Educational and Dacta",
          "21's/Elves",
          "20's/Exo-Force",
          "70's/Expert Builder",
          "80's/Expert Builder",
          "90's/Exploriens",
          "90's/Extreme Team",
          "20's/FIRST LEGO League",
          "21's/FIRST LEGO League",
          "22's/FIRST LEGO League",
          "90's/FIRST LEGO League",
          "70's/Fabuland",
          "80's/Fabuland",
          "20's/Factory",
          "21's/Fantastic Beasts",
          "20's/Fantasy Era",
          "20's/Farm",
          "21's/Farm",
          "22's/Farm",
          "20's/Ferrari",
          "21's/Ferrari",
          "70's/Ferries",
          "80's/Ferries",
          "90's/Ferries",
          "20's/Fire",
          "21's/Fire",
          "22's/Fire",
          "60's/Fire",
          "70's/Fire",
          "80's/Forestmen",
          "21's/Forma",
          "90's/Freestyle",
          "21's/Friends",
          "22's/Friends",
          "90's/Fright Knights",
          "21's/Frozen",
          "22's/Frozen",
          "21's/Fusion",
          "80's/Futuron",
          "21's/Galaxy Squad",
          "20's/Galidor",
          "20's/Games",
          "21's/Games",
          "60's/Gas Station",
          "70's/Gas Station",
          "20's/Gear",
          "21's/Gear",
          "22's/Gear",
          "60's/Gear",
          "70's/Gear",
          "80's/Gear",
          "90's/Gear",
          "60's/Gears",
          "70's/Gears",
          "21's/Ghostbusters",
          "20's/Gravity Games",
          "21's/Guardians of the Galaxy",
          "22's/Guardians of the Galaxy",
          "50's/HO 1:87 Vehicles",
          "20's/Halloween",
          "21's/Halloween",
          "22's/Halloween",
          "90's/Halloween",
          "20's/Harbor",
          "21's/Harbor",
          "22's/Harbor",
          "70's/Harbor",
          "20's/Harry Potter",
          "21's/Harry Potter",
          "22's/Harry Potter",
          "21's/Harry Potter and Fantastic Beasts Series 1",
          "21's/Harry Potter and Fantastic Beasts Series 2",
          "20's/Hero Factory",
          "21's/Hero Factory",
          "20's/Heroes",
          "21's/Heroes",
          "21's/Hidden Side",
          "20's/Hobby Sets",
          "70's/Hobby Sets",
          "20's/Hockey",
          "70's/Homemaker",
          "80's/Homemaker",
          "20's/Hospital",
          "21's/Hospital",
          "60's/Hospital",
          "70's/Hospital",
          "90's/Hydronauts",
          "90's/Ice Planet 2002",
          "21's/Icons",
          "22's/Icons",
          "20's/Imperial Armada",
          "90's/Imperial Armada",
          "80's/Imperial Soldiers",
          "90's/Imperial Soldiers",
          "20's/Indiana Jones",
          "90's/Insectoids",
          "20's/Inventor",
          "21's/Iron Man",
          "22's/Iron Man",
          "20's/Island Xtreme Stunts",
          "20's/Islanders",
          "90's/Islanders",
          "20's/Jack Stone",
          "21's/Jake and the Never Land Pirates",
          "60's/Jumbo Bricks",
          "21's/Jungle",
          "90's/Jungle",
          "21's/Juniors",
          "20's/Jurassic Park III",
          "21's/Jurassic World",
          "22's/Jurassic World",
          "21's/Jurassic World: Fallen Kingdom",
          "21's/Justice League",
          "20's/Key Chain",
          "21's/Key Chain",
          "22's/Key Chain",
          "90's/Key Chain",
          "20's/Kingdoms",
          "21's/Kingdoms",
          "20's/Knights Kingdom I",
          "90's/Knights Kingdom I",
          "20's/Knights Kingdom II",
          "21's/LEGO Art",
          "22's/LEGO Art",
          "20's/LEGO Brand Store",
          "21's/LEGO Brand Store",
          "22's/LEGO Brand Store",
          "60's/LEGO Brand Store",
          "90's/LEGO Brand Store",
          "20's/LEGO Exclusive",
          "21's/LEGO Exclusive",
          "22's/LEGO Exclusive",
          "21's/LEGO Ideas and CUUSOO",
          "22's/LEGO Ideas and CUUSOO",
          "21's/LEGO Originals",
          "22's/LEGO Originals",
          "90's/Launch Command",
          "20's/Learning",
          "21's/Learning",
          "70's/Learning",
          "80's/Learning",
          "21's/Legends of Chima",
          "60's/Legoland",
          "20's/Legoland Parks",
          "21's/Legoland Parks",
          "22's/Legoland Parks",
          "90's/Legoland Parks",
          "20's/Legoville",
          "20's/Life On Mars",
          "90's/Life On Mars",
          "20's/Lion Knights",
          "21's/Lion Knights",
          "80's/Lion Knights",
          "90's/Little Forest Friends",
          "20's/Little Robots",
          "22's/Looney Tunes",
          "80's/M:Tron",
          "90's/M:Tron",
          "21's/Mars Exploration",
          "20's/Mars Mission",
          "22's/Marvel",
          "21's/Marvel Super Heroes",
          "21's/Master Builder Academy",
          "21's/Miles From Tomorrowland",
          "20's/Mindstorms",
          "21's/Mindstorms",
          "22's/Mindstorms",
          "21's/Minecraft",
          "22's/Minecraft",
          "21's/Mini",
          "21's/Minions",
          "22's/Minions",
          "60's/Minitalia",
          "70's/Minitalia",
          "20's/Mission Deep Freeze",
          "20's/Mission Deep Sea",
          "21's/Mixels",
          "20's/Model Team",
          "80's/Model Team",
          "90's/Model Team",
          "20's/Modular Buildings",
          "21's/Modular Buildings",
          "22's/Modular Buildings",
          "60's/Modulex",
          "21's/Monkie Kid",
          "22's/Monkie Kid",
          "21's/Monster Fighters",
          "20's/Monthly Mini Model Build",
          "21's/Monthly Mini Model Build",
          "20's/Mosaic",
          "21's/Mosaic",
          "21's/My Town",
          "20's/NXT",
          "21's/NXT",
          "90's/NXT",
          "21's/Nexo Knights",
          "90's/Ninja",
          "21's/Ninjago",
          "22's/Ninjago",
          "21's/Ninjago The Movie",
          "21's/Off-Road",
          "20's/Orient Expedition",
          "20's/Other",
          "21's/Other",
          "22's/Other",
          "50's/Other",
          "60's/Other",
          "90's/Outback",
          "21's/Overwatch",
          "90's/Paradisa",
          "21's/Pharaoh's Quest",
          "21's/Pick A Model",
          "20's/Pirates",
          "21's/Pirates",
          "90's/Pirates",
          "20's/Pirates I",
          "80's/Pirates I",
          "90's/Pirates I",
          "20's/Pirates II",
          "21's/Pirates III",
          "21's/Pirates of the Caribbean",
          "20's/Playhouse",
          "21's/Playhouse",
          "70's/Playhouse",
          "80's/Playhouse",
          "90's/Playhouse",
          "20's/Playsets",
          "20's/Police",
          "21's/Police",
          "22's/Police",
          "70's/Police",
          "20's/Power Functions",
          "21's/Power Functions",
          "20's/Power Miners",
          "21's/Powered Up",
          "22's/Powered Up",
          "20's/Primo",
          "60's/Primo",
          "90's/Primo",
          "20's/Prince of Persia",
          "20's/Princess Castle",
          "20's/Promotional",
          "21's/Promotional",
          "22's/Promotional",
          "60's/Promotional",
          "90's/Promotional",
          "21's/Protectors",
          "20's/Quatro",
          "20's/RCX",
          "90's/RCX",
          "20's/Race",
          "90's/Race",
          "20's/Racers",
          "21's/Racers",
          "90's/Racers",
          "80's/Rattles",
          "90's/Res-Q",
          "90's/RoboForce",
          "20's/RoboRiders",
          "90's/RoboRiders",
          "90's/Rock Raiders",
          "90's/Royal Knights",
          "60's/Samsonite",
          "70's/Samsonite",
          "20's/Scala",
          "70's/Scala",
          "90's/Scala",
          "21's/Scooby-Doo",
          "20's/Sculptures",
          "90's/Sculptures",
          "20's/Seasonal",
          "21's/Seasonal",
          "22's/Seasonal",
          "20's/Series 1 Minifigures",
          "21's/Series 10 Minifigures",
          "21's/Series 11 Minifigures",
          "21's/Series 12 Minifigures",
          "21's/Series 13 Minifigures",
          "21's/Series 14 Minifigures",
          "21's/Series 15 Minifigures",
          "21's/Series 16 Minifigures",
          "21's/Series 17 Minifigures",
          "21's/Series 18 Minifigures",
          "21's/Series 19 Minifigures",
          "20's/Series 2 Minifigures",
          "21's/Series 20 Minifigures",
          "22's/Series 21 Minifigures",
          "22's/Series 22 Minifigures",
          "21's/Series 3 Minifigures",
          "21's/Series 4 Minifigures",
          "21's/Series 5 Minifigures",
          "21's/Series 6 Minifigures",
          "21's/Series 7 Minifigures",
          "21's/Series 8 Minifigures",
          "21's/Series 9 Minifigures",
          "20's/Service Packs",
          "21's/Service Packs",
          "70's/Service Packs",
          "80's/Service Packs",
          "90's/Service Packs",
          "21's/Skylines",
          "22's/Skylines",
          "20's/Soccer",
          "90's/Soccer",
          "21's/Sofia the First",
          "21's/Soft Bricks",
          "90's/Soft Bricks",
          "20's/Space",
          "21's/Space",
          "70's/Space",
          "80's/Space",
          "90's/Space",
          "80's/Space Police I",
          "90's/Space Police II",
          "20's/Space Police III",
          "90's/Space Port",
          "21's/Speed Champions",
          "22's/Speed Champions",
          "20's/Speed Racer",
          "20's/Speed Slammers",
          "90's/Speed Slammers",
          "21's/Speedorz",
          "20's/Spider-Man",
          "21's/Spider-Man",
          "22's/Spider-Man",
          "21's/Spiderman",
          "22's/Spiderman",
          "20's/SpongeBob SquarePants",
          "21's/SpongeBob SquarePants",
          "90's/Sports",
          "20's/Spybotics",
          "90's/Spyrius",
          "20's/Star Wars",
          "21's/Star Wars",
          "22's/Star Wars",
          "90's/Star Wars",
          "90's/Stingrays",
          "21's/Stranger Things",
          "20's/Studios",
          "90's/Studios",
          "21's/Super Heroes DC",
          "21's/Super Heroes Marvel",
          "22's/Super Heroes Marvel",
          "21's/Super Mario",
          "22's/Super Mario",
          "21's/Superman",
          "20's/Supplemental",
          "21's/Supplemental",
          "40's/Supplemental",
          "50's/Supplemental",
          "60's/Supplemental",
          "70's/Supplemental",
          "80's/Supplemental",
          "90's/Supplemental",
          "40's/System",
          "50's/System",
          "60's/System",
          "21's/Team GB",
          "20's/Technic",
          "21's/Technic",
          "22's/Technic",
          "60's/Technic",
          "70's/Technic",
          "80's/Technic",
          "90's/Technic",
          "21's/Teenage Mutant Ninja Turtles",
          "20's/Thanksgiving",
          "21's/Thanksgiving",
          "21's/The Hobbit",
          "21's/The LEGO Batman Movie",
          "21's/The LEGO Batman Movie Series 1",
          "21's/The LEGO Batman Movie Series 2",
          "21's/The LEGO Movie",
          "21's/The LEGO Movie II",
          "21's/The Lone Ranger",
          "21's/The Lord of the Rings",
          "22's/The Muppets",
          "21's/The Powerpuff Girls",
          "21's/The Simpsons Series 1",
          "21's/The Simpsons Series 2",
          "20's/Thomas & Friends",
          "90's/Throwbot Slizer",
          "90's/Time Cruisers",
          "90's/Toolo",
          "20's/Town",
          "21's/Town",
          "22's/Town",
          "70's/Town",
          "80's/Town",
          "90's/Town",
          "20's/Town Jr.",
          "90's/Town Jr.",
          "20's/Town Plan",
          "50's/Town Plan",
          "60's/Town Plan",
          "20's/Toy Story",
          "21's/Toy Story",
          "20's/Traffic",
          "21's/Traffic",
          "20's/Train",
          "70's/Train",
          "80's/Train",
          "90's/Train",
          "20's/Trains",
          "21's/Trains",
          "22's/Trains",
          "80's/Trains",
          "90's/Trains",
          "21's/Trolls: World Tour",
          "20's/UCS",
          "21's/UCS",
          "22's/UCS",
          "90's/UFO",
          "20's/Ultimate Collector Series",
          "21's/Ultimate Collector Series",
          "22's/Ultimate Collector Series",
          "90's/Ultimate Collector Series",
          "21's/Ultra Agents",
          "21's/Unikitty!",
          "90's/Unitron",
          "80's/Universal Building Set",
          "90's/Universal Building Set",
          "20's/Universe",
          "22's/VIDIYO",
          "20's/Valentine",
          "21's/Valentine",
          "22's/Valentine",
          "21's/Value Packs",
          "80's/Value Packs",
          "90's/Value Packs",
          "21's/Vehicle",
          "60's/Vehicle",
          "70's/Vehicle",
          "20's/Vikings",
          "20's/Villains",
          "21's/Villains",
          "20's/WeDo",
          "21's/WeDo",
          "20's/Western",
          "70's/Western",
          "90's/Western",
          "20's/Williams F1",
          "20's/Winnie the Pooh",
          "21's/Winnie the Pooh",
          "90's/Winnie the Pooh",
          "90's/Wolfpack",
          "20's/World City",
          "20's/World Racers",
          "21's/X-Men",
          "20's/X-Pod",
          "21's/Xtra",
          "22's/Xtra",
          "90's/Znap",
          "20's/Zooters",
          "90's/eLAB",
          "20's",
          "21's",
          "22's",
          "40's",
          "50's",
          "60's",
          "70's",
          "80's",
          "90's"
         ],
         "labels": [
          "12V",
          "12V",
          "12V",
          "4 Juniors",
          "4.5V",
          "4.5V",
          "4.5V",
          "9V",
          "9V",
          "Action Wheelers",
          "Action Wheelers",
          "Advent",
          "Advent",
          "Advent",
          "Adventurers",
          "Agents",
          "Airport",
          "Airport",
          "Airport",
          "Airport",
          "Airport",
          "Airport",
          "Alien Conquest",
          "Alpha Team",
          "Angry Birds",
          "Aquanauts",
          "Aquaraiders I",
          "Aquaraiders II",
          "Aquasharks",
          "Aquazone",
          "Architecture",
          "Architecture",
          "Architecture",
          "Arctic",
          "Arctic",
          "Atlantis",
          "Atlantis",
          "Avatar",
          "Avatar: The Last Airbender",
          "Avengers",
          "Avengers",
          "Basic",
          "Basic",
          "Basic Model",
          "Basic Model",
          "Basic Set",
          "Basic Set",
          "Basic Set",
          "Basic Set",
          "Basic Set",
          "Basic Set",
          "Basic Set",
          "Basketball",
          "Batman",
          "Batman",
          "Batman",
          "Belville",
          "Belville",
          "Ben 10",
          "Bionicle",
          "Bionicle",
          "Black Falcons",
          "Black Falcons",
          "Black Knights",
          "Black Knights",
          "Blacktron I",
          "Blacktron II",
          "Boat",
          "Boat",
          "Boat",
          "Bob the Builder",
          "Books",
          "Books",
          "Books",
          "Books",
          "Books",
          "Books",
          "Books",
          "Books",
          "Brick Sketches",
          "Brick Sketches",
          "BrickLink Designer Program",
          "BrickLink Designer Program",
          "Brickheadz",
          "Brickheadz",
          "Bricktober",
          "Building",
          "Building",
          "Building",
          "Building",
          "Building Set with People",
          "Bulk Bricks",
          "Bulk Bricks",
          "Cargo",
          "Cargo",
          "Cars",
          "Cars",
          "Castle",
          "Castle",
          "Castle",
          "Castle",
          "Castle",
          "Chinese Traditional Festivals",
          "Chinese Traditional Festivals",
          "Christmas",
          "Christmas",
          "Christmas",
          "Christmas",
          "Christmas",
          "Christmas",
          "Cities of Wonders",
          "City",
          "City",
          "City",
          "City Center",
          "City Center",
          "Classic",
          "Classic",
          "Classic",
          "Classic",
          "Classic Basic",
          "Classic Castle",
          "Classic Castle",
          "Classic Space",
          "Classic Space",
          "Classic Town",
          "Classic Town",
          "Classic Town",
          "Clikits",
          "Coast Guard",
          "Coast Guard",
          "Coast Guard",
          "Collectible Minifigures",
          "Collectible Minifigures",
          "Collectible Minifigures",
          "Competition",
          "Competition",
          "Constraction",
          "Construction",
          "Construction",
          "Construction",
          "Construction",
          "Construction",
          "Control Lab",
          "Control Lab",
          "Creator",
          "Creator",
          "Creator",
          "Creator",
          "Creator 3-in-1",
          "Creator 3-in-1",
          "Creator 3-in-1",
          "Creator Expert",
          "Creator Expert",
          "Crusaders",
          "Crusaders",
          "DC Comics",
          "DC Comics Super Heroes",
          "DC Super Hero Girls",
          "DC Super Heroes",
          "DFB Minifigures",
          "DOTS",
          "DOTS",
          "Dark Forest",
          "Desert",
          "Desert",
          "Designer Sets",
          "Dimensions",
          "Dino",
          "Dino",
          "Dino",
          "Dino 2010",
          "Dino Attack",
          "Dino Island",
          "Dinosaurs",
          "Discovery",
          "Disney",
          "Disney",
          "Disney Planes",
          "Disney Princess",
          "Disney Princess",
          "Disney Series 1",
          "Disney Series 2",
          "Disney's Mickey Mouse",
          "Disney's Mickey Mouse",
          "Disney's Mickey Mouse",
          "Divers",
          "Doc McStuffins",
          "Dolls",
          "Dora the Explorer",
          "Duplo",
          "Duplo",
          "Duplo",
          "Duplo",
          "Duplo",
          "Duplo",
          "Duplo and Explore",
          "Duplo and Explore",
          "Duplo and Explore",
          "Duplo and Explore",
          "Duplo and Explore",
          "EV3",
          "Early Creator",
          "Easter",
          "Easter",
          "Easter",
          "Easter",
          "Easter",
          "Educational and Dacta",
          "Educational and Dacta",
          "Educational and Dacta",
          "Educational and Dacta",
          "Educational and Dacta",
          "Elves",
          "Exo-Force",
          "Expert Builder",
          "Expert Builder",
          "Exploriens",
          "Extreme Team",
          "FIRST LEGO League",
          "FIRST LEGO League",
          "FIRST LEGO League",
          "FIRST LEGO League",
          "Fabuland",
          "Fabuland",
          "Factory",
          "Fantastic Beasts",
          "Fantasy Era",
          "Farm",
          "Farm",
          "Farm",
          "Ferrari",
          "Ferrari",
          "Ferries",
          "Ferries",
          "Ferries",
          "Fire",
          "Fire",
          "Fire",
          "Fire",
          "Fire",
          "Forestmen",
          "Forma",
          "Freestyle",
          "Friends",
          "Friends",
          "Fright Knights",
          "Frozen",
          "Frozen",
          "Fusion",
          "Futuron",
          "Galaxy Squad",
          "Galidor",
          "Games",
          "Games",
          "Gas Station",
          "Gas Station",
          "Gear",
          "Gear",
          "Gear",
          "Gear",
          "Gear",
          "Gear",
          "Gear",
          "Gears",
          "Gears",
          "Ghostbusters",
          "Gravity Games",
          "Guardians of the Galaxy",
          "Guardians of the Galaxy",
          "HO 1:87 Vehicles",
          "Halloween",
          "Halloween",
          "Halloween",
          "Halloween",
          "Harbor",
          "Harbor",
          "Harbor",
          "Harbor",
          "Harry Potter",
          "Harry Potter",
          "Harry Potter",
          "Harry Potter and Fantastic Beasts Series 1",
          "Harry Potter and Fantastic Beasts Series 2",
          "Hero Factory",
          "Hero Factory",
          "Heroes",
          "Heroes",
          "Hidden Side",
          "Hobby Sets",
          "Hobby Sets",
          "Hockey",
          "Homemaker",
          "Homemaker",
          "Hospital",
          "Hospital",
          "Hospital",
          "Hospital",
          "Hydronauts",
          "Ice Planet 2002",
          "Icons",
          "Icons",
          "Imperial Armada",
          "Imperial Armada",
          "Imperial Soldiers",
          "Imperial Soldiers",
          "Indiana Jones",
          "Insectoids",
          "Inventor",
          "Iron Man",
          "Iron Man",
          "Island Xtreme Stunts",
          "Islanders",
          "Islanders",
          "Jack Stone",
          "Jake and the Never Land Pirates",
          "Jumbo Bricks",
          "Jungle",
          "Jungle",
          "Juniors",
          "Jurassic Park III",
          "Jurassic World",
          "Jurassic World",
          "Jurassic World: Fallen Kingdom",
          "Justice League",
          "Key Chain",
          "Key Chain",
          "Key Chain",
          "Key Chain",
          "Kingdoms",
          "Kingdoms",
          "Knights Kingdom I",
          "Knights Kingdom I",
          "Knights Kingdom II",
          "LEGO Art",
          "LEGO Art",
          "LEGO Brand Store",
          "LEGO Brand Store",
          "LEGO Brand Store",
          "LEGO Brand Store",
          "LEGO Brand Store",
          "LEGO Exclusive",
          "LEGO Exclusive",
          "LEGO Exclusive",
          "LEGO Ideas and CUUSOO",
          "LEGO Ideas and CUUSOO",
          "LEGO Originals",
          "LEGO Originals",
          "Launch Command",
          "Learning",
          "Learning",
          "Learning",
          "Learning",
          "Legends of Chima",
          "Legoland",
          "Legoland Parks",
          "Legoland Parks",
          "Legoland Parks",
          "Legoland Parks",
          "Legoville",
          "Life On Mars",
          "Life On Mars",
          "Lion Knights",
          "Lion Knights",
          "Lion Knights",
          "Little Forest Friends",
          "Little Robots",
          "Looney Tunes",
          "M:Tron",
          "M:Tron",
          "Mars Exploration",
          "Mars Mission",
          "Marvel",
          "Marvel Super Heroes",
          "Master Builder Academy",
          "Miles From Tomorrowland",
          "Mindstorms",
          "Mindstorms",
          "Mindstorms",
          "Minecraft",
          "Minecraft",
          "Mini",
          "Minions",
          "Minions",
          "Minitalia",
          "Minitalia",
          "Mission Deep Freeze",
          "Mission Deep Sea",
          "Mixels",
          "Model Team",
          "Model Team",
          "Model Team",
          "Modular Buildings",
          "Modular Buildings",
          "Modular Buildings",
          "Modulex",
          "Monkie Kid",
          "Monkie Kid",
          "Monster Fighters",
          "Monthly Mini Model Build",
          "Monthly Mini Model Build",
          "Mosaic",
          "Mosaic",
          "My Town",
          "NXT",
          "NXT",
          "NXT",
          "Nexo Knights",
          "Ninja",
          "Ninjago",
          "Ninjago",
          "Ninjago The Movie",
          "Off-Road",
          "Orient Expedition",
          "Other",
          "Other",
          "Other",
          "Other",
          "Other",
          "Outback",
          "Overwatch",
          "Paradisa",
          "Pharaoh's Quest",
          "Pick A Model",
          "Pirates",
          "Pirates",
          "Pirates",
          "Pirates I",
          "Pirates I",
          "Pirates I",
          "Pirates II",
          "Pirates III",
          "Pirates of the Caribbean",
          "Playhouse",
          "Playhouse",
          "Playhouse",
          "Playhouse",
          "Playhouse",
          "Playsets",
          "Police",
          "Police",
          "Police",
          "Police",
          "Power Functions",
          "Power Functions",
          "Power Miners",
          "Powered Up",
          "Powered Up",
          "Primo",
          "Primo",
          "Primo",
          "Prince of Persia",
          "Princess Castle",
          "Promotional",
          "Promotional",
          "Promotional",
          "Promotional",
          "Promotional",
          "Protectors",
          "Quatro",
          "RCX",
          "RCX",
          "Race",
          "Race",
          "Racers",
          "Racers",
          "Racers",
          "Rattles",
          "Res-Q",
          "RoboForce",
          "RoboRiders",
          "RoboRiders",
          "Rock Raiders",
          "Royal Knights",
          "Samsonite",
          "Samsonite",
          "Scala",
          "Scala",
          "Scala",
          "Scooby-Doo",
          "Sculptures",
          "Sculptures",
          "Seasonal",
          "Seasonal",
          "Seasonal",
          "Series 1 Minifigures",
          "Series 10 Minifigures",
          "Series 11 Minifigures",
          "Series 12 Minifigures",
          "Series 13 Minifigures",
          "Series 14 Minifigures",
          "Series 15 Minifigures",
          "Series 16 Minifigures",
          "Series 17 Minifigures",
          "Series 18 Minifigures",
          "Series 19 Minifigures",
          "Series 2 Minifigures",
          "Series 20 Minifigures",
          "Series 21 Minifigures",
          "Series 22 Minifigures",
          "Series 3 Minifigures",
          "Series 4 Minifigures",
          "Series 5 Minifigures",
          "Series 6 Minifigures",
          "Series 7 Minifigures",
          "Series 8 Minifigures",
          "Series 9 Minifigures",
          "Service Packs",
          "Service Packs",
          "Service Packs",
          "Service Packs",
          "Service Packs",
          "Skylines",
          "Skylines",
          "Soccer",
          "Soccer",
          "Sofia the First",
          "Soft Bricks",
          "Soft Bricks",
          "Space",
          "Space",
          "Space",
          "Space",
          "Space",
          "Space Police I",
          "Space Police II",
          "Space Police III",
          "Space Port",
          "Speed Champions",
          "Speed Champions",
          "Speed Racer",
          "Speed Slammers",
          "Speed Slammers",
          "Speedorz",
          "Spider-Man",
          "Spider-Man",
          "Spider-Man",
          "Spiderman",
          "Spiderman",
          "SpongeBob SquarePants",
          "SpongeBob SquarePants",
          "Sports",
          "Spybotics",
          "Spyrius",
          "Star Wars",
          "Star Wars",
          "Star Wars",
          "Star Wars",
          "Stingrays",
          "Stranger Things",
          "Studios",
          "Studios",
          "Super Heroes DC",
          "Super Heroes Marvel",
          "Super Heroes Marvel",
          "Super Mario",
          "Super Mario",
          "Superman",
          "Supplemental",
          "Supplemental",
          "Supplemental",
          "Supplemental",
          "Supplemental",
          "Supplemental",
          "Supplemental",
          "Supplemental",
          "System",
          "System",
          "System",
          "Team GB",
          "Technic",
          "Technic",
          "Technic",
          "Technic",
          "Technic",
          "Technic",
          "Technic",
          "Teenage Mutant Ninja Turtles",
          "Thanksgiving",
          "Thanksgiving",
          "The Hobbit",
          "The LEGO Batman Movie",
          "The LEGO Batman Movie Series 1",
          "The LEGO Batman Movie Series 2",
          "The LEGO Movie",
          "The LEGO Movie II",
          "The Lone Ranger",
          "The Lord of the Rings",
          "The Muppets",
          "The Powerpuff Girls",
          "The Simpsons Series 1",
          "The Simpsons Series 2",
          "Thomas & Friends",
          "Throwbot Slizer",
          "Time Cruisers",
          "Toolo",
          "Town",
          "Town",
          "Town",
          "Town",
          "Town",
          "Town",
          "Town Jr.",
          "Town Jr.",
          "Town Plan",
          "Town Plan",
          "Town Plan",
          "Toy Story",
          "Toy Story",
          "Traffic",
          "Traffic",
          "Train",
          "Train",
          "Train",
          "Train",
          "Trains",
          "Trains",
          "Trains",
          "Trains",
          "Trains",
          "Trolls: World Tour",
          "UCS",
          "UCS",
          "UCS",
          "UFO",
          "Ultimate Collector Series",
          "Ultimate Collector Series",
          "Ultimate Collector Series",
          "Ultimate Collector Series",
          "Ultra Agents",
          "Unikitty!",
          "Unitron",
          "Universal Building Set",
          "Universal Building Set",
          "Universe",
          "VIDIYO",
          "Valentine",
          "Valentine",
          "Valentine",
          "Value Packs",
          "Value Packs",
          "Value Packs",
          "Vehicle",
          "Vehicle",
          "Vehicle",
          "Vikings",
          "Villains",
          "Villains",
          "WeDo",
          "WeDo",
          "Western",
          "Western",
          "Western",
          "Williams F1",
          "Winnie the Pooh",
          "Winnie the Pooh",
          "Winnie the Pooh",
          "Wolfpack",
          "World City",
          "World Racers",
          "X-Men",
          "X-Pod",
          "Xtra",
          "Xtra",
          "Znap",
          "Zooters",
          "eLAB",
          "20's",
          "21's",
          "22's",
          "40's",
          "50's",
          "60's",
          "70's",
          "80's",
          "90's"
         ],
         "marker": {
          "coloraxis": "coloraxis",
          "colors": [
           1969.250095213914,
           1978.0458155161882,
           1983.75152278933,
           2003.5653400460048,
           1967.711460018991,
           1976.1752712192833,
           1984.1433508531932,
           2001.767571978086,
           1994.3048438048438,
           2001,
           2000,
           2016.5001239771882,
           2021,
           1999.5001250312578,
           1998,
           2008.384733233751,
           2006.8131124979238,
           2015.6913274007009,
           1970,
           1975.3705104977087,
           1986.625495501164,
           1994.0013373453694,
           2011,
           2001,
           2016,
           1995.5001252818843,
           1997,
           2007,
           1996.5011269722013,
           1996,
           2008.800278773397,
           2014.8166082451842,
           2021.6667765869745,
           2015.8019644806031,
           1999.6366612111292,
           2010,
           2011,
           2022,
           2006,
           2016.9695128612364,
           2021.2667634156799,
           1987.2427413438745,
           1994.2354484088717,
           1987.0701872106288,
           1996.5096356754004,
           2004.8957774452579,
           2013.377041038058,
           1956.7526510795963,
           1967.424139346666,
           1975.6430350914657,
           1985.058137160129,
           1996.3083637668258,
           2003.0465569887729,
           2006.8575597949887,
           2016.0837315865306,
           2021.2106085462074,
           2003.980857230828,
           1997.476701836068,
           2010,
           2004.6500053771174,
           2015.4187715634123,
           2002,
           1985.500797448166,
           1989.5003769791406,
           1993.0015052684396,
           1987.8576356449873,
           1991.5002690003946,
           1975.4467067889082,
           1984.5741433918802,
           1993.5031351893654,
           2003.9712988748129,
           2008.5021160069705,
           2016.3687913226881,
           2021.2248052965995,
           1957.0023846022825,
           1964.3599505472528,
           1976.337493675156,
           1984.172784544309,
           1999.0007503751876,
           2020,
           2021.5001236705416,
           2019,
           2021,
           2018.12051810596,
           2021.4334548092938,
           2014.500124100273,
           2008,
           2018,
           1966.8027252389668,
           1973.4466527785598,
           1976.15726552493,
           2002.5201499409834,
           1999.8982090923007,
           2007.800079689212,
           2015.0019851116626,
           2010,
           2012.826816295517,
           2005.5651780984138,
           2013.3751164090147,
           1970,
           1979,
           1994.8913334075971,
           2019.4446767537827,
           2021,
           2005.697067321214,
           2015.6864583483125,
           2021,
           1977.5001264222503,
           1988.0010060362174,
           1995.620360020044,
           2017,
           2007.6263308635826,
           2016.7793785725337,
           2021.5223456471197,
           2001,
           1999.476315225416,
           2017.4300854458763,
           2021.6471717877096,
           1960,
           1963.0020376974019,
           1998.638455970022,
           1978.6667789757412,
           1981.5003785011354,
           1979.2084166649124,
           1984.6631241133928,
           1978.7574812472476,
           1986.0937822555877,
           1993.7766004040745,
           2004.2121414902733,
           2008.000083001328,
           2015.0019851116626,
           1976,
           2009.0001422171656,
           2015.4718815412048,
           2022,
           2001,
           1998.4708895037381,
           2012.9586429591604,
           2007.3214634437957,
           2015.4411883275964,
           2021.6667765869745,
           1970,
           1973.1517877505512,
           2002,
           1995.4003207376968,
           2006.2788810992638,
           2014.2409497341093,
           2021.379426816786,
           1999,
           2008.205924412666,
           2015.7535807034753,
           2021.4286925795052,
           2006.2896610652235,
           2015.7076289872116,
           1990,
           1993.2538567665872,
           2015.6271007751939,
           2016.251084934904,
           2016.8334021981655,
           2020,
           2016,
           2020,
           2021.3907427590846,
           1996,
           2001,
           1998.1600672618808,
           2003.778085837862,
           2015.7061458546123,
           2008,
           2012,
           1997.4618169214773,
           2005.1667359321752,
           2005.2858160575622,
           2000,
           2001,
           2003,
           2017.2868068833652,
           2021.3158963676606,
           2013.250093132994,
           2017.213543976831,
           2021.2381849879848,
           2016,
           2019,
           2016.6174092157462,
           2021,
           2000,
           1997.0833715835593,
           2015.2500930405656,
           2001,
           2004,
           2004.7928644561707,
           2016.0910657256977,
           2021.6177638757547,
           1977.0044511886697,
           1985.5018527179193,
           1994.7695732948011,
           2005.5485245455782,
           2015.3773668494873,
           1977.3351314902225,
           1986.3415668716125,
           1996.141619190245,
           2013,
           2001.7594356686361,
           2005.7030961758987,
           2015.838418079096,
           2021.6667765869745,
           1987.5031446540881,
           1997.3404539385847,
           2006.2835820895523,
           2014.8677521880638,
           2021.06669745349,
           1985.5001259128683,
           1996.8922212330292,
           2016.2862642293703,
           2006.8726291572575,
           1978.4067194237787,
           1981.5716963448922,
           1996,
           1998.4763152878384,
           2005.5041136873597,
           2017.5034755413938,
           2021,
           2000,
           1979.2500947328533,
           1984.5201916008632,
           2006.5724049551475,
           2018,
           2007.866923434491,
           2009.3751166407465,
           2018.6667767503302,
           2021,
           2006.28125685348,
           2012,
           1977,
           1984.1706005879882,
           1994.432991906024,
           2007.3455125710282,
           2015.6636970106401,
           2021.2858152519614,
           1969.7500951897448,
           1973.5569192658484,
           1989.00057458881,
           2019,
           1996.2976996470027,
           2016.3984476097112,
           2021.4126198883207,
           1997.3751173415108,
           2018.1509550826252,
           2021.5556776959438,
           2014,
           1988.2109275730622,
           2013,
           2002,
           2009.4738082765846,
           2011.6074034620506,
           1970,
           1973.202513683357,
           2006.4100296610857,
           2015.9809133042215,
           2021.1818917824855,
           1966,
           1976.002024291498,
           1984,
           1999.1676412791044,
           1970,
           1973.833741450646,
           2016,
           2003.1818924438394,
           2015.0919426148155,
           2022,
           1957.750095773209,
           2005.863756142725,
           2014.6711449371278,
           2021,
           1999.3337779259753,
           2008.3341078838175,
           2014.505300854519,
           2021,
           1976.0003373819163,
           2003.49484797726,
           2017.449193148648,
           2021.4001187295933,
           2018,
           2020,
           2010,
           2013.1005745699006,
           2010,
           2012.0275505406676,
           2019.6251160487714,
           2003,
           1975.8754349338901,
           2003.4118856069058,
           1975.1002155876397,
           1982,
           2006.6005182896442,
           2015.2036522429535,
           1970,
           1974.2874095513748,
           1998,
           1994.0014589222212,
           2020,
           2021.4001187295933,
           2001,
           1996,
           1989,
           1992.5013801756588,
           2008.3685369113446,
           1998.3685374911113,
           2003,
           2015.1289001922958,
           2021,
           2002.2308578892773,
           2001,
           1994,
           2001.53583855254,
           2013.7145289443813,
           1967.3337851575736,
           2017,
           1999,
           2015.6575712004465,
           2001,
           2018.0469401085659,
           2021.633448201949,
           2018,
           2016.1257362514725,
           2007.084258436347,
           2015.3745838377185,
           2021.4311558046109,
           1998.1594890030292,
           2010,
           2011.3334438183626,
           2006,
           2000,
           2004.7125813152572,
           2020,
           2021.5001236705416,
           2009.1474433107405,
           2015.4212481024972,
           2021.1429177268872,
           1965,
           1996.3387877775922,
           2008.2870963152652,
           2015.6465620090482,
           2021.3751159483024,
           2016.6248743550225,
           2021.3847324758353,
           2019.2778771287865,
           2021,
           1995,
           2006.3361023425819,
           2015,
           1972,
           1990,
           2013.969655822343,
           1969,
           2004.6701030927834,
           2015.5690927132318,
           2021.5001236705416,
           2000,
           2006.4598553282801,
           2001,
           2000,
           2001,
           2016,
           1985.8901695294578,
           1999.300105036763,
           2003.4667908957806,
           2021,
           1990,
           1991,
           2019.0833711667835,
           2007.5264399758803,
           2021,
           2015.7510852040184,
           2011.9525928380394,
           2016,
           2005.0019950124688,
           2015.1384972819344,
           2021,
           2017.202352079806,
           2021.6072608426819,
           2012,
           2020,
           2021,
           1970,
           1972.801500405515,
           2004,
           2002.058851182606,
           2014.975538529687,
           2004,
           1987.0015098137897,
           1995.6395772594751,
           2008.2006772233842,
           2015.5040932771024,
           2021.5001236705416,
           1963,
           2020,
           2021.4783843076525,
           2012,
           2009.4075644192133,
           2015.4959616088495,
           2004.3351072675869,
           2016,
           2017,
           2007.4066025796376,
           2012.2865966207582,
           1996,
           2016.6551197549609,
           1998.774410122333,
           2015.8961611262273,
           2021.4126198883207,
           2017.0344992648818,
           2016.5032647326225,
           2003,
           2007.0625732708088,
           2016.0677062343057,
           2021.1667353838543,
           1957.666780180487,
           1965.334803256445,
           1997,
           2018.7693187014174,
           1994.4463509749303,
           2011,
           2016.5016117034465,
           2006.6274839593846,
           2014.0004965243297,
           1993.0005017561466,
           2001,
           1989,
           1993.9136341510186,
           2009.0909502262443,
           2015,
           2011.3539320913637,
           2003.4326868225899,
           2013,
           1979.5001262945189,
           1985.8025984489877,
           1994.0362916032832,
           2005.9234191049584,
           2007.501187214612,
           2015.6200816700377,
           2021.222307734594,
           1974.8016001620417,
           2008.5334572490706,
           2012.0004970178927,
           2009.1739845491334,
           2019.200178288431,
           2021,
           2003.167235210916,
           1966.7518749205542,
           1998.4179558817398,
           2010,
           2005.8340673036976,
           2009.1667357942763,
           2017.1571030883467,
           2021.2353831378598,
           1969,
           1999.6003200640127,
           2015,
           2004.8186187820252,
           2002.6685252996006,
           1998.7370444491257,
           2001,
           2000,
           2005.5612578748091,
           2011.3077982177688,
           1998,
           1986.2409196614801,
           1998.1818926296633,
           1997,
           2001,
           1999.9629807959407,
           1999.5295363614969,
           1995.667112076165,
           1967.3381904439173,
           1971,
           2001,
           1979.3334456045807,
           1998.450474117441,
           2015.1000446627959,
           2001,
           2000,
           2005.0063175394846,
           2017.364034423408,
           2021.6001187178472,
           2010,
           2013,
           2013.0526563480444,
           2014,
           2015,
           2015,
           2016,
           2016,
           2017,
           2018,
           2019,
           2010,
           2020,
           2021,
           2022,
           2011,
           2011,
           2011,
           2012,
           2012,
           2012,
           2013,
           2002.559981419115,
           2013.8503115922238,
           1977.1502162203171,
           1986.135699623614,
           1995.5655856176722,
           2017.6164169430783,
           2022,
           2002.3777231978386,
           1998.9307303906742,
           2015.3334435990737,
           2013,
           1999.0002501250626,
           2002.3334443149658,
           2014.500124100273,
           1974.6674544226873,
           1990,
           1995.5001252818843,
           1989,
           1993.3773750548692,
           2009.294220973125,
           1999,
           2017.2969547436373,
           2021.4616614026409,
           2008,
           2001,
           2000,
           2013.400119201351,
           2003.4447895291441,
           2016.9521999466062,
           2021.3001038935338,
           2017.4021017150787,
           2021.5001236705416,
           2007.4006177144565,
           2011.500124285359,
           2000,
           2002,
           1995.0012252854358,
           2005.8196842065076,
           2015.875388162492,
           2021.456005063328,
           1999.6411407175647,
           1998,
           2019,
           2001.1200527704486,
           2000,
           2016.7125307911322,
           2016.9247902364607,
           2021.4616614026409,
           2020,
           2021.4027163856908,
           2013.155668488021,
           2007.525545232062,
           2015.0032754342433,
           1949.7500961661751,
           1956.3835559792785,
           1965.8786752857766,
           1975.9904090244956,
           1986.168966302641,
           1995.5141746778481,
           1949,
           1955,
           1964.4402977951704,
           2012,
           2004.6669389485762,
           2015.0296926160154,
           2021.4445665915462,
           1965,
           1978.5008002695645,
           1985.8039628854492,
           1995.5148175013787,
           2013.348068326603,
           2006.5061051582356,
           2014.5014478365185,
           2012.9568447881118,
           2017.2046261139967,
           2017,
           2018,
           2014.0612530271865,
           2018.984382618117,
           2013,
           2012.2942208190827,
           2022,
           2018,
           2014,
           2015,
           2006.6121708795924,
           1999.3334444814939,
           1996.444568121104,
           1993.9242698969947,
           2005.283046446443,
           2014.6022112104808,
           2021,
           1979.4548544135207,
           1986.228999748266,
           1995.8913940397858,
           2002.3334443149658,
           1997.8921836530396,
           2008,
           1956.7151200992919,
           1964.4058236611688,
           2010,
           2019,
           2008.6964502164503,
           2015.4106880329316,
           2001.5003747189608,
           1977.0801990814737,
           1984.9047307169126,
           1994.5440626325735,
           2006.1698651380466,
           2014.9197237272012,
           2022,
           1984.7799921625706,
           1995.526265333246,
           2020,
           2006,
           2017.6700809515942,
           2021,
           1997.2633076841994,
           2005.3375284954407,
           2015.203387587667,
           2021.333443271768,
           2000,
           2014.6001191303485,
           2018,
           1994.7500939967415,
           1986.2033027892458,
           1994.6866935803055,
           2010,
           2021,
           2010,
           2014.9050076926894,
           2021.8000791374022,
           2019,
           1989.0003351768057,
           1994.7194012747977,
           2018,
           1966.6694188861986,
           1973.245005144586,
           2005.3751168734027,
           2010,
           2011.9633488577583,
           2009.4169535105545,
           2015.0881178932832,
           2002,
           1976.0002530364372,
           1997.1074411201917,
           2002.500124843945,
           2001,
           2011,
           1999.222308675596,
           1992.3334448720093,
           2003.6669993900073,
           2010,
           2012.6671083140113,
           2004.5836624402411,
           2018.765028118535,
           2021,
           1998.3685374911113,
           2001,
           1999,
           2005.5339988621315,
           2015.833361021767,
           2021.3494234107336,
           1949.5455817206807,
           1956.6178264126638,
           1966.2338006187813,
           1976.2848602456045,
           1985.9427839418724,
           1996.6187098812634
          ]
         },
         "name": "",
         "parents": [
          "60's",
          "70's",
          "80's",
          "20's",
          "60's",
          "70's",
          "80's",
          "20's",
          "90's",
          "20's",
          "90's",
          "21's",
          "22's",
          "90's",
          "90's",
          "20's",
          "20's",
          "21's",
          "60's",
          "70's",
          "80's",
          "90's",
          "21's",
          "20's",
          "21's",
          "90's",
          "90's",
          "20's",
          "90's",
          "90's",
          "20's",
          "21's",
          "22's",
          "21's",
          "90's",
          "20's",
          "21's",
          "22's",
          "20's",
          "21's",
          "22's",
          "80's",
          "90's",
          "80's",
          "90's",
          "20's",
          "21's",
          "50's",
          "60's",
          "70's",
          "80's",
          "90's",
          "20's",
          "20's",
          "21's",
          "22's",
          "20's",
          "90's",
          "20's",
          "20's",
          "21's",
          "20's",
          "80's",
          "80's",
          "90's",
          "80's",
          "90's",
          "70's",
          "80's",
          "90's",
          "20's",
          "20's",
          "21's",
          "22's",
          "50's",
          "60's",
          "70's",
          "80's",
          "90's",
          "21's",
          "22's",
          "21's",
          "22's",
          "21's",
          "22's",
          "21's",
          "20's",
          "21's",
          "60's",
          "70's",
          "70's",
          "20's",
          "90's",
          "20's",
          "21's",
          "20's",
          "21's",
          "20's",
          "21's",
          "60's",
          "70's",
          "90's",
          "21's",
          "22's",
          "20's",
          "21's",
          "22's",
          "70's",
          "80's",
          "90's",
          "21's",
          "20's",
          "21's",
          "22's",
          "20's",
          "90's",
          "21's",
          "22's",
          "50's",
          "60's",
          "90's",
          "70's",
          "80's",
          "70's",
          "80's",
          "70's",
          "80's",
          "90's",
          "20's",
          "20's",
          "21's",
          "70's",
          "20's",
          "21's",
          "22's",
          "20's",
          "90's",
          "21's",
          "20's",
          "21's",
          "22's",
          "60's",
          "70's",
          "20's",
          "90's",
          "20's",
          "21's",
          "22's",
          "90's",
          "20's",
          "21's",
          "22's",
          "20's",
          "21's",
          "80's",
          "90's",
          "21's",
          "21's",
          "21's",
          "21's",
          "21's",
          "21's",
          "22's",
          "90's",
          "20's",
          "90's",
          "20's",
          "21's",
          "20's",
          "21's",
          "90's",
          "20's",
          "20's",
          "90's",
          "20's",
          "20's",
          "21's",
          "22's",
          "21's",
          "21's",
          "22's",
          "21's",
          "21's",
          "21's",
          "22's",
          "90's",
          "90's",
          "21's",
          "20's",
          "20's",
          "20's",
          "21's",
          "22's",
          "70's",
          "80's",
          "90's",
          "20's",
          "21's",
          "70's",
          "80's",
          "90's",
          "21's",
          "20's",
          "20's",
          "21's",
          "22's",
          "80's",
          "90's",
          "20's",
          "21's",
          "22's",
          "80's",
          "90's",
          "21's",
          "20's",
          "70's",
          "80's",
          "90's",
          "90's",
          "20's",
          "21's",
          "22's",
          "90's",
          "70's",
          "80's",
          "20's",
          "21's",
          "20's",
          "20's",
          "21's",
          "22's",
          "20's",
          "21's",
          "70's",
          "80's",
          "90's",
          "20's",
          "21's",
          "22's",
          "60's",
          "70's",
          "80's",
          "21's",
          "90's",
          "21's",
          "22's",
          "90's",
          "21's",
          "22's",
          "21's",
          "80's",
          "21's",
          "20's",
          "20's",
          "21's",
          "60's",
          "70's",
          "20's",
          "21's",
          "22's",
          "60's",
          "70's",
          "80's",
          "90's",
          "60's",
          "70's",
          "21's",
          "20's",
          "21's",
          "22's",
          "50's",
          "20's",
          "21's",
          "22's",
          "90's",
          "20's",
          "21's",
          "22's",
          "70's",
          "20's",
          "21's",
          "22's",
          "21's",
          "21's",
          "20's",
          "21's",
          "20's",
          "21's",
          "21's",
          "20's",
          "70's",
          "20's",
          "70's",
          "80's",
          "20's",
          "21's",
          "60's",
          "70's",
          "90's",
          "90's",
          "21's",
          "22's",
          "20's",
          "90's",
          "80's",
          "90's",
          "20's",
          "90's",
          "20's",
          "21's",
          "22's",
          "20's",
          "20's",
          "90's",
          "20's",
          "21's",
          "60's",
          "21's",
          "90's",
          "21's",
          "20's",
          "21's",
          "22's",
          "21's",
          "21's",
          "20's",
          "21's",
          "22's",
          "90's",
          "20's",
          "21's",
          "20's",
          "90's",
          "20's",
          "21's",
          "22's",
          "20's",
          "21's",
          "22's",
          "60's",
          "90's",
          "20's",
          "21's",
          "22's",
          "21's",
          "22's",
          "21's",
          "22's",
          "90's",
          "20's",
          "21's",
          "70's",
          "80's",
          "21's",
          "60's",
          "20's",
          "21's",
          "22's",
          "90's",
          "20's",
          "20's",
          "90's",
          "20's",
          "21's",
          "80's",
          "90's",
          "20's",
          "22's",
          "80's",
          "90's",
          "21's",
          "20's",
          "22's",
          "21's",
          "21's",
          "21's",
          "20's",
          "21's",
          "22's",
          "21's",
          "22's",
          "21's",
          "21's",
          "22's",
          "60's",
          "70's",
          "20's",
          "20's",
          "21's",
          "20's",
          "80's",
          "90's",
          "20's",
          "21's",
          "22's",
          "60's",
          "21's",
          "22's",
          "21's",
          "20's",
          "21's",
          "20's",
          "21's",
          "21's",
          "20's",
          "21's",
          "90's",
          "21's",
          "90's",
          "21's",
          "22's",
          "21's",
          "21's",
          "20's",
          "20's",
          "21's",
          "22's",
          "50's",
          "60's",
          "90's",
          "21's",
          "90's",
          "21's",
          "21's",
          "20's",
          "21's",
          "90's",
          "20's",
          "80's",
          "90's",
          "20's",
          "21's",
          "21's",
          "20's",
          "21's",
          "70's",
          "80's",
          "90's",
          "20's",
          "20's",
          "21's",
          "22's",
          "70's",
          "20's",
          "21's",
          "20's",
          "21's",
          "22's",
          "20's",
          "60's",
          "90's",
          "20's",
          "20's",
          "20's",
          "21's",
          "22's",
          "60's",
          "90's",
          "21's",
          "20's",
          "20's",
          "90's",
          "20's",
          "90's",
          "20's",
          "21's",
          "90's",
          "80's",
          "90's",
          "90's",
          "20's",
          "90's",
          "90's",
          "90's",
          "60's",
          "70's",
          "20's",
          "70's",
          "90's",
          "21's",
          "20's",
          "90's",
          "20's",
          "21's",
          "22's",
          "20's",
          "21's",
          "21's",
          "21's",
          "21's",
          "21's",
          "21's",
          "21's",
          "21's",
          "21's",
          "21's",
          "20's",
          "21's",
          "22's",
          "22's",
          "21's",
          "21's",
          "21's",
          "21's",
          "21's",
          "21's",
          "21's",
          "20's",
          "21's",
          "70's",
          "80's",
          "90's",
          "21's",
          "22's",
          "20's",
          "90's",
          "21's",
          "21's",
          "90's",
          "20's",
          "21's",
          "70's",
          "80's",
          "90's",
          "80's",
          "90's",
          "20's",
          "90's",
          "21's",
          "22's",
          "20's",
          "20's",
          "90's",
          "21's",
          "20's",
          "21's",
          "22's",
          "21's",
          "22's",
          "20's",
          "21's",
          "90's",
          "20's",
          "90's",
          "20's",
          "21's",
          "22's",
          "90's",
          "90's",
          "21's",
          "20's",
          "90's",
          "21's",
          "21's",
          "22's",
          "21's",
          "22's",
          "21's",
          "20's",
          "21's",
          "40's",
          "50's",
          "60's",
          "70's",
          "80's",
          "90's",
          "40's",
          "50's",
          "60's",
          "21's",
          "20's",
          "21's",
          "22's",
          "60's",
          "70's",
          "80's",
          "90's",
          "21's",
          "20's",
          "21's",
          "21's",
          "21's",
          "21's",
          "21's",
          "21's",
          "21's",
          "21's",
          "21's",
          "22's",
          "21's",
          "21's",
          "21's",
          "20's",
          "90's",
          "90's",
          "90's",
          "20's",
          "21's",
          "22's",
          "70's",
          "80's",
          "90's",
          "20's",
          "90's",
          "20's",
          "50's",
          "60's",
          "20's",
          "21's",
          "20's",
          "21's",
          "20's",
          "70's",
          "80's",
          "90's",
          "20's",
          "21's",
          "22's",
          "80's",
          "90's",
          "21's",
          "20's",
          "21's",
          "22's",
          "90's",
          "20's",
          "21's",
          "22's",
          "90's",
          "21's",
          "21's",
          "90's",
          "80's",
          "90's",
          "20's",
          "22's",
          "20's",
          "21's",
          "22's",
          "21's",
          "80's",
          "90's",
          "21's",
          "60's",
          "70's",
          "20's",
          "20's",
          "21's",
          "20's",
          "21's",
          "20's",
          "70's",
          "90's",
          "20's",
          "20's",
          "21's",
          "90's",
          "90's",
          "20's",
          "20's",
          "21's",
          "20's",
          "21's",
          "22's",
          "90's",
          "20's",
          "90's",
          "",
          "",
          "",
          "",
          "",
          "",
          "",
          "",
          ""
         ],
         "type": "treemap",
         "values": [
          31508,
          47473,
          23805,
          46082,
          74773,
          81023,
          13889,
          120106,
          79772,
          6003,
          12000,
          4033,
          2021,
          3999,
          1998,
          26109,
          42143,
          32251,
          3940,
          37532,
          15893,
          5982,
          20110,
          12006,
          12096,
          15964,
          5991,
          18063,
          11979,
          1996,
          20088,
          64474,
          6065,
          40316,
          21996,
          38190,
          10055,
          2022,
          4012,
          119001,
          30319,
          164941,
          51850,
          29806,
          121787,
          222543,
          32214,
          7827,
          51153,
          126441,
          146894,
          295453,
          86131,
          28096,
          127013,
          38403,
          94187,
          79899,
          12060,
          771789,
          86663,
          2002,
          11913,
          7958,
          19930,
          13915,
          27881,
          17779,
          13892,
          11961,
          62123,
          32136,
          717826,
          179889,
          5871,
          27501,
          5929,
          11905,
          7996,
          8080,
          8086,
          26247,
          10105,
          201812,
          60643,
          16116,
          2008,
          4036,
          29502,
          35522,
          63237,
          154194,
          97995,
          10039,
          4030,
          8040,
          102654,
          32089,
          16107,
          1970,
          1979,
          35908,
          18175,
          16168,
          78222,
          139082,
          10105,
          3955,
          11928,
          25943,
          36306,
          64244,
          252097,
          181937,
          2001,
          41989,
          84732,
          34368,
          1960,
          3926,
          93936,
          5936,
          7926,
          47501,
          129003,
          138513,
          397218,
          283116,
          170358,
          24096,
          24180,
          1976,
          14063,
          64495,
          2022,
          2001,
          33974,
          48311,
          50183,
          64494,
          6065,
          3940,
          78926,
          4004,
          9977,
          399249,
          195381,
          58620,
          1999,
          78320,
          266079,
          56600,
          42132,
          54424,
          3980,
          7973,
          16125,
          8065,
          24202,
          38380,
          38304,
          44440,
          129369,
          5988,
          2001,
          49954,
          90170,
          137068,
          6024,
          14084,
          25967,
          12031,
          14037,
          38000,
          28014,
          16024,
          14121,
          38405,
          8053,
          153308,
          42446,
          42336,
          42399,
          26216,
          4042,
          10000,
          23965,
          8061,
          12006,
          10020,
          38091,
          229834,
          68735,
          9885,
          27797,
          33911,
          132366,
          112861,
          5932,
          93358,
          187637,
          26169,
          58051,
          20057,
          36285,
          18195,
          3975,
          5992,
          36113,
          104773,
          30316,
          7942,
          35944,
          84684,
          94323,
          63309,
          13871,
          17964,
          41968,
          20055,
          84735,
          20210,
          2000,
          39585,
          168684,
          14046,
          4036,
          60236,
          16075,
          6056,
          2021,
          50157,
          14084,
          3954,
          11905,
          13961,
          64235,
          94736,
          14149,
          7879,
          17762,
          13923,
          8076,
          127763,
          867050,
          161713,
          31958,
          40363,
          18194,
          8056,
          37776,
          24156,
          40040,
          38180,
          56325,
          1970,
          9866,
          1233940,
          2419172,
          533592,
          1966,
          3952,
          1984,
          83965,
          5910,
          11843,
          4032,
          22035,
          22166,
          2022,
          7831,
          14041,
          30220,
          6063,
          5998,
          6025,
          28203,
          2021,
          5928,
          118206,
          90785,
          60642,
          50450,
          38380,
          4020,
          60393,
          14070,
          74445,
          64628,
          2003,
          15807,
          34058,
          61228,
          1982,
          20066,
          10076,
          3940,
          13820,
          9990,
          21934,
          8080,
          50535,
          2001,
          3992,
          7956,
          7970,
          38159,
          37969,
          8012,
          16121,
          2021,
          26029,
          2001,
          11964,
          56043,
          14096,
          5902,
          18153,
          19990,
          64501,
          4002,
          88794,
          60649,
          6054,
          32258,
          371310,
          701349,
          117243,
          37965,
          22110,
          12068,
          4012,
          42000,
          146344,
          8080,
          16172,
          68311,
          203557,
          28296,
          1965,
          5989,
          14058,
          84657,
          16171,
          74615,
          26278,
          36347,
          4042,
          11970,
          6019,
          2015,
          3944,
          7960,
          197369,
          1969,
          54126,
          46358,
          4043,
          4000,
          144465,
          50025,
          2000,
          2001,
          2016,
          35746,
          19993,
          30052,
          32336,
          13930,
          3982,
          24229,
          38143,
          32336,
          8063,
          42251,
          6048,
          4010,
          44333,
          2021,
          131118,
          56605,
          2012,
          4040,
          14147,
          7880,
          29592,
          16032,
          34035,
          243812,
          2004,
          7948,
          21952,
          10041,
          20155,
          4043,
          68705,
          28280,
          46494,
          28168,
          54254,
          245890,
          12026,
          2016,
          22187,
          74274,
          28172,
          3992,
          227882,
          61962,
          743864,
          161713,
          116988,
          12099,
          56084,
          68240,
          64514,
          12127,
          17619,
          5896,
          9985,
          26244,
          35900,
          18099,
          64528,
          16053,
          4028,
          7972,
          4002,
          15912,
          67793,
          22100,
          16120,
          34193,
          14024,
          2013,
          11877,
          19858,
          59821,
          26077,
          60225,
          235827,
          18191,
          19748,
          30128,
          8048,
          46211,
          20192,
          6063,
          36057,
          7867,
          23981,
          12060,
          12035,
          12055,
          183561,
          68722,
          1969,
          9998,
          12090,
          22053,
          24032,
          37976,
          4002,
          28000,
          439217,
          26147,
          1998,
          41711,
          21980,
          7988,
          6003,
          53999,
          33992,
          17961,
          5902,
          1971,
          8004,
          17814,
          119907,
          20151,
          2001,
          4000,
          6015,
          72625,
          10108,
          38190,
          40260,
          38248,
          38266,
          38285,
          38285,
          38304,
          38304,
          38323,
          40360,
          40380,
          38190,
          38380,
          32336,
          32352,
          38209,
          38209,
          38209,
          38228,
          38228,
          38228,
          38247,
          86110,
          40277,
          39543,
          284017,
          241463,
          26229,
          2022,
          122145,
          85954,
          6046,
          2013,
          7996,
          6007,
          4029,
          5924,
          1990,
          3991,
          11934,
          15947,
          34158,
          43978,
          88761,
          26279,
          8032,
          4002,
          6000,
          60402,
          36062,
          78661,
          40426,
          10087,
          4043,
          20074,
          8046,
          10000,
          8008,
          17955,
          445291,
          1070428,
          137459,
          77986,
          9990,
          6057,
          100056,
          8000,
          62518,
          78660,
          52558,
          66660,
          155648,
          26171,
          46173,
          20150,
          15598,
          174118,
          316506,
          122511,
          83419,
          97780,
          5847,
          1955,
          31431,
          24144,
          320746,
          525922,
          72772,
          3930,
          11871,
          279998,
          437017,
          46307,
          4013,
          12087,
          46298,
          88757,
          46391,
          46414,
          98689,
          129215,
          16104,
          34209,
          32352,
          4036,
          38266,
          38285,
          36119,
          35988,
          17968,
          25921,
          174459,
          235708,
          10105,
          21774,
          115201,
          195597,
          6007,
          73922,
          2008,
          68485,
          9822,
          38190,
          14133,
          46200,
          54416,
          8006,
          49427,
          79396,
          25929,
          72222,
          48358,
          4044,
          17863,
          45897,
          18180,
          2006,
          6053,
          2021,
          37948,
          42112,
          30228,
          6064,
          4000,
          30219,
          52468,
          7979,
          39724,
          37899,
          4020,
          103071,
          2010,
          20149,
          10109,
          10095,
          5967,
          13963,
          2018,
          82600,
          65117,
          16043,
          12060,
          54323,
          24113,
          46347,
          8008,
          7904,
          55919,
          4005,
          12006,
          6033,
          17993,
          5977,
          90165,
          18090,
          6038,
          48110,
          34319,
          4042,
          37969,
          6003,
          5997,
          9329724,
          16824113,
          3373632,
          21445,
          285666,
          802222,
          1365610,
          2458593,
          4737967
         ]
        }
       ],
       "layout": {
        "coloraxis": {
         "cmid": 1986.798856714916,
         "colorbar": {
          "title": {
           "text": "year"
          }
         },
         "colorscale": [
          [
           0,
           "#fde725"
          ],
          [
           0.1111111111111111,
           "#b5de2b"
          ],
          [
           0.2222222222222222,
           "#6ece58"
          ],
          [
           0.3333333333333333,
           "#35b779"
          ],
          [
           0.4444444444444444,
           "#1f9e89"
          ],
          [
           0.5555555555555556,
           "#26828e"
          ],
          [
           0.6666666666666666,
           "#31688e"
          ],
          [
           0.7777777777777778,
           "#3e4989"
          ],
          [
           0.8888888888888888,
           "#482878"
          ],
          [
           1,
           "#440154"
          ]
         ]
        },
        "legend": {
         "tracegroupgap": 0
        },
        "template": {
         "data": {
          "bar": [
           {
            "error_x": {
             "color": "#2a3f5f"
            },
            "error_y": {
             "color": "#2a3f5f"
            },
            "marker": {
             "line": {
              "color": "#E5ECF6",
              "width": 0.5
             },
             "pattern": {
              "fillmode": "overlay",
              "size": 10,
              "solidity": 0.2
             }
            },
            "type": "bar"
           }
          ],
          "barpolar": [
           {
            "marker": {
             "line": {
              "color": "#E5ECF6",
              "width": 0.5
             },
             "pattern": {
              "fillmode": "overlay",
              "size": 10,
              "solidity": 0.2
             }
            },
            "type": "barpolar"
           }
          ],
          "carpet": [
           {
            "aaxis": {
             "endlinecolor": "#2a3f5f",
             "gridcolor": "white",
             "linecolor": "white",
             "minorgridcolor": "white",
             "startlinecolor": "#2a3f5f"
            },
            "baxis": {
             "endlinecolor": "#2a3f5f",
             "gridcolor": "white",
             "linecolor": "white",
             "minorgridcolor": "white",
             "startlinecolor": "#2a3f5f"
            },
            "type": "carpet"
           }
          ],
          "choropleth": [
           {
            "colorbar": {
             "outlinewidth": 0,
             "ticks": ""
            },
            "type": "choropleth"
           }
          ],
          "contour": [
           {
            "colorbar": {
             "outlinewidth": 0,
             "ticks": ""
            },
            "colorscale": [
             [
              0,
              "#0d0887"
             ],
             [
              0.1111111111111111,
              "#46039f"
             ],
             [
              0.2222222222222222,
              "#7201a8"
             ],
             [
              0.3333333333333333,
              "#9c179e"
             ],
             [
              0.4444444444444444,
              "#bd3786"
             ],
             [
              0.5555555555555556,
              "#d8576b"
             ],
             [
              0.6666666666666666,
              "#ed7953"
             ],
             [
              0.7777777777777778,
              "#fb9f3a"
             ],
             [
              0.8888888888888888,
              "#fdca26"
             ],
             [
              1,
              "#f0f921"
             ]
            ],
            "type": "contour"
           }
          ],
          "contourcarpet": [
           {
            "colorbar": {
             "outlinewidth": 0,
             "ticks": ""
            },
            "type": "contourcarpet"
           }
          ],
          "heatmap": [
           {
            "colorbar": {
             "outlinewidth": 0,
             "ticks": ""
            },
            "colorscale": [
             [
              0,
              "#0d0887"
             ],
             [
              0.1111111111111111,
              "#46039f"
             ],
             [
              0.2222222222222222,
              "#7201a8"
             ],
             [
              0.3333333333333333,
              "#9c179e"
             ],
             [
              0.4444444444444444,
              "#bd3786"
             ],
             [
              0.5555555555555556,
              "#d8576b"
             ],
             [
              0.6666666666666666,
              "#ed7953"
             ],
             [
              0.7777777777777778,
              "#fb9f3a"
             ],
             [
              0.8888888888888888,
              "#fdca26"
             ],
             [
              1,
              "#f0f921"
             ]
            ],
            "type": "heatmap"
           }
          ],
          "heatmapgl": [
           {
            "colorbar": {
             "outlinewidth": 0,
             "ticks": ""
            },
            "colorscale": [
             [
              0,
              "#0d0887"
             ],
             [
              0.1111111111111111,
              "#46039f"
             ],
             [
              0.2222222222222222,
              "#7201a8"
             ],
             [
              0.3333333333333333,
              "#9c179e"
             ],
             [
              0.4444444444444444,
              "#bd3786"
             ],
             [
              0.5555555555555556,
              "#d8576b"
             ],
             [
              0.6666666666666666,
              "#ed7953"
             ],
             [
              0.7777777777777778,
              "#fb9f3a"
             ],
             [
              0.8888888888888888,
              "#fdca26"
             ],
             [
              1,
              "#f0f921"
             ]
            ],
            "type": "heatmapgl"
           }
          ],
          "histogram": [
           {
            "marker": {
             "pattern": {
              "fillmode": "overlay",
              "size": 10,
              "solidity": 0.2
             }
            },
            "type": "histogram"
           }
          ],
          "histogram2d": [
           {
            "colorbar": {
             "outlinewidth": 0,
             "ticks": ""
            },
            "colorscale": [
             [
              0,
              "#0d0887"
             ],
             [
              0.1111111111111111,
              "#46039f"
             ],
             [
              0.2222222222222222,
              "#7201a8"
             ],
             [
              0.3333333333333333,
              "#9c179e"
             ],
             [
              0.4444444444444444,
              "#bd3786"
             ],
             [
              0.5555555555555556,
              "#d8576b"
             ],
             [
              0.6666666666666666,
              "#ed7953"
             ],
             [
              0.7777777777777778,
              "#fb9f3a"
             ],
             [
              0.8888888888888888,
              "#fdca26"
             ],
             [
              1,
              "#f0f921"
             ]
            ],
            "type": "histogram2d"
           }
          ],
          "histogram2dcontour": [
           {
            "colorbar": {
             "outlinewidth": 0,
             "ticks": ""
            },
            "colorscale": [
             [
              0,
              "#0d0887"
             ],
             [
              0.1111111111111111,
              "#46039f"
             ],
             [
              0.2222222222222222,
              "#7201a8"
             ],
             [
              0.3333333333333333,
              "#9c179e"
             ],
             [
              0.4444444444444444,
              "#bd3786"
             ],
             [
              0.5555555555555556,
              "#d8576b"
             ],
             [
              0.6666666666666666,
              "#ed7953"
             ],
             [
              0.7777777777777778,
              "#fb9f3a"
             ],
             [
              0.8888888888888888,
              "#fdca26"
             ],
             [
              1,
              "#f0f921"
             ]
            ],
            "type": "histogram2dcontour"
           }
          ],
          "mesh3d": [
           {
            "colorbar": {
             "outlinewidth": 0,
             "ticks": ""
            },
            "type": "mesh3d"
           }
          ],
          "parcoords": [
           {
            "line": {
             "colorbar": {
              "outlinewidth": 0,
              "ticks": ""
             }
            },
            "type": "parcoords"
           }
          ],
          "pie": [
           {
            "automargin": true,
            "type": "pie"
           }
          ],
          "scatter": [
           {
            "fillpattern": {
             "fillmode": "overlay",
             "size": 10,
             "solidity": 0.2
            },
            "type": "scatter"
           }
          ],
          "scatter3d": [
           {
            "line": {
             "colorbar": {
              "outlinewidth": 0,
              "ticks": ""
             }
            },
            "marker": {
             "colorbar": {
              "outlinewidth": 0,
              "ticks": ""
             }
            },
            "type": "scatter3d"
           }
          ],
          "scattercarpet": [
           {
            "marker": {
             "colorbar": {
              "outlinewidth": 0,
              "ticks": ""
             }
            },
            "type": "scattercarpet"
           }
          ],
          "scattergeo": [
           {
            "marker": {
             "colorbar": {
              "outlinewidth": 0,
              "ticks": ""
             }
            },
            "type": "scattergeo"
           }
          ],
          "scattergl": [
           {
            "marker": {
             "colorbar": {
              "outlinewidth": 0,
              "ticks": ""
             }
            },
            "type": "scattergl"
           }
          ],
          "scattermapbox": [
           {
            "marker": {
             "colorbar": {
              "outlinewidth": 0,
              "ticks": ""
             }
            },
            "type": "scattermapbox"
           }
          ],
          "scatterpolar": [
           {
            "marker": {
             "colorbar": {
              "outlinewidth": 0,
              "ticks": ""
             }
            },
            "type": "scatterpolar"
           }
          ],
          "scatterpolargl": [
           {
            "marker": {
             "colorbar": {
              "outlinewidth": 0,
              "ticks": ""
             }
            },
            "type": "scatterpolargl"
           }
          ],
          "scatterternary": [
           {
            "marker": {
             "colorbar": {
              "outlinewidth": 0,
              "ticks": ""
             }
            },
            "type": "scatterternary"
           }
          ],
          "surface": [
           {
            "colorbar": {
             "outlinewidth": 0,
             "ticks": ""
            },
            "colorscale": [
             [
              0,
              "#0d0887"
             ],
             [
              0.1111111111111111,
              "#46039f"
             ],
             [
              0.2222222222222222,
              "#7201a8"
             ],
             [
              0.3333333333333333,
              "#9c179e"
             ],
             [
              0.4444444444444444,
              "#bd3786"
             ],
             [
              0.5555555555555556,
              "#d8576b"
             ],
             [
              0.6666666666666666,
              "#ed7953"
             ],
             [
              0.7777777777777778,
              "#fb9f3a"
             ],
             [
              0.8888888888888888,
              "#fdca26"
             ],
             [
              1,
              "#f0f921"
             ]
            ],
            "type": "surface"
           }
          ],
          "table": [
           {
            "cells": {
             "fill": {
              "color": "#EBF0F8"
             },
             "line": {
              "color": "white"
             }
            },
            "header": {
             "fill": {
              "color": "#C8D4E3"
             },
             "line": {
              "color": "white"
             }
            },
            "type": "table"
           }
          ]
         },
         "layout": {
          "annotationdefaults": {
           "arrowcolor": "#2a3f5f",
           "arrowhead": 0,
           "arrowwidth": 1
          },
          "autotypenumbers": "strict",
          "coloraxis": {
           "colorbar": {
            "outlinewidth": 0,
            "ticks": ""
           }
          },
          "colorscale": {
           "diverging": [
            [
             0,
             "#8e0152"
            ],
            [
             0.1,
             "#c51b7d"
            ],
            [
             0.2,
             "#de77ae"
            ],
            [
             0.3,
             "#f1b6da"
            ],
            [
             0.4,
             "#fde0ef"
            ],
            [
             0.5,
             "#f7f7f7"
            ],
            [
             0.6,
             "#e6f5d0"
            ],
            [
             0.7,
             "#b8e186"
            ],
            [
             0.8,
             "#7fbc41"
            ],
            [
             0.9,
             "#4d9221"
            ],
            [
             1,
             "#276419"
            ]
           ],
           "sequential": [
            [
             0,
             "#0d0887"
            ],
            [
             0.1111111111111111,
             "#46039f"
            ],
            [
             0.2222222222222222,
             "#7201a8"
            ],
            [
             0.3333333333333333,
             "#9c179e"
            ],
            [
             0.4444444444444444,
             "#bd3786"
            ],
            [
             0.5555555555555556,
             "#d8576b"
            ],
            [
             0.6666666666666666,
             "#ed7953"
            ],
            [
             0.7777777777777778,
             "#fb9f3a"
            ],
            [
             0.8888888888888888,
             "#fdca26"
            ],
            [
             1,
             "#f0f921"
            ]
           ],
           "sequentialminus": [
            [
             0,
             "#0d0887"
            ],
            [
             0.1111111111111111,
             "#46039f"
            ],
            [
             0.2222222222222222,
             "#7201a8"
            ],
            [
             0.3333333333333333,
             "#9c179e"
            ],
            [
             0.4444444444444444,
             "#bd3786"
            ],
            [
             0.5555555555555556,
             "#d8576b"
            ],
            [
             0.6666666666666666,
             "#ed7953"
            ],
            [
             0.7777777777777778,
             "#fb9f3a"
            ],
            [
             0.8888888888888888,
             "#fdca26"
            ],
            [
             1,
             "#f0f921"
            ]
           ]
          },
          "colorway": [
           "#636efa",
           "#EF553B",
           "#00cc96",
           "#ab63fa",
           "#FFA15A",
           "#19d3f3",
           "#FF6692",
           "#B6E880",
           "#FF97FF",
           "#FECB52"
          ],
          "font": {
           "color": "#2a3f5f"
          },
          "geo": {
           "bgcolor": "white",
           "lakecolor": "white",
           "landcolor": "#E5ECF6",
           "showlakes": true,
           "showland": true,
           "subunitcolor": "white"
          },
          "hoverlabel": {
           "align": "left"
          },
          "hovermode": "closest",
          "mapbox": {
           "style": "light"
          },
          "paper_bgcolor": "white",
          "plot_bgcolor": "#E5ECF6",
          "polar": {
           "angularaxis": {
            "gridcolor": "white",
            "linecolor": "white",
            "ticks": ""
           },
           "bgcolor": "#E5ECF6",
           "radialaxis": {
            "gridcolor": "white",
            "linecolor": "white",
            "ticks": ""
           }
          },
          "scene": {
           "xaxis": {
            "backgroundcolor": "#E5ECF6",
            "gridcolor": "white",
            "gridwidth": 2,
            "linecolor": "white",
            "showbackground": true,
            "ticks": "",
            "zerolinecolor": "white"
           },
           "yaxis": {
            "backgroundcolor": "#E5ECF6",
            "gridcolor": "white",
            "gridwidth": 2,
            "linecolor": "white",
            "showbackground": true,
            "ticks": "",
            "zerolinecolor": "white"
           },
           "zaxis": {
            "backgroundcolor": "#E5ECF6",
            "gridcolor": "white",
            "gridwidth": 2,
            "linecolor": "white",
            "showbackground": true,
            "ticks": "",
            "zerolinecolor": "white"
           }
          },
          "shapedefaults": {
           "line": {
            "color": "#2a3f5f"
           }
          },
          "ternary": {
           "aaxis": {
            "gridcolor": "white",
            "linecolor": "white",
            "ticks": ""
           },
           "baxis": {
            "gridcolor": "white",
            "linecolor": "white",
            "ticks": ""
           },
           "bgcolor": "#E5ECF6",
           "caxis": {
            "gridcolor": "white",
            "linecolor": "white",
            "ticks": ""
           }
          },
          "title": {
           "x": 0.05
          },
          "xaxis": {
           "automargin": true,
           "gridcolor": "white",
           "linecolor": "white",
           "ticks": "",
           "title": {
            "standoff": 15
           },
           "zerolinecolor": "white",
           "zerolinewidth": 2
          },
          "yaxis": {
           "automargin": true,
           "gridcolor": "white",
           "linecolor": "white",
           "ticks": "",
           "title": {
            "standoff": 15
           },
           "zerolinecolor": "white",
           "zerolinewidth": 2
          }
         }
        },
        "title": {
         "text": "Sets created in each decade"
        }
       }
      },
      "text/html": [
       "<div>                            <div id=\"6fcda625-916a-4d49-90ec-f452ec28d4ac\" class=\"plotly-graph-div\" style=\"height:525px; width:100%;\"></div>            <script type=\"text/javascript\">                require([\"plotly\"], function(Plotly) {                    window.PLOTLYENV=window.PLOTLYENV || {};                                    if (document.getElementById(\"6fcda625-916a-4d49-90ec-f452ec28d4ac\")) {                    Plotly.newPlot(                        \"6fcda625-916a-4d49-90ec-f452ec28d4ac\",                        [{\"branchvalues\":\"total\",\"customdata\":[[\"(?)\",1969.250095213914],[\"(?)\",1978.0458155161882],[\"(?)\",1983.75152278933],[\"(?)\",2003.5653400460048],[\"(?)\",1967.711460018991],[\"(?)\",1976.1752712192833],[\"(?)\",1984.1433508531932],[\"(?)\",2001.767571978086],[\"(?)\",1994.3048438048438],[\"(?)\",2001.0],[\"(?)\",2000.0],[\"(?)\",2016.5001239771882],[\"76196-1\",2021.0],[\"(?)\",1999.5001250312578],[\"9377-1\",1998.0],[\"(?)\",2008.384733233751],[\"(?)\",2006.8131124979238],[\"(?)\",2015.6913274007009],[\"(?)\",1970.0],[\"(?)\",1975.3705104977087],[\"(?)\",1986.625495501164],[\"(?)\",1994.0013373453694],[\"(?)\",2011.0],[\"(?)\",2001.0],[\"(?)\",2016.0],[\"(?)\",1995.5001252818843],[\"(?)\",1997.0],[\"(?)\",2007.0],[\"(?)\",1996.5011269722013],[\"6104-1\",1996.0],[\"(?)\",2008.800278773397],[\"(?)\",2014.8166082451842],[\"(?)\",2021.6667765869745],[\"(?)\",2015.8019644806031],[\"(?)\",1999.6366612111292],[\"(?)\",2010.0],[\"(?)\",2011.0],[\"75574-1\",2022.0],[\"(?)\",2006.0],[\"(?)\",2016.9695128612364],[\"(?)\",2021.2667634156799],[\"(?)\",1987.2427413438745],[\"(?)\",1994.2354484088717],[\"(?)\",1987.0701872106288],[\"(?)\",1996.5096356754004],[\"(?)\",2004.8957774452579],[\"(?)\",2013.377041038058],[\"(?)\",1956.7526510795963],[\"(?)\",1967.424139346666],[\"(?)\",1975.6430350914657],[\"(?)\",1985.058137160129],[\"(?)\",1996.3083637668258],[\"(?)\",2003.0465569887729],[\"(?)\",2006.8575597949887],[\"(?)\",2016.0837315865306],[\"(?)\",2021.2106085462074],[\"(?)\",2003.980857230828],[\"(?)\",1997.476701836068],[\"(?)\",2010.0],[\"(?)\",2004.6500053771174],[\"(?)\",2015.4187715634123],[\"10039-1\",2002.0],[\"(?)\",1985.500797448166],[\"(?)\",1989.5003769791406],[\"(?)\",1993.0015052684396],[\"(?)\",1987.8576356449873],[\"(?)\",1991.5002690003946],[\"(?)\",1975.4467067889082],[\"(?)\",1984.5741433918802],[\"(?)\",1993.5031351893654],[\"(?)\",2003.9712988748129],[\"(?)\",2008.5021160069705],[\"(?)\",2016.3687913226881],[\"(?)\",2021.2248052965995],[\"(?)\",1957.0023846022825],[\"(?)\",1964.3599505472528],[\"(?)\",1976.337493675156],[\"(?)\",1984.172784544309],[\"(?)\",1999.0007503751876],[\"(?)\",2020.0],[\"(?)\",2021.5001236705416],[\"(?)\",2019.0],[\"(?)\",2021.0],[\"(?)\",2018.12051810596],[\"(?)\",2021.4334548092938],[\"(?)\",2014.500124100273],[\"7796-1\",2008.0],[\"(?)\",2018.0],[\"(?)\",1966.8027252389668],[\"(?)\",1973.4466527785598],[\"(?)\",1976.15726552493],[\"(?)\",2002.5201499409834],[\"(?)\",1999.8982090923007],[\"(?)\",2007.800079689212],[\"(?)\",2015.0019851116626],[\"(?)\",2010.0],[\"(?)\",2012.826816295517],[\"(?)\",2005.5651780984138],[\"(?)\",2013.3751164090147],[\"WEETABIX1-1\",1970.0],[\"0016-1\",1979.0],[\"(?)\",1994.8913334075971],[\"(?)\",2019.4446767537827],[\"(?)\",2021.0],[\"(?)\",2005.697067321214],[\"(?)\",2015.6864583483125],[\"(?)\",2021.0],[\"(?)\",1977.5001264222503],[\"(?)\",1988.0010060362174],[\"(?)\",1995.620360020044],[\"(?)\",2017.0],[\"(?)\",2007.6263308635826],[\"(?)\",2016.7793785725337],[\"(?)\",2021.5223456471197],[\"6472-1\",2001.0],[\"(?)\",1999.476315225416],[\"(?)\",2017.4300854458763],[\"(?)\",2021.6471717877096],[\"700K-1\",1960.0],[\"(?)\",1963.0020376974019],[\"(?)\",1998.638455970022],[\"(?)\",1978.6667789757412],[\"(?)\",1981.5003785011354],[\"(?)\",1979.2084166649124],[\"(?)\",1984.6631241133928],[\"(?)\",1978.7574812472476],[\"(?)\",1986.0937822555877],[\"(?)\",1993.7766004040745],[\"(?)\",2004.2121414902733],[\"(?)\",2008.000083001328],[\"(?)\",2015.0019851116626],[\"369-1\",1976.0],[\"(?)\",2009.0001422171656],[\"(?)\",2015.4718815412048],[\"71034-0\",2022.0],[\"8241-1\",2001.0],[\"(?)\",1998.4708895037381],[\"(?)\",2012.9586429591604],[\"(?)\",2007.3214634437957],[\"(?)\",2015.4411883275964],[\"(?)\",2021.6667765869745],[\"(?)\",1970.0],[\"(?)\",1973.1517877505512],[\"(?)\",2002.0],[\"(?)\",1995.4003207376968],[\"(?)\",2006.2788810992638],[\"(?)\",2014.2409497341093],[\"(?)\",2021.379426816786],[\"03093-1\",1999.0],[\"(?)\",2008.205924412666],[\"(?)\",2015.7535807034753],[\"(?)\",2021.4286925795052],[\"(?)\",2006.2896610652235],[\"(?)\",2015.7076289872116],[\"(?)\",1990.0],[\"(?)\",1993.2538567665872],[\"(?)\",2015.6271007751939],[\"(?)\",2016.251084934904],[\"(?)\",2016.8334021981655],[\"(?)\",2020.0],[\"(?)\",2016.0],[\"(?)\",2020.0],[\"(?)\",2021.3907427590846],[\"(?)\",1996.0],[\"1024601-1\",2001.0],[\"(?)\",1998.1600672618808],[\"(?)\",2003.778085837862],[\"(?)\",2015.7061458546123],[\"(?)\",2008.0],[\"(?)\",2012.0],[\"(?)\",1997.4618169214773],[\"(?)\",2005.1667359321752],[\"(?)\",2005.2858160575622],[\"(?)\",2000.0],[\"(?)\",2001.0],[\"(?)\",2003.0],[\"(?)\",2017.2868068833652],[\"(?)\",2021.3158963676606],[\"(?)\",2013.250093132994],[\"(?)\",2017.213543976831],[\"(?)\",2021.2381849879848],[\"(?)\",2016.0],[\"(?)\",2019.0],[\"(?)\",2016.6174092157462],[\"(?)\",2021.0],[\"(?)\",2000.0],[\"(?)\",1997.0833715835593],[\"(?)\",2015.2500930405656],[\"(?)\",2001.0],[\"(?)\",2004.0],[\"(?)\",2004.7928644561707],[\"(?)\",2016.0910657256977],[\"(?)\",2021.6177638757547],[\"(?)\",1977.0044511886697],[\"(?)\",1985.5018527179193],[\"(?)\",1994.7695732948011],[\"(?)\",2005.5485245455782],[\"(?)\",2015.3773668494873],[\"(?)\",1977.3351314902225],[\"(?)\",1986.3415668716125],[\"(?)\",1996.141619190245],[\"(?)\",2013.0],[\"(?)\",2001.7594356686361],[\"(?)\",2005.7030961758987],[\"(?)\",2015.838418079096],[\"(?)\",2021.6667765869745],[\"(?)\",1987.5031446540881],[\"(?)\",1997.3404539385847],[\"(?)\",2006.2835820895523],[\"(?)\",2014.8677521880638],[\"(?)\",2021.06669745349],[\"(?)\",1985.5001259128683],[\"(?)\",1996.8922212330292],[\"(?)\",2016.2862642293703],[\"(?)\",2006.8726291572575],[\"(?)\",1978.4067194237787],[\"(?)\",1981.5716963448922],[\"(?)\",1996.0],[\"(?)\",1998.4763152878384],[\"(?)\",2005.5041136873597],[\"(?)\",2017.5034755413938],[\"(?)\",2021.0],[\"9782-1\",2000.0],[\"(?)\",1979.2500947328533],[\"(?)\",1984.5201916008632],[\"(?)\",2006.5724049551475],[\"(?)\",2018.0],[\"(?)\",2007.866923434491],[\"(?)\",2009.3751166407465],[\"(?)\",2018.6667767503302],[\"60287-1\",2021.0],[\"(?)\",2006.28125685348],[\"(?)\",2012.0],[\"(?)\",1977.0],[\"(?)\",1984.1706005879882],[\"(?)\",1994.432991906024],[\"(?)\",2007.3455125710282],[\"(?)\",2015.6636970106401],[\"(?)\",2021.2858152519614],[\"(?)\",1969.7500951897448],[\"(?)\",1973.5569192658484],[\"(?)\",1989.00057458881],[\"(?)\",2019.0],[\"(?)\",1996.2976996470027],[\"(?)\",2016.3984476097112],[\"(?)\",2021.4126198883207],[\"(?)\",1997.3751173415108],[\"(?)\",2018.1509550826252],[\"(?)\",2021.5556776959438],[\"(?)\",2014.0],[\"(?)\",1988.2109275730622],[\"(?)\",2013.0],[\"(?)\",2002.0],[\"(?)\",2009.4738082765846],[\"(?)\",2011.6074034620506],[\"621-2\",1970.0],[\"(?)\",1973.202513683357],[\"(?)\",2006.4100296610857],[\"(?)\",2015.9809133042215],[\"(?)\",2021.1818917824855],[\"710-2\",1966.0],[\"(?)\",1976.002024291498],[\"1955-2\",1984.0],[\"(?)\",1999.1676412791044],[\"(?)\",1970.0],[\"(?)\",1973.833741450646],[\"(?)\",2016.0],[\"(?)\",2003.1818924438394],[\"(?)\",2015.0919426148155],[\"76217-1\",2022.0],[\"(?)\",1957.750095773209],[\"(?)\",2005.863756142725],[\"(?)\",2014.6711449371278],[\"(?)\",2021.0],[\"(?)\",1999.3337779259753],[\"(?)\",2008.3341078838175],[\"(?)\",2014.505300854519],[\"952107-1\",2021.0],[\"(?)\",1976.0003373819163],[\"(?)\",2003.49484797726],[\"(?)\",2017.449193148648],[\"(?)\",2021.4001187295933],[\"(?)\",2018.0],[\"(?)\",2020.0],[\"(?)\",2010.0],[\"(?)\",2013.1005745699006],[\"(?)\",2010.0],[\"(?)\",2012.0275505406676],[\"(?)\",2019.6251160487714],[\"10021-1\",2003.0],[\"(?)\",1975.8754349338901],[\"(?)\",2003.4118856069058],[\"(?)\",1975.1002155876397],[\"5235-2\",1982.0],[\"(?)\",2006.6005182896442],[\"(?)\",2015.2036522429535],[\"(?)\",1970.0],[\"(?)\",1974.2874095513748],[\"(?)\",1998.0],[\"(?)\",1994.0014589222212],[\"(?)\",2020.0],[\"(?)\",2021.4001187295933],[\"6291-1\",2001.0],[\"(?)\",1996.0],[\"(?)\",1989.0],[\"(?)\",1992.5013801756588],[\"(?)\",2008.3685369113446],[\"(?)\",1998.3685374911113],[\"(?)\",2003.0],[\"(?)\",2015.1289001922958],[\"76194-1\",2021.0],[\"(?)\",2002.2308578892773],[\"6292-1\",2001.0],[\"(?)\",1994.0],[\"(?)\",2001.53583855254],[\"(?)\",2013.7145289443813],[\"(?)\",1967.3337851575736],[\"(?)\",2017.0],[\"(?)\",1999.0],[\"(?)\",2015.6575712004465],[\"(?)\",2001.0],[\"(?)\",2018.0469401085659],[\"(?)\",2021.633448201949],[\"(?)\",2018.0],[\"(?)\",2016.1257362514725],[\"(?)\",2007.084258436347],[\"(?)\",2015.3745838377185],[\"(?)\",2021.4311558046109],[\"(?)\",1998.1594890030292],[\"(?)\",2010.0],[\"(?)\",2011.3334438183626],[\"(?)\",2006.0],[\"(?)\",2000.0],[\"(?)\",2004.7125813152572],[\"(?)\",2020.0],[\"(?)\",2021.5001236705416],[\"(?)\",2009.1474433107405],[\"(?)\",2015.4212481024972],[\"(?)\",2021.1429177268872],[\"LEGO-Classic-1\",1965.0],[\"(?)\",1996.3387877775922],[\"(?)\",2008.2870963152652],[\"(?)\",2015.6465620090482],[\"(?)\",2021.3751159483024],[\"(?)\",2016.6248743550225],[\"(?)\",2021.3847324758353],[\"(?)\",2019.2778771287865],[\"(?)\",2021.0],[\"(?)\",1995.0],[\"(?)\",2006.3361023425819],[\"2000524-1\",2015.0],[\"(?)\",1972.0],[\"(?)\",1990.0],[\"(?)\",2013.969655822343],[\"102-3\",1969.0],[\"(?)\",2004.6701030927834],[\"(?)\",2015.5690927132318],[\"(?)\",2021.5001236705416],[\"(?)\",2000.0],[\"(?)\",2006.4598553282801],[\"(?)\",2001.0],[\"78777-1\",2000.0],[\"10000-1\",2001.0],[\"5004419-1\",2016.0],[\"(?)\",1985.8901695294578],[\"(?)\",1999.300105036763],[\"(?)\",2003.4667908957806],[\"(?)\",2021.0],[\"(?)\",1990.0],[\"(?)\",1991.0],[\"(?)\",2019.0833711667835],[\"(?)\",2007.5264399758803],[\"(?)\",2021.0],[\"(?)\",2015.7510852040184],[\"(?)\",2011.9525928380394],[\"(?)\",2016.0],[\"(?)\",2005.0019950124688],[\"(?)\",2015.1384972819344],[\"88016-1\",2021.0],[\"(?)\",2017.202352079806],[\"(?)\",2021.6072608426819],[\"10230-1\",2012.0],[\"(?)\",2020.0],[\"(?)\",2021.0],[\"(?)\",1970.0],[\"(?)\",1972.801500405515],[\"(?)\",2004.0],[\"(?)\",2002.058851182606],[\"(?)\",2014.975538529687],[\"10151-1\",2004.0],[\"(?)\",1987.0015098137897],[\"(?)\",1995.6395772594751],[\"(?)\",2008.2006772233842],[\"(?)\",2015.5040932771024],[\"(?)\",2021.5001236705416],[\"(?)\",1963.0],[\"(?)\",2020.0],[\"(?)\",2021.4783843076525],[\"(?)\",2012.0],[\"(?)\",2009.4075644192133],[\"(?)\",2015.4959616088495],[\"(?)\",2004.3351072675869],[\"40179-1\",2016.0],[\"(?)\",2017.0],[\"(?)\",2007.4066025796376],[\"(?)\",2012.2865966207582],[\"(?)\",1996.0],[\"(?)\",2016.6551197549609],[\"(?)\",1998.774410122333],[\"(?)\",2015.8961611262273],[\"(?)\",2021.4126198883207],[\"(?)\",2017.0344992648818],[\"(?)\",2016.5032647326225],[\"(?)\",2003.0],[\"(?)\",2007.0625732708088],[\"(?)\",2016.0677062343057],[\"(?)\",2021.1667353838543],[\"(?)\",1957.666780180487],[\"(?)\",1965.334803256445],[\"(?)\",1997.0],[\"(?)\",2018.7693187014174],[\"(?)\",1994.4463509749303],[\"(?)\",2011.0],[\"(?)\",2016.5016117034465],[\"(?)\",2006.6274839593846],[\"(?)\",2014.0004965243297],[\"(?)\",1993.0005017561466],[\"(?)\",2001.0],[\"(?)\",1989.0],[\"(?)\",1993.9136341510186],[\"(?)\",2009.0909502262443],[\"(?)\",2015.0],[\"(?)\",2011.3539320913637],[\"(?)\",2003.4326868225899],[\"10505-1\",2013.0],[\"(?)\",1979.5001262945189],[\"(?)\",1985.8025984489877],[\"(?)\",1994.0362916032832],[\"(?)\",2005.9234191049584],[\"(?)\",2007.501187214612],[\"(?)\",2015.6200816700377],[\"(?)\",2021.222307734594],[\"(?)\",1974.8016001620417],[\"(?)\",2008.5334572490706],[\"(?)\",2012.0004970178927],[\"(?)\",2009.1739845491334],[\"(?)\",2019.200178288431],[\"(?)\",2021.0],[\"(?)\",2003.167235210916],[\"(?)\",1966.7518749205542],[\"(?)\",1998.4179558817398],[\"(?)\",2010.0],[\"(?)\",2005.8340673036976],[\"(?)\",2009.1667357942763],[\"(?)\",2017.1571030883467],[\"(?)\",2021.2353831378598],[\"LIFECEREAL-1\",1969.0],[\"(?)\",1999.6003200640127],[\"(?)\",2015.0],[\"(?)\",2004.8186187820252],[\"(?)\",2002.6685252996006],[\"(?)\",1998.7370444491257],[\"(?)\",2001.0],[\"(?)\",2000.0],[\"(?)\",2005.5612578748091],[\"(?)\",2011.3077982177688],[\"5600-1\",1998.0],[\"(?)\",1986.2409196614801],[\"(?)\",1998.1818926296633],[\"(?)\",1997.0],[\"(?)\",2001.0],[\"(?)\",1999.9629807959407],[\"(?)\",1999.5295363614969],[\"(?)\",1995.667112076165],[\"(?)\",1967.3381904439173],[\"DELMONTE1-1\",1971.0],[\"(?)\",2001.0],[\"(?)\",1979.3334456045807],[\"(?)\",1998.450474117441],[\"(?)\",2015.1000446627959],[\"3724-1\",2001.0],[\"(?)\",2000.0],[\"(?)\",2005.0063175394846],[\"(?)\",2017.364034423408],[\"(?)\",2021.6001187178472],[\"(?)\",2010.0],[\"(?)\",2013.0],[\"(?)\",2013.0526563480444],[\"(?)\",2014.0],[\"(?)\",2015.0],[\"(?)\",2015.0],[\"(?)\",2016.0],[\"(?)\",2016.0],[\"(?)\",2017.0],[\"(?)\",2018.0],[\"(?)\",2019.0],[\"(?)\",2010.0],[\"(?)\",2020.0],[\"(?)\",2021.0],[\"(?)\",2022.0],[\"(?)\",2011.0],[\"(?)\",2011.0],[\"(?)\",2011.0],[\"(?)\",2012.0],[\"(?)\",2012.0],[\"(?)\",2012.0],[\"(?)\",2013.0],[\"(?)\",2002.559981419115],[\"(?)\",2013.8503115922238],[\"(?)\",1977.1502162203171],[\"(?)\",1986.135699623614],[\"(?)\",1995.5655856176722],[\"(?)\",2017.6164169430783],[\"21057-1\",2022.0],[\"(?)\",2002.3777231978386],[\"(?)\",1998.9307303906742],[\"(?)\",2015.3334435990737],[\"45003-1\",2013.0],[\"(?)\",1999.0002501250626],[\"(?)\",2002.3334443149658],[\"(?)\",2014.500124100273],[\"(?)\",1974.6674544226873],[\"9355-1\",1990.0],[\"(?)\",1995.5001252818843],[\"(?)\",1989.0],[\"(?)\",1993.3773750548692],[\"(?)\",2009.294220973125],[\"(?)\",1999.0],[\"(?)\",2017.2969547436373],[\"(?)\",2021.4616614026409],[\"(?)\",2008.0],[\"(?)\",2001.0],[\"(?)\",2000.0],[\"(?)\",2013.400119201351],[\"(?)\",2003.4447895291441],[\"(?)\",2016.9521999466062],[\"(?)\",2021.3001038935338],[\"(?)\",2017.4021017150787],[\"(?)\",2021.5001236705416],[\"(?)\",2007.4006177144565],[\"(?)\",2011.500124285359],[\"(?)\",2000.0],[\"(?)\",2002.0],[\"(?)\",1995.0012252854358],[\"(?)\",2005.8196842065076],[\"(?)\",2015.875388162492],[\"(?)\",2021.456005063328],[\"(?)\",1999.6411407175647],[\"(?)\",1998.0],[\"(?)\",2019.0],[\"(?)\",2001.1200527704486],[\"(?)\",2000.0],[\"(?)\",2016.7125307911322],[\"(?)\",2016.9247902364607],[\"(?)\",2021.4616614026409],[\"(?)\",2020.0],[\"(?)\",2021.4027163856908],[\"(?)\",2013.155668488021],[\"(?)\",2007.525545232062],[\"(?)\",2015.0032754342433],[\"(?)\",1949.7500961661751],[\"(?)\",1956.3835559792785],[\"(?)\",1965.8786752857766],[\"(?)\",1975.9904090244956],[\"(?)\",1986.168966302641],[\"(?)\",1995.5141746778481],[\"(?)\",1949.0],[\"1300-1\",1955.0],[\"(?)\",1964.4402977951704],[\"(?)\",2012.0],[\"(?)\",2004.6669389485762],[\"(?)\",2015.0296926160154],[\"(?)\",2021.4445665915462],[\"(?)\",1965.0],[\"(?)\",1978.5008002695645],[\"(?)\",1985.8039628854492],[\"(?)\",1995.5148175013787],[\"(?)\",2013.348068326603],[\"(?)\",2006.5061051582356],[\"(?)\",2014.5014478365185],[\"(?)\",2012.9568447881118],[\"(?)\",2017.2046261139967],[\"(?)\",2017.0],[\"(?)\",2018.0],[\"(?)\",2014.0612530271865],[\"(?)\",2018.984382618117],[\"(?)\",2013.0],[\"(?)\",2012.2942208190827],[\"(?)\",2022.0],[\"(?)\",2018.0],[\"(?)\",2014.0],[\"(?)\",2015.0],[\"(?)\",2006.6121708795924],[\"(?)\",1999.3334444814939],[\"(?)\",1996.444568121104],[\"(?)\",1993.9242698969947],[\"(?)\",2005.283046446443],[\"(?)\",2014.6022112104808],[\"(?)\",2021.0],[\"(?)\",1979.4548544135207],[\"(?)\",1986.228999748266],[\"(?)\",1995.8913940397858],[\"(?)\",2002.3334443149658],[\"(?)\",1997.8921836530396],[\"10184-1\",2008.0],[\"(?)\",1956.7151200992919],[\"(?)\",1964.4058236611688],[\"(?)\",2010.0],[\"(?)\",2019.0],[\"(?)\",2008.6964502164503],[\"(?)\",2015.4106880329316],[\"(?)\",2001.5003747189608],[\"(?)\",1977.0801990814737],[\"(?)\",1984.9047307169126],[\"(?)\",1994.5440626325735],[\"(?)\",2006.1698651380466],[\"(?)\",2014.9197237272012],[\"(?)\",2022.0],[\"(?)\",1984.7799921625706],[\"(?)\",1995.526265333246],[\"(?)\",2020.0],[\"7784-1\",2006.0],[\"(?)\",2017.6700809515942],[\"76240-1\",2021.0],[\"(?)\",1997.2633076841994],[\"(?)\",2005.3375284954407],[\"(?)\",2015.203387587667],[\"(?)\",2021.333443271768],[\"(?)\",2000.0],[\"(?)\",2014.6001191303485],[\"(?)\",2018.0],[\"(?)\",1994.7500939967415],[\"(?)\",1986.2033027892458],[\"(?)\",1994.6866935803055],[\"(?)\",2010.0],[\"(?)\",2021.0],[\"40004-1\",2010.0],[\"(?)\",2014.9050076926894],[\"(?)\",2021.8000791374022],[\"(?)\",2019.0],[\"(?)\",1989.0003351768057],[\"(?)\",1994.7194012747977],[\"4000030-1\",2018.0],[\"(?)\",1966.6694188861986],[\"(?)\",1973.245005144586],[\"(?)\",2005.3751168734027],[\"(?)\",2010.0],[\"(?)\",2011.9633488577583],[\"(?)\",2009.4169535105545],[\"(?)\",2015.0881178932832],[\"(?)\",2002.0],[\"(?)\",1976.0002530364372],[\"(?)\",1997.1074411201917],[\"(?)\",2002.500124843945],[\"(?)\",2001.0],[\"(?)\",2011.0],[\"(?)\",1999.222308675596],[\"(?)\",1992.3334448720093],[\"(?)\",2003.6669993900073],[\"(?)\",2010.0],[\"(?)\",2012.6671083140113],[\"(?)\",2004.5836624402411],[\"(?)\",2018.765028118535],[\"(?)\",2021.0],[\"(?)\",1998.3685374911113],[\"(?)\",2001.0],[\"(?)\",1999.0],[\"(?)\",2005.5339988621315],[\"(?)\",2015.833361021767],[\"(?)\",2021.3494234107336],[\"(?)\",1949.5455817206807],[\"(?)\",1956.6178264126638],[\"(?)\",1966.2338006187813],[\"(?)\",1976.2848602456045],[\"(?)\",1985.9427839418724],[\"(?)\",1996.6187098812634]],\"domain\":{\"x\":[0.0,1.0],\"y\":[0.0,1.0]},\"hovertemplate\":\"labels=%{label}<br>year_sum=%{value}<br>parent=%{parent}<br>id=%{id}<br>set_num=%{customdata[0]}<br>year=%{color}<extra></extra>\",\"ids\":[\"60's/12V\",\"70's/12V\",\"80's/12V\",\"20's/4 Juniors\",\"60's/4.5V\",\"70's/4.5V\",\"80's/4.5V\",\"20's/9V\",\"90's/9V\",\"20's/Action Wheelers\",\"90's/Action Wheelers\",\"21's/Advent\",\"22's/Advent\",\"90's/Advent\",\"90's/Adventurers\",\"20's/Agents\",\"20's/Airport\",\"21's/Airport\",\"60's/Airport\",\"70's/Airport\",\"80's/Airport\",\"90's/Airport\",\"21's/Alien Conquest\",\"20's/Alpha Team\",\"21's/Angry Birds\",\"90's/Aquanauts\",\"90's/Aquaraiders I\",\"20's/Aquaraiders II\",\"90's/Aquasharks\",\"90's/Aquazone\",\"20's/Architecture\",\"21's/Architecture\",\"22's/Architecture\",\"21's/Arctic\",\"90's/Arctic\",\"20's/Atlantis\",\"21's/Atlantis\",\"22's/Avatar\",\"20's/Avatar: The Last Airbender\",\"21's/Avengers\",\"22's/Avengers\",\"80's/Basic\",\"90's/Basic\",\"80's/Basic Model\",\"90's/Basic Model\",\"20's/Basic Set\",\"21's/Basic Set\",\"50's/Basic Set\",\"60's/Basic Set\",\"70's/Basic Set\",\"80's/Basic Set\",\"90's/Basic Set\",\"20's/Basketball\",\"20's/Batman\",\"21's/Batman\",\"22's/Batman\",\"20's/Belville\",\"90's/Belville\",\"20's/Ben 10\",\"20's/Bionicle\",\"21's/Bionicle\",\"20's/Black Falcons\",\"80's/Black Falcons\",\"80's/Black Knights\",\"90's/Black Knights\",\"80's/Blacktron I\",\"90's/Blacktron II\",\"70's/Boat\",\"80's/Boat\",\"90's/Boat\",\"20's/Bob the Builder\",\"20's/Books\",\"21's/Books\",\"22's/Books\",\"50's/Books\",\"60's/Books\",\"70's/Books\",\"80's/Books\",\"90's/Books\",\"21's/Brick Sketches\",\"22's/Brick Sketches\",\"21's/BrickLink Designer Program\",\"22's/BrickLink Designer Program\",\"21's/Brickheadz\",\"22's/Brickheadz\",\"21's/Bricktober\",\"20's/Building\",\"21's/Building\",\"60's/Building\",\"70's/Building\",\"70's/Building Set with People\",\"20's/Bulk Bricks\",\"90's/Bulk Bricks\",\"20's/Cargo\",\"21's/Cargo\",\"20's/Cars\",\"21's/Cars\",\"20's/Castle\",\"21's/Castle\",\"60's/Castle\",\"70's/Castle\",\"90's/Castle\",\"21's/Chinese Traditional Festivals\",\"22's/Chinese Traditional Festivals\",\"20's/Christmas\",\"21's/Christmas\",\"22's/Christmas\",\"70's/Christmas\",\"80's/Christmas\",\"90's/Christmas\",\"21's/Cities of Wonders\",\"20's/City\",\"21's/City\",\"22's/City\",\"20's/City Center\",\"90's/City Center\",\"21's/Classic\",\"22's/Classic\",\"50's/Classic\",\"60's/Classic\",\"90's/Classic Basic\",\"70's/Classic Castle\",\"80's/Classic Castle\",\"70's/Classic Space\",\"80's/Classic Space\",\"70's/Classic Town\",\"80's/Classic Town\",\"90's/Classic Town\",\"20's/Clikits\",\"20's/Coast Guard\",\"21's/Coast Guard\",\"70's/Coast Guard\",\"20's/Collectible Minifigures\",\"21's/Collectible Minifigures\",\"22's/Collectible Minifigures\",\"20's/Competition\",\"90's/Competition\",\"21's/Constraction\",\"20's/Construction\",\"21's/Construction\",\"22's/Construction\",\"60's/Construction\",\"70's/Construction\",\"20's/Control Lab\",\"90's/Control Lab\",\"20's/Creator\",\"21's/Creator\",\"22's/Creator\",\"90's/Creator\",\"20's/Creator 3-in-1\",\"21's/Creator 3-in-1\",\"22's/Creator 3-in-1\",\"20's/Creator Expert\",\"21's/Creator Expert\",\"80's/Crusaders\",\"90's/Crusaders\",\"21's/DC Comics\",\"21's/DC Comics Super Heroes\",\"21's/DC Super Hero Girls\",\"21's/DC Super Heroes\",\"21's/DFB Minifigures\",\"21's/DOTS\",\"22's/DOTS\",\"90's/Dark Forest\",\"20's/Desert\",\"90's/Desert\",\"20's/Designer Sets\",\"21's/Dimensions\",\"20's/Dino\",\"21's/Dino\",\"90's/Dino\",\"20's/Dino 2010\",\"20's/Dino Attack\",\"90's/Dino Island\",\"20's/Dinosaurs\",\"20's/Discovery\",\"21's/Disney\",\"22's/Disney\",\"21's/Disney Planes\",\"21's/Disney Princess\",\"22's/Disney Princess\",\"21's/Disney Series 1\",\"21's/Disney Series 2\",\"21's/Disney's Mickey Mouse\",\"22's/Disney's Mickey Mouse\",\"90's/Disney's Mickey Mouse\",\"90's/Divers\",\"21's/Doc McStuffins\",\"20's/Dolls\",\"20's/Dora the Explorer\",\"20's/Duplo\",\"21's/Duplo\",\"22's/Duplo\",\"70's/Duplo\",\"80's/Duplo\",\"90's/Duplo\",\"20's/Duplo and Explore\",\"21's/Duplo and Explore\",\"70's/Duplo and Explore\",\"80's/Duplo and Explore\",\"90's/Duplo and Explore\",\"21's/EV3\",\"20's/Early Creator\",\"20's/Easter\",\"21's/Easter\",\"22's/Easter\",\"80's/Easter\",\"90's/Easter\",\"20's/Educational and Dacta\",\"21's/Educational and Dacta\",\"22's/Educational and Dacta\",\"80's/Educational and Dacta\",\"90's/Educational and Dacta\",\"21's/Elves\",\"20's/Exo-Force\",\"70's/Expert Builder\",\"80's/Expert Builder\",\"90's/Exploriens\",\"90's/Extreme Team\",\"20's/FIRST LEGO League\",\"21's/FIRST LEGO League\",\"22's/FIRST LEGO League\",\"90's/FIRST LEGO League\",\"70's/Fabuland\",\"80's/Fabuland\",\"20's/Factory\",\"21's/Fantastic Beasts\",\"20's/Fantasy Era\",\"20's/Farm\",\"21's/Farm\",\"22's/Farm\",\"20's/Ferrari\",\"21's/Ferrari\",\"70's/Ferries\",\"80's/Ferries\",\"90's/Ferries\",\"20's/Fire\",\"21's/Fire\",\"22's/Fire\",\"60's/Fire\",\"70's/Fire\",\"80's/Forestmen\",\"21's/Forma\",\"90's/Freestyle\",\"21's/Friends\",\"22's/Friends\",\"90's/Fright Knights\",\"21's/Frozen\",\"22's/Frozen\",\"21's/Fusion\",\"80's/Futuron\",\"21's/Galaxy Squad\",\"20's/Galidor\",\"20's/Games\",\"21's/Games\",\"60's/Gas Station\",\"70's/Gas Station\",\"20's/Gear\",\"21's/Gear\",\"22's/Gear\",\"60's/Gear\",\"70's/Gear\",\"80's/Gear\",\"90's/Gear\",\"60's/Gears\",\"70's/Gears\",\"21's/Ghostbusters\",\"20's/Gravity Games\",\"21's/Guardians of the Galaxy\",\"22's/Guardians of the Galaxy\",\"50's/HO 1:87 Vehicles\",\"20's/Halloween\",\"21's/Halloween\",\"22's/Halloween\",\"90's/Halloween\",\"20's/Harbor\",\"21's/Harbor\",\"22's/Harbor\",\"70's/Harbor\",\"20's/Harry Potter\",\"21's/Harry Potter\",\"22's/Harry Potter\",\"21's/Harry Potter and Fantastic Beasts Series 1\",\"21's/Harry Potter and Fantastic Beasts Series 2\",\"20's/Hero Factory\",\"21's/Hero Factory\",\"20's/Heroes\",\"21's/Heroes\",\"21's/Hidden Side\",\"20's/Hobby Sets\",\"70's/Hobby Sets\",\"20's/Hockey\",\"70's/Homemaker\",\"80's/Homemaker\",\"20's/Hospital\",\"21's/Hospital\",\"60's/Hospital\",\"70's/Hospital\",\"90's/Hydronauts\",\"90's/Ice Planet 2002\",\"21's/Icons\",\"22's/Icons\",\"20's/Imperial Armada\",\"90's/Imperial Armada\",\"80's/Imperial Soldiers\",\"90's/Imperial Soldiers\",\"20's/Indiana Jones\",\"90's/Insectoids\",\"20's/Inventor\",\"21's/Iron Man\",\"22's/Iron Man\",\"20's/Island Xtreme Stunts\",\"20's/Islanders\",\"90's/Islanders\",\"20's/Jack Stone\",\"21's/Jake and the Never Land Pirates\",\"60's/Jumbo Bricks\",\"21's/Jungle\",\"90's/Jungle\",\"21's/Juniors\",\"20's/Jurassic Park III\",\"21's/Jurassic World\",\"22's/Jurassic World\",\"21's/Jurassic World: Fallen Kingdom\",\"21's/Justice League\",\"20's/Key Chain\",\"21's/Key Chain\",\"22's/Key Chain\",\"90's/Key Chain\",\"20's/Kingdoms\",\"21's/Kingdoms\",\"20's/Knights Kingdom I\",\"90's/Knights Kingdom I\",\"20's/Knights Kingdom II\",\"21's/LEGO Art\",\"22's/LEGO Art\",\"20's/LEGO Brand Store\",\"21's/LEGO Brand Store\",\"22's/LEGO Brand Store\",\"60's/LEGO Brand Store\",\"90's/LEGO Brand Store\",\"20's/LEGO Exclusive\",\"21's/LEGO Exclusive\",\"22's/LEGO Exclusive\",\"21's/LEGO Ideas and CUUSOO\",\"22's/LEGO Ideas and CUUSOO\",\"21's/LEGO Originals\",\"22's/LEGO Originals\",\"90's/Launch Command\",\"20's/Learning\",\"21's/Learning\",\"70's/Learning\",\"80's/Learning\",\"21's/Legends of Chima\",\"60's/Legoland\",\"20's/Legoland Parks\",\"21's/Legoland Parks\",\"22's/Legoland Parks\",\"90's/Legoland Parks\",\"20's/Legoville\",\"20's/Life On Mars\",\"90's/Life On Mars\",\"20's/Lion Knights\",\"21's/Lion Knights\",\"80's/Lion Knights\",\"90's/Little Forest Friends\",\"20's/Little Robots\",\"22's/Looney Tunes\",\"80's/M:Tron\",\"90's/M:Tron\",\"21's/Mars Exploration\",\"20's/Mars Mission\",\"22's/Marvel\",\"21's/Marvel Super Heroes\",\"21's/Master Builder Academy\",\"21's/Miles From Tomorrowland\",\"20's/Mindstorms\",\"21's/Mindstorms\",\"22's/Mindstorms\",\"21's/Minecraft\",\"22's/Minecraft\",\"21's/Mini\",\"21's/Minions\",\"22's/Minions\",\"60's/Minitalia\",\"70's/Minitalia\",\"20's/Mission Deep Freeze\",\"20's/Mission Deep Sea\",\"21's/Mixels\",\"20's/Model Team\",\"80's/Model Team\",\"90's/Model Team\",\"20's/Modular Buildings\",\"21's/Modular Buildings\",\"22's/Modular Buildings\",\"60's/Modulex\",\"21's/Monkie Kid\",\"22's/Monkie Kid\",\"21's/Monster Fighters\",\"20's/Monthly Mini Model Build\",\"21's/Monthly Mini Model Build\",\"20's/Mosaic\",\"21's/Mosaic\",\"21's/My Town\",\"20's/NXT\",\"21's/NXT\",\"90's/NXT\",\"21's/Nexo Knights\",\"90's/Ninja\",\"21's/Ninjago\",\"22's/Ninjago\",\"21's/Ninjago The Movie\",\"21's/Off-Road\",\"20's/Orient Expedition\",\"20's/Other\",\"21's/Other\",\"22's/Other\",\"50's/Other\",\"60's/Other\",\"90's/Outback\",\"21's/Overwatch\",\"90's/Paradisa\",\"21's/Pharaoh's Quest\",\"21's/Pick A Model\",\"20's/Pirates\",\"21's/Pirates\",\"90's/Pirates\",\"20's/Pirates I\",\"80's/Pirates I\",\"90's/Pirates I\",\"20's/Pirates II\",\"21's/Pirates III\",\"21's/Pirates of the Caribbean\",\"20's/Playhouse\",\"21's/Playhouse\",\"70's/Playhouse\",\"80's/Playhouse\",\"90's/Playhouse\",\"20's/Playsets\",\"20's/Police\",\"21's/Police\",\"22's/Police\",\"70's/Police\",\"20's/Power Functions\",\"21's/Power Functions\",\"20's/Power Miners\",\"21's/Powered Up\",\"22's/Powered Up\",\"20's/Primo\",\"60's/Primo\",\"90's/Primo\",\"20's/Prince of Persia\",\"20's/Princess Castle\",\"20's/Promotional\",\"21's/Promotional\",\"22's/Promotional\",\"60's/Promotional\",\"90's/Promotional\",\"21's/Protectors\",\"20's/Quatro\",\"20's/RCX\",\"90's/RCX\",\"20's/Race\",\"90's/Race\",\"20's/Racers\",\"21's/Racers\",\"90's/Racers\",\"80's/Rattles\",\"90's/Res-Q\",\"90's/RoboForce\",\"20's/RoboRiders\",\"90's/RoboRiders\",\"90's/Rock Raiders\",\"90's/Royal Knights\",\"60's/Samsonite\",\"70's/Samsonite\",\"20's/Scala\",\"70's/Scala\",\"90's/Scala\",\"21's/Scooby-Doo\",\"20's/Sculptures\",\"90's/Sculptures\",\"20's/Seasonal\",\"21's/Seasonal\",\"22's/Seasonal\",\"20's/Series 1 Minifigures\",\"21's/Series 10 Minifigures\",\"21's/Series 11 Minifigures\",\"21's/Series 12 Minifigures\",\"21's/Series 13 Minifigures\",\"21's/Series 14 Minifigures\",\"21's/Series 15 Minifigures\",\"21's/Series 16 Minifigures\",\"21's/Series 17 Minifigures\",\"21's/Series 18 Minifigures\",\"21's/Series 19 Minifigures\",\"20's/Series 2 Minifigures\",\"21's/Series 20 Minifigures\",\"22's/Series 21 Minifigures\",\"22's/Series 22 Minifigures\",\"21's/Series 3 Minifigures\",\"21's/Series 4 Minifigures\",\"21's/Series 5 Minifigures\",\"21's/Series 6 Minifigures\",\"21's/Series 7 Minifigures\",\"21's/Series 8 Minifigures\",\"21's/Series 9 Minifigures\",\"20's/Service Packs\",\"21's/Service Packs\",\"70's/Service Packs\",\"80's/Service Packs\",\"90's/Service Packs\",\"21's/Skylines\",\"22's/Skylines\",\"20's/Soccer\",\"90's/Soccer\",\"21's/Sofia the First\",\"21's/Soft Bricks\",\"90's/Soft Bricks\",\"20's/Space\",\"21's/Space\",\"70's/Space\",\"80's/Space\",\"90's/Space\",\"80's/Space Police I\",\"90's/Space Police II\",\"20's/Space Police III\",\"90's/Space Port\",\"21's/Speed Champions\",\"22's/Speed Champions\",\"20's/Speed Racer\",\"20's/Speed Slammers\",\"90's/Speed Slammers\",\"21's/Speedorz\",\"20's/Spider-Man\",\"21's/Spider-Man\",\"22's/Spider-Man\",\"21's/Spiderman\",\"22's/Spiderman\",\"20's/SpongeBob SquarePants\",\"21's/SpongeBob SquarePants\",\"90's/Sports\",\"20's/Spybotics\",\"90's/Spyrius\",\"20's/Star Wars\",\"21's/Star Wars\",\"22's/Star Wars\",\"90's/Star Wars\",\"90's/Stingrays\",\"21's/Stranger Things\",\"20's/Studios\",\"90's/Studios\",\"21's/Super Heroes DC\",\"21's/Super Heroes Marvel\",\"22's/Super Heroes Marvel\",\"21's/Super Mario\",\"22's/Super Mario\",\"21's/Superman\",\"20's/Supplemental\",\"21's/Supplemental\",\"40's/Supplemental\",\"50's/Supplemental\",\"60's/Supplemental\",\"70's/Supplemental\",\"80's/Supplemental\",\"90's/Supplemental\",\"40's/System\",\"50's/System\",\"60's/System\",\"21's/Team GB\",\"20's/Technic\",\"21's/Technic\",\"22's/Technic\",\"60's/Technic\",\"70's/Technic\",\"80's/Technic\",\"90's/Technic\",\"21's/Teenage Mutant Ninja Turtles\",\"20's/Thanksgiving\",\"21's/Thanksgiving\",\"21's/The Hobbit\",\"21's/The LEGO Batman Movie\",\"21's/The LEGO Batman Movie Series 1\",\"21's/The LEGO Batman Movie Series 2\",\"21's/The LEGO Movie\",\"21's/The LEGO Movie II\",\"21's/The Lone Ranger\",\"21's/The Lord of the Rings\",\"22's/The Muppets\",\"21's/The Powerpuff Girls\",\"21's/The Simpsons Series 1\",\"21's/The Simpsons Series 2\",\"20's/Thomas & Friends\",\"90's/Throwbot Slizer\",\"90's/Time Cruisers\",\"90's/Toolo\",\"20's/Town\",\"21's/Town\",\"22's/Town\",\"70's/Town\",\"80's/Town\",\"90's/Town\",\"20's/Town Jr.\",\"90's/Town Jr.\",\"20's/Town Plan\",\"50's/Town Plan\",\"60's/Town Plan\",\"20's/Toy Story\",\"21's/Toy Story\",\"20's/Traffic\",\"21's/Traffic\",\"20's/Train\",\"70's/Train\",\"80's/Train\",\"90's/Train\",\"20's/Trains\",\"21's/Trains\",\"22's/Trains\",\"80's/Trains\",\"90's/Trains\",\"21's/Trolls: World Tour\",\"20's/UCS\",\"21's/UCS\",\"22's/UCS\",\"90's/UFO\",\"20's/Ultimate Collector Series\",\"21's/Ultimate Collector Series\",\"22's/Ultimate Collector Series\",\"90's/Ultimate Collector Series\",\"21's/Ultra Agents\",\"21's/Unikitty!\",\"90's/Unitron\",\"80's/Universal Building Set\",\"90's/Universal Building Set\",\"20's/Universe\",\"22's/VIDIYO\",\"20's/Valentine\",\"21's/Valentine\",\"22's/Valentine\",\"21's/Value Packs\",\"80's/Value Packs\",\"90's/Value Packs\",\"21's/Vehicle\",\"60's/Vehicle\",\"70's/Vehicle\",\"20's/Vikings\",\"20's/Villains\",\"21's/Villains\",\"20's/WeDo\",\"21's/WeDo\",\"20's/Western\",\"70's/Western\",\"90's/Western\",\"20's/Williams F1\",\"20's/Winnie the Pooh\",\"21's/Winnie the Pooh\",\"90's/Winnie the Pooh\",\"90's/Wolfpack\",\"20's/World City\",\"20's/World Racers\",\"21's/X-Men\",\"20's/X-Pod\",\"21's/Xtra\",\"22's/Xtra\",\"90's/Znap\",\"20's/Zooters\",\"90's/eLAB\",\"20's\",\"21's\",\"22's\",\"40's\",\"50's\",\"60's\",\"70's\",\"80's\",\"90's\"],\"labels\":[\"12V\",\"12V\",\"12V\",\"4 Juniors\",\"4.5V\",\"4.5V\",\"4.5V\",\"9V\",\"9V\",\"Action Wheelers\",\"Action Wheelers\",\"Advent\",\"Advent\",\"Advent\",\"Adventurers\",\"Agents\",\"Airport\",\"Airport\",\"Airport\",\"Airport\",\"Airport\",\"Airport\",\"Alien Conquest\",\"Alpha Team\",\"Angry Birds\",\"Aquanauts\",\"Aquaraiders I\",\"Aquaraiders II\",\"Aquasharks\",\"Aquazone\",\"Architecture\",\"Architecture\",\"Architecture\",\"Arctic\",\"Arctic\",\"Atlantis\",\"Atlantis\",\"Avatar\",\"Avatar: The Last Airbender\",\"Avengers\",\"Avengers\",\"Basic\",\"Basic\",\"Basic Model\",\"Basic Model\",\"Basic Set\",\"Basic Set\",\"Basic Set\",\"Basic Set\",\"Basic Set\",\"Basic Set\",\"Basic Set\",\"Basketball\",\"Batman\",\"Batman\",\"Batman\",\"Belville\",\"Belville\",\"Ben 10\",\"Bionicle\",\"Bionicle\",\"Black Falcons\",\"Black Falcons\",\"Black Knights\",\"Black Knights\",\"Blacktron I\",\"Blacktron II\",\"Boat\",\"Boat\",\"Boat\",\"Bob the Builder\",\"Books\",\"Books\",\"Books\",\"Books\",\"Books\",\"Books\",\"Books\",\"Books\",\"Brick Sketches\",\"Brick Sketches\",\"BrickLink Designer Program\",\"BrickLink Designer Program\",\"Brickheadz\",\"Brickheadz\",\"Bricktober\",\"Building\",\"Building\",\"Building\",\"Building\",\"Building Set with People\",\"Bulk Bricks\",\"Bulk Bricks\",\"Cargo\",\"Cargo\",\"Cars\",\"Cars\",\"Castle\",\"Castle\",\"Castle\",\"Castle\",\"Castle\",\"Chinese Traditional Festivals\",\"Chinese Traditional Festivals\",\"Christmas\",\"Christmas\",\"Christmas\",\"Christmas\",\"Christmas\",\"Christmas\",\"Cities of Wonders\",\"City\",\"City\",\"City\",\"City Center\",\"City Center\",\"Classic\",\"Classic\",\"Classic\",\"Classic\",\"Classic Basic\",\"Classic Castle\",\"Classic Castle\",\"Classic Space\",\"Classic Space\",\"Classic Town\",\"Classic Town\",\"Classic Town\",\"Clikits\",\"Coast Guard\",\"Coast Guard\",\"Coast Guard\",\"Collectible Minifigures\",\"Collectible Minifigures\",\"Collectible Minifigures\",\"Competition\",\"Competition\",\"Constraction\",\"Construction\",\"Construction\",\"Construction\",\"Construction\",\"Construction\",\"Control Lab\",\"Control Lab\",\"Creator\",\"Creator\",\"Creator\",\"Creator\",\"Creator 3-in-1\",\"Creator 3-in-1\",\"Creator 3-in-1\",\"Creator Expert\",\"Creator Expert\",\"Crusaders\",\"Crusaders\",\"DC Comics\",\"DC Comics Super Heroes\",\"DC Super Hero Girls\",\"DC Super Heroes\",\"DFB Minifigures\",\"DOTS\",\"DOTS\",\"Dark Forest\",\"Desert\",\"Desert\",\"Designer Sets\",\"Dimensions\",\"Dino\",\"Dino\",\"Dino\",\"Dino 2010\",\"Dino Attack\",\"Dino Island\",\"Dinosaurs\",\"Discovery\",\"Disney\",\"Disney\",\"Disney Planes\",\"Disney Princess\",\"Disney Princess\",\"Disney Series 1\",\"Disney Series 2\",\"Disney's Mickey Mouse\",\"Disney's Mickey Mouse\",\"Disney's Mickey Mouse\",\"Divers\",\"Doc McStuffins\",\"Dolls\",\"Dora the Explorer\",\"Duplo\",\"Duplo\",\"Duplo\",\"Duplo\",\"Duplo\",\"Duplo\",\"Duplo and Explore\",\"Duplo and Explore\",\"Duplo and Explore\",\"Duplo and Explore\",\"Duplo and Explore\",\"EV3\",\"Early Creator\",\"Easter\",\"Easter\",\"Easter\",\"Easter\",\"Easter\",\"Educational and Dacta\",\"Educational and Dacta\",\"Educational and Dacta\",\"Educational and Dacta\",\"Educational and Dacta\",\"Elves\",\"Exo-Force\",\"Expert Builder\",\"Expert Builder\",\"Exploriens\",\"Extreme Team\",\"FIRST LEGO League\",\"FIRST LEGO League\",\"FIRST LEGO League\",\"FIRST LEGO League\",\"Fabuland\",\"Fabuland\",\"Factory\",\"Fantastic Beasts\",\"Fantasy Era\",\"Farm\",\"Farm\",\"Farm\",\"Ferrari\",\"Ferrari\",\"Ferries\",\"Ferries\",\"Ferries\",\"Fire\",\"Fire\",\"Fire\",\"Fire\",\"Fire\",\"Forestmen\",\"Forma\",\"Freestyle\",\"Friends\",\"Friends\",\"Fright Knights\",\"Frozen\",\"Frozen\",\"Fusion\",\"Futuron\",\"Galaxy Squad\",\"Galidor\",\"Games\",\"Games\",\"Gas Station\",\"Gas Station\",\"Gear\",\"Gear\",\"Gear\",\"Gear\",\"Gear\",\"Gear\",\"Gear\",\"Gears\",\"Gears\",\"Ghostbusters\",\"Gravity Games\",\"Guardians of the Galaxy\",\"Guardians of the Galaxy\",\"HO 1:87 Vehicles\",\"Halloween\",\"Halloween\",\"Halloween\",\"Halloween\",\"Harbor\",\"Harbor\",\"Harbor\",\"Harbor\",\"Harry Potter\",\"Harry Potter\",\"Harry Potter\",\"Harry Potter and Fantastic Beasts Series 1\",\"Harry Potter and Fantastic Beasts Series 2\",\"Hero Factory\",\"Hero Factory\",\"Heroes\",\"Heroes\",\"Hidden Side\",\"Hobby Sets\",\"Hobby Sets\",\"Hockey\",\"Homemaker\",\"Homemaker\",\"Hospital\",\"Hospital\",\"Hospital\",\"Hospital\",\"Hydronauts\",\"Ice Planet 2002\",\"Icons\",\"Icons\",\"Imperial Armada\",\"Imperial Armada\",\"Imperial Soldiers\",\"Imperial Soldiers\",\"Indiana Jones\",\"Insectoids\",\"Inventor\",\"Iron Man\",\"Iron Man\",\"Island Xtreme Stunts\",\"Islanders\",\"Islanders\",\"Jack Stone\",\"Jake and the Never Land Pirates\",\"Jumbo Bricks\",\"Jungle\",\"Jungle\",\"Juniors\",\"Jurassic Park III\",\"Jurassic World\",\"Jurassic World\",\"Jurassic World: Fallen Kingdom\",\"Justice League\",\"Key Chain\",\"Key Chain\",\"Key Chain\",\"Key Chain\",\"Kingdoms\",\"Kingdoms\",\"Knights Kingdom I\",\"Knights Kingdom I\",\"Knights Kingdom II\",\"LEGO Art\",\"LEGO Art\",\"LEGO Brand Store\",\"LEGO Brand Store\",\"LEGO Brand Store\",\"LEGO Brand Store\",\"LEGO Brand Store\",\"LEGO Exclusive\",\"LEGO Exclusive\",\"LEGO Exclusive\",\"LEGO Ideas and CUUSOO\",\"LEGO Ideas and CUUSOO\",\"LEGO Originals\",\"LEGO Originals\",\"Launch Command\",\"Learning\",\"Learning\",\"Learning\",\"Learning\",\"Legends of Chima\",\"Legoland\",\"Legoland Parks\",\"Legoland Parks\",\"Legoland Parks\",\"Legoland Parks\",\"Legoville\",\"Life On Mars\",\"Life On Mars\",\"Lion Knights\",\"Lion Knights\",\"Lion Knights\",\"Little Forest Friends\",\"Little Robots\",\"Looney Tunes\",\"M:Tron\",\"M:Tron\",\"Mars Exploration\",\"Mars Mission\",\"Marvel\",\"Marvel Super Heroes\",\"Master Builder Academy\",\"Miles From Tomorrowland\",\"Mindstorms\",\"Mindstorms\",\"Mindstorms\",\"Minecraft\",\"Minecraft\",\"Mini\",\"Minions\",\"Minions\",\"Minitalia\",\"Minitalia\",\"Mission Deep Freeze\",\"Mission Deep Sea\",\"Mixels\",\"Model Team\",\"Model Team\",\"Model Team\",\"Modular Buildings\",\"Modular Buildings\",\"Modular Buildings\",\"Modulex\",\"Monkie Kid\",\"Monkie Kid\",\"Monster Fighters\",\"Monthly Mini Model Build\",\"Monthly Mini Model Build\",\"Mosaic\",\"Mosaic\",\"My Town\",\"NXT\",\"NXT\",\"NXT\",\"Nexo Knights\",\"Ninja\",\"Ninjago\",\"Ninjago\",\"Ninjago The Movie\",\"Off-Road\",\"Orient Expedition\",\"Other\",\"Other\",\"Other\",\"Other\",\"Other\",\"Outback\",\"Overwatch\",\"Paradisa\",\"Pharaoh's Quest\",\"Pick A Model\",\"Pirates\",\"Pirates\",\"Pirates\",\"Pirates I\",\"Pirates I\",\"Pirates I\",\"Pirates II\",\"Pirates III\",\"Pirates of the Caribbean\",\"Playhouse\",\"Playhouse\",\"Playhouse\",\"Playhouse\",\"Playhouse\",\"Playsets\",\"Police\",\"Police\",\"Police\",\"Police\",\"Power Functions\",\"Power Functions\",\"Power Miners\",\"Powered Up\",\"Powered Up\",\"Primo\",\"Primo\",\"Primo\",\"Prince of Persia\",\"Princess Castle\",\"Promotional\",\"Promotional\",\"Promotional\",\"Promotional\",\"Promotional\",\"Protectors\",\"Quatro\",\"RCX\",\"RCX\",\"Race\",\"Race\",\"Racers\",\"Racers\",\"Racers\",\"Rattles\",\"Res-Q\",\"RoboForce\",\"RoboRiders\",\"RoboRiders\",\"Rock Raiders\",\"Royal Knights\",\"Samsonite\",\"Samsonite\",\"Scala\",\"Scala\",\"Scala\",\"Scooby-Doo\",\"Sculptures\",\"Sculptures\",\"Seasonal\",\"Seasonal\",\"Seasonal\",\"Series 1 Minifigures\",\"Series 10 Minifigures\",\"Series 11 Minifigures\",\"Series 12 Minifigures\",\"Series 13 Minifigures\",\"Series 14 Minifigures\",\"Series 15 Minifigures\",\"Series 16 Minifigures\",\"Series 17 Minifigures\",\"Series 18 Minifigures\",\"Series 19 Minifigures\",\"Series 2 Minifigures\",\"Series 20 Minifigures\",\"Series 21 Minifigures\",\"Series 22 Minifigures\",\"Series 3 Minifigures\",\"Series 4 Minifigures\",\"Series 5 Minifigures\",\"Series 6 Minifigures\",\"Series 7 Minifigures\",\"Series 8 Minifigures\",\"Series 9 Minifigures\",\"Service Packs\",\"Service Packs\",\"Service Packs\",\"Service Packs\",\"Service Packs\",\"Skylines\",\"Skylines\",\"Soccer\",\"Soccer\",\"Sofia the First\",\"Soft Bricks\",\"Soft Bricks\",\"Space\",\"Space\",\"Space\",\"Space\",\"Space\",\"Space Police I\",\"Space Police II\",\"Space Police III\",\"Space Port\",\"Speed Champions\",\"Speed Champions\",\"Speed Racer\",\"Speed Slammers\",\"Speed Slammers\",\"Speedorz\",\"Spider-Man\",\"Spider-Man\",\"Spider-Man\",\"Spiderman\",\"Spiderman\",\"SpongeBob SquarePants\",\"SpongeBob SquarePants\",\"Sports\",\"Spybotics\",\"Spyrius\",\"Star Wars\",\"Star Wars\",\"Star Wars\",\"Star Wars\",\"Stingrays\",\"Stranger Things\",\"Studios\",\"Studios\",\"Super Heroes DC\",\"Super Heroes Marvel\",\"Super Heroes Marvel\",\"Super Mario\",\"Super Mario\",\"Superman\",\"Supplemental\",\"Supplemental\",\"Supplemental\",\"Supplemental\",\"Supplemental\",\"Supplemental\",\"Supplemental\",\"Supplemental\",\"System\",\"System\",\"System\",\"Team GB\",\"Technic\",\"Technic\",\"Technic\",\"Technic\",\"Technic\",\"Technic\",\"Technic\",\"Teenage Mutant Ninja Turtles\",\"Thanksgiving\",\"Thanksgiving\",\"The Hobbit\",\"The LEGO Batman Movie\",\"The LEGO Batman Movie Series 1\",\"The LEGO Batman Movie Series 2\",\"The LEGO Movie\",\"The LEGO Movie II\",\"The Lone Ranger\",\"The Lord of the Rings\",\"The Muppets\",\"The Powerpuff Girls\",\"The Simpsons Series 1\",\"The Simpsons Series 2\",\"Thomas & Friends\",\"Throwbot Slizer\",\"Time Cruisers\",\"Toolo\",\"Town\",\"Town\",\"Town\",\"Town\",\"Town\",\"Town\",\"Town Jr.\",\"Town Jr.\",\"Town Plan\",\"Town Plan\",\"Town Plan\",\"Toy Story\",\"Toy Story\",\"Traffic\",\"Traffic\",\"Train\",\"Train\",\"Train\",\"Train\",\"Trains\",\"Trains\",\"Trains\",\"Trains\",\"Trains\",\"Trolls: World Tour\",\"UCS\",\"UCS\",\"UCS\",\"UFO\",\"Ultimate Collector Series\",\"Ultimate Collector Series\",\"Ultimate Collector Series\",\"Ultimate Collector Series\",\"Ultra Agents\",\"Unikitty!\",\"Unitron\",\"Universal Building Set\",\"Universal Building Set\",\"Universe\",\"VIDIYO\",\"Valentine\",\"Valentine\",\"Valentine\",\"Value Packs\",\"Value Packs\",\"Value Packs\",\"Vehicle\",\"Vehicle\",\"Vehicle\",\"Vikings\",\"Villains\",\"Villains\",\"WeDo\",\"WeDo\",\"Western\",\"Western\",\"Western\",\"Williams F1\",\"Winnie the Pooh\",\"Winnie the Pooh\",\"Winnie the Pooh\",\"Wolfpack\",\"World City\",\"World Racers\",\"X-Men\",\"X-Pod\",\"Xtra\",\"Xtra\",\"Znap\",\"Zooters\",\"eLAB\",\"20's\",\"21's\",\"22's\",\"40's\",\"50's\",\"60's\",\"70's\",\"80's\",\"90's\"],\"marker\":{\"coloraxis\":\"coloraxis\",\"colors\":[1969.250095213914,1978.0458155161882,1983.75152278933,2003.5653400460048,1967.711460018991,1976.1752712192833,1984.1433508531932,2001.767571978086,1994.3048438048438,2001.0,2000.0,2016.5001239771882,2021.0,1999.5001250312578,1998.0,2008.384733233751,2006.8131124979238,2015.6913274007009,1970.0,1975.3705104977087,1986.625495501164,1994.0013373453694,2011.0,2001.0,2016.0,1995.5001252818843,1997.0,2007.0,1996.5011269722013,1996.0,2008.800278773397,2014.8166082451842,2021.6667765869745,2015.8019644806031,1999.6366612111292,2010.0,2011.0,2022.0,2006.0,2016.9695128612364,2021.2667634156799,1987.2427413438745,1994.2354484088717,1987.0701872106288,1996.5096356754004,2004.8957774452579,2013.377041038058,1956.7526510795963,1967.424139346666,1975.6430350914657,1985.058137160129,1996.3083637668258,2003.0465569887729,2006.8575597949887,2016.0837315865306,2021.2106085462074,2003.980857230828,1997.476701836068,2010.0,2004.6500053771174,2015.4187715634123,2002.0,1985.500797448166,1989.5003769791406,1993.0015052684396,1987.8576356449873,1991.5002690003946,1975.4467067889082,1984.5741433918802,1993.5031351893654,2003.9712988748129,2008.5021160069705,2016.3687913226881,2021.2248052965995,1957.0023846022825,1964.3599505472528,1976.337493675156,1984.172784544309,1999.0007503751876,2020.0,2021.5001236705416,2019.0,2021.0,2018.12051810596,2021.4334548092938,2014.500124100273,2008.0,2018.0,1966.8027252389668,1973.4466527785598,1976.15726552493,2002.5201499409834,1999.8982090923007,2007.800079689212,2015.0019851116626,2010.0,2012.826816295517,2005.5651780984138,2013.3751164090147,1970.0,1979.0,1994.8913334075971,2019.4446767537827,2021.0,2005.697067321214,2015.6864583483125,2021.0,1977.5001264222503,1988.0010060362174,1995.620360020044,2017.0,2007.6263308635826,2016.7793785725337,2021.5223456471197,2001.0,1999.476315225416,2017.4300854458763,2021.6471717877096,1960.0,1963.0020376974019,1998.638455970022,1978.6667789757412,1981.5003785011354,1979.2084166649124,1984.6631241133928,1978.7574812472476,1986.0937822555877,1993.7766004040745,2004.2121414902733,2008.000083001328,2015.0019851116626,1976.0,2009.0001422171656,2015.4718815412048,2022.0,2001.0,1998.4708895037381,2012.9586429591604,2007.3214634437957,2015.4411883275964,2021.6667765869745,1970.0,1973.1517877505512,2002.0,1995.4003207376968,2006.2788810992638,2014.2409497341093,2021.379426816786,1999.0,2008.205924412666,2015.7535807034753,2021.4286925795052,2006.2896610652235,2015.7076289872116,1990.0,1993.2538567665872,2015.6271007751939,2016.251084934904,2016.8334021981655,2020.0,2016.0,2020.0,2021.3907427590846,1996.0,2001.0,1998.1600672618808,2003.778085837862,2015.7061458546123,2008.0,2012.0,1997.4618169214773,2005.1667359321752,2005.2858160575622,2000.0,2001.0,2003.0,2017.2868068833652,2021.3158963676606,2013.250093132994,2017.213543976831,2021.2381849879848,2016.0,2019.0,2016.6174092157462,2021.0,2000.0,1997.0833715835593,2015.2500930405656,2001.0,2004.0,2004.7928644561707,2016.0910657256977,2021.6177638757547,1977.0044511886697,1985.5018527179193,1994.7695732948011,2005.5485245455782,2015.3773668494873,1977.3351314902225,1986.3415668716125,1996.141619190245,2013.0,2001.7594356686361,2005.7030961758987,2015.838418079096,2021.6667765869745,1987.5031446540881,1997.3404539385847,2006.2835820895523,2014.8677521880638,2021.06669745349,1985.5001259128683,1996.8922212330292,2016.2862642293703,2006.8726291572575,1978.4067194237787,1981.5716963448922,1996.0,1998.4763152878384,2005.5041136873597,2017.5034755413938,2021.0,2000.0,1979.2500947328533,1984.5201916008632,2006.5724049551475,2018.0,2007.866923434491,2009.3751166407465,2018.6667767503302,2021.0,2006.28125685348,2012.0,1977.0,1984.1706005879882,1994.432991906024,2007.3455125710282,2015.6636970106401,2021.2858152519614,1969.7500951897448,1973.5569192658484,1989.00057458881,2019.0,1996.2976996470027,2016.3984476097112,2021.4126198883207,1997.3751173415108,2018.1509550826252,2021.5556776959438,2014.0,1988.2109275730622,2013.0,2002.0,2009.4738082765846,2011.6074034620506,1970.0,1973.202513683357,2006.4100296610857,2015.9809133042215,2021.1818917824855,1966.0,1976.002024291498,1984.0,1999.1676412791044,1970.0,1973.833741450646,2016.0,2003.1818924438394,2015.0919426148155,2022.0,1957.750095773209,2005.863756142725,2014.6711449371278,2021.0,1999.3337779259753,2008.3341078838175,2014.505300854519,2021.0,1976.0003373819163,2003.49484797726,2017.449193148648,2021.4001187295933,2018.0,2020.0,2010.0,2013.1005745699006,2010.0,2012.0275505406676,2019.6251160487714,2003.0,1975.8754349338901,2003.4118856069058,1975.1002155876397,1982.0,2006.6005182896442,2015.2036522429535,1970.0,1974.2874095513748,1998.0,1994.0014589222212,2020.0,2021.4001187295933,2001.0,1996.0,1989.0,1992.5013801756588,2008.3685369113446,1998.3685374911113,2003.0,2015.1289001922958,2021.0,2002.2308578892773,2001.0,1994.0,2001.53583855254,2013.7145289443813,1967.3337851575736,2017.0,1999.0,2015.6575712004465,2001.0,2018.0469401085659,2021.633448201949,2018.0,2016.1257362514725,2007.084258436347,2015.3745838377185,2021.4311558046109,1998.1594890030292,2010.0,2011.3334438183626,2006.0,2000.0,2004.7125813152572,2020.0,2021.5001236705416,2009.1474433107405,2015.4212481024972,2021.1429177268872,1965.0,1996.3387877775922,2008.2870963152652,2015.6465620090482,2021.3751159483024,2016.6248743550225,2021.3847324758353,2019.2778771287865,2021.0,1995.0,2006.3361023425819,2015.0,1972.0,1990.0,2013.969655822343,1969.0,2004.6701030927834,2015.5690927132318,2021.5001236705416,2000.0,2006.4598553282801,2001.0,2000.0,2001.0,2016.0,1985.8901695294578,1999.300105036763,2003.4667908957806,2021.0,1990.0,1991.0,2019.0833711667835,2007.5264399758803,2021.0,2015.7510852040184,2011.9525928380394,2016.0,2005.0019950124688,2015.1384972819344,2021.0,2017.202352079806,2021.6072608426819,2012.0,2020.0,2021.0,1970.0,1972.801500405515,2004.0,2002.058851182606,2014.975538529687,2004.0,1987.0015098137897,1995.6395772594751,2008.2006772233842,2015.5040932771024,2021.5001236705416,1963.0,2020.0,2021.4783843076525,2012.0,2009.4075644192133,2015.4959616088495,2004.3351072675869,2016.0,2017.0,2007.4066025796376,2012.2865966207582,1996.0,2016.6551197549609,1998.774410122333,2015.8961611262273,2021.4126198883207,2017.0344992648818,2016.5032647326225,2003.0,2007.0625732708088,2016.0677062343057,2021.1667353838543,1957.666780180487,1965.334803256445,1997.0,2018.7693187014174,1994.4463509749303,2011.0,2016.5016117034465,2006.6274839593846,2014.0004965243297,1993.0005017561466,2001.0,1989.0,1993.9136341510186,2009.0909502262443,2015.0,2011.3539320913637,2003.4326868225899,2013.0,1979.5001262945189,1985.8025984489877,1994.0362916032832,2005.9234191049584,2007.501187214612,2015.6200816700377,2021.222307734594,1974.8016001620417,2008.5334572490706,2012.0004970178927,2009.1739845491334,2019.200178288431,2021.0,2003.167235210916,1966.7518749205542,1998.4179558817398,2010.0,2005.8340673036976,2009.1667357942763,2017.1571030883467,2021.2353831378598,1969.0,1999.6003200640127,2015.0,2004.8186187820252,2002.6685252996006,1998.7370444491257,2001.0,2000.0,2005.5612578748091,2011.3077982177688,1998.0,1986.2409196614801,1998.1818926296633,1997.0,2001.0,1999.9629807959407,1999.5295363614969,1995.667112076165,1967.3381904439173,1971.0,2001.0,1979.3334456045807,1998.450474117441,2015.1000446627959,2001.0,2000.0,2005.0063175394846,2017.364034423408,2021.6001187178472,2010.0,2013.0,2013.0526563480444,2014.0,2015.0,2015.0,2016.0,2016.0,2017.0,2018.0,2019.0,2010.0,2020.0,2021.0,2022.0,2011.0,2011.0,2011.0,2012.0,2012.0,2012.0,2013.0,2002.559981419115,2013.8503115922238,1977.1502162203171,1986.135699623614,1995.5655856176722,2017.6164169430783,2022.0,2002.3777231978386,1998.9307303906742,2015.3334435990737,2013.0,1999.0002501250626,2002.3334443149658,2014.500124100273,1974.6674544226873,1990.0,1995.5001252818843,1989.0,1993.3773750548692,2009.294220973125,1999.0,2017.2969547436373,2021.4616614026409,2008.0,2001.0,2000.0,2013.400119201351,2003.4447895291441,2016.9521999466062,2021.3001038935338,2017.4021017150787,2021.5001236705416,2007.4006177144565,2011.500124285359,2000.0,2002.0,1995.0012252854358,2005.8196842065076,2015.875388162492,2021.456005063328,1999.6411407175647,1998.0,2019.0,2001.1200527704486,2000.0,2016.7125307911322,2016.9247902364607,2021.4616614026409,2020.0,2021.4027163856908,2013.155668488021,2007.525545232062,2015.0032754342433,1949.7500961661751,1956.3835559792785,1965.8786752857766,1975.9904090244956,1986.168966302641,1995.5141746778481,1949.0,1955.0,1964.4402977951704,2012.0,2004.6669389485762,2015.0296926160154,2021.4445665915462,1965.0,1978.5008002695645,1985.8039628854492,1995.5148175013787,2013.348068326603,2006.5061051582356,2014.5014478365185,2012.9568447881118,2017.2046261139967,2017.0,2018.0,2014.0612530271865,2018.984382618117,2013.0,2012.2942208190827,2022.0,2018.0,2014.0,2015.0,2006.6121708795924,1999.3334444814939,1996.444568121104,1993.9242698969947,2005.283046446443,2014.6022112104808,2021.0,1979.4548544135207,1986.228999748266,1995.8913940397858,2002.3334443149658,1997.8921836530396,2008.0,1956.7151200992919,1964.4058236611688,2010.0,2019.0,2008.6964502164503,2015.4106880329316,2001.5003747189608,1977.0801990814737,1984.9047307169126,1994.5440626325735,2006.1698651380466,2014.9197237272012,2022.0,1984.7799921625706,1995.526265333246,2020.0,2006.0,2017.6700809515942,2021.0,1997.2633076841994,2005.3375284954407,2015.203387587667,2021.333443271768,2000.0,2014.6001191303485,2018.0,1994.7500939967415,1986.2033027892458,1994.6866935803055,2010.0,2021.0,2010.0,2014.9050076926894,2021.8000791374022,2019.0,1989.0003351768057,1994.7194012747977,2018.0,1966.6694188861986,1973.245005144586,2005.3751168734027,2010.0,2011.9633488577583,2009.4169535105545,2015.0881178932832,2002.0,1976.0002530364372,1997.1074411201917,2002.500124843945,2001.0,2011.0,1999.222308675596,1992.3334448720093,2003.6669993900073,2010.0,2012.6671083140113,2004.5836624402411,2018.765028118535,2021.0,1998.3685374911113,2001.0,1999.0,2005.5339988621315,2015.833361021767,2021.3494234107336,1949.5455817206807,1956.6178264126638,1966.2338006187813,1976.2848602456045,1985.9427839418724,1996.6187098812634]},\"name\":\"\",\"parents\":[\"60's\",\"70's\",\"80's\",\"20's\",\"60's\",\"70's\",\"80's\",\"20's\",\"90's\",\"20's\",\"90's\",\"21's\",\"22's\",\"90's\",\"90's\",\"20's\",\"20's\",\"21's\",\"60's\",\"70's\",\"80's\",\"90's\",\"21's\",\"20's\",\"21's\",\"90's\",\"90's\",\"20's\",\"90's\",\"90's\",\"20's\",\"21's\",\"22's\",\"21's\",\"90's\",\"20's\",\"21's\",\"22's\",\"20's\",\"21's\",\"22's\",\"80's\",\"90's\",\"80's\",\"90's\",\"20's\",\"21's\",\"50's\",\"60's\",\"70's\",\"80's\",\"90's\",\"20's\",\"20's\",\"21's\",\"22's\",\"20's\",\"90's\",\"20's\",\"20's\",\"21's\",\"20's\",\"80's\",\"80's\",\"90's\",\"80's\",\"90's\",\"70's\",\"80's\",\"90's\",\"20's\",\"20's\",\"21's\",\"22's\",\"50's\",\"60's\",\"70's\",\"80's\",\"90's\",\"21's\",\"22's\",\"21's\",\"22's\",\"21's\",\"22's\",\"21's\",\"20's\",\"21's\",\"60's\",\"70's\",\"70's\",\"20's\",\"90's\",\"20's\",\"21's\",\"20's\",\"21's\",\"20's\",\"21's\",\"60's\",\"70's\",\"90's\",\"21's\",\"22's\",\"20's\",\"21's\",\"22's\",\"70's\",\"80's\",\"90's\",\"21's\",\"20's\",\"21's\",\"22's\",\"20's\",\"90's\",\"21's\",\"22's\",\"50's\",\"60's\",\"90's\",\"70's\",\"80's\",\"70's\",\"80's\",\"70's\",\"80's\",\"90's\",\"20's\",\"20's\",\"21's\",\"70's\",\"20's\",\"21's\",\"22's\",\"20's\",\"90's\",\"21's\",\"20's\",\"21's\",\"22's\",\"60's\",\"70's\",\"20's\",\"90's\",\"20's\",\"21's\",\"22's\",\"90's\",\"20's\",\"21's\",\"22's\",\"20's\",\"21's\",\"80's\",\"90's\",\"21's\",\"21's\",\"21's\",\"21's\",\"21's\",\"21's\",\"22's\",\"90's\",\"20's\",\"90's\",\"20's\",\"21's\",\"20's\",\"21's\",\"90's\",\"20's\",\"20's\",\"90's\",\"20's\",\"20's\",\"21's\",\"22's\",\"21's\",\"21's\",\"22's\",\"21's\",\"21's\",\"21's\",\"22's\",\"90's\",\"90's\",\"21's\",\"20's\",\"20's\",\"20's\",\"21's\",\"22's\",\"70's\",\"80's\",\"90's\",\"20's\",\"21's\",\"70's\",\"80's\",\"90's\",\"21's\",\"20's\",\"20's\",\"21's\",\"22's\",\"80's\",\"90's\",\"20's\",\"21's\",\"22's\",\"80's\",\"90's\",\"21's\",\"20's\",\"70's\",\"80's\",\"90's\",\"90's\",\"20's\",\"21's\",\"22's\",\"90's\",\"70's\",\"80's\",\"20's\",\"21's\",\"20's\",\"20's\",\"21's\",\"22's\",\"20's\",\"21's\",\"70's\",\"80's\",\"90's\",\"20's\",\"21's\",\"22's\",\"60's\",\"70's\",\"80's\",\"21's\",\"90's\",\"21's\",\"22's\",\"90's\",\"21's\",\"22's\",\"21's\",\"80's\",\"21's\",\"20's\",\"20's\",\"21's\",\"60's\",\"70's\",\"20's\",\"21's\",\"22's\",\"60's\",\"70's\",\"80's\",\"90's\",\"60's\",\"70's\",\"21's\",\"20's\",\"21's\",\"22's\",\"50's\",\"20's\",\"21's\",\"22's\",\"90's\",\"20's\",\"21's\",\"22's\",\"70's\",\"20's\",\"21's\",\"22's\",\"21's\",\"21's\",\"20's\",\"21's\",\"20's\",\"21's\",\"21's\",\"20's\",\"70's\",\"20's\",\"70's\",\"80's\",\"20's\",\"21's\",\"60's\",\"70's\",\"90's\",\"90's\",\"21's\",\"22's\",\"20's\",\"90's\",\"80's\",\"90's\",\"20's\",\"90's\",\"20's\",\"21's\",\"22's\",\"20's\",\"20's\",\"90's\",\"20's\",\"21's\",\"60's\",\"21's\",\"90's\",\"21's\",\"20's\",\"21's\",\"22's\",\"21's\",\"21's\",\"20's\",\"21's\",\"22's\",\"90's\",\"20's\",\"21's\",\"20's\",\"90's\",\"20's\",\"21's\",\"22's\",\"20's\",\"21's\",\"22's\",\"60's\",\"90's\",\"20's\",\"21's\",\"22's\",\"21's\",\"22's\",\"21's\",\"22's\",\"90's\",\"20's\",\"21's\",\"70's\",\"80's\",\"21's\",\"60's\",\"20's\",\"21's\",\"22's\",\"90's\",\"20's\",\"20's\",\"90's\",\"20's\",\"21's\",\"80's\",\"90's\",\"20's\",\"22's\",\"80's\",\"90's\",\"21's\",\"20's\",\"22's\",\"21's\",\"21's\",\"21's\",\"20's\",\"21's\",\"22's\",\"21's\",\"22's\",\"21's\",\"21's\",\"22's\",\"60's\",\"70's\",\"20's\",\"20's\",\"21's\",\"20's\",\"80's\",\"90's\",\"20's\",\"21's\",\"22's\",\"60's\",\"21's\",\"22's\",\"21's\",\"20's\",\"21's\",\"20's\",\"21's\",\"21's\",\"20's\",\"21's\",\"90's\",\"21's\",\"90's\",\"21's\",\"22's\",\"21's\",\"21's\",\"20's\",\"20's\",\"21's\",\"22's\",\"50's\",\"60's\",\"90's\",\"21's\",\"90's\",\"21's\",\"21's\",\"20's\",\"21's\",\"90's\",\"20's\",\"80's\",\"90's\",\"20's\",\"21's\",\"21's\",\"20's\",\"21's\",\"70's\",\"80's\",\"90's\",\"20's\",\"20's\",\"21's\",\"22's\",\"70's\",\"20's\",\"21's\",\"20's\",\"21's\",\"22's\",\"20's\",\"60's\",\"90's\",\"20's\",\"20's\",\"20's\",\"21's\",\"22's\",\"60's\",\"90's\",\"21's\",\"20's\",\"20's\",\"90's\",\"20's\",\"90's\",\"20's\",\"21's\",\"90's\",\"80's\",\"90's\",\"90's\",\"20's\",\"90's\",\"90's\",\"90's\",\"60's\",\"70's\",\"20's\",\"70's\",\"90's\",\"21's\",\"20's\",\"90's\",\"20's\",\"21's\",\"22's\",\"20's\",\"21's\",\"21's\",\"21's\",\"21's\",\"21's\",\"21's\",\"21's\",\"21's\",\"21's\",\"21's\",\"20's\",\"21's\",\"22's\",\"22's\",\"21's\",\"21's\",\"21's\",\"21's\",\"21's\",\"21's\",\"21's\",\"20's\",\"21's\",\"70's\",\"80's\",\"90's\",\"21's\",\"22's\",\"20's\",\"90's\",\"21's\",\"21's\",\"90's\",\"20's\",\"21's\",\"70's\",\"80's\",\"90's\",\"80's\",\"90's\",\"20's\",\"90's\",\"21's\",\"22's\",\"20's\",\"20's\",\"90's\",\"21's\",\"20's\",\"21's\",\"22's\",\"21's\",\"22's\",\"20's\",\"21's\",\"90's\",\"20's\",\"90's\",\"20's\",\"21's\",\"22's\",\"90's\",\"90's\",\"21's\",\"20's\",\"90's\",\"21's\",\"21's\",\"22's\",\"21's\",\"22's\",\"21's\",\"20's\",\"21's\",\"40's\",\"50's\",\"60's\",\"70's\",\"80's\",\"90's\",\"40's\",\"50's\",\"60's\",\"21's\",\"20's\",\"21's\",\"22's\",\"60's\",\"70's\",\"80's\",\"90's\",\"21's\",\"20's\",\"21's\",\"21's\",\"21's\",\"21's\",\"21's\",\"21's\",\"21's\",\"21's\",\"21's\",\"22's\",\"21's\",\"21's\",\"21's\",\"20's\",\"90's\",\"90's\",\"90's\",\"20's\",\"21's\",\"22's\",\"70's\",\"80's\",\"90's\",\"20's\",\"90's\",\"20's\",\"50's\",\"60's\",\"20's\",\"21's\",\"20's\",\"21's\",\"20's\",\"70's\",\"80's\",\"90's\",\"20's\",\"21's\",\"22's\",\"80's\",\"90's\",\"21's\",\"20's\",\"21's\",\"22's\",\"90's\",\"20's\",\"21's\",\"22's\",\"90's\",\"21's\",\"21's\",\"90's\",\"80's\",\"90's\",\"20's\",\"22's\",\"20's\",\"21's\",\"22's\",\"21's\",\"80's\",\"90's\",\"21's\",\"60's\",\"70's\",\"20's\",\"20's\",\"21's\",\"20's\",\"21's\",\"20's\",\"70's\",\"90's\",\"20's\",\"20's\",\"21's\",\"90's\",\"90's\",\"20's\",\"20's\",\"21's\",\"20's\",\"21's\",\"22's\",\"90's\",\"20's\",\"90's\",\"\",\"\",\"\",\"\",\"\",\"\",\"\",\"\",\"\"],\"values\":[31508,47473,23805,46082,74773,81023,13889,120106,79772,6003,12000,4033,2021,3999,1998,26109,42143,32251,3940,37532,15893,5982,20110,12006,12096,15964,5991,18063,11979,1996,20088,64474,6065,40316,21996,38190,10055,2022,4012,119001,30319,164941,51850,29806,121787,222543,32214,7827,51153,126441,146894,295453,86131,28096,127013,38403,94187,79899,12060,771789,86663,2002,11913,7958,19930,13915,27881,17779,13892,11961,62123,32136,717826,179889,5871,27501,5929,11905,7996,8080,8086,26247,10105,201812,60643,16116,2008,4036,29502,35522,63237,154194,97995,10039,4030,8040,102654,32089,16107,1970,1979,35908,18175,16168,78222,139082,10105,3955,11928,25943,36306,64244,252097,181937,2001,41989,84732,34368,1960,3926,93936,5936,7926,47501,129003,138513,397218,283116,170358,24096,24180,1976,14063,64495,2022,2001,33974,48311,50183,64494,6065,3940,78926,4004,9977,399249,195381,58620,1999,78320,266079,56600,42132,54424,3980,7973,16125,8065,24202,38380,38304,44440,129369,5988,2001,49954,90170,137068,6024,14084,25967,12031,14037,38000,28014,16024,14121,38405,8053,153308,42446,42336,42399,26216,4042,10000,23965,8061,12006,10020,38091,229834,68735,9885,27797,33911,132366,112861,5932,93358,187637,26169,58051,20057,36285,18195,3975,5992,36113,104773,30316,7942,35944,84684,94323,63309,13871,17964,41968,20055,84735,20210,2000,39585,168684,14046,4036,60236,16075,6056,2021,50157,14084,3954,11905,13961,64235,94736,14149,7879,17762,13923,8076,127763,867050,161713,31958,40363,18194,8056,37776,24156,40040,38180,56325,1970,9866,1233940,2419172,533592,1966,3952,1984,83965,5910,11843,4032,22035,22166,2022,7831,14041,30220,6063,5998,6025,28203,2021,5928,118206,90785,60642,50450,38380,4020,60393,14070,74445,64628,2003,15807,34058,61228,1982,20066,10076,3940,13820,9990,21934,8080,50535,2001,3992,7956,7970,38159,37969,8012,16121,2021,26029,2001,11964,56043,14096,5902,18153,19990,64501,4002,88794,60649,6054,32258,371310,701349,117243,37965,22110,12068,4012,42000,146344,8080,16172,68311,203557,28296,1965,5989,14058,84657,16171,74615,26278,36347,4042,11970,6019,2015,3944,7960,197369,1969,54126,46358,4043,4000,144465,50025,2000,2001,2016,35746,19993,30052,32336,13930,3982,24229,38143,32336,8063,42251,6048,4010,44333,2021,131118,56605,2012,4040,14147,7880,29592,16032,34035,243812,2004,7948,21952,10041,20155,4043,68705,28280,46494,28168,54254,245890,12026,2016,22187,74274,28172,3992,227882,61962,743864,161713,116988,12099,56084,68240,64514,12127,17619,5896,9985,26244,35900,18099,64528,16053,4028,7972,4002,15912,67793,22100,16120,34193,14024,2013,11877,19858,59821,26077,60225,235827,18191,19748,30128,8048,46211,20192,6063,36057,7867,23981,12060,12035,12055,183561,68722,1969,9998,12090,22053,24032,37976,4002,28000,439217,26147,1998,41711,21980,7988,6003,53999,33992,17961,5902,1971,8004,17814,119907,20151,2001,4000,6015,72625,10108,38190,40260,38248,38266,38285,38285,38304,38304,38323,40360,40380,38190,38380,32336,32352,38209,38209,38209,38228,38228,38228,38247,86110,40277,39543,284017,241463,26229,2022,122145,85954,6046,2013,7996,6007,4029,5924,1990,3991,11934,15947,34158,43978,88761,26279,8032,4002,6000,60402,36062,78661,40426,10087,4043,20074,8046,10000,8008,17955,445291,1070428,137459,77986,9990,6057,100056,8000,62518,78660,52558,66660,155648,26171,46173,20150,15598,174118,316506,122511,83419,97780,5847,1955,31431,24144,320746,525922,72772,3930,11871,279998,437017,46307,4013,12087,46298,88757,46391,46414,98689,129215,16104,34209,32352,4036,38266,38285,36119,35988,17968,25921,174459,235708,10105,21774,115201,195597,6007,73922,2008,68485,9822,38190,14133,46200,54416,8006,49427,79396,25929,72222,48358,4044,17863,45897,18180,2006,6053,2021,37948,42112,30228,6064,4000,30219,52468,7979,39724,37899,4020,103071,2010,20149,10109,10095,5967,13963,2018,82600,65117,16043,12060,54323,24113,46347,8008,7904,55919,4005,12006,6033,17993,5977,90165,18090,6038,48110,34319,4042,37969,6003,5997,9329724,16824113,3373632,21445,285666,802222,1365610,2458593,4737967],\"type\":\"treemap\"}],                        {\"template\":{\"data\":{\"histogram2dcontour\":[{\"type\":\"histogram2dcontour\",\"colorbar\":{\"outlinewidth\":0,\"ticks\":\"\"},\"colorscale\":[[0.0,\"#0d0887\"],[0.1111111111111111,\"#46039f\"],[0.2222222222222222,\"#7201a8\"],[0.3333333333333333,\"#9c179e\"],[0.4444444444444444,\"#bd3786\"],[0.5555555555555556,\"#d8576b\"],[0.6666666666666666,\"#ed7953\"],[0.7777777777777778,\"#fb9f3a\"],[0.8888888888888888,\"#fdca26\"],[1.0,\"#f0f921\"]]}],\"choropleth\":[{\"type\":\"choropleth\",\"colorbar\":{\"outlinewidth\":0,\"ticks\":\"\"}}],\"histogram2d\":[{\"type\":\"histogram2d\",\"colorbar\":{\"outlinewidth\":0,\"ticks\":\"\"},\"colorscale\":[[0.0,\"#0d0887\"],[0.1111111111111111,\"#46039f\"],[0.2222222222222222,\"#7201a8\"],[0.3333333333333333,\"#9c179e\"],[0.4444444444444444,\"#bd3786\"],[0.5555555555555556,\"#d8576b\"],[0.6666666666666666,\"#ed7953\"],[0.7777777777777778,\"#fb9f3a\"],[0.8888888888888888,\"#fdca26\"],[1.0,\"#f0f921\"]]}],\"heatmap\":[{\"type\":\"heatmap\",\"colorbar\":{\"outlinewidth\":0,\"ticks\":\"\"},\"colorscale\":[[0.0,\"#0d0887\"],[0.1111111111111111,\"#46039f\"],[0.2222222222222222,\"#7201a8\"],[0.3333333333333333,\"#9c179e\"],[0.4444444444444444,\"#bd3786\"],[0.5555555555555556,\"#d8576b\"],[0.6666666666666666,\"#ed7953\"],[0.7777777777777778,\"#fb9f3a\"],[0.8888888888888888,\"#fdca26\"],[1.0,\"#f0f921\"]]}],\"heatmapgl\":[{\"type\":\"heatmapgl\",\"colorbar\":{\"outlinewidth\":0,\"ticks\":\"\"},\"colorscale\":[[0.0,\"#0d0887\"],[0.1111111111111111,\"#46039f\"],[0.2222222222222222,\"#7201a8\"],[0.3333333333333333,\"#9c179e\"],[0.4444444444444444,\"#bd3786\"],[0.5555555555555556,\"#d8576b\"],[0.6666666666666666,\"#ed7953\"],[0.7777777777777778,\"#fb9f3a\"],[0.8888888888888888,\"#fdca26\"],[1.0,\"#f0f921\"]]}],\"contourcarpet\":[{\"type\":\"contourcarpet\",\"colorbar\":{\"outlinewidth\":0,\"ticks\":\"\"}}],\"contour\":[{\"type\":\"contour\",\"colorbar\":{\"outlinewidth\":0,\"ticks\":\"\"},\"colorscale\":[[0.0,\"#0d0887\"],[0.1111111111111111,\"#46039f\"],[0.2222222222222222,\"#7201a8\"],[0.3333333333333333,\"#9c179e\"],[0.4444444444444444,\"#bd3786\"],[0.5555555555555556,\"#d8576b\"],[0.6666666666666666,\"#ed7953\"],[0.7777777777777778,\"#fb9f3a\"],[0.8888888888888888,\"#fdca26\"],[1.0,\"#f0f921\"]]}],\"surface\":[{\"type\":\"surface\",\"colorbar\":{\"outlinewidth\":0,\"ticks\":\"\"},\"colorscale\":[[0.0,\"#0d0887\"],[0.1111111111111111,\"#46039f\"],[0.2222222222222222,\"#7201a8\"],[0.3333333333333333,\"#9c179e\"],[0.4444444444444444,\"#bd3786\"],[0.5555555555555556,\"#d8576b\"],[0.6666666666666666,\"#ed7953\"],[0.7777777777777778,\"#fb9f3a\"],[0.8888888888888888,\"#fdca26\"],[1.0,\"#f0f921\"]]}],\"mesh3d\":[{\"type\":\"mesh3d\",\"colorbar\":{\"outlinewidth\":0,\"ticks\":\"\"}}],\"scatter\":[{\"fillpattern\":{\"fillmode\":\"overlay\",\"size\":10,\"solidity\":0.2},\"type\":\"scatter\"}],\"parcoords\":[{\"type\":\"parcoords\",\"line\":{\"colorbar\":{\"outlinewidth\":0,\"ticks\":\"\"}}}],\"scatterpolargl\":[{\"type\":\"scatterpolargl\",\"marker\":{\"colorbar\":{\"outlinewidth\":0,\"ticks\":\"\"}}}],\"bar\":[{\"error_x\":{\"color\":\"#2a3f5f\"},\"error_y\":{\"color\":\"#2a3f5f\"},\"marker\":{\"line\":{\"color\":\"#E5ECF6\",\"width\":0.5},\"pattern\":{\"fillmode\":\"overlay\",\"size\":10,\"solidity\":0.2}},\"type\":\"bar\"}],\"scattergeo\":[{\"type\":\"scattergeo\",\"marker\":{\"colorbar\":{\"outlinewidth\":0,\"ticks\":\"\"}}}],\"scatterpolar\":[{\"type\":\"scatterpolar\",\"marker\":{\"colorbar\":{\"outlinewidth\":0,\"ticks\":\"\"}}}],\"histogram\":[{\"marker\":{\"pattern\":{\"fillmode\":\"overlay\",\"size\":10,\"solidity\":0.2}},\"type\":\"histogram\"}],\"scattergl\":[{\"type\":\"scattergl\",\"marker\":{\"colorbar\":{\"outlinewidth\":0,\"ticks\":\"\"}}}],\"scatter3d\":[{\"type\":\"scatter3d\",\"line\":{\"colorbar\":{\"outlinewidth\":0,\"ticks\":\"\"}},\"marker\":{\"colorbar\":{\"outlinewidth\":0,\"ticks\":\"\"}}}],\"scattermapbox\":[{\"type\":\"scattermapbox\",\"marker\":{\"colorbar\":{\"outlinewidth\":0,\"ticks\":\"\"}}}],\"scatterternary\":[{\"type\":\"scatterternary\",\"marker\":{\"colorbar\":{\"outlinewidth\":0,\"ticks\":\"\"}}}],\"scattercarpet\":[{\"type\":\"scattercarpet\",\"marker\":{\"colorbar\":{\"outlinewidth\":0,\"ticks\":\"\"}}}],\"carpet\":[{\"aaxis\":{\"endlinecolor\":\"#2a3f5f\",\"gridcolor\":\"white\",\"linecolor\":\"white\",\"minorgridcolor\":\"white\",\"startlinecolor\":\"#2a3f5f\"},\"baxis\":{\"endlinecolor\":\"#2a3f5f\",\"gridcolor\":\"white\",\"linecolor\":\"white\",\"minorgridcolor\":\"white\",\"startlinecolor\":\"#2a3f5f\"},\"type\":\"carpet\"}],\"table\":[{\"cells\":{\"fill\":{\"color\":\"#EBF0F8\"},\"line\":{\"color\":\"white\"}},\"header\":{\"fill\":{\"color\":\"#C8D4E3\"},\"line\":{\"color\":\"white\"}},\"type\":\"table\"}],\"barpolar\":[{\"marker\":{\"line\":{\"color\":\"#E5ECF6\",\"width\":0.5},\"pattern\":{\"fillmode\":\"overlay\",\"size\":10,\"solidity\":0.2}},\"type\":\"barpolar\"}],\"pie\":[{\"automargin\":true,\"type\":\"pie\"}]},\"layout\":{\"autotypenumbers\":\"strict\",\"colorway\":[\"#636efa\",\"#EF553B\",\"#00cc96\",\"#ab63fa\",\"#FFA15A\",\"#19d3f3\",\"#FF6692\",\"#B6E880\",\"#FF97FF\",\"#FECB52\"],\"font\":{\"color\":\"#2a3f5f\"},\"hovermode\":\"closest\",\"hoverlabel\":{\"align\":\"left\"},\"paper_bgcolor\":\"white\",\"plot_bgcolor\":\"#E5ECF6\",\"polar\":{\"bgcolor\":\"#E5ECF6\",\"angularaxis\":{\"gridcolor\":\"white\",\"linecolor\":\"white\",\"ticks\":\"\"},\"radialaxis\":{\"gridcolor\":\"white\",\"linecolor\":\"white\",\"ticks\":\"\"}},\"ternary\":{\"bgcolor\":\"#E5ECF6\",\"aaxis\":{\"gridcolor\":\"white\",\"linecolor\":\"white\",\"ticks\":\"\"},\"baxis\":{\"gridcolor\":\"white\",\"linecolor\":\"white\",\"ticks\":\"\"},\"caxis\":{\"gridcolor\":\"white\",\"linecolor\":\"white\",\"ticks\":\"\"}},\"coloraxis\":{\"colorbar\":{\"outlinewidth\":0,\"ticks\":\"\"}},\"colorscale\":{\"sequential\":[[0.0,\"#0d0887\"],[0.1111111111111111,\"#46039f\"],[0.2222222222222222,\"#7201a8\"],[0.3333333333333333,\"#9c179e\"],[0.4444444444444444,\"#bd3786\"],[0.5555555555555556,\"#d8576b\"],[0.6666666666666666,\"#ed7953\"],[0.7777777777777778,\"#fb9f3a\"],[0.8888888888888888,\"#fdca26\"],[1.0,\"#f0f921\"]],\"sequentialminus\":[[0.0,\"#0d0887\"],[0.1111111111111111,\"#46039f\"],[0.2222222222222222,\"#7201a8\"],[0.3333333333333333,\"#9c179e\"],[0.4444444444444444,\"#bd3786\"],[0.5555555555555556,\"#d8576b\"],[0.6666666666666666,\"#ed7953\"],[0.7777777777777778,\"#fb9f3a\"],[0.8888888888888888,\"#fdca26\"],[1.0,\"#f0f921\"]],\"diverging\":[[0,\"#8e0152\"],[0.1,\"#c51b7d\"],[0.2,\"#de77ae\"],[0.3,\"#f1b6da\"],[0.4,\"#fde0ef\"],[0.5,\"#f7f7f7\"],[0.6,\"#e6f5d0\"],[0.7,\"#b8e186\"],[0.8,\"#7fbc41\"],[0.9,\"#4d9221\"],[1,\"#276419\"]]},\"xaxis\":{\"gridcolor\":\"white\",\"linecolor\":\"white\",\"ticks\":\"\",\"title\":{\"standoff\":15},\"zerolinecolor\":\"white\",\"automargin\":true,\"zerolinewidth\":2},\"yaxis\":{\"gridcolor\":\"white\",\"linecolor\":\"white\",\"ticks\":\"\",\"title\":{\"standoff\":15},\"zerolinecolor\":\"white\",\"automargin\":true,\"zerolinewidth\":2},\"scene\":{\"xaxis\":{\"backgroundcolor\":\"#E5ECF6\",\"gridcolor\":\"white\",\"linecolor\":\"white\",\"showbackground\":true,\"ticks\":\"\",\"zerolinecolor\":\"white\",\"gridwidth\":2},\"yaxis\":{\"backgroundcolor\":\"#E5ECF6\",\"gridcolor\":\"white\",\"linecolor\":\"white\",\"showbackground\":true,\"ticks\":\"\",\"zerolinecolor\":\"white\",\"gridwidth\":2},\"zaxis\":{\"backgroundcolor\":\"#E5ECF6\",\"gridcolor\":\"white\",\"linecolor\":\"white\",\"showbackground\":true,\"ticks\":\"\",\"zerolinecolor\":\"white\",\"gridwidth\":2}},\"shapedefaults\":{\"line\":{\"color\":\"#2a3f5f\"}},\"annotationdefaults\":{\"arrowcolor\":\"#2a3f5f\",\"arrowhead\":0,\"arrowwidth\":1},\"geo\":{\"bgcolor\":\"white\",\"landcolor\":\"#E5ECF6\",\"subunitcolor\":\"white\",\"showland\":true,\"showlakes\":true,\"lakecolor\":\"white\"},\"title\":{\"x\":0.05},\"mapbox\":{\"style\":\"light\"}}},\"coloraxis\":{\"colorbar\":{\"title\":{\"text\":\"year\"}},\"colorscale\":[[0.0,\"#fde725\"],[0.1111111111111111,\"#b5de2b\"],[0.2222222222222222,\"#6ece58\"],[0.3333333333333333,\"#35b779\"],[0.4444444444444444,\"#1f9e89\"],[0.5555555555555556,\"#26828e\"],[0.6666666666666666,\"#31688e\"],[0.7777777777777778,\"#3e4989\"],[0.8888888888888888,\"#482878\"],[1.0,\"#440154\"]],\"cmid\":1986.798856714916},\"legend\":{\"tracegroupgap\":0},\"title\":{\"text\":\"Sets created in each decade\"}},                        {\"responsive\": true}                    ).then(function(){\n",
       "                            \n",
       "var gd = document.getElementById('6fcda625-916a-4d49-90ec-f452ec28d4ac');\n",
       "var x = new MutationObserver(function (mutations, observer) {{\n",
       "        var display = window.getComputedStyle(gd).display;\n",
       "        if (!display || display === 'none') {{\n",
       "            console.log([gd, 'removed!']);\n",
       "            Plotly.purge(gd);\n",
       "            observer.disconnect();\n",
       "        }}\n",
       "}});\n",
       "\n",
       "// Listen for the removal of the full notebook cells\n",
       "var notebookContainer = gd.closest('#notebook-container');\n",
       "if (notebookContainer) {{\n",
       "    x.observe(notebookContainer, {childList: true});\n",
       "}}\n",
       "\n",
       "// Listen for the clearing of the current output cell\n",
       "var outputEl = gd.closest('.output');\n",
       "if (outputEl) {{\n",
       "    x.observe(outputEl, {childList: true});\n",
       "}}\n",
       "\n",
       "                        })                };                });            </script>        </div>"
      ]
     },
     "metadata": {},
     "output_type": "display_data"
    }
   ],
   "source": [
    "fig = px.treemap(sets_themes, path=['decade','name_themes'], values='year',\n",
    "                  color='year',hover_data=['set_num'], title = \"Sets created in each decade\",\n",
    "                  color_continuous_scale=px.colors.sequential.Viridis_r,\n",
    "                  color_continuous_midpoint=np.average(sets_themes['year']-20, weights=sets_themes['year']))\n",
    "fig.show()"
   ]
  },
  {
   "cell_type": "markdown",
   "id": "c6411ec8",
   "metadata": {},
   "source": [
    "#### 4. What percentage of sets released were Book themed in each decade?"
   ]
  },
  {
   "cell_type": "code",
   "execution_count": 43,
   "id": "63aa5fef",
   "metadata": {},
   "outputs": [
    {
     "data": {
      "text/html": [
       "<div>\n",
       "<style scoped>\n",
       "    .dataframe tbody tr th:only-of-type {\n",
       "        vertical-align: middle;\n",
       "    }\n",
       "\n",
       "    .dataframe tbody tr th {\n",
       "        vertical-align: top;\n",
       "    }\n",
       "\n",
       "    .dataframe thead th {\n",
       "        text-align: right;\n",
       "    }\n",
       "</style>\n",
       "<table border=\"1\" class=\"dataframe\">\n",
       "  <thead>\n",
       "    <tr style=\"text-align: right;\">\n",
       "      <th></th>\n",
       "      <th>decade</th>\n",
       "      <th>book_count</th>\n",
       "      <th>book_percentage</th>\n",
       "    </tr>\n",
       "  </thead>\n",
       "  <tbody>\n",
       "    <tr>\n",
       "      <th>0</th>\n",
       "      <td>20's</td>\n",
       "      <td>16</td>\n",
       "      <td>0.34</td>\n",
       "    </tr>\n",
       "    <tr>\n",
       "      <th>1</th>\n",
       "      <td>21's</td>\n",
       "      <td>356</td>\n",
       "      <td>4.27</td>\n",
       "    </tr>\n",
       "    <tr>\n",
       "      <th>2</th>\n",
       "      <td>22's</td>\n",
       "      <td>89</td>\n",
       "      <td>5.33</td>\n",
       "    </tr>\n",
       "    <tr>\n",
       "      <th>3</th>\n",
       "      <td>40's</td>\n",
       "      <td>0</td>\n",
       "      <td>0.00</td>\n",
       "    </tr>\n",
       "    <tr>\n",
       "      <th>4</th>\n",
       "      <td>50's</td>\n",
       "      <td>3</td>\n",
       "      <td>2.05</td>\n",
       "    </tr>\n",
       "    <tr>\n",
       "      <th>5</th>\n",
       "      <td>60's</td>\n",
       "      <td>14</td>\n",
       "      <td>3.43</td>\n",
       "    </tr>\n",
       "    <tr>\n",
       "      <th>6</th>\n",
       "      <td>70's</td>\n",
       "      <td>3</td>\n",
       "      <td>0.43</td>\n",
       "    </tr>\n",
       "    <tr>\n",
       "      <th>7</th>\n",
       "      <td>80's</td>\n",
       "      <td>6</td>\n",
       "      <td>0.48</td>\n",
       "    </tr>\n",
       "    <tr>\n",
       "      <th>8</th>\n",
       "      <td>90's</td>\n",
       "      <td>4</td>\n",
       "      <td>0.17</td>\n",
       "    </tr>\n",
       "  </tbody>\n",
       "</table>\n",
       "</div>"
      ],
      "text/plain": [
       "  decade  book_count  book_percentage\n",
       "0   20's          16             0.34\n",
       "1   21's         356             4.27\n",
       "2   22's          89             5.33\n",
       "3   40's           0             0.00\n",
       "4   50's           3             2.05\n",
       "5   60's          14             3.43\n",
       "6   70's           3             0.43\n",
       "7   80's           6             0.48\n",
       "8   90's           4             0.17"
      ]
     },
     "execution_count": 43,
     "metadata": {},
     "output_type": "execute_result"
    }
   ],
   "source": [
    "book = sets_themes['name_themes'].str.contains('Book').groupby(sets_themes['decade']).sum().reset_index().rename(columns = {'name_themes':'book_count'})\n",
    "\n",
    "book['book_percentage'] = (book['book_count']/decade_sets['sets_created'])*100\n",
    "book = book.round({'book_percentage': 2})\n",
    "book"
   ]
  },
  {
   "cell_type": "code",
   "execution_count": 44,
   "id": "b0fa167f",
   "metadata": {},
   "outputs": [
    {
     "data": {
      "application/vnd.plotly.v1+json": {
       "config": {
        "plotlyServerURL": "https://plot.ly"
       },
       "data": [
        {
         "alignmentgroup": "True",
         "hovertemplate": "decade=%{x}<br>book_percentage=%{text}<br>book_count=%{marker.color}<extra></extra>",
         "legendgroup": "",
         "marker": {
          "color": [
           16,
           356,
           89,
           0,
           3,
           14,
           3,
           6,
           4
          ],
          "coloraxis": "coloraxis",
          "pattern": {
           "shape": ""
          }
         },
         "name": "",
         "offsetgroup": "",
         "orientation": "v",
         "showlegend": false,
         "text": [
          0.34,
          4.27,
          5.33,
          0,
          2.05,
          3.43,
          0.43,
          0.48,
          0.17
         ],
         "textposition": "auto",
         "type": "bar",
         "x": [
          "20's",
          "21's",
          "22's",
          "40's",
          "50's",
          "60's",
          "70's",
          "80's",
          "90's"
         ],
         "xaxis": "x",
         "y": [
          0.34,
          4.27,
          5.33,
          0,
          2.05,
          3.43,
          0.43,
          0.48,
          0.17
         ],
         "yaxis": "y"
        }
       ],
       "layout": {
        "barmode": "relative",
        "coloraxis": {
         "colorbar": {
          "title": {
           "text": "book_count"
          }
         },
         "colorscale": [
          [
           0,
           "#fde725"
          ],
          [
           0.1111111111111111,
           "#b5de2b"
          ],
          [
           0.2222222222222222,
           "#6ece58"
          ],
          [
           0.3333333333333333,
           "#35b779"
          ],
          [
           0.4444444444444444,
           "#1f9e89"
          ],
          [
           0.5555555555555556,
           "#26828e"
          ],
          [
           0.6666666666666666,
           "#31688e"
          ],
          [
           0.7777777777777778,
           "#3e4989"
          ],
          [
           0.8888888888888888,
           "#482878"
          ],
          [
           1,
           "#440154"
          ]
         ],
         "showscale": false
        },
        "height": 800,
        "legend": {
         "tracegroupgap": 0
        },
        "template": {
         "data": {
          "bar": [
           {
            "error_x": {
             "color": "#2a3f5f"
            },
            "error_y": {
             "color": "#2a3f5f"
            },
            "marker": {
             "line": {
              "color": "#E5ECF6",
              "width": 0.5
             },
             "pattern": {
              "fillmode": "overlay",
              "size": 10,
              "solidity": 0.2
             }
            },
            "type": "bar"
           }
          ],
          "barpolar": [
           {
            "marker": {
             "line": {
              "color": "#E5ECF6",
              "width": 0.5
             },
             "pattern": {
              "fillmode": "overlay",
              "size": 10,
              "solidity": 0.2
             }
            },
            "type": "barpolar"
           }
          ],
          "carpet": [
           {
            "aaxis": {
             "endlinecolor": "#2a3f5f",
             "gridcolor": "white",
             "linecolor": "white",
             "minorgridcolor": "white",
             "startlinecolor": "#2a3f5f"
            },
            "baxis": {
             "endlinecolor": "#2a3f5f",
             "gridcolor": "white",
             "linecolor": "white",
             "minorgridcolor": "white",
             "startlinecolor": "#2a3f5f"
            },
            "type": "carpet"
           }
          ],
          "choropleth": [
           {
            "colorbar": {
             "outlinewidth": 0,
             "ticks": ""
            },
            "type": "choropleth"
           }
          ],
          "contour": [
           {
            "colorbar": {
             "outlinewidth": 0,
             "ticks": ""
            },
            "colorscale": [
             [
              0,
              "#0d0887"
             ],
             [
              0.1111111111111111,
              "#46039f"
             ],
             [
              0.2222222222222222,
              "#7201a8"
             ],
             [
              0.3333333333333333,
              "#9c179e"
             ],
             [
              0.4444444444444444,
              "#bd3786"
             ],
             [
              0.5555555555555556,
              "#d8576b"
             ],
             [
              0.6666666666666666,
              "#ed7953"
             ],
             [
              0.7777777777777778,
              "#fb9f3a"
             ],
             [
              0.8888888888888888,
              "#fdca26"
             ],
             [
              1,
              "#f0f921"
             ]
            ],
            "type": "contour"
           }
          ],
          "contourcarpet": [
           {
            "colorbar": {
             "outlinewidth": 0,
             "ticks": ""
            },
            "type": "contourcarpet"
           }
          ],
          "heatmap": [
           {
            "colorbar": {
             "outlinewidth": 0,
             "ticks": ""
            },
            "colorscale": [
             [
              0,
              "#0d0887"
             ],
             [
              0.1111111111111111,
              "#46039f"
             ],
             [
              0.2222222222222222,
              "#7201a8"
             ],
             [
              0.3333333333333333,
              "#9c179e"
             ],
             [
              0.4444444444444444,
              "#bd3786"
             ],
             [
              0.5555555555555556,
              "#d8576b"
             ],
             [
              0.6666666666666666,
              "#ed7953"
             ],
             [
              0.7777777777777778,
              "#fb9f3a"
             ],
             [
              0.8888888888888888,
              "#fdca26"
             ],
             [
              1,
              "#f0f921"
             ]
            ],
            "type": "heatmap"
           }
          ],
          "heatmapgl": [
           {
            "colorbar": {
             "outlinewidth": 0,
             "ticks": ""
            },
            "colorscale": [
             [
              0,
              "#0d0887"
             ],
             [
              0.1111111111111111,
              "#46039f"
             ],
             [
              0.2222222222222222,
              "#7201a8"
             ],
             [
              0.3333333333333333,
              "#9c179e"
             ],
             [
              0.4444444444444444,
              "#bd3786"
             ],
             [
              0.5555555555555556,
              "#d8576b"
             ],
             [
              0.6666666666666666,
              "#ed7953"
             ],
             [
              0.7777777777777778,
              "#fb9f3a"
             ],
             [
              0.8888888888888888,
              "#fdca26"
             ],
             [
              1,
              "#f0f921"
             ]
            ],
            "type": "heatmapgl"
           }
          ],
          "histogram": [
           {
            "marker": {
             "pattern": {
              "fillmode": "overlay",
              "size": 10,
              "solidity": 0.2
             }
            },
            "type": "histogram"
           }
          ],
          "histogram2d": [
           {
            "colorbar": {
             "outlinewidth": 0,
             "ticks": ""
            },
            "colorscale": [
             [
              0,
              "#0d0887"
             ],
             [
              0.1111111111111111,
              "#46039f"
             ],
             [
              0.2222222222222222,
              "#7201a8"
             ],
             [
              0.3333333333333333,
              "#9c179e"
             ],
             [
              0.4444444444444444,
              "#bd3786"
             ],
             [
              0.5555555555555556,
              "#d8576b"
             ],
             [
              0.6666666666666666,
              "#ed7953"
             ],
             [
              0.7777777777777778,
              "#fb9f3a"
             ],
             [
              0.8888888888888888,
              "#fdca26"
             ],
             [
              1,
              "#f0f921"
             ]
            ],
            "type": "histogram2d"
           }
          ],
          "histogram2dcontour": [
           {
            "colorbar": {
             "outlinewidth": 0,
             "ticks": ""
            },
            "colorscale": [
             [
              0,
              "#0d0887"
             ],
             [
              0.1111111111111111,
              "#46039f"
             ],
             [
              0.2222222222222222,
              "#7201a8"
             ],
             [
              0.3333333333333333,
              "#9c179e"
             ],
             [
              0.4444444444444444,
              "#bd3786"
             ],
             [
              0.5555555555555556,
              "#d8576b"
             ],
             [
              0.6666666666666666,
              "#ed7953"
             ],
             [
              0.7777777777777778,
              "#fb9f3a"
             ],
             [
              0.8888888888888888,
              "#fdca26"
             ],
             [
              1,
              "#f0f921"
             ]
            ],
            "type": "histogram2dcontour"
           }
          ],
          "mesh3d": [
           {
            "colorbar": {
             "outlinewidth": 0,
             "ticks": ""
            },
            "type": "mesh3d"
           }
          ],
          "parcoords": [
           {
            "line": {
             "colorbar": {
              "outlinewidth": 0,
              "ticks": ""
             }
            },
            "type": "parcoords"
           }
          ],
          "pie": [
           {
            "automargin": true,
            "type": "pie"
           }
          ],
          "scatter": [
           {
            "fillpattern": {
             "fillmode": "overlay",
             "size": 10,
             "solidity": 0.2
            },
            "type": "scatter"
           }
          ],
          "scatter3d": [
           {
            "line": {
             "colorbar": {
              "outlinewidth": 0,
              "ticks": ""
             }
            },
            "marker": {
             "colorbar": {
              "outlinewidth": 0,
              "ticks": ""
             }
            },
            "type": "scatter3d"
           }
          ],
          "scattercarpet": [
           {
            "marker": {
             "colorbar": {
              "outlinewidth": 0,
              "ticks": ""
             }
            },
            "type": "scattercarpet"
           }
          ],
          "scattergeo": [
           {
            "marker": {
             "colorbar": {
              "outlinewidth": 0,
              "ticks": ""
             }
            },
            "type": "scattergeo"
           }
          ],
          "scattergl": [
           {
            "marker": {
             "colorbar": {
              "outlinewidth": 0,
              "ticks": ""
             }
            },
            "type": "scattergl"
           }
          ],
          "scattermapbox": [
           {
            "marker": {
             "colorbar": {
              "outlinewidth": 0,
              "ticks": ""
             }
            },
            "type": "scattermapbox"
           }
          ],
          "scatterpolar": [
           {
            "marker": {
             "colorbar": {
              "outlinewidth": 0,
              "ticks": ""
             }
            },
            "type": "scatterpolar"
           }
          ],
          "scatterpolargl": [
           {
            "marker": {
             "colorbar": {
              "outlinewidth": 0,
              "ticks": ""
             }
            },
            "type": "scatterpolargl"
           }
          ],
          "scatterternary": [
           {
            "marker": {
             "colorbar": {
              "outlinewidth": 0,
              "ticks": ""
             }
            },
            "type": "scatterternary"
           }
          ],
          "surface": [
           {
            "colorbar": {
             "outlinewidth": 0,
             "ticks": ""
            },
            "colorscale": [
             [
              0,
              "#0d0887"
             ],
             [
              0.1111111111111111,
              "#46039f"
             ],
             [
              0.2222222222222222,
              "#7201a8"
             ],
             [
              0.3333333333333333,
              "#9c179e"
             ],
             [
              0.4444444444444444,
              "#bd3786"
             ],
             [
              0.5555555555555556,
              "#d8576b"
             ],
             [
              0.6666666666666666,
              "#ed7953"
             ],
             [
              0.7777777777777778,
              "#fb9f3a"
             ],
             [
              0.8888888888888888,
              "#fdca26"
             ],
             [
              1,
              "#f0f921"
             ]
            ],
            "type": "surface"
           }
          ],
          "table": [
           {
            "cells": {
             "fill": {
              "color": "#EBF0F8"
             },
             "line": {
              "color": "white"
             }
            },
            "header": {
             "fill": {
              "color": "#C8D4E3"
             },
             "line": {
              "color": "white"
             }
            },
            "type": "table"
           }
          ]
         },
         "layout": {
          "annotationdefaults": {
           "arrowcolor": "#2a3f5f",
           "arrowhead": 0,
           "arrowwidth": 1
          },
          "autotypenumbers": "strict",
          "coloraxis": {
           "colorbar": {
            "outlinewidth": 0,
            "ticks": ""
           }
          },
          "colorscale": {
           "diverging": [
            [
             0,
             "#8e0152"
            ],
            [
             0.1,
             "#c51b7d"
            ],
            [
             0.2,
             "#de77ae"
            ],
            [
             0.3,
             "#f1b6da"
            ],
            [
             0.4,
             "#fde0ef"
            ],
            [
             0.5,
             "#f7f7f7"
            ],
            [
             0.6,
             "#e6f5d0"
            ],
            [
             0.7,
             "#b8e186"
            ],
            [
             0.8,
             "#7fbc41"
            ],
            [
             0.9,
             "#4d9221"
            ],
            [
             1,
             "#276419"
            ]
           ],
           "sequential": [
            [
             0,
             "#0d0887"
            ],
            [
             0.1111111111111111,
             "#46039f"
            ],
            [
             0.2222222222222222,
             "#7201a8"
            ],
            [
             0.3333333333333333,
             "#9c179e"
            ],
            [
             0.4444444444444444,
             "#bd3786"
            ],
            [
             0.5555555555555556,
             "#d8576b"
            ],
            [
             0.6666666666666666,
             "#ed7953"
            ],
            [
             0.7777777777777778,
             "#fb9f3a"
            ],
            [
             0.8888888888888888,
             "#fdca26"
            ],
            [
             1,
             "#f0f921"
            ]
           ],
           "sequentialminus": [
            [
             0,
             "#0d0887"
            ],
            [
             0.1111111111111111,
             "#46039f"
            ],
            [
             0.2222222222222222,
             "#7201a8"
            ],
            [
             0.3333333333333333,
             "#9c179e"
            ],
            [
             0.4444444444444444,
             "#bd3786"
            ],
            [
             0.5555555555555556,
             "#d8576b"
            ],
            [
             0.6666666666666666,
             "#ed7953"
            ],
            [
             0.7777777777777778,
             "#fb9f3a"
            ],
            [
             0.8888888888888888,
             "#fdca26"
            ],
            [
             1,
             "#f0f921"
            ]
           ]
          },
          "colorway": [
           "#636efa",
           "#EF553B",
           "#00cc96",
           "#ab63fa",
           "#FFA15A",
           "#19d3f3",
           "#FF6692",
           "#B6E880",
           "#FF97FF",
           "#FECB52"
          ],
          "font": {
           "color": "#2a3f5f"
          },
          "geo": {
           "bgcolor": "white",
           "lakecolor": "white",
           "landcolor": "#E5ECF6",
           "showlakes": true,
           "showland": true,
           "subunitcolor": "white"
          },
          "hoverlabel": {
           "align": "left"
          },
          "hovermode": "closest",
          "mapbox": {
           "style": "light"
          },
          "paper_bgcolor": "white",
          "plot_bgcolor": "#E5ECF6",
          "polar": {
           "angularaxis": {
            "gridcolor": "white",
            "linecolor": "white",
            "ticks": ""
           },
           "bgcolor": "#E5ECF6",
           "radialaxis": {
            "gridcolor": "white",
            "linecolor": "white",
            "ticks": ""
           }
          },
          "scene": {
           "xaxis": {
            "backgroundcolor": "#E5ECF6",
            "gridcolor": "white",
            "gridwidth": 2,
            "linecolor": "white",
            "showbackground": true,
            "ticks": "",
            "zerolinecolor": "white"
           },
           "yaxis": {
            "backgroundcolor": "#E5ECF6",
            "gridcolor": "white",
            "gridwidth": 2,
            "linecolor": "white",
            "showbackground": true,
            "ticks": "",
            "zerolinecolor": "white"
           },
           "zaxis": {
            "backgroundcolor": "#E5ECF6",
            "gridcolor": "white",
            "gridwidth": 2,
            "linecolor": "white",
            "showbackground": true,
            "ticks": "",
            "zerolinecolor": "white"
           }
          },
          "shapedefaults": {
           "line": {
            "color": "#2a3f5f"
           }
          },
          "ternary": {
           "aaxis": {
            "gridcolor": "white",
            "linecolor": "white",
            "ticks": ""
           },
           "baxis": {
            "gridcolor": "white",
            "linecolor": "white",
            "ticks": ""
           },
           "bgcolor": "#E5ECF6",
           "caxis": {
            "gridcolor": "white",
            "linecolor": "white",
            "ticks": ""
           }
          },
          "title": {
           "x": 0.05
          },
          "xaxis": {
           "automargin": true,
           "gridcolor": "white",
           "linecolor": "white",
           "ticks": "",
           "title": {
            "standoff": 15
           },
           "zerolinecolor": "white",
           "zerolinewidth": 2
          },
          "yaxis": {
           "automargin": true,
           "gridcolor": "white",
           "linecolor": "white",
           "ticks": "",
           "title": {
            "standoff": 15
           },
           "zerolinecolor": "white",
           "zerolinewidth": 2
          }
         }
        },
        "title": {
         "text": "Total Percentage of Book Theme sets in each decade"
        },
        "width": 600,
        "xaxis": {
         "anchor": "y",
         "domain": [
          0,
          1
         ],
         "title": {
          "text": "decade"
         }
        },
        "yaxis": {
         "anchor": "x",
         "domain": [
          0,
          1
         ],
         "title": {
          "text": "book_percentage"
         }
        }
       }
      },
      "text/html": [
       "<div>                            <div id=\"44c523cb-8ed4-4b5a-9b1e-14b795d504ed\" class=\"plotly-graph-div\" style=\"height:800px; width:600px;\"></div>            <script type=\"text/javascript\">                require([\"plotly\"], function(Plotly) {                    window.PLOTLYENV=window.PLOTLYENV || {};                                    if (document.getElementById(\"44c523cb-8ed4-4b5a-9b1e-14b795d504ed\")) {                    Plotly.newPlot(                        \"44c523cb-8ed4-4b5a-9b1e-14b795d504ed\",                        [{\"alignmentgroup\":\"True\",\"hovertemplate\":\"decade=%{x}<br>book_percentage=%{text}<br>book_count=%{marker.color}<extra></extra>\",\"legendgroup\":\"\",\"marker\":{\"color\":[16,356,89,0,3,14,3,6,4],\"coloraxis\":\"coloraxis\",\"pattern\":{\"shape\":\"\"}},\"name\":\"\",\"offsetgroup\":\"\",\"orientation\":\"v\",\"showlegend\":false,\"text\":[0.34,4.27,5.33,0.0,2.05,3.43,0.43,0.48,0.17],\"textposition\":\"auto\",\"x\":[\"20's\",\"21's\",\"22's\",\"40's\",\"50's\",\"60's\",\"70's\",\"80's\",\"90's\"],\"xaxis\":\"x\",\"y\":[0.34,4.27,5.33,0.0,2.05,3.43,0.43,0.48,0.17],\"yaxis\":\"y\",\"type\":\"bar\"}],                        {\"template\":{\"data\":{\"histogram2dcontour\":[{\"type\":\"histogram2dcontour\",\"colorbar\":{\"outlinewidth\":0,\"ticks\":\"\"},\"colorscale\":[[0.0,\"#0d0887\"],[0.1111111111111111,\"#46039f\"],[0.2222222222222222,\"#7201a8\"],[0.3333333333333333,\"#9c179e\"],[0.4444444444444444,\"#bd3786\"],[0.5555555555555556,\"#d8576b\"],[0.6666666666666666,\"#ed7953\"],[0.7777777777777778,\"#fb9f3a\"],[0.8888888888888888,\"#fdca26\"],[1.0,\"#f0f921\"]]}],\"choropleth\":[{\"type\":\"choropleth\",\"colorbar\":{\"outlinewidth\":0,\"ticks\":\"\"}}],\"histogram2d\":[{\"type\":\"histogram2d\",\"colorbar\":{\"outlinewidth\":0,\"ticks\":\"\"},\"colorscale\":[[0.0,\"#0d0887\"],[0.1111111111111111,\"#46039f\"],[0.2222222222222222,\"#7201a8\"],[0.3333333333333333,\"#9c179e\"],[0.4444444444444444,\"#bd3786\"],[0.5555555555555556,\"#d8576b\"],[0.6666666666666666,\"#ed7953\"],[0.7777777777777778,\"#fb9f3a\"],[0.8888888888888888,\"#fdca26\"],[1.0,\"#f0f921\"]]}],\"heatmap\":[{\"type\":\"heatmap\",\"colorbar\":{\"outlinewidth\":0,\"ticks\":\"\"},\"colorscale\":[[0.0,\"#0d0887\"],[0.1111111111111111,\"#46039f\"],[0.2222222222222222,\"#7201a8\"],[0.3333333333333333,\"#9c179e\"],[0.4444444444444444,\"#bd3786\"],[0.5555555555555556,\"#d8576b\"],[0.6666666666666666,\"#ed7953\"],[0.7777777777777778,\"#fb9f3a\"],[0.8888888888888888,\"#fdca26\"],[1.0,\"#f0f921\"]]}],\"heatmapgl\":[{\"type\":\"heatmapgl\",\"colorbar\":{\"outlinewidth\":0,\"ticks\":\"\"},\"colorscale\":[[0.0,\"#0d0887\"],[0.1111111111111111,\"#46039f\"],[0.2222222222222222,\"#7201a8\"],[0.3333333333333333,\"#9c179e\"],[0.4444444444444444,\"#bd3786\"],[0.5555555555555556,\"#d8576b\"],[0.6666666666666666,\"#ed7953\"],[0.7777777777777778,\"#fb9f3a\"],[0.8888888888888888,\"#fdca26\"],[1.0,\"#f0f921\"]]}],\"contourcarpet\":[{\"type\":\"contourcarpet\",\"colorbar\":{\"outlinewidth\":0,\"ticks\":\"\"}}],\"contour\":[{\"type\":\"contour\",\"colorbar\":{\"outlinewidth\":0,\"ticks\":\"\"},\"colorscale\":[[0.0,\"#0d0887\"],[0.1111111111111111,\"#46039f\"],[0.2222222222222222,\"#7201a8\"],[0.3333333333333333,\"#9c179e\"],[0.4444444444444444,\"#bd3786\"],[0.5555555555555556,\"#d8576b\"],[0.6666666666666666,\"#ed7953\"],[0.7777777777777778,\"#fb9f3a\"],[0.8888888888888888,\"#fdca26\"],[1.0,\"#f0f921\"]]}],\"surface\":[{\"type\":\"surface\",\"colorbar\":{\"outlinewidth\":0,\"ticks\":\"\"},\"colorscale\":[[0.0,\"#0d0887\"],[0.1111111111111111,\"#46039f\"],[0.2222222222222222,\"#7201a8\"],[0.3333333333333333,\"#9c179e\"],[0.4444444444444444,\"#bd3786\"],[0.5555555555555556,\"#d8576b\"],[0.6666666666666666,\"#ed7953\"],[0.7777777777777778,\"#fb9f3a\"],[0.8888888888888888,\"#fdca26\"],[1.0,\"#f0f921\"]]}],\"mesh3d\":[{\"type\":\"mesh3d\",\"colorbar\":{\"outlinewidth\":0,\"ticks\":\"\"}}],\"scatter\":[{\"fillpattern\":{\"fillmode\":\"overlay\",\"size\":10,\"solidity\":0.2},\"type\":\"scatter\"}],\"parcoords\":[{\"type\":\"parcoords\",\"line\":{\"colorbar\":{\"outlinewidth\":0,\"ticks\":\"\"}}}],\"scatterpolargl\":[{\"type\":\"scatterpolargl\",\"marker\":{\"colorbar\":{\"outlinewidth\":0,\"ticks\":\"\"}}}],\"bar\":[{\"error_x\":{\"color\":\"#2a3f5f\"},\"error_y\":{\"color\":\"#2a3f5f\"},\"marker\":{\"line\":{\"color\":\"#E5ECF6\",\"width\":0.5},\"pattern\":{\"fillmode\":\"overlay\",\"size\":10,\"solidity\":0.2}},\"type\":\"bar\"}],\"scattergeo\":[{\"type\":\"scattergeo\",\"marker\":{\"colorbar\":{\"outlinewidth\":0,\"ticks\":\"\"}}}],\"scatterpolar\":[{\"type\":\"scatterpolar\",\"marker\":{\"colorbar\":{\"outlinewidth\":0,\"ticks\":\"\"}}}],\"histogram\":[{\"marker\":{\"pattern\":{\"fillmode\":\"overlay\",\"size\":10,\"solidity\":0.2}},\"type\":\"histogram\"}],\"scattergl\":[{\"type\":\"scattergl\",\"marker\":{\"colorbar\":{\"outlinewidth\":0,\"ticks\":\"\"}}}],\"scatter3d\":[{\"type\":\"scatter3d\",\"line\":{\"colorbar\":{\"outlinewidth\":0,\"ticks\":\"\"}},\"marker\":{\"colorbar\":{\"outlinewidth\":0,\"ticks\":\"\"}}}],\"scattermapbox\":[{\"type\":\"scattermapbox\",\"marker\":{\"colorbar\":{\"outlinewidth\":0,\"ticks\":\"\"}}}],\"scatterternary\":[{\"type\":\"scatterternary\",\"marker\":{\"colorbar\":{\"outlinewidth\":0,\"ticks\":\"\"}}}],\"scattercarpet\":[{\"type\":\"scattercarpet\",\"marker\":{\"colorbar\":{\"outlinewidth\":0,\"ticks\":\"\"}}}],\"carpet\":[{\"aaxis\":{\"endlinecolor\":\"#2a3f5f\",\"gridcolor\":\"white\",\"linecolor\":\"white\",\"minorgridcolor\":\"white\",\"startlinecolor\":\"#2a3f5f\"},\"baxis\":{\"endlinecolor\":\"#2a3f5f\",\"gridcolor\":\"white\",\"linecolor\":\"white\",\"minorgridcolor\":\"white\",\"startlinecolor\":\"#2a3f5f\"},\"type\":\"carpet\"}],\"table\":[{\"cells\":{\"fill\":{\"color\":\"#EBF0F8\"},\"line\":{\"color\":\"white\"}},\"header\":{\"fill\":{\"color\":\"#C8D4E3\"},\"line\":{\"color\":\"white\"}},\"type\":\"table\"}],\"barpolar\":[{\"marker\":{\"line\":{\"color\":\"#E5ECF6\",\"width\":0.5},\"pattern\":{\"fillmode\":\"overlay\",\"size\":10,\"solidity\":0.2}},\"type\":\"barpolar\"}],\"pie\":[{\"automargin\":true,\"type\":\"pie\"}]},\"layout\":{\"autotypenumbers\":\"strict\",\"colorway\":[\"#636efa\",\"#EF553B\",\"#00cc96\",\"#ab63fa\",\"#FFA15A\",\"#19d3f3\",\"#FF6692\",\"#B6E880\",\"#FF97FF\",\"#FECB52\"],\"font\":{\"color\":\"#2a3f5f\"},\"hovermode\":\"closest\",\"hoverlabel\":{\"align\":\"left\"},\"paper_bgcolor\":\"white\",\"plot_bgcolor\":\"#E5ECF6\",\"polar\":{\"bgcolor\":\"#E5ECF6\",\"angularaxis\":{\"gridcolor\":\"white\",\"linecolor\":\"white\",\"ticks\":\"\"},\"radialaxis\":{\"gridcolor\":\"white\",\"linecolor\":\"white\",\"ticks\":\"\"}},\"ternary\":{\"bgcolor\":\"#E5ECF6\",\"aaxis\":{\"gridcolor\":\"white\",\"linecolor\":\"white\",\"ticks\":\"\"},\"baxis\":{\"gridcolor\":\"white\",\"linecolor\":\"white\",\"ticks\":\"\"},\"caxis\":{\"gridcolor\":\"white\",\"linecolor\":\"white\",\"ticks\":\"\"}},\"coloraxis\":{\"colorbar\":{\"outlinewidth\":0,\"ticks\":\"\"}},\"colorscale\":{\"sequential\":[[0.0,\"#0d0887\"],[0.1111111111111111,\"#46039f\"],[0.2222222222222222,\"#7201a8\"],[0.3333333333333333,\"#9c179e\"],[0.4444444444444444,\"#bd3786\"],[0.5555555555555556,\"#d8576b\"],[0.6666666666666666,\"#ed7953\"],[0.7777777777777778,\"#fb9f3a\"],[0.8888888888888888,\"#fdca26\"],[1.0,\"#f0f921\"]],\"sequentialminus\":[[0.0,\"#0d0887\"],[0.1111111111111111,\"#46039f\"],[0.2222222222222222,\"#7201a8\"],[0.3333333333333333,\"#9c179e\"],[0.4444444444444444,\"#bd3786\"],[0.5555555555555556,\"#d8576b\"],[0.6666666666666666,\"#ed7953\"],[0.7777777777777778,\"#fb9f3a\"],[0.8888888888888888,\"#fdca26\"],[1.0,\"#f0f921\"]],\"diverging\":[[0,\"#8e0152\"],[0.1,\"#c51b7d\"],[0.2,\"#de77ae\"],[0.3,\"#f1b6da\"],[0.4,\"#fde0ef\"],[0.5,\"#f7f7f7\"],[0.6,\"#e6f5d0\"],[0.7,\"#b8e186\"],[0.8,\"#7fbc41\"],[0.9,\"#4d9221\"],[1,\"#276419\"]]},\"xaxis\":{\"gridcolor\":\"white\",\"linecolor\":\"white\",\"ticks\":\"\",\"title\":{\"standoff\":15},\"zerolinecolor\":\"white\",\"automargin\":true,\"zerolinewidth\":2},\"yaxis\":{\"gridcolor\":\"white\",\"linecolor\":\"white\",\"ticks\":\"\",\"title\":{\"standoff\":15},\"zerolinecolor\":\"white\",\"automargin\":true,\"zerolinewidth\":2},\"scene\":{\"xaxis\":{\"backgroundcolor\":\"#E5ECF6\",\"gridcolor\":\"white\",\"linecolor\":\"white\",\"showbackground\":true,\"ticks\":\"\",\"zerolinecolor\":\"white\",\"gridwidth\":2},\"yaxis\":{\"backgroundcolor\":\"#E5ECF6\",\"gridcolor\":\"white\",\"linecolor\":\"white\",\"showbackground\":true,\"ticks\":\"\",\"zerolinecolor\":\"white\",\"gridwidth\":2},\"zaxis\":{\"backgroundcolor\":\"#E5ECF6\",\"gridcolor\":\"white\",\"linecolor\":\"white\",\"showbackground\":true,\"ticks\":\"\",\"zerolinecolor\":\"white\",\"gridwidth\":2}},\"shapedefaults\":{\"line\":{\"color\":\"#2a3f5f\"}},\"annotationdefaults\":{\"arrowcolor\":\"#2a3f5f\",\"arrowhead\":0,\"arrowwidth\":1},\"geo\":{\"bgcolor\":\"white\",\"landcolor\":\"#E5ECF6\",\"subunitcolor\":\"white\",\"showland\":true,\"showlakes\":true,\"lakecolor\":\"white\"},\"title\":{\"x\":0.05},\"mapbox\":{\"style\":\"light\"}}},\"xaxis\":{\"anchor\":\"y\",\"domain\":[0.0,1.0],\"title\":{\"text\":\"decade\"}},\"yaxis\":{\"anchor\":\"x\",\"domain\":[0.0,1.0],\"title\":{\"text\":\"book_percentage\"}},\"coloraxis\":{\"colorbar\":{\"title\":{\"text\":\"book_count\"}},\"colorscale\":[[0.0,\"#fde725\"],[0.1111111111111111,\"#b5de2b\"],[0.2222222222222222,\"#6ece58\"],[0.3333333333333333,\"#35b779\"],[0.4444444444444444,\"#1f9e89\"],[0.5555555555555556,\"#26828e\"],[0.6666666666666666,\"#31688e\"],[0.7777777777777778,\"#3e4989\"],[0.8888888888888888,\"#482878\"],[1.0,\"#440154\"]],\"showscale\":false},\"legend\":{\"tracegroupgap\":0},\"title\":{\"text\":\"Total Percentage of Book Theme sets in each decade\"},\"barmode\":\"relative\",\"height\":800,\"width\":600},                        {\"responsive\": true}                    ).then(function(){\n",
       "                            \n",
       "var gd = document.getElementById('44c523cb-8ed4-4b5a-9b1e-14b795d504ed');\n",
       "var x = new MutationObserver(function (mutations, observer) {{\n",
       "        var display = window.getComputedStyle(gd).display;\n",
       "        if (!display || display === 'none') {{\n",
       "            console.log([gd, 'removed!']);\n",
       "            Plotly.purge(gd);\n",
       "            observer.disconnect();\n",
       "        }}\n",
       "}});\n",
       "\n",
       "// Listen for the removal of the full notebook cells\n",
       "var notebookContainer = gd.closest('#notebook-container');\n",
       "if (notebookContainer) {{\n",
       "    x.observe(notebookContainer, {childList: true});\n",
       "}}\n",
       "\n",
       "// Listen for the clearing of the current output cell\n",
       "var outputEl = gd.closest('.output');\n",
       "if (outputEl) {{\n",
       "    x.observe(outputEl, {childList: true});\n",
       "}}\n",
       "\n",
       "                        })                };                });            </script>        </div>"
      ]
     },
     "metadata": {},
     "output_type": "display_data"
    }
   ],
   "source": [
    "fig = px.bar(book, x='decade', y='book_percentage', title=\"Total Percentage of Book Theme sets in each decade\", text=\"book_percentage\" ,width=600, height=800, color = 'book_count', color_continuous_scale=px.colors.sequential.Viridis_r)\n",
    "fig.update_coloraxes(showscale=False)\n",
    "fig.show()"
   ]
  },
  {
   "cell_type": "markdown",
   "id": "dac68754",
   "metadata": {},
   "source": [
    "#### 5. What percentage of sets released were Supplemental themed in each decade?"
   ]
  },
  {
   "cell_type": "code",
   "execution_count": 45,
   "id": "ee58d595",
   "metadata": {},
   "outputs": [
    {
     "data": {
      "text/html": [
       "<div>\n",
       "<style scoped>\n",
       "    .dataframe tbody tr th:only-of-type {\n",
       "        vertical-align: middle;\n",
       "    }\n",
       "\n",
       "    .dataframe tbody tr th {\n",
       "        vertical-align: top;\n",
       "    }\n",
       "\n",
       "    .dataframe thead th {\n",
       "        text-align: right;\n",
       "    }\n",
       "</style>\n",
       "<table border=\"1\" class=\"dataframe\">\n",
       "  <thead>\n",
       "    <tr style=\"text-align: right;\">\n",
       "      <th></th>\n",
       "      <th>decade</th>\n",
       "      <th>supplemental_count</th>\n",
       "      <th>supplemental_percentage</th>\n",
       "    </tr>\n",
       "  </thead>\n",
       "  <tbody>\n",
       "    <tr>\n",
       "      <th>0</th>\n",
       "      <td>20's</td>\n",
       "      <td>23</td>\n",
       "      <td>0.49</td>\n",
       "    </tr>\n",
       "    <tr>\n",
       "      <th>1</th>\n",
       "      <td>21's</td>\n",
       "      <td>10</td>\n",
       "      <td>0.12</td>\n",
       "    </tr>\n",
       "    <tr>\n",
       "      <th>2</th>\n",
       "      <td>22's</td>\n",
       "      <td>0</td>\n",
       "      <td>0.00</td>\n",
       "    </tr>\n",
       "    <tr>\n",
       "      <th>3</th>\n",
       "      <td>40's</td>\n",
       "      <td>8</td>\n",
       "      <td>72.73</td>\n",
       "    </tr>\n",
       "    <tr>\n",
       "      <th>4</th>\n",
       "      <td>50's</td>\n",
       "      <td>89</td>\n",
       "      <td>60.96</td>\n",
       "    </tr>\n",
       "    <tr>\n",
       "      <th>5</th>\n",
       "      <td>60's</td>\n",
       "      <td>161</td>\n",
       "      <td>39.46</td>\n",
       "    </tr>\n",
       "    <tr>\n",
       "      <th>6</th>\n",
       "      <td>70's</td>\n",
       "      <td>62</td>\n",
       "      <td>8.97</td>\n",
       "    </tr>\n",
       "    <tr>\n",
       "      <th>7</th>\n",
       "      <td>80's</td>\n",
       "      <td>42</td>\n",
       "      <td>3.39</td>\n",
       "    </tr>\n",
       "    <tr>\n",
       "      <th>8</th>\n",
       "      <td>90's</td>\n",
       "      <td>49</td>\n",
       "      <td>2.06</td>\n",
       "    </tr>\n",
       "  </tbody>\n",
       "</table>\n",
       "</div>"
      ],
      "text/plain": [
       "  decade  supplemental_count  supplemental_percentage\n",
       "0   20's                  23                     0.49\n",
       "1   21's                  10                     0.12\n",
       "2   22's                   0                     0.00\n",
       "3   40's                   8                    72.73\n",
       "4   50's                  89                    60.96\n",
       "5   60's                 161                    39.46\n",
       "6   70's                  62                     8.97\n",
       "7   80's                  42                     3.39\n",
       "8   90's                  49                     2.06"
      ]
     },
     "execution_count": 45,
     "metadata": {},
     "output_type": "execute_result"
    }
   ],
   "source": [
    "supplemental = sets_themes['name_themes'].str.contains('Supplemental').groupby(sets_themes['decade']).sum().reset_index().rename(columns = {'name_themes':'supplemental_count'})\n",
    "supplemental['supplemental_percentage'] = (supplemental['supplemental_count']/decade_sets['sets_created'])*100\n",
    "supplemental = supplemental.round({'supplemental_percentage': 2})\n",
    "supplemental"
   ]
  },
  {
   "cell_type": "code",
   "execution_count": 46,
   "id": "929f79e0",
   "metadata": {},
   "outputs": [
    {
     "data": {
      "application/vnd.plotly.v1+json": {
       "config": {
        "plotlyServerURL": "https://plot.ly"
       },
       "data": [
        {
         "alignmentgroup": "True",
         "hovertemplate": "decade=%{x}<br>supplemental_percentage=%{text}<br>supplemental_count=%{marker.color}<extra></extra>",
         "legendgroup": "",
         "marker": {
          "color": [
           23,
           10,
           0,
           8,
           89,
           161,
           62,
           42,
           49
          ],
          "coloraxis": "coloraxis",
          "pattern": {
           "shape": ""
          }
         },
         "name": "",
         "offsetgroup": "",
         "orientation": "v",
         "showlegend": false,
         "text": [
          0.49,
          0.12,
          0,
          72.73,
          60.96,
          39.46,
          8.97,
          3.39,
          2.06
         ],
         "textposition": "auto",
         "type": "bar",
         "x": [
          "20's",
          "21's",
          "22's",
          "40's",
          "50's",
          "60's",
          "70's",
          "80's",
          "90's"
         ],
         "xaxis": "x",
         "y": [
          0.49,
          0.12,
          0,
          72.73,
          60.96,
          39.46,
          8.97,
          3.39,
          2.06
         ],
         "yaxis": "y"
        }
       ],
       "layout": {
        "barmode": "relative",
        "coloraxis": {
         "colorbar": {
          "title": {
           "text": "supplemental_count"
          }
         },
         "colorscale": [
          [
           0,
           "#fde725"
          ],
          [
           0.1111111111111111,
           "#b5de2b"
          ],
          [
           0.2222222222222222,
           "#6ece58"
          ],
          [
           0.3333333333333333,
           "#35b779"
          ],
          [
           0.4444444444444444,
           "#1f9e89"
          ],
          [
           0.5555555555555556,
           "#26828e"
          ],
          [
           0.6666666666666666,
           "#31688e"
          ],
          [
           0.7777777777777778,
           "#3e4989"
          ],
          [
           0.8888888888888888,
           "#482878"
          ],
          [
           1,
           "#440154"
          ]
         ],
         "showscale": false
        },
        "height": 800,
        "legend": {
         "tracegroupgap": 0
        },
        "template": {
         "data": {
          "bar": [
           {
            "error_x": {
             "color": "#2a3f5f"
            },
            "error_y": {
             "color": "#2a3f5f"
            },
            "marker": {
             "line": {
              "color": "#E5ECF6",
              "width": 0.5
             },
             "pattern": {
              "fillmode": "overlay",
              "size": 10,
              "solidity": 0.2
             }
            },
            "type": "bar"
           }
          ],
          "barpolar": [
           {
            "marker": {
             "line": {
              "color": "#E5ECF6",
              "width": 0.5
             },
             "pattern": {
              "fillmode": "overlay",
              "size": 10,
              "solidity": 0.2
             }
            },
            "type": "barpolar"
           }
          ],
          "carpet": [
           {
            "aaxis": {
             "endlinecolor": "#2a3f5f",
             "gridcolor": "white",
             "linecolor": "white",
             "minorgridcolor": "white",
             "startlinecolor": "#2a3f5f"
            },
            "baxis": {
             "endlinecolor": "#2a3f5f",
             "gridcolor": "white",
             "linecolor": "white",
             "minorgridcolor": "white",
             "startlinecolor": "#2a3f5f"
            },
            "type": "carpet"
           }
          ],
          "choropleth": [
           {
            "colorbar": {
             "outlinewidth": 0,
             "ticks": ""
            },
            "type": "choropleth"
           }
          ],
          "contour": [
           {
            "colorbar": {
             "outlinewidth": 0,
             "ticks": ""
            },
            "colorscale": [
             [
              0,
              "#0d0887"
             ],
             [
              0.1111111111111111,
              "#46039f"
             ],
             [
              0.2222222222222222,
              "#7201a8"
             ],
             [
              0.3333333333333333,
              "#9c179e"
             ],
             [
              0.4444444444444444,
              "#bd3786"
             ],
             [
              0.5555555555555556,
              "#d8576b"
             ],
             [
              0.6666666666666666,
              "#ed7953"
             ],
             [
              0.7777777777777778,
              "#fb9f3a"
             ],
             [
              0.8888888888888888,
              "#fdca26"
             ],
             [
              1,
              "#f0f921"
             ]
            ],
            "type": "contour"
           }
          ],
          "contourcarpet": [
           {
            "colorbar": {
             "outlinewidth": 0,
             "ticks": ""
            },
            "type": "contourcarpet"
           }
          ],
          "heatmap": [
           {
            "colorbar": {
             "outlinewidth": 0,
             "ticks": ""
            },
            "colorscale": [
             [
              0,
              "#0d0887"
             ],
             [
              0.1111111111111111,
              "#46039f"
             ],
             [
              0.2222222222222222,
              "#7201a8"
             ],
             [
              0.3333333333333333,
              "#9c179e"
             ],
             [
              0.4444444444444444,
              "#bd3786"
             ],
             [
              0.5555555555555556,
              "#d8576b"
             ],
             [
              0.6666666666666666,
              "#ed7953"
             ],
             [
              0.7777777777777778,
              "#fb9f3a"
             ],
             [
              0.8888888888888888,
              "#fdca26"
             ],
             [
              1,
              "#f0f921"
             ]
            ],
            "type": "heatmap"
           }
          ],
          "heatmapgl": [
           {
            "colorbar": {
             "outlinewidth": 0,
             "ticks": ""
            },
            "colorscale": [
             [
              0,
              "#0d0887"
             ],
             [
              0.1111111111111111,
              "#46039f"
             ],
             [
              0.2222222222222222,
              "#7201a8"
             ],
             [
              0.3333333333333333,
              "#9c179e"
             ],
             [
              0.4444444444444444,
              "#bd3786"
             ],
             [
              0.5555555555555556,
              "#d8576b"
             ],
             [
              0.6666666666666666,
              "#ed7953"
             ],
             [
              0.7777777777777778,
              "#fb9f3a"
             ],
             [
              0.8888888888888888,
              "#fdca26"
             ],
             [
              1,
              "#f0f921"
             ]
            ],
            "type": "heatmapgl"
           }
          ],
          "histogram": [
           {
            "marker": {
             "pattern": {
              "fillmode": "overlay",
              "size": 10,
              "solidity": 0.2
             }
            },
            "type": "histogram"
           }
          ],
          "histogram2d": [
           {
            "colorbar": {
             "outlinewidth": 0,
             "ticks": ""
            },
            "colorscale": [
             [
              0,
              "#0d0887"
             ],
             [
              0.1111111111111111,
              "#46039f"
             ],
             [
              0.2222222222222222,
              "#7201a8"
             ],
             [
              0.3333333333333333,
              "#9c179e"
             ],
             [
              0.4444444444444444,
              "#bd3786"
             ],
             [
              0.5555555555555556,
              "#d8576b"
             ],
             [
              0.6666666666666666,
              "#ed7953"
             ],
             [
              0.7777777777777778,
              "#fb9f3a"
             ],
             [
              0.8888888888888888,
              "#fdca26"
             ],
             [
              1,
              "#f0f921"
             ]
            ],
            "type": "histogram2d"
           }
          ],
          "histogram2dcontour": [
           {
            "colorbar": {
             "outlinewidth": 0,
             "ticks": ""
            },
            "colorscale": [
             [
              0,
              "#0d0887"
             ],
             [
              0.1111111111111111,
              "#46039f"
             ],
             [
              0.2222222222222222,
              "#7201a8"
             ],
             [
              0.3333333333333333,
              "#9c179e"
             ],
             [
              0.4444444444444444,
              "#bd3786"
             ],
             [
              0.5555555555555556,
              "#d8576b"
             ],
             [
              0.6666666666666666,
              "#ed7953"
             ],
             [
              0.7777777777777778,
              "#fb9f3a"
             ],
             [
              0.8888888888888888,
              "#fdca26"
             ],
             [
              1,
              "#f0f921"
             ]
            ],
            "type": "histogram2dcontour"
           }
          ],
          "mesh3d": [
           {
            "colorbar": {
             "outlinewidth": 0,
             "ticks": ""
            },
            "type": "mesh3d"
           }
          ],
          "parcoords": [
           {
            "line": {
             "colorbar": {
              "outlinewidth": 0,
              "ticks": ""
             }
            },
            "type": "parcoords"
           }
          ],
          "pie": [
           {
            "automargin": true,
            "type": "pie"
           }
          ],
          "scatter": [
           {
            "fillpattern": {
             "fillmode": "overlay",
             "size": 10,
             "solidity": 0.2
            },
            "type": "scatter"
           }
          ],
          "scatter3d": [
           {
            "line": {
             "colorbar": {
              "outlinewidth": 0,
              "ticks": ""
             }
            },
            "marker": {
             "colorbar": {
              "outlinewidth": 0,
              "ticks": ""
             }
            },
            "type": "scatter3d"
           }
          ],
          "scattercarpet": [
           {
            "marker": {
             "colorbar": {
              "outlinewidth": 0,
              "ticks": ""
             }
            },
            "type": "scattercarpet"
           }
          ],
          "scattergeo": [
           {
            "marker": {
             "colorbar": {
              "outlinewidth": 0,
              "ticks": ""
             }
            },
            "type": "scattergeo"
           }
          ],
          "scattergl": [
           {
            "marker": {
             "colorbar": {
              "outlinewidth": 0,
              "ticks": ""
             }
            },
            "type": "scattergl"
           }
          ],
          "scattermapbox": [
           {
            "marker": {
             "colorbar": {
              "outlinewidth": 0,
              "ticks": ""
             }
            },
            "type": "scattermapbox"
           }
          ],
          "scatterpolar": [
           {
            "marker": {
             "colorbar": {
              "outlinewidth": 0,
              "ticks": ""
             }
            },
            "type": "scatterpolar"
           }
          ],
          "scatterpolargl": [
           {
            "marker": {
             "colorbar": {
              "outlinewidth": 0,
              "ticks": ""
             }
            },
            "type": "scatterpolargl"
           }
          ],
          "scatterternary": [
           {
            "marker": {
             "colorbar": {
              "outlinewidth": 0,
              "ticks": ""
             }
            },
            "type": "scatterternary"
           }
          ],
          "surface": [
           {
            "colorbar": {
             "outlinewidth": 0,
             "ticks": ""
            },
            "colorscale": [
             [
              0,
              "#0d0887"
             ],
             [
              0.1111111111111111,
              "#46039f"
             ],
             [
              0.2222222222222222,
              "#7201a8"
             ],
             [
              0.3333333333333333,
              "#9c179e"
             ],
             [
              0.4444444444444444,
              "#bd3786"
             ],
             [
              0.5555555555555556,
              "#d8576b"
             ],
             [
              0.6666666666666666,
              "#ed7953"
             ],
             [
              0.7777777777777778,
              "#fb9f3a"
             ],
             [
              0.8888888888888888,
              "#fdca26"
             ],
             [
              1,
              "#f0f921"
             ]
            ],
            "type": "surface"
           }
          ],
          "table": [
           {
            "cells": {
             "fill": {
              "color": "#EBF0F8"
             },
             "line": {
              "color": "white"
             }
            },
            "header": {
             "fill": {
              "color": "#C8D4E3"
             },
             "line": {
              "color": "white"
             }
            },
            "type": "table"
           }
          ]
         },
         "layout": {
          "annotationdefaults": {
           "arrowcolor": "#2a3f5f",
           "arrowhead": 0,
           "arrowwidth": 1
          },
          "autotypenumbers": "strict",
          "coloraxis": {
           "colorbar": {
            "outlinewidth": 0,
            "ticks": ""
           }
          },
          "colorscale": {
           "diverging": [
            [
             0,
             "#8e0152"
            ],
            [
             0.1,
             "#c51b7d"
            ],
            [
             0.2,
             "#de77ae"
            ],
            [
             0.3,
             "#f1b6da"
            ],
            [
             0.4,
             "#fde0ef"
            ],
            [
             0.5,
             "#f7f7f7"
            ],
            [
             0.6,
             "#e6f5d0"
            ],
            [
             0.7,
             "#b8e186"
            ],
            [
             0.8,
             "#7fbc41"
            ],
            [
             0.9,
             "#4d9221"
            ],
            [
             1,
             "#276419"
            ]
           ],
           "sequential": [
            [
             0,
             "#0d0887"
            ],
            [
             0.1111111111111111,
             "#46039f"
            ],
            [
             0.2222222222222222,
             "#7201a8"
            ],
            [
             0.3333333333333333,
             "#9c179e"
            ],
            [
             0.4444444444444444,
             "#bd3786"
            ],
            [
             0.5555555555555556,
             "#d8576b"
            ],
            [
             0.6666666666666666,
             "#ed7953"
            ],
            [
             0.7777777777777778,
             "#fb9f3a"
            ],
            [
             0.8888888888888888,
             "#fdca26"
            ],
            [
             1,
             "#f0f921"
            ]
           ],
           "sequentialminus": [
            [
             0,
             "#0d0887"
            ],
            [
             0.1111111111111111,
             "#46039f"
            ],
            [
             0.2222222222222222,
             "#7201a8"
            ],
            [
             0.3333333333333333,
             "#9c179e"
            ],
            [
             0.4444444444444444,
             "#bd3786"
            ],
            [
             0.5555555555555556,
             "#d8576b"
            ],
            [
             0.6666666666666666,
             "#ed7953"
            ],
            [
             0.7777777777777778,
             "#fb9f3a"
            ],
            [
             0.8888888888888888,
             "#fdca26"
            ],
            [
             1,
             "#f0f921"
            ]
           ]
          },
          "colorway": [
           "#636efa",
           "#EF553B",
           "#00cc96",
           "#ab63fa",
           "#FFA15A",
           "#19d3f3",
           "#FF6692",
           "#B6E880",
           "#FF97FF",
           "#FECB52"
          ],
          "font": {
           "color": "#2a3f5f"
          },
          "geo": {
           "bgcolor": "white",
           "lakecolor": "white",
           "landcolor": "#E5ECF6",
           "showlakes": true,
           "showland": true,
           "subunitcolor": "white"
          },
          "hoverlabel": {
           "align": "left"
          },
          "hovermode": "closest",
          "mapbox": {
           "style": "light"
          },
          "paper_bgcolor": "white",
          "plot_bgcolor": "#E5ECF6",
          "polar": {
           "angularaxis": {
            "gridcolor": "white",
            "linecolor": "white",
            "ticks": ""
           },
           "bgcolor": "#E5ECF6",
           "radialaxis": {
            "gridcolor": "white",
            "linecolor": "white",
            "ticks": ""
           }
          },
          "scene": {
           "xaxis": {
            "backgroundcolor": "#E5ECF6",
            "gridcolor": "white",
            "gridwidth": 2,
            "linecolor": "white",
            "showbackground": true,
            "ticks": "",
            "zerolinecolor": "white"
           },
           "yaxis": {
            "backgroundcolor": "#E5ECF6",
            "gridcolor": "white",
            "gridwidth": 2,
            "linecolor": "white",
            "showbackground": true,
            "ticks": "",
            "zerolinecolor": "white"
           },
           "zaxis": {
            "backgroundcolor": "#E5ECF6",
            "gridcolor": "white",
            "gridwidth": 2,
            "linecolor": "white",
            "showbackground": true,
            "ticks": "",
            "zerolinecolor": "white"
           }
          },
          "shapedefaults": {
           "line": {
            "color": "#2a3f5f"
           }
          },
          "ternary": {
           "aaxis": {
            "gridcolor": "white",
            "linecolor": "white",
            "ticks": ""
           },
           "baxis": {
            "gridcolor": "white",
            "linecolor": "white",
            "ticks": ""
           },
           "bgcolor": "#E5ECF6",
           "caxis": {
            "gridcolor": "white",
            "linecolor": "white",
            "ticks": ""
           }
          },
          "title": {
           "x": 0.05
          },
          "xaxis": {
           "automargin": true,
           "gridcolor": "white",
           "linecolor": "white",
           "ticks": "",
           "title": {
            "standoff": 15
           },
           "zerolinecolor": "white",
           "zerolinewidth": 2
          },
          "yaxis": {
           "automargin": true,
           "gridcolor": "white",
           "linecolor": "white",
           "ticks": "",
           "title": {
            "standoff": 15
           },
           "zerolinecolor": "white",
           "zerolinewidth": 2
          }
         }
        },
        "title": {
         "text": "Total Percentage of Supplemental Theme sets in each decade"
        },
        "width": 600,
        "xaxis": {
         "anchor": "y",
         "categoryorder": "total descending",
         "domain": [
          0,
          1
         ],
         "title": {
          "text": "decade"
         }
        },
        "yaxis": {
         "anchor": "x",
         "domain": [
          0,
          1
         ],
         "title": {
          "text": "supplemental_percentage"
         }
        }
       }
      },
      "text/html": [
       "<div>                            <div id=\"809834a9-144c-46b4-a3b2-5460bba6d3cf\" class=\"plotly-graph-div\" style=\"height:800px; width:600px;\"></div>            <script type=\"text/javascript\">                require([\"plotly\"], function(Plotly) {                    window.PLOTLYENV=window.PLOTLYENV || {};                                    if (document.getElementById(\"809834a9-144c-46b4-a3b2-5460bba6d3cf\")) {                    Plotly.newPlot(                        \"809834a9-144c-46b4-a3b2-5460bba6d3cf\",                        [{\"alignmentgroup\":\"True\",\"hovertemplate\":\"decade=%{x}<br>supplemental_percentage=%{text}<br>supplemental_count=%{marker.color}<extra></extra>\",\"legendgroup\":\"\",\"marker\":{\"color\":[23,10,0,8,89,161,62,42,49],\"coloraxis\":\"coloraxis\",\"pattern\":{\"shape\":\"\"}},\"name\":\"\",\"offsetgroup\":\"\",\"orientation\":\"v\",\"showlegend\":false,\"text\":[0.49,0.12,0.0,72.73,60.96,39.46,8.97,3.39,2.06],\"textposition\":\"auto\",\"x\":[\"20's\",\"21's\",\"22's\",\"40's\",\"50's\",\"60's\",\"70's\",\"80's\",\"90's\"],\"xaxis\":\"x\",\"y\":[0.49,0.12,0.0,72.73,60.96,39.46,8.97,3.39,2.06],\"yaxis\":\"y\",\"type\":\"bar\"}],                        {\"template\":{\"data\":{\"histogram2dcontour\":[{\"type\":\"histogram2dcontour\",\"colorbar\":{\"outlinewidth\":0,\"ticks\":\"\"},\"colorscale\":[[0.0,\"#0d0887\"],[0.1111111111111111,\"#46039f\"],[0.2222222222222222,\"#7201a8\"],[0.3333333333333333,\"#9c179e\"],[0.4444444444444444,\"#bd3786\"],[0.5555555555555556,\"#d8576b\"],[0.6666666666666666,\"#ed7953\"],[0.7777777777777778,\"#fb9f3a\"],[0.8888888888888888,\"#fdca26\"],[1.0,\"#f0f921\"]]}],\"choropleth\":[{\"type\":\"choropleth\",\"colorbar\":{\"outlinewidth\":0,\"ticks\":\"\"}}],\"histogram2d\":[{\"type\":\"histogram2d\",\"colorbar\":{\"outlinewidth\":0,\"ticks\":\"\"},\"colorscale\":[[0.0,\"#0d0887\"],[0.1111111111111111,\"#46039f\"],[0.2222222222222222,\"#7201a8\"],[0.3333333333333333,\"#9c179e\"],[0.4444444444444444,\"#bd3786\"],[0.5555555555555556,\"#d8576b\"],[0.6666666666666666,\"#ed7953\"],[0.7777777777777778,\"#fb9f3a\"],[0.8888888888888888,\"#fdca26\"],[1.0,\"#f0f921\"]]}],\"heatmap\":[{\"type\":\"heatmap\",\"colorbar\":{\"outlinewidth\":0,\"ticks\":\"\"},\"colorscale\":[[0.0,\"#0d0887\"],[0.1111111111111111,\"#46039f\"],[0.2222222222222222,\"#7201a8\"],[0.3333333333333333,\"#9c179e\"],[0.4444444444444444,\"#bd3786\"],[0.5555555555555556,\"#d8576b\"],[0.6666666666666666,\"#ed7953\"],[0.7777777777777778,\"#fb9f3a\"],[0.8888888888888888,\"#fdca26\"],[1.0,\"#f0f921\"]]}],\"heatmapgl\":[{\"type\":\"heatmapgl\",\"colorbar\":{\"outlinewidth\":0,\"ticks\":\"\"},\"colorscale\":[[0.0,\"#0d0887\"],[0.1111111111111111,\"#46039f\"],[0.2222222222222222,\"#7201a8\"],[0.3333333333333333,\"#9c179e\"],[0.4444444444444444,\"#bd3786\"],[0.5555555555555556,\"#d8576b\"],[0.6666666666666666,\"#ed7953\"],[0.7777777777777778,\"#fb9f3a\"],[0.8888888888888888,\"#fdca26\"],[1.0,\"#f0f921\"]]}],\"contourcarpet\":[{\"type\":\"contourcarpet\",\"colorbar\":{\"outlinewidth\":0,\"ticks\":\"\"}}],\"contour\":[{\"type\":\"contour\",\"colorbar\":{\"outlinewidth\":0,\"ticks\":\"\"},\"colorscale\":[[0.0,\"#0d0887\"],[0.1111111111111111,\"#46039f\"],[0.2222222222222222,\"#7201a8\"],[0.3333333333333333,\"#9c179e\"],[0.4444444444444444,\"#bd3786\"],[0.5555555555555556,\"#d8576b\"],[0.6666666666666666,\"#ed7953\"],[0.7777777777777778,\"#fb9f3a\"],[0.8888888888888888,\"#fdca26\"],[1.0,\"#f0f921\"]]}],\"surface\":[{\"type\":\"surface\",\"colorbar\":{\"outlinewidth\":0,\"ticks\":\"\"},\"colorscale\":[[0.0,\"#0d0887\"],[0.1111111111111111,\"#46039f\"],[0.2222222222222222,\"#7201a8\"],[0.3333333333333333,\"#9c179e\"],[0.4444444444444444,\"#bd3786\"],[0.5555555555555556,\"#d8576b\"],[0.6666666666666666,\"#ed7953\"],[0.7777777777777778,\"#fb9f3a\"],[0.8888888888888888,\"#fdca26\"],[1.0,\"#f0f921\"]]}],\"mesh3d\":[{\"type\":\"mesh3d\",\"colorbar\":{\"outlinewidth\":0,\"ticks\":\"\"}}],\"scatter\":[{\"fillpattern\":{\"fillmode\":\"overlay\",\"size\":10,\"solidity\":0.2},\"type\":\"scatter\"}],\"parcoords\":[{\"type\":\"parcoords\",\"line\":{\"colorbar\":{\"outlinewidth\":0,\"ticks\":\"\"}}}],\"scatterpolargl\":[{\"type\":\"scatterpolargl\",\"marker\":{\"colorbar\":{\"outlinewidth\":0,\"ticks\":\"\"}}}],\"bar\":[{\"error_x\":{\"color\":\"#2a3f5f\"},\"error_y\":{\"color\":\"#2a3f5f\"},\"marker\":{\"line\":{\"color\":\"#E5ECF6\",\"width\":0.5},\"pattern\":{\"fillmode\":\"overlay\",\"size\":10,\"solidity\":0.2}},\"type\":\"bar\"}],\"scattergeo\":[{\"type\":\"scattergeo\",\"marker\":{\"colorbar\":{\"outlinewidth\":0,\"ticks\":\"\"}}}],\"scatterpolar\":[{\"type\":\"scatterpolar\",\"marker\":{\"colorbar\":{\"outlinewidth\":0,\"ticks\":\"\"}}}],\"histogram\":[{\"marker\":{\"pattern\":{\"fillmode\":\"overlay\",\"size\":10,\"solidity\":0.2}},\"type\":\"histogram\"}],\"scattergl\":[{\"type\":\"scattergl\",\"marker\":{\"colorbar\":{\"outlinewidth\":0,\"ticks\":\"\"}}}],\"scatter3d\":[{\"type\":\"scatter3d\",\"line\":{\"colorbar\":{\"outlinewidth\":0,\"ticks\":\"\"}},\"marker\":{\"colorbar\":{\"outlinewidth\":0,\"ticks\":\"\"}}}],\"scattermapbox\":[{\"type\":\"scattermapbox\",\"marker\":{\"colorbar\":{\"outlinewidth\":0,\"ticks\":\"\"}}}],\"scatterternary\":[{\"type\":\"scatterternary\",\"marker\":{\"colorbar\":{\"outlinewidth\":0,\"ticks\":\"\"}}}],\"scattercarpet\":[{\"type\":\"scattercarpet\",\"marker\":{\"colorbar\":{\"outlinewidth\":0,\"ticks\":\"\"}}}],\"carpet\":[{\"aaxis\":{\"endlinecolor\":\"#2a3f5f\",\"gridcolor\":\"white\",\"linecolor\":\"white\",\"minorgridcolor\":\"white\",\"startlinecolor\":\"#2a3f5f\"},\"baxis\":{\"endlinecolor\":\"#2a3f5f\",\"gridcolor\":\"white\",\"linecolor\":\"white\",\"minorgridcolor\":\"white\",\"startlinecolor\":\"#2a3f5f\"},\"type\":\"carpet\"}],\"table\":[{\"cells\":{\"fill\":{\"color\":\"#EBF0F8\"},\"line\":{\"color\":\"white\"}},\"header\":{\"fill\":{\"color\":\"#C8D4E3\"},\"line\":{\"color\":\"white\"}},\"type\":\"table\"}],\"barpolar\":[{\"marker\":{\"line\":{\"color\":\"#E5ECF6\",\"width\":0.5},\"pattern\":{\"fillmode\":\"overlay\",\"size\":10,\"solidity\":0.2}},\"type\":\"barpolar\"}],\"pie\":[{\"automargin\":true,\"type\":\"pie\"}]},\"layout\":{\"autotypenumbers\":\"strict\",\"colorway\":[\"#636efa\",\"#EF553B\",\"#00cc96\",\"#ab63fa\",\"#FFA15A\",\"#19d3f3\",\"#FF6692\",\"#B6E880\",\"#FF97FF\",\"#FECB52\"],\"font\":{\"color\":\"#2a3f5f\"},\"hovermode\":\"closest\",\"hoverlabel\":{\"align\":\"left\"},\"paper_bgcolor\":\"white\",\"plot_bgcolor\":\"#E5ECF6\",\"polar\":{\"bgcolor\":\"#E5ECF6\",\"angularaxis\":{\"gridcolor\":\"white\",\"linecolor\":\"white\",\"ticks\":\"\"},\"radialaxis\":{\"gridcolor\":\"white\",\"linecolor\":\"white\",\"ticks\":\"\"}},\"ternary\":{\"bgcolor\":\"#E5ECF6\",\"aaxis\":{\"gridcolor\":\"white\",\"linecolor\":\"white\",\"ticks\":\"\"},\"baxis\":{\"gridcolor\":\"white\",\"linecolor\":\"white\",\"ticks\":\"\"},\"caxis\":{\"gridcolor\":\"white\",\"linecolor\":\"white\",\"ticks\":\"\"}},\"coloraxis\":{\"colorbar\":{\"outlinewidth\":0,\"ticks\":\"\"}},\"colorscale\":{\"sequential\":[[0.0,\"#0d0887\"],[0.1111111111111111,\"#46039f\"],[0.2222222222222222,\"#7201a8\"],[0.3333333333333333,\"#9c179e\"],[0.4444444444444444,\"#bd3786\"],[0.5555555555555556,\"#d8576b\"],[0.6666666666666666,\"#ed7953\"],[0.7777777777777778,\"#fb9f3a\"],[0.8888888888888888,\"#fdca26\"],[1.0,\"#f0f921\"]],\"sequentialminus\":[[0.0,\"#0d0887\"],[0.1111111111111111,\"#46039f\"],[0.2222222222222222,\"#7201a8\"],[0.3333333333333333,\"#9c179e\"],[0.4444444444444444,\"#bd3786\"],[0.5555555555555556,\"#d8576b\"],[0.6666666666666666,\"#ed7953\"],[0.7777777777777778,\"#fb9f3a\"],[0.8888888888888888,\"#fdca26\"],[1.0,\"#f0f921\"]],\"diverging\":[[0,\"#8e0152\"],[0.1,\"#c51b7d\"],[0.2,\"#de77ae\"],[0.3,\"#f1b6da\"],[0.4,\"#fde0ef\"],[0.5,\"#f7f7f7\"],[0.6,\"#e6f5d0\"],[0.7,\"#b8e186\"],[0.8,\"#7fbc41\"],[0.9,\"#4d9221\"],[1,\"#276419\"]]},\"xaxis\":{\"gridcolor\":\"white\",\"linecolor\":\"white\",\"ticks\":\"\",\"title\":{\"standoff\":15},\"zerolinecolor\":\"white\",\"automargin\":true,\"zerolinewidth\":2},\"yaxis\":{\"gridcolor\":\"white\",\"linecolor\":\"white\",\"ticks\":\"\",\"title\":{\"standoff\":15},\"zerolinecolor\":\"white\",\"automargin\":true,\"zerolinewidth\":2},\"scene\":{\"xaxis\":{\"backgroundcolor\":\"#E5ECF6\",\"gridcolor\":\"white\",\"linecolor\":\"white\",\"showbackground\":true,\"ticks\":\"\",\"zerolinecolor\":\"white\",\"gridwidth\":2},\"yaxis\":{\"backgroundcolor\":\"#E5ECF6\",\"gridcolor\":\"white\",\"linecolor\":\"white\",\"showbackground\":true,\"ticks\":\"\",\"zerolinecolor\":\"white\",\"gridwidth\":2},\"zaxis\":{\"backgroundcolor\":\"#E5ECF6\",\"gridcolor\":\"white\",\"linecolor\":\"white\",\"showbackground\":true,\"ticks\":\"\",\"zerolinecolor\":\"white\",\"gridwidth\":2}},\"shapedefaults\":{\"line\":{\"color\":\"#2a3f5f\"}},\"annotationdefaults\":{\"arrowcolor\":\"#2a3f5f\",\"arrowhead\":0,\"arrowwidth\":1},\"geo\":{\"bgcolor\":\"white\",\"landcolor\":\"#E5ECF6\",\"subunitcolor\":\"white\",\"showland\":true,\"showlakes\":true,\"lakecolor\":\"white\"},\"title\":{\"x\":0.05},\"mapbox\":{\"style\":\"light\"}}},\"xaxis\":{\"anchor\":\"y\",\"domain\":[0.0,1.0],\"title\":{\"text\":\"decade\"},\"categoryorder\":\"total descending\"},\"yaxis\":{\"anchor\":\"x\",\"domain\":[0.0,1.0],\"title\":{\"text\":\"supplemental_percentage\"}},\"coloraxis\":{\"colorbar\":{\"title\":{\"text\":\"supplemental_count\"}},\"colorscale\":[[0.0,\"#fde725\"],[0.1111111111111111,\"#b5de2b\"],[0.2222222222222222,\"#6ece58\"],[0.3333333333333333,\"#35b779\"],[0.4444444444444444,\"#1f9e89\"],[0.5555555555555556,\"#26828e\"],[0.6666666666666666,\"#31688e\"],[0.7777777777777778,\"#3e4989\"],[0.8888888888888888,\"#482878\"],[1.0,\"#440154\"]],\"showscale\":false},\"legend\":{\"tracegroupgap\":0},\"title\":{\"text\":\"Total Percentage of Supplemental Theme sets in each decade\"},\"barmode\":\"relative\",\"height\":800,\"width\":600},                        {\"responsive\": true}                    ).then(function(){\n",
       "                            \n",
       "var gd = document.getElementById('809834a9-144c-46b4-a3b2-5460bba6d3cf');\n",
       "var x = new MutationObserver(function (mutations, observer) {{\n",
       "        var display = window.getComputedStyle(gd).display;\n",
       "        if (!display || display === 'none') {{\n",
       "            console.log([gd, 'removed!']);\n",
       "            Plotly.purge(gd);\n",
       "            observer.disconnect();\n",
       "        }}\n",
       "}});\n",
       "\n",
       "// Listen for the removal of the full notebook cells\n",
       "var notebookContainer = gd.closest('#notebook-container');\n",
       "if (notebookContainer) {{\n",
       "    x.observe(notebookContainer, {childList: true});\n",
       "}}\n",
       "\n",
       "// Listen for the clearing of the current output cell\n",
       "var outputEl = gd.closest('.output');\n",
       "if (outputEl) {{\n",
       "    x.observe(outputEl, {childList: true});\n",
       "}}\n",
       "\n",
       "                        })                };                });            </script>        </div>"
      ]
     },
     "metadata": {},
     "output_type": "display_data"
    }
   ],
   "source": [
    "fig = px.bar(supplemental, x='decade', y='supplemental_percentage', title=\"Total Percentage of Supplemental Theme sets in each decade\", text=\"supplemental_percentage\" ,width=600, height=800, color = 'supplemental_count', color_continuous_scale=px.colors.sequential.Viridis_r)\n",
    "fig.update_coloraxes(showscale=False)\n",
    "fig.update_layout(xaxis={'categoryorder':'total descending'})\n",
    "fig.show()"
   ]
  }
 ],
 "metadata": {
  "kernelspec": {
   "display_name": "Python 3 (ipykernel)",
   "language": "python",
   "name": "python3"
  },
  "language_info": {
   "codemirror_mode": {
    "name": "ipython",
    "version": 3
   },
   "file_extension": ".py",
   "mimetype": "text/x-python",
   "name": "python",
   "nbconvert_exporter": "python",
   "pygments_lexer": "ipython3",
   "version": "3.9.7"
  }
 },
 "nbformat": 4,
 "nbformat_minor": 5
}
